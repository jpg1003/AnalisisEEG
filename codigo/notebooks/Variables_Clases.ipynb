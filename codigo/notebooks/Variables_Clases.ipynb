{
 "cells": [
  {
   "cell_type": "code",
   "execution_count": null,
   "id": "1035b8d1",
   "metadata": {},
   "outputs": [],
   "source": []
  },
  {
   "cell_type": "code",
   "execution_count": 12,
   "id": "499616da",
   "metadata": {},
   "outputs": [],
   "source": [
    "%run Importaciones.ipynb"
   ]
  },
  {
   "cell_type": "code",
   "execution_count": 13,
   "id": "bbb49398",
   "metadata": {},
   "outputs": [],
   "source": [
    "#Variables\n",
    "SEED = 42\n",
    "TRAIN = 0.9\n",
    "CV = 20\n",
    "ESTIMATOR = 20\n",
    "MAX_DEPTH = 5\n",
    "model_KNN = KNeighborsClassifier()\n",
    "model_TREE = DecisionTreeClassifier()\n",
    "model_RANDOM = RandomForestClassifier(max_depth=MAX_DEPTH, n_estimators=ESTIMATOR)\n",
    "model_LINEAR = LinearRegression()\n",
    "ACC_SCORER = make_scorer(accuracy_score)\n",
    "BAL_ACC_SCORER = make_scorer(balanced_accuracy_score)\n",
    "LOO = LeaveOneOut()\n"
   ]
  },
  {
   "cell_type": "code",
   "execution_count": 14,
   "id": "1d8432f4",
   "metadata": {},
   "outputs": [],
   "source": [
    "class color:\n",
    "    PURPLE = \"\\033[95m\"\n",
    "    CYAN = \"\\033[96m\"\n",
    "    DARKCYAN = \"\\033[36m\"\n",
    "    BLUE = \"\\033[94m\"\n",
    "    GREEN = \"\\033[92m\"\n",
    "    YELLOW = \"\\033[93m\"\n",
    "    RED = \"\\033[91m\"\n",
    "    BOLD = \"\\033[1m\"\n",
    "    UNDERLINE = \"\\033[4m\"\n",
    "    END = \"\\033[0m\"\n",
    "    \n",
    "#Ejemplo:\n",
    "#print(\"The output is:\" + color.BOLD +  color.UNDERLINE+ \"Python Programming !\" )"
   ]
  },
  {
   "cell_type": "code",
   "execution_count": 3,
   "id": "0c07a5f0",
   "metadata": {},
   "outputs": [
    {
     "data": {
      "text/html": [
       "\n",
       "    <!DOCTYPE html>\n",
       "    <html>\n",
       "    <head>\n",
       "        <title>Ejemplo de HTML</title>\n",
       "    </head>\n",
       "    <body>\n",
       "\n",
       "    <h1>content</h1>\n",
       "    <p>Este es un ejemplo de cómo imprimir HTML generado por una función en un notebook de Python.</p>\n",
       "\n",
       "    </body>\n",
       "    </html>\n",
       "    "
      ],
      "text/plain": [
       "<IPython.core.display.HTML object>"
      ]
     },
     "metadata": {},
     "output_type": "display_data"
    }
   ],
   "source": [
    "from IPython.display import display, HTML\n",
    "\n",
    "# Función para generar contenido HTML\n",
    "def generate_html_content(content):\n",
    "    html_content = \"\"\"\n",
    "    <!DOCTYPE html>\n",
    "    <html>\n",
    "    <head>\n",
    "        <title>Ejemplo de HTML</title>\n",
    "    </head>\n",
    "    <body>\n",
    "\n",
    "    <h1>content</h1>\n",
    "    <p>Este es un ejemplo de cómo imprimir HTML generado por una función en un notebook de Python.</p>\n",
    "\n",
    "    </body>\n",
    "    </html>\n",
    "    \"\"\"\n",
    "    return html_content\n",
    "\n",
    "# Llamada a la función y mostrar el contenido HTML generado\n",
    "display(HTML(generate_html_content('hola')))\n"
   ]
  },
  {
   "cell_type": "code",
   "execution_count": null,
   "id": "3ab2299d",
   "metadata": {},
   "outputs": [],
   "source": []
  }
 ],
 "metadata": {
  "kernelspec": {
   "display_name": "Python 3 (ipykernel)",
   "language": "python",
   "name": "python3"
  },
  "language_info": {
   "codemirror_mode": {
    "name": "ipython",
    "version": 3
   },
   "file_extension": ".py",
   "mimetype": "text/x-python",
   "name": "python",
   "nbconvert_exporter": "python",
   "pygments_lexer": "ipython3",
   "version": "3.11.5"
  }
 },
 "nbformat": 4,
 "nbformat_minor": 5
}
