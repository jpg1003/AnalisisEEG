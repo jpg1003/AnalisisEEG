{
 "cells": [
  {
   "cell_type": "markdown",
   "id": "bc578300",
   "metadata": {},
   "source": [
    "<img style=\"float:left\" width=\"70%\" src=\"../../documentacion/imagenes/escudo_COLOR_1L_DCHA.png\">\n",
    "<img style=\"float:right\" width=\"10%\" src=\"../../documentacion/imagenes/PythonLogo.svg\">\n",
    "<br style=\"clear:both;\">\n",
    "\n",
    "\n",
    "<h2 style=\"display: inline-block; padding: 4mm; padding-left: 2em; background-color: navy; line-height: 1.3em; color: white; border-radius: 10px;\">4. Variables, clases y funciones</h2>\n",
    "\n",
    "\n",
    " \n",
    "## Estudiante:\n",
    "\n",
    "- Jose Luis Perez Gomez"
   ]
  },
  {
   "cell_type": "code",
   "execution_count": 2,
   "id": "499616da",
   "metadata": {},
   "outputs": [],
   "source": [
    "%run 3.Importaciones.ipynb"
   ]
  },
  {
   "cell_type": "code",
   "execution_count": 3,
   "id": "bbb49398",
   "metadata": {},
   "outputs": [],
   "source": [
    "#Variables\n",
    "SEED = 42\n",
    "TRAIN = 0.9\n",
    "TRAIN80 = 0.8\n",
    "CV = 10\n",
    "MAX_ITERACIONES = 100\n",
    "ESTIMATOR = 10\n",
    "MAX_DEPTH = 10\n",
    "#model_KNN = KNeighborsClassifier()\n",
    "#model_TREE = DecisionTreeClassifier()\n",
    "#model_RANDOM = RandomForestClassifier(max_depth=MAX_DEPTH, n_estimators=ESTIMATOR)\n",
    "#model_KFOLD = KFold(n_splits=CV)\n",
    "#model_MLP = MLPClassifier(max_iter=MAX_ITERACIONES)\n",
    "ACC_SCORER = make_scorer(accuracy_score)\n",
    "BAL_ACC_SCORER = make_scorer(balanced_accuracy_score)\n",
    "LOO = LeaveOneOut()\n",
    "TARGET = 'Key'\n",
    "WINDOWS_SIZE = 3\n",
    "OVERLAP = WINDOWS_SIZE - 1\n",
    "TARGET_TYPE = 'last'\n",
    "DROPOUT = 0,3\n",
    "LABELS_NUM = {'Left': \"04\", 'Right': \"02\" ,'Up': \"01\", 'Down': \"03\",'Nothing': \"00\"}\n",
    "LABELS_TCL = {\"4.0\": 'LB', \"2.0\": 'RB' ,\"1.0\": 'UB', \"3.0\": 'DB',\"0.0\": 'CT'}\n",
    "LABELS_TLL = {4.0: \"0.0\", 2.0: \"0.2\" ,1.0: \"0.4\", 3.0: \"0.6\",0.0: \"0.8\"}\n",
    "titulos = [\"Experimento 1\", \"Experimento 2\", \"Experimento 3\", \"Experimento 4\"]\n",
    "titulos_all = [\"Segmento 1\", \"Segmento 2\", \"Segmento 3\", \"Segmento 4\", \"All Segmentos after\", \"All Segmentos before\"]\n",
    "nuevos_indices = {0: 'Segmento 1', 1: 'Segmento 2', 2: 'Segmento 3', 3: 'Segmento 4', 4:'All Segmentos after', 5:'All Segmentos before'}\n",
    "CLASES_KEY = ['0', '1', '2', '3', '4']\n"
   ]
  },
  {
   "cell_type": "code",
   "execution_count": 28,
   "id": "0c07a5f0",
   "metadata": {},
   "outputs": [],
   "source": [
    "\n",
    "# Función para generar contenido HTML h3 en Azul\n",
    "def html_h5(contenido, color):\n",
    "    html_content = f\"\"\"\n",
    "    <!DOCTYPE html>\n",
    "    <html>\n",
    "    <head>\n",
    "    </head>\n",
    "    <body>\n",
    "    \n",
    "    <h5><font color={color}>{contenido}</h5>\n",
    "\n",
    "    </body>\n",
    "    </html>\n",
    "    \"\"\"\n",
    "    return html_content\n"
   ]
  },
  {
   "cell_type": "code",
   "execution_count": 29,
   "id": "3ab2299d",
   "metadata": {},
   "outputs": [],
   "source": [
    "# Función para generar contenido HTML h2 en Azul\n",
    "def html_h4(contenido, color):\n",
    "    html_content = f\"\"\"\n",
    "    <!DOCTYPE html>\n",
    "    <html>\n",
    "    <head>\n",
    "    </head>\n",
    "    <body>\n",
    "    \n",
    "    <h4><font color={color}>{contenido}</h4>\n",
    "\n",
    "    </body>\n",
    "    </html>\n",
    "    \"\"\"\n",
    "    return html_content\n"
   ]
  },
  {
   "cell_type": "code",
   "execution_count": 31,
   "id": "553daffe",
   "metadata": {},
   "outputs": [],
   "source": [
    "# Llamada a la función y mostrar el contenido HTML generado\n",
    "# Ejemplo: \n",
    "\n",
    "#display(HTML(html_h4('hola','blue')))\n",
    "#display(HTML(html_h5('hola','black')))"
   ]
  },
  {
   "cell_type": "code",
   "execution_count": 9,
   "id": "e37d59a7",
   "metadata": {},
   "outputs": [],
   "source": [
    "def dividir_datos(dataframe):\n",
    "    \n",
    "    y = dataframe['Key'].values\n",
    "    X = dataframe.drop(columns=['Key']).values\n",
    "    \n",
    "    # Se dividen los datos. X_train_val sera el 90% de los datos y X_test el 10%\n",
    "    X_train_val, X_test, y_train_val, y_test = train_test_split(X, y, random_state=SEED, stratify=y, train_size=TRAIN)\n",
    "    #X_train_val, X_test, y_train_val, y_test = train_test_split(X, y, random_state=SEED, train_size=TRAIN)\n",
    "\n",
    "    # Se dividen los datos. X_train sera el 90% de los datos de X_train_val y X_val el restante 10%\n",
    "    X_train, X_val, y_train, y_val = train_test_split(X_train_val, y_train_val, random_state=SEED, stratify=y_train_val, train_size=TRAIN)\n",
    "    #X_train, X_val, y_train, y_val = train_test_split(X_train_val, y_train_val, random_state=SEED,  train_size=TRAIN)\n",
    "    \n",
    "    return X_train, y_train, X_val, y_val, X_test, y_test"
   ]
  },
  {
   "cell_type": "code",
   "execution_count": null,
   "id": "89888143",
   "metadata": {},
   "outputs": [],
   "source": [
    "\n",
    "def dividir_datos_deep(dataframe, target):\n",
    "\n",
    "    train_datos, temp_datos = train_test_split(dataframe, stratify=dataframe[target], random_state=SEED, train_size=0.8)\n",
    "    \n",
    "    val_datos, test_datos = train_test_split(temp_datos, stratify=temp_datos[target], random_state=SEED, train_size=0.8)\n",
    "    \n",
    "    return train_datos, val_datos, test_datos\n",
    "\n",
    "# Ejemplo\n",
    "#train_datos, val_datos, test_datos = dividir_datos_deep(dataframe, 'Key')\n",
    "\n",
    "\n",
    "\n",
    "\n",
    "\n"
   ]
  },
  {
   "cell_type": "code",
   "execution_count": null,
   "id": "99e7c101",
   "metadata": {},
   "outputs": [],
   "source": [
    "def valores_key(dataframe):\n",
    "    \n",
    "    valores = dataframe['Key'].unique()\n",
    "    \n",
    "    nombres = [LABELS_TCL[str(valor)] for valor in valores]\n",
    "    \n",
    "    return nombres\n",
    "    "
   ]
  },
  {
   "cell_type": "code",
   "execution_count": null,
   "id": "a890f7f6",
   "metadata": {},
   "outputs": [],
   "source": []
  },
  {
   "cell_type": "code",
   "execution_count": null,
   "id": "89766760",
   "metadata": {},
   "outputs": [],
   "source": []
  },
  {
   "cell_type": "code",
   "execution_count": null,
   "id": "83941505",
   "metadata": {},
   "outputs": [],
   "source": []
  },
  {
   "cell_type": "code",
   "execution_count": null,
   "id": "d2eb7bab",
   "metadata": {},
   "outputs": [],
   "source": [
    "class PlotLearning(Callback):\n",
    "    \"\"\"\n",
    "    Callback para plotear las métricas durante el entrenamiento.\n",
    "    \"\"\"\n",
    "    def __init__(self, showLR=False):\n",
    "      self.showLR = showLR              \n",
    "\n",
    "    def on_train_begin(self, logs={}):\n",
    "        self.metrics = {}\n",
    "        for metric in logs:\n",
    "            self.metrics[metric] = []\n",
    "            \n",
    "\n",
    "    def on_epoch_end(self, epoch, logs={}):\n",
    "        for metric in logs:\n",
    "            if metric in self.metrics:\n",
    "                self.metrics[metric].append(logs.get(metric))\n",
    "            else:\n",
    "                self.metrics[metric] = [logs.get(metric)]\n",
    "        \n",
    "        metric = [x for x in logs if ('val' not in x) and ('lr' not in x)]\n",
    "        if self.showLR:\n",
    "          metric.append('lr')\n",
    "        \n",
    "        f, axs = plt.subplots(1,len(metric),figsize=(10,4))\n",
    "        clear_output(wait=True)\n",
    "        for i,ax in enumerate(axs):\n",
    "          ax.plot(range(1, epoch + 2), self.metrics[metric[i]],'o--',label=metric[i])\n",
    "          try:\n",
    "            ax.plot(range(1, epoch + 2), self.metrics['val_' + metric[i]], 'o--', label='val_' + metric[i])\n",
    "          except:\n",
    "            pass\n",
    "          ax.set_xlabel('# epochs')\n",
    "          ax.set_ylabel(metric[i])\n",
    "          ax.legend()\n",
    "          ax.grid()\n",
    "\n",
    "        plt.tight_layout()\n",
    "        plt.show()\n",
    "        \n"
   ]
  },
  {
   "cell_type": "code",
   "execution_count": null,
   "id": "5756dd78",
   "metadata": {},
   "outputs": [],
   "source": [
    "class TimerCallback(Callback):\n",
    "    \n",
    "    def on_train_begin(self, logs={}):\n",
    "        self.times = []\n",
    "        self.start_time = time.time()\n",
    "\n",
    "    def on_epoch_end(self, batch, logs={}):\n",
    "        self.times.append(time.time() - self.start_time)\n",
    "        print(f\"Tiempo requerido: {self.times[-1]:.2f} segundos.\")"
   ]
  },
  {
   "cell_type": "code",
   "execution_count": null,
   "id": "3cc05c07",
   "metadata": {},
   "outputs": [],
   "source": [
    "# Definir early stopping\n",
    "early_stopping = EarlyStopping(monitor='val_loss', patience=5, verbose=1)\n",
    "plot_learning = PlotLearning()\n",
    "timer_callback = TimerCallback()\n",
    "reduce_rl = ReduceLROnPlateau(patience=5, monitor='loss')\n",
    "model_checkpoint = ModelCheckpoint('weights/simple_rnn.keras', monitor='val_loss', save_best_only=True)"
   ]
  },
  {
   "cell_type": "code",
   "execution_count": null,
   "id": "5a497197",
   "metadata": {},
   "outputs": [],
   "source": []
  }
 ],
 "metadata": {
  "kernelspec": {
   "display_name": "Python 3 (ipykernel)",
   "language": "python",
   "name": "python3"
  },
  "language_info": {
   "codemirror_mode": {
    "name": "ipython",
    "version": 3
   },
   "file_extension": ".py",
   "mimetype": "text/x-python",
   "name": "python",
   "nbconvert_exporter": "python",
   "pygments_lexer": "ipython3",
   "version": "3.11.5"
  }
 },
 "nbformat": 4,
 "nbformat_minor": 5
}
