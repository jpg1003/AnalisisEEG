{
 "cells": [
  {
   "cell_type": "markdown",
   "id": "bc578300",
   "metadata": {},
   "source": [
    "<img style=\"float:left\" width=\"70%\" src=\"../../documentacion/imagenes/escudo_COLOR_1L_DCHA.png\">\n",
    "<img style=\"float:right\" width=\"10%\" src=\"../../documentacion/imagenes/PythonLogo.svg\">\n",
    "<br style=\"clear:both;\">\n",
    "\n",
    "\n",
    "<h2 style=\"display: inline-block; padding: 4mm; padding-left: 2em; background-color: navy; line-height: 1.3em; color: white; border-radius: 10px;\">4. Variables, clases y funciones</h2>\n",
    "\n",
    "\n",
    " \n",
    "## Estudiante:\n",
    "\n",
    "- Jose Luis Perez Gomez"
   ]
  },
  {
   "cell_type": "code",
   "execution_count": 2,
   "id": "499616da",
   "metadata": {},
   "outputs": [],
   "source": [
    "%run 3.Importaciones.ipynb"
   ]
  },
  {
   "cell_type": "code",
   "execution_count": 5,
   "id": "bbb49398",
   "metadata": {},
   "outputs": [],
   "source": [
    "#Variables\n",
    "SEED = 42\n",
    "TRAIN = 0.9\n",
    "TRAIN80 = 0.8\n",
    "CV = 10\n",
    "ESTIMATOR = 10\n",
    "MAX_DEPTH = 10\n",
    "model_KNN = KNeighborsClassifier()\n",
    "model_TREE = DecisionTreeClassifier()\n",
    "model_RANDOM = RandomForestClassifier(max_depth=MAX_DEPTH, n_estimators=ESTIMATOR)\n",
    "model_KFOLD = KFold(n_splits=CV)\n",
    "# model_LINEAR = LinearRegression()\n",
    "ACC_SCORER = make_scorer(accuracy_score)\n",
    "BAL_ACC_SCORER = make_scorer(balanced_accuracy_score)\n",
    "LOO = LeaveOneOut()\n",
    "LABELS_NUM = {'Left': \"04\", 'Right': \"02\" ,'Up': \"01\", 'Down': \"03\",'Nothing': \"00\"}\n",
    "LABELS_TCL = {\"4.0\": 'LB', \"2.0\": 'RB' ,\"1.0\": 'UB', \"3.0\": 'DB',\"0.0\": 'CT'}\n",
    "LABELS_TLL = {4.0: \"0.0\", 2.0: \"0.2\" ,1.0: \"0.4\", 3.0: \"0.6\",0.0: \"0.8\"}\n"
   ]
  },
  {
   "cell_type": "code",
   "execution_count": 28,
   "id": "0c07a5f0",
   "metadata": {},
   "outputs": [],
   "source": [
    "\n",
    "# Función para generar contenido HTML h3 en Azul\n",
    "def html_h5(contenido, color):\n",
    "    html_content = f\"\"\"\n",
    "    <!DOCTYPE html>\n",
    "    <html>\n",
    "    <head>\n",
    "    </head>\n",
    "    <body>\n",
    "    \n",
    "    <h5><font color={color}>{contenido}</h5>\n",
    "\n",
    "    </body>\n",
    "    </html>\n",
    "    \"\"\"\n",
    "    return html_content\n"
   ]
  },
  {
   "cell_type": "code",
   "execution_count": 29,
   "id": "3ab2299d",
   "metadata": {},
   "outputs": [],
   "source": [
    "# Función para generar contenido HTML h2 en Azul\n",
    "def html_h4(contenido, color):\n",
    "    html_content = f\"\"\"\n",
    "    <!DOCTYPE html>\n",
    "    <html>\n",
    "    <head>\n",
    "    </head>\n",
    "    <body>\n",
    "    \n",
    "    <h4><font color={color}>{contenido}</h4>\n",
    "\n",
    "    </body>\n",
    "    </html>\n",
    "    \"\"\"\n",
    "    return html_content\n"
   ]
  },
  {
   "cell_type": "code",
   "execution_count": 31,
   "id": "553daffe",
   "metadata": {},
   "outputs": [],
   "source": [
    "# Llamada a la función y mostrar el contenido HTML generado\n",
    "# Ejemplo: \n",
    "\n",
    "#display(HTML(html_h4('hola','blue')))\n",
    "#display(HTML(html_h5('hola','black')))"
   ]
  },
  {
   "cell_type": "code",
   "execution_count": 9,
   "id": "e37d59a7",
   "metadata": {},
   "outputs": [],
   "source": [
    "def dividir_datos(dataframe):\n",
    "    \n",
    "    y = dataframe['Key'].values\n",
    "    X = dataframe.drop(columns=['Key']).values\n",
    "    \n",
    "    # Se dividen los datos. X_train_val sera el 90% de los datos y X_test el 10%\n",
    "    X_train_val, X_test, y_train_val, y_test = train_test_split(X, y, random_state=SEED, stratify=y, train_size=TRAIN)\n",
    "    #X_train_val, X_test, y_train_val, y_test = train_test_split(X, y, random_state=SEED, train_size=TRAIN)\n",
    "\n",
    "    # Se dividen los datos. X_train sera el 90% de los datos de X_train_val y X_val el restante 10%\n",
    "    X_train, X_val, y_train, y_val = train_test_split(X_train_val, y_train_val, random_state=SEED, stratify=y_train_val, train_size=TRAIN)\n",
    "    #X_train, X_val, y_train, y_val = train_test_split(X_train_val, y_train_val, random_state=SEED,  train_size=TRAIN)\n",
    "    \n",
    "    return X_train, y_train, X_val, y_val, X_test, y_test"
   ]
  },
  {
   "cell_type": "code",
   "execution_count": null,
   "id": "99e7c101",
   "metadata": {},
   "outputs": [],
   "source": [
    "def valores_key(dataframe):\n",
    "    \n",
    "    valores = dataframe['Key'].unique()\n",
    "    \n",
    "    nombres = [LABELS_TCL[str(valor)] for valor in valores]\n",
    "    \n",
    "    return nombres\n",
    "    "
   ]
  }
 ],
 "metadata": {
  "kernelspec": {
   "display_name": "Python 3 (ipykernel)",
   "language": "python",
   "name": "python3"
  },
  "language_info": {
   "codemirror_mode": {
    "name": "ipython",
    "version": 3
   },
   "file_extension": ".py",
   "mimetype": "text/x-python",
   "name": "python",
   "nbconvert_exporter": "python",
   "pygments_lexer": "ipython3",
   "version": "3.11.5"
  }
 },
 "nbformat": 4,
 "nbformat_minor": 5
}
