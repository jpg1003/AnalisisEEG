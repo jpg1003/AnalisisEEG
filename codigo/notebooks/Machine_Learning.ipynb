{
 "cells": [
  {
   "cell_type": "code",
   "execution_count": 4,
   "id": "c76b050e",
   "metadata": {},
   "outputs": [],
   "source": [
    "%run Importaciones.ipynb\n",
    "%run Variables_Clases.ipynb"
   ]
  },
  {
   "cell_type": "markdown",
   "id": "dd5f1963",
   "metadata": {},
   "source": [
    "### clasificacion y generar features\n",
    "### holdout\n",
    "### k-fold cross-validation\n",
    "### leave-one-ou"
   ]
  },
  {
   "cell_type": "code",
   "execution_count": 8,
   "id": "24f6e1be",
   "metadata": {},
   "outputs": [],
   "source": [
    "\n",
    "\n",
    "experimento_4_nor = pd.read_csv('../datos/experimento_4_nor.csv', sep=',')\n",
    "\n",
    "#Dividir\n",
    "X = experimento_4_nor.drop('Key', axis=1)\n",
    "y = experimento_4_nor['Key']"
   ]
  },
  {
   "cell_type": "code",
   "execution_count": 9,
   "id": "899b5001",
   "metadata": {},
   "outputs": [
    {
     "data": {
      "text/plain": [
       "0.8"
      ]
     },
     "metadata": {},
     "output_type": "display_data"
    },
    {
     "data": {
      "text/plain": [
       "0.75"
      ]
     },
     "metadata": {},
     "output_type": "display_data"
    },
    {
     "data": {
      "text/plain": [
       "0.35"
      ]
     },
     "metadata": {},
     "output_type": "display_data"
    }
   ],
   "source": [
    "from sklearn.model_selection import train_test_split\n",
    "from sklearn.neighbors import KNeighborsClassifier\n",
    "from sklearn.tree import DecisionTreeClassifier\n",
    "from sklearn.ensemble import RandomForestClassifier\n",
    "from sklearn.metrics import accuracy_score\n",
    "\n",
    "model_knn = KNeighborsClassifier()\n",
    "model_tree = DecisionTreeClassifier()\n",
    "model_random = RandomForestClassifier(max_depth=5, n_estimators=20)\n",
    "\n",
    "# KNeighborsClassifier y accuracy_score\n",
    "\n",
    "# Se dividen los datos. X_train sera el 80% de los datos \n",
    "# random state es el seed de la ejecucion\n",
    "X_train_val, X_test, y_train_val, y_test = train_test_split(X, y, random_state=SEED, stratify=y,\n",
    "                                   train_size=TRAIN)\n",
    "\n",
    "# Se dividen los datos. X_train sera el 80% de los datos\n",
    "X_train, X_val, y_train, y_val = train_test_split(X, y, random_state=SEED, stratify=y,\n",
    "                                   train_size=TRAIN)\n",
    "\n",
    "\n",
    "# Entreno el modelo con el 90% de los datos\n",
    "model_knn.fit(X_train, y_train)\n",
    "model_tree.fit(X_train, y_train)\n",
    "model_random.fit(X_train, y_train)\n",
    "\n",
    "# Evalua el modelo con el 20% restante\n",
    "y_predict_knn = model_knn.predict(X_val)\n",
    "y_predict_tree = model_tree.predict(X_val)\n",
    "y_predict_random = model_random.predict(X_val)\n",
    "\n",
    "knn_ac = accuracy_score(y_val, y_predict_knn)\n",
    "tree_ac = accuracy_score(y_val, y_predict_tree)\n",
    "random_ac = accuracy_score(y_val, y_predict_random)\n",
    "display(knn_ac)\n",
    "display(tree_ac)\n",
    "display(random_ac)"
   ]
  },
  {
   "cell_type": "code",
   "execution_count": 10,
   "id": "16ae5e1f",
   "metadata": {},
   "outputs": [
    {
     "name": "stdout",
     "output_type": "stream",
     "text": [
      "Score: 0.3583333333333333\n",
      "Precisión: 0.4\n"
     ]
    }
   ],
   "source": [
    "from sklearn.metrics import precision_score\n",
    "\n",
    "random_forest_model = RandomForestClassifier(max_depth=5, n_estimators=ESTIMATOR)\n",
    "random_forest_model_score = cross_val_score(random_forest_model, X_train, y_train, cv=CV)\n",
    "print(f\"Score: {np.mean(random_forest_model_score)}\")\n",
    "\n",
    "random_forest_model.fit(X_train, y_train)\n",
    "random_forest_predicted = random_forest_model.predict(X_test)\n",
    "\n",
    "random_forest_model_precision = precision_score(y_test, random_forest_predicted, average='micro')\n",
    "print(f\"Precisión: {np.mean(random_forest_model_precision)}\")"
   ]
  },
  {
   "cell_type": "code",
   "execution_count": 11,
   "id": "fb987a86",
   "metadata": {},
   "outputs": [
    {
     "data": {
      "text/plain": [
       "0.9"
      ]
     },
     "metadata": {},
     "output_type": "display_data"
    },
    {
     "data": {
      "text/plain": [
       "0.85"
      ]
     },
     "metadata": {},
     "output_type": "display_data"
    },
    {
     "data": {
      "text/plain": [
       "0.5"
      ]
     },
     "metadata": {},
     "output_type": "display_data"
    }
   ],
   "source": [
    "from sklearn.model_selection import train_test_split\n",
    "from sklearn.neighbors import KNeighborsClassifier\n",
    "from sklearn.tree import DecisionTreeClassifier\n",
    "from sklearn.ensemble import RandomForestClassifier\n",
    "from sklearn.metrics import accuracy_score\n",
    "\n",
    "model = KNeighborsClassifier()\n",
    "\n",
    "model_knn = KNeighborsClassifier()\n",
    "model_tree = DecisionTreeClassifier()\n",
    "model_random = RandomForestClassifier(max_depth=5, n_estimators=ESTIMATOR)\n",
    "\n",
    "# KNeighborsClassifier y accuracy_score\n",
    "\n",
    "# Se dividen los datos. X_train sera el 80% de los datos \n",
    "# random state es el seed de la ejecucion\n",
    "X_train, X_test, y_train, y_test = train_test_split(X, y, random_state=SEED,\n",
    "                                   train_size=TRAIN) \n",
    "\n",
    "\n",
    "# Entreno el modelo con el 90% de los datos\n",
    "model_knn.fit(X_train, y_train)\n",
    "model_tree.fit(X_train, y_train)\n",
    "model_random.fit(X_train, y_train)\n",
    "\n",
    "# Evalua el modelo con el 20% restante\n",
    "y_predict_knn = model_knn.predict(X_test)\n",
    "y_predict_tree = model_tree.predict(X_test)\n",
    "y_predict_random = model_random.predict(X_test)\n",
    "\n",
    "\n",
    "\n",
    "knn_ac = accuracy_score(y_test, y_predict_knn)\n",
    "tree_ac = accuracy_score(y_test, y_predict_tree)\n",
    "random_ac = accuracy_score(y_test, y_predict_random)\n",
    "display(knn_ac)\n",
    "display(tree_ac)\n",
    "display(random_ac)"
   ]
  },
  {
   "cell_type": "code",
   "execution_count": 12,
   "id": "d6fedac4",
   "metadata": {},
   "outputs": [
    {
     "name": "stdout",
     "output_type": "stream",
     "text": [
      "(0.6666666666666666, 0.7373737373737373)\n",
      "0.702020202020202\n"
     ]
    }
   ],
   "source": [
    "#Darle una vuelta porque es para validation\n",
    "\n",
    "#Cross Validation\n",
    "\n",
    "# Atención a que por el momento estoy usando el mismo método pero con 0.5 de train_size\n",
    "X1, X2, y1, y2 = train_test_split(X, y, random_state=SEED,\n",
    "                                   train_size=0.5)\n",
    "\n",
    "\n",
    "y2_model = model.fit(X1, y1).predict(X2)\n",
    "y1_model = model.fit(X2, y2).predict(X1)\n",
    "aciertos = accuracy_score(y1, y1_model), accuracy_score(y2, y2_model)\n",
    "\n",
    "# tengo 2 modelos, tengo dos tasas de acierto y hago la media\n",
    "print(aciertos)\n",
    "print(np.array(aciertos).mean())"
   ]
  },
  {
   "cell_type": "code",
   "execution_count": 13,
   "id": "2ca001e5",
   "metadata": {},
   "outputs": [
    {
     "data": {
      "text/plain": [
       "0.7733333333333333"
      ]
     },
     "execution_count": 13,
     "metadata": {},
     "output_type": "execute_result"
    }
   ],
   "source": [
    "# model recordemos que sigue siendo el algoritmo de Vecinos más cercanos\n",
    "scores = cross_val_score(model, X, y, cv=CV)\n",
    "scores.mean()"
   ]
  },
  {
   "cell_type": "code",
   "execution_count": 14,
   "id": "dcb7e50a",
   "metadata": {},
   "outputs": [],
   "source": [
    "# mostrando el accuracy (tasa de acierto) medio y su desviación\n",
    "# Usando formateo de texto\n",
    "\n",
    "#print(\"Acierto: %0.2f (+/- %0.2f)\" % (scores.mean(), scores.std() * 2))\n",
    "# Sin usar formateo de texto\n",
    "#print(\"Acierto: \",scores.mean(), \"(+/- \",scores.std() * 2,\")\")"
   ]
  },
  {
   "cell_type": "code",
   "execution_count": 15,
   "id": "df489972",
   "metadata": {},
   "outputs": [
    {
     "data": {
      "text/plain": [
       "array([[27,  8,  7,  4,  8],\n",
       "       [ 4, 40,  0,  0,  0],\n",
       "       [ 3,  0, 29,  0,  0],\n",
       "       [ 6,  0,  0, 22,  0],\n",
       "       [ 4,  1,  0,  0, 35]], dtype=int64)"
      ]
     },
     "execution_count": 15,
     "metadata": {},
     "output_type": "execute_result"
    }
   ],
   "source": [
    "from sklearn.metrics import confusion_matrix\n",
    "from sklearn.model_selection import cross_val_predict\n",
    "from sklearn import metrics\n",
    "\n",
    "predicted = cross_val_predict(model, X, y, cv=CV)\n",
    "\n",
    "\n",
    "# obtención de la matriz de confusión\n",
    "# filas -> reales\n",
    "# columnas -> predicciones\n",
    "cnf_matrix = confusion_matrix(y, predicted)\n",
    "cnf_matrix"
   ]
  },
  {
   "cell_type": "code",
   "execution_count": 18,
   "id": "294f05a1",
   "metadata": {},
   "outputs": [
    {
     "data": {
      "text/html": [
       "<div>\n",
       "<style scoped>\n",
       "    .dataframe tbody tr th:only-of-type {\n",
       "        vertical-align: middle;\n",
       "    }\n",
       "\n",
       "    .dataframe tbody tr th {\n",
       "        vertical-align: top;\n",
       "    }\n",
       "\n",
       "    .dataframe thead th {\n",
       "        text-align: right;\n",
       "    }\n",
       "</style>\n",
       "<table border=\"1\" class=\"dataframe\">\n",
       "  <thead>\n",
       "    <tr style=\"text-align: right;\">\n",
       "      <th></th>\n",
       "      <th>4</th>\n",
       "      <th>0</th>\n",
       "      <th>1</th>\n",
       "      <th>3</th>\n",
       "      <th>2</th>\n",
       "    </tr>\n",
       "  </thead>\n",
       "  <tbody>\n",
       "    <tr>\n",
       "      <th>4</th>\n",
       "      <td>27</td>\n",
       "      <td>8</td>\n",
       "      <td>7</td>\n",
       "      <td>4</td>\n",
       "      <td>8</td>\n",
       "    </tr>\n",
       "    <tr>\n",
       "      <th>0</th>\n",
       "      <td>4</td>\n",
       "      <td>40</td>\n",
       "      <td>0</td>\n",
       "      <td>0</td>\n",
       "      <td>0</td>\n",
       "    </tr>\n",
       "    <tr>\n",
       "      <th>1</th>\n",
       "      <td>3</td>\n",
       "      <td>0</td>\n",
       "      <td>29</td>\n",
       "      <td>0</td>\n",
       "      <td>0</td>\n",
       "    </tr>\n",
       "    <tr>\n",
       "      <th>3</th>\n",
       "      <td>6</td>\n",
       "      <td>0</td>\n",
       "      <td>0</td>\n",
       "      <td>22</td>\n",
       "      <td>0</td>\n",
       "    </tr>\n",
       "    <tr>\n",
       "      <th>2</th>\n",
       "      <td>4</td>\n",
       "      <td>1</td>\n",
       "      <td>0</td>\n",
       "      <td>0</td>\n",
       "      <td>35</td>\n",
       "    </tr>\n",
       "  </tbody>\n",
       "</table>\n",
       "</div>"
      ],
      "text/plain": [
       "    4   0   1   3   2\n",
       "4  27   8   7   4   8\n",
       "0   4  40   0   0   0\n",
       "1   3   0  29   0   0\n",
       "3   6   0   0  22   0\n",
       "2   4   1   0   0  35"
      ]
     },
     "execution_count": 18,
     "metadata": {},
     "output_type": "execute_result"
    }
   ],
   "source": [
    "class_names = experimento_4_nor['Key'].unique()\n",
    "conf_mat_df = pd.DataFrame(cnf_matrix, index=class_names, columns=class_names)\n",
    "conf_mat_df"
   ]
  },
  {
   "cell_type": "code",
   "execution_count": 19,
   "id": "79f0216e",
   "metadata": {},
   "outputs": [
    {
     "name": "stdout",
     "output_type": "stream",
     "text": [
      "0.875\n",
      "0.34318181818181814\n"
     ]
    }
   ],
   "source": [
    "from sklearn.model_selection import train_test_split\n",
    "from sklearn.neighbors import KNeighborsClassifier\n",
    "from sklearn.ensemble import RandomForestClassifier\n",
    "from sklearn.metrics import balanced_accuracy_score\n",
    "from sklearn.metrics import accuracy_score\n",
    "\n",
    "model = KNeighborsClassifier()\n",
    "model1 = RandomForestClassifier()\n",
    "\n",
    "# KNeighborsClassifier y accuracy_score\n",
    "\n",
    "# Se dividen los datos. X_train sera el 80% de los datos\n",
    "X_train, X_test, y_train, y_test = train_test_split(X, y, random_state=0,\n",
    "                                   train_size=0.8) # 0.8, el 80% de los datos para entrenamiento\n",
    "\n",
    "# Entreno el modelo con el 80% de los datos\n",
    "model.fit(X_train, y_train)\n",
    "model1.fit(X_train, y_train)\n",
    "\n",
    "# Evalua el modelo con el 20% restante\n",
    "y_predict = model.predict(X_test)\n",
    "y_predict1 = model1.predict(X_test)\n",
    "print(accuracy_score(y_test, y_predict))\n",
    "print(balanced_accuracy_score(y_test, y_predict1))"
   ]
  },
  {
   "cell_type": "code",
   "execution_count": 21,
   "id": "24475b34",
   "metadata": {},
   "outputs": [
    {
     "name": "stdout",
     "output_type": "stream",
     "text": [
      "6.87691855430603\n",
      "Accuracy\n"
     ]
    },
    {
     "data": {
      "text/html": [
       "<div>\n",
       "<style scoped>\n",
       "    .dataframe tbody tr th:only-of-type {\n",
       "        vertical-align: middle;\n",
       "    }\n",
       "\n",
       "    .dataframe tbody tr th {\n",
       "        vertical-align: top;\n",
       "    }\n",
       "\n",
       "    .dataframe thead th {\n",
       "        text-align: right;\n",
       "    }\n",
       "</style>\n",
       "<table border=\"1\" class=\"dataframe\">\n",
       "  <thead>\n",
       "    <tr style=\"text-align: right;\">\n",
       "      <th></th>\n",
       "      <th>Data</th>\n",
       "      <th>KNN</th>\n",
       "      <th>TREE</th>\n",
       "      <th>RF</th>\n",
       "    </tr>\n",
       "  </thead>\n",
       "  <tbody>\n",
       "    <tr>\n",
       "      <th>0</th>\n",
       "      <td>exp_4</td>\n",
       "      <td>0.773333</td>\n",
       "      <td>0.725556</td>\n",
       "      <td>0.419444</td>\n",
       "    </tr>\n",
       "  </tbody>\n",
       "</table>\n",
       "</div>"
      ],
      "text/plain": [
       "    Data       KNN      TREE        RF\n",
       "0  exp_4  0.773333  0.725556  0.419444"
      ]
     },
     "metadata": {},
     "output_type": "display_data"
    },
    {
     "name": "stdout",
     "output_type": "stream",
     "text": [
      "\n",
      "Balanced Accuracy\n"
     ]
    },
    {
     "data": {
      "text/html": [
       "<div>\n",
       "<style scoped>\n",
       "    .dataframe tbody tr th:only-of-type {\n",
       "        vertical-align: middle;\n",
       "    }\n",
       "\n",
       "    .dataframe tbody tr th {\n",
       "        vertical-align: top;\n",
       "    }\n",
       "\n",
       "    .dataframe thead th {\n",
       "        text-align: right;\n",
       "    }\n",
       "</style>\n",
       "<table border=\"1\" class=\"dataframe\">\n",
       "  <thead>\n",
       "    <tr style=\"text-align: right;\">\n",
       "      <th></th>\n",
       "      <th>Data</th>\n",
       "      <th>KNN</th>\n",
       "      <th>TREE</th>\n",
       "      <th>RF</th>\n",
       "    </tr>\n",
       "  </thead>\n",
       "  <tbody>\n",
       "    <tr>\n",
       "      <th>0</th>\n",
       "      <td>exp_4</td>\n",
       "      <td>0.811667</td>\n",
       "      <td>0.726667</td>\n",
       "      <td>0.393333</td>\n",
       "    </tr>\n",
       "  </tbody>\n",
       "</table>\n",
       "</div>"
      ],
      "text/plain": [
       "    Data       KNN      TREE        RF\n",
       "0  exp_4  0.811667  0.726667  0.393333"
      ]
     },
     "metadata": {},
     "output_type": "display_data"
    },
    {
     "name": "stdout",
     "output_type": "stream",
     "text": [
      "\n"
     ]
    }
   ],
   "source": [
    "import warnings\n",
    "#warnings.filterwarnings(\"ignore\") #Evitar escribir warinings con ensembles\n",
    "import pandas as pd\n",
    "from sklearn.metrics import make_scorer, accuracy_score, balanced_accuracy_score\n",
    "from sklearn.neighbors import KNeighborsClassifier\n",
    "from sklearn.tree import DecisionTreeClassifier\n",
    "from sklearn.ensemble import RandomForestClassifier\n",
    "\n",
    "def load_experimento_4():\n",
    "    # Divido los datos en data y target\n",
    "    y = experimento_4_nor['Key'].values\n",
    "    X = experimento_4_nor.drop(columns=['Key']).values\n",
    "\n",
    "    return {'data': X, 'target': y}\n",
    "\n",
    "# Defino los scorers\n",
    "acc_scorer = make_scorer(accuracy_score)\n",
    "bal_acc_scorer = make_scorer(balanced_accuracy_score)\n",
    "\n",
    "# Defino los conjuntos de datos\n",
    "datasets = [load_experimento_4()]\n",
    "nombres = [\"exp_4\"]\n",
    "tablas = [\"Accuracy\", \"Balanced Accuracy\"]\n",
    "scoring = [acc_scorer, bal_acc_scorer]\n",
    "\n",
    "# Lista para almacenar los DataFrames\n",
    "lista = [] \n",
    "\n",
    "import time\n",
    "inicio = time.time()\n",
    "\n",
    "for tabla, score in zip(tablas, scoring): # Por cada tabla y su correcpondiete score\n",
    "    \n",
    "    dataset_names = []  # Lista para almacenar los nombres de los datasets\n",
    "    knn_means = []      # Lista para almacenar las medias de KNeighborsClassifier\n",
    "    tree_means = []     # Lista para almacenar las medias de DecisionTreeClassifier\n",
    "    rf_means = []       # Lista para almacenar las medias de Random Forest\n",
    "    \n",
    "    for dataset, nombre in zip(datasets, nombres): # Por cada dataset y su correcpondiete nombre\n",
    "      \n",
    "        # Calculo las  metricas       \n",
    "        knn = cross_val_score(KNeighborsClassifier(), X, y, cv=CV, scoring=score)      \n",
    "        tree = cross_val_score(DecisionTreeClassifier(), X, y, cv=CV, scoring=score)  \n",
    "        rf = cross_val_score(RandomForestClassifier(), X, y, cv=CV, scoring=score)\n",
    "\n",
    "        # Calculo la media de las metricas anteriores\n",
    "        knn_mean = knn.mean()\n",
    "        tree_mean = tree.mean()\n",
    "        rf_mean = rf.mean()\n",
    "\n",
    "        # Agrego las medias de los resultados a cada lista\n",
    "        dataset_names.append(nombre)\n",
    "        knn_means.append(knn_mean)\n",
    "        tree_means.append(tree_mean)\n",
    "        rf_means.append(rf_mean)\n",
    "\n",
    "    # Creo dataframes a partir de las listas con las medias de los resultados\n",
    "    resultados = pd.DataFrame({\n",
    "    'Data': dataset_names,\n",
    "    'KNN': knn_means,\n",
    "    'TREE': tree_means,\n",
    "    'RF': rf_means,\n",
    "    })\n",
    "\n",
    "    # Agrego el dataframe creado con los resultados a la lista\n",
    "    lista.append(resultados)\n",
    "  \n",
    "# Saco por pantalla las tablas de cada metrica\n",
    "fin = time.time()\n",
    "print(fin-inicio)\n",
    "for index, (dataframe, tabla) in enumerate(zip(lista, tablas)):\n",
    "    print(tabla)                              \n",
    "    display(dataframe)\n",
    "    print()\n",
    "    "
   ]
  },
  {
   "cell_type": "markdown",
   "id": "37235cbb",
   "metadata": {},
   "source": [
    "Regresion Linear"
   ]
  },
  {
   "cell_type": "code",
   "execution_count": 22,
   "id": "2ca50d19",
   "metadata": {},
   "outputs": [
    {
     "name": "stdout",
     "output_type": "stream",
     "text": [
      "R-squared value: 0.07686063390300779\n"
     ]
    }
   ],
   "source": [
    "from sklearn.linear_model import LinearRegression\n",
    "\n",
    "model = LinearRegression()\n",
    "\n",
    "model.fit(X, y)\n",
    "\n",
    "r2_score = model.score(X, y)\n",
    "print(f\"R-squared value: {r2_score}\")\n",
    "#error menor es mejor modelo"
   ]
  },
  {
   "cell_type": "code",
   "execution_count": null,
   "id": "cec2a559",
   "metadata": {},
   "outputs": [],
   "source": [
    "def Preprocessing(in_df):\n",
    "    # TODO\n",
    "    #pd.concat([df_1, df_2, df_3], axis=1)\n",
    "    \n",
    "    return out_df"
   ]
  }
 ],
 "metadata": {
  "kernelspec": {
   "display_name": "Python 3 (ipykernel)",
   "language": "python",
   "name": "python3"
  },
  "language_info": {
   "codemirror_mode": {
    "name": "ipython",
    "version": 3
   },
   "file_extension": ".py",
   "mimetype": "text/x-python",
   "name": "python",
   "nbconvert_exporter": "python",
   "pygments_lexer": "ipython3",
   "version": "3.11.5"
  }
 },
 "nbformat": 4,
 "nbformat_minor": 5
}
