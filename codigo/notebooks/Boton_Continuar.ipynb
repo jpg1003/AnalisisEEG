{
 "cells": [
  {
   "cell_type": "code",
   "execution_count": 14,
   "id": "f5fcea2f",
   "metadata": {},
   "outputs": [
    {
     "name": "stdout",
     "output_type": "stream",
     "text": [
      "Procesamiento reanudado. Continuando con el resto del código...\n",
      "¡Proceso completado!\n"
     ]
    }
   ],
   "source": [
    "from IPython.display import display, clear_output\n",
    "\n",
    "\n",
    "# Mensaje inicial\n",
    "print(\"Presione cualquier tecla y luego Enter para continuar...\")\n",
    "\n",
    "# Esperar a que se presione una tecla\n",
    "input()\n",
    "\n",
    "# Limpiar la salida y continuar con el resto del código\n",
    "clear_output()\n",
    "print(\"Procesamiento reanudado. Continuando con el resto del código...\")\n",
    "print(\"¡Proceso completado!\")\n"
   ]
  },
  {
   "cell_type": "code",
   "execution_count": null,
   "id": "6a3b8ceb",
   "metadata": {},
   "outputs": [],
   "source": []
  },
  {
   "cell_type": "code",
   "execution_count": null,
   "id": "6cf75290",
   "metadata": {},
   "outputs": [],
   "source": []
  }
 ],
 "metadata": {
  "kernelspec": {
   "display_name": "Python 3 (ipykernel)",
   "language": "python",
   "name": "python3"
  },
  "language_info": {
   "codemirror_mode": {
    "name": "ipython",
    "version": 3
   },
   "file_extension": ".py",
   "mimetype": "text/x-python",
   "name": "python",
   "nbconvert_exporter": "python",
   "pygments_lexer": "ipython3",
   "version": "3.11.5"
  }
 },
 "nbformat": 4,
 "nbformat_minor": 5
}
