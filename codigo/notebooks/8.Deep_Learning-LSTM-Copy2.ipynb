{
 "cells": [
  {
   "cell_type": "markdown",
   "id": "8045039e",
   "metadata": {},
   "source": [
    "<img style=\"float:left\" width=\"70%\" src=\"../../documentacion/imagenes/escudo_COLOR_1L_DCHA.png\">\n",
    "<img style=\"float:right\" width=\"10%\" src=\"../../documentacion/imagenes/PythonLogo.svg\">\n",
    "<br style=\"clear:both;\">\n",
    "\n",
    "\n",
    "<h2 style=\"display: inline-block; padding: 4mm; padding-left: 2em; background-color: navy; line-height: 1.3em; color: white; border-radius: 10px;\">8. Deep Learning LSTM</h2>\n",
    "\n",
    "\n",
    " \n",
    "## Estudiante:\n",
    "\n",
    "- Jose Luis Perez Gomez"
   ]
  },
  {
   "cell_type": "code",
   "execution_count": 24,
   "id": "af97b04a",
   "metadata": {},
   "outputs": [],
   "source": [
    "%run 3.Importaciones.ipynb\n",
    "%run 4.Variables_Clases.ipynb"
   ]
  },
  {
   "cell_type": "code",
   "execution_count": 25,
   "id": "41199a17",
   "metadata": {},
   "outputs": [],
   "source": [
    "experimento_1_nor_separado = pd.read_csv('../datos/experimento_stscaler_separado1.csv', sep=',')\n",
    "experimento_2_nor_separado = pd.read_csv('../datos/experimento_stscaler_separado2.csv', sep=',')\n",
    "experimento_3_nor_separado = pd.read_csv('../datos/experimento_stscaler_separado3.csv', sep=',')\n",
    "experimento_4_nor_separado = pd.read_csv('../datos/experimento_stscaler_separado4.csv', sep=',')\n",
    "experimento_all_nor = pd.read_csv('../datos/experimento_stscaler_all.csv', sep=',')\n",
    "experimento_all_nor_separado = pd.read_csv('../datos/experimento_stscaler_separado_all.csv', sep=',')\n",
    "\n",
    "experimento_1_nor_separado = experimento_1_nor_separado.drop(['Timestamp'], axis=1)\n",
    "experimento_2_nor_separado = experimento_2_nor_separado.drop(['Timestamp'], axis=1)\n",
    "experimento_3_nor_separado = experimento_3_nor_separado.drop(['Timestamp'], axis=1)\n",
    "experimento_4_nor_separado = experimento_4_nor_separado.drop(['Timestamp'], axis=1)\n",
    "\n",
    "experimentos_nor = [experimento_1_nor_separado, experimento_2_nor_separado, experimento_3_nor_separado, experimento_4_nor_separado, experimento_all_nor, experimento_all_nor_separado ]\n"
   ]
  },
  {
   "cell_type": "code",
   "execution_count": null,
   "id": "4f190c3a",
   "metadata": {},
   "outputs": [],
   "source": []
  },
  {
   "cell_type": "code",
   "execution_count": null,
   "id": "fcd15619",
   "metadata": {},
   "outputs": [],
   "source": []
  },
  {
   "cell_type": "markdown",
   "id": "09831c43",
   "metadata": {},
   "source": [
    "# LSTM (Long short-term memory)"
   ]
  },
  {
   "cell_type": "code",
   "execution_count": null,
   "id": "6b74b62d",
   "metadata": {},
   "outputs": [],
   "source": []
  },
  {
   "cell_type": "code",
   "execution_count": 26,
   "id": "c7099f73",
   "metadata": {},
   "outputs": [],
   "source": [
    "train_datos, val_datos, test_datos = dividir_datos_deep(experimento_all_nor_separado)"
   ]
  },
  {
   "cell_type": "code",
   "execution_count": 27,
   "id": "3c280dfb",
   "metadata": {},
   "outputs": [
    {
     "name": "stdout",
     "output_type": "stream",
     "text": [
      "train_datos: (542, 11)\n",
      "val_datos: (67, 11)\n",
      "test_datos: (69, 11)\n"
     ]
    }
   ],
   "source": [
    "print(f'train_datos: {train_datos.shape}')\n",
    "print(f'val_datos: {val_datos.shape}')\n",
    "print(f'test_datos: {test_datos.shape}')"
   ]
  },
  {
   "cell_type": "code",
   "execution_count": 28,
   "id": "de4b798d",
   "metadata": {},
   "outputs": [
    {
     "data": {
      "text/plain": [
       "Key\n",
       "0.0    149\n",
       "1.0    112\n",
       "4.0    102\n",
       "3.0     90\n",
       "2.0     89\n",
       "Name: count, dtype: int64"
      ]
     },
     "execution_count": 28,
     "metadata": {},
     "output_type": "execute_result"
    }
   ],
   "source": [
    "train_datos['Key'].value_counts()"
   ]
  },
  {
   "cell_type": "code",
   "execution_count": 29,
   "id": "ed5d5419",
   "metadata": {},
   "outputs": [
    {
     "data": {
      "text/plain": [
       "Key\n",
       "0.0    17\n",
       "3.0    14\n",
       "4.0    14\n",
       "1.0    13\n",
       "2.0     9\n",
       "Name: count, dtype: int64"
      ]
     },
     "execution_count": 29,
     "metadata": {},
     "output_type": "execute_result"
    }
   ],
   "source": [
    "val_datos['Key'].value_counts()"
   ]
  },
  {
   "cell_type": "code",
   "execution_count": 30,
   "id": "f9663e42",
   "metadata": {
    "scrolled": true
   },
   "outputs": [
    {
     "data": {
      "text/plain": [
       "Key\n",
       "0.0    20\n",
       "2.0    16\n",
       "1.0    15\n",
       "4.0    11\n",
       "3.0     7\n",
       "Name: count, dtype: int64"
      ]
     },
     "execution_count": 30,
     "metadata": {},
     "output_type": "execute_result"
    }
   ],
   "source": [
    "test_datos['Key'].value_counts()"
   ]
  },
  {
   "cell_type": "code",
   "execution_count": 31,
   "id": "a5688c88",
   "metadata": {},
   "outputs": [],
   "source": [
    "\n",
    "def preparar_ventanas(datos, target, window_size=WINDOWS_SIZE, overlap=OVERLAP, target_type=TARGET_TYPE):\n",
    "    \n",
    "    if window_size <= overlap:\n",
    "        raise \"Overlap no puede ser mayor que window_size\"\n",
    "    X = []\n",
    "    y = []\n",
    "    for i in range(0, len(datos) - window_size, window_size - overlap):\n",
    "        X.append(datos[i:i+window_size])\n",
    "        window_targets = target[i:i+window_size].astype(int)\n",
    "        y_true = window_targets[-1]\n",
    "        y.append(y_true)\n",
    "\n",
    "    #y_one_hot = tf.keras.utils.to_categorical(np.array(y), num_classes = 5)\n",
    "    # Key = [0, 1, 2, 3, 4, 0]\n",
    "    # One-hot [\n",
    "    #    [0, 1, 2, 3, 4]\n",
    "    #     1  0  0  0  0\n",
    "    #     0  1  0  0  0\n",
    "    #     0  0  1  0  0\n",
    "    #]\n",
    "    #return np.array(X), y_one_hot\n",
    "    return np.array(X), np.array(y)"
   ]
  },
  {
   "cell_type": "code",
   "execution_count": 32,
   "id": "7d4a3ecd",
   "metadata": {},
   "outputs": [
    {
     "ename": "IndexError",
     "evalue": "only integers, slices (`:`), ellipsis (`...`), numpy.newaxis (`None`) and integer or boolean arrays are valid indices",
     "output_type": "error",
     "traceback": [
      "\u001b[1;31m---------------------------------------------------------------------------\u001b[0m",
      "\u001b[1;31mIndexError\u001b[0m                                Traceback (most recent call last)",
      "Cell \u001b[1;32mIn[32], line 2\u001b[0m\n\u001b[0;32m      1\u001b[0m \u001b[38;5;66;03m#columns = train_datos.columns[train_datos.columns != TARGET]\u001b[39;00m\n\u001b[1;32m----> 2\u001b[0m columns \u001b[38;5;241m=\u001b[39m train_datos\u001b[38;5;241m.\u001b[39mcolumns[train_datos\u001b[38;5;241m.\u001b[39mcolumns]\n",
      "File \u001b[1;32m~\\anaconda3\\Lib\\site-packages\\pandas\\core\\indexes\\base.py:5196\u001b[0m, in \u001b[0;36mIndex.__getitem__\u001b[1;34m(self, key)\u001b[0m\n\u001b[0;32m   5193\u001b[0m     \u001b[38;5;28;01melse\u001b[39;00m:\n\u001b[0;32m   5194\u001b[0m         key \u001b[38;5;241m=\u001b[39m np\u001b[38;5;241m.\u001b[39masarray(key, dtype\u001b[38;5;241m=\u001b[39m\u001b[38;5;28mbool\u001b[39m)\n\u001b[1;32m-> 5196\u001b[0m result \u001b[38;5;241m=\u001b[39m getitem(key)\n\u001b[0;32m   5197\u001b[0m \u001b[38;5;66;03m# Because we ruled out integer above, we always get an arraylike here\u001b[39;00m\n\u001b[0;32m   5198\u001b[0m \u001b[38;5;28;01mif\u001b[39;00m result\u001b[38;5;241m.\u001b[39mndim \u001b[38;5;241m>\u001b[39m \u001b[38;5;241m1\u001b[39m:\n",
      "\u001b[1;31mIndexError\u001b[0m: only integers, slices (`:`), ellipsis (`...`), numpy.newaxis (`None`) and integer or boolean arrays are valid indices"
     ]
    }
   ],
   "source": [
    "#columns = train_datos.columns[train_datos.columns != TARGET]\n",
    "columns = train_datos.columns[train_datos.columns]\n",
    "\n"
   ]
  },
  {
   "cell_type": "code",
   "execution_count": null,
   "id": "e929694b",
   "metadata": {},
   "outputs": [],
   "source": []
  },
  {
   "cell_type": "code",
   "execution_count": 33,
   "id": "ce41f475",
   "metadata": {},
   "outputs": [],
   "source": [
    "X_train, y_train = preparar_ventanas(train_datos.values, train_datos[TARGET].values, WINDOWS_SIZE, OVERLAP, TARGET_TYPE)\n",
    "X_val, y_val = preparar_ventanas(val_datos.values, val_datos[TARGET].values, WINDOWS_SIZE, OVERLAP, TARGET_TYPE)\n",
    "X_test, y_test = preparar_ventanas(test_datos.values, test_datos[TARGET].values, WINDOWS_SIZE, OVERLAP, TARGET_TYPE)"
   ]
  },
  {
   "cell_type": "code",
   "execution_count": null,
   "id": "af90c208",
   "metadata": {},
   "outputs": [],
   "source": []
  },
  {
   "cell_type": "code",
   "execution_count": 34,
   "id": "52bec6e4",
   "metadata": {},
   "outputs": [
    {
     "name": "stdout",
     "output_type": "stream",
     "text": [
      "X_train: (539, 3, 11)\n",
      "X_val: (64, 3, 11)\n",
      "X_test: (66, 3, 11)\n",
      "y_train: (539,)\n",
      "y_val: (64,)\n",
      "y_test: (66,)\n",
      "[2 2 2 2 2 2 2 0 0 0 0 0 3 3 3 3 3 3 3 3 3 3 3 3 3 3 0 0 0 0 0 1 1 1 1 1 1\n",
      " 1 1 1 1 1 1 1 0 0 0 0 0 4 4 4 4 4 4 4 4 4 4 4 4 4 4 0]\n"
     ]
    }
   ],
   "source": [
    "print(f'X_train: {X_train.shape}')\n",
    "print(f'X_val: {X_val.shape}')\n",
    "print(f'X_test: {X_test.shape}')\n",
    "print(f'y_train: {y_train.shape}')\n",
    "print(f'y_val: {y_val.shape}')\n",
    "print(f'y_test: {y_test.shape}')\n",
    "\n",
    "print(y_val)\n"
   ]
  },
  {
   "cell_type": "code",
   "execution_count": 35,
   "id": "24bd83d2",
   "metadata": {},
   "outputs": [],
   "source": [
    "# Definición del modelo\n",
    "timesteps = 30\n",
    "features = 11\n",
    "\n",
    "def crear_LSTM(input_size, num_classes):\n",
    "    model_LSTM = Sequential()\n",
    "    model_LSTM.add(LSTM(units=30, input_shape=(timesteps, features), return_sequences=False))\n",
    "    model_LSTM.add(Dense(30))\n",
    "    model_LSTM.add(Dense(num_classes, activation='softmax'))\n",
    "                        \n",
    "    return model_LSTM\n",
    "\n",
    "\n"
   ]
  },
  {
   "cell_type": "code",
   "execution_count": 36,
   "id": "deffa6fe",
   "metadata": {},
   "outputs": [
    {
     "name": "stderr",
     "output_type": "stream",
     "text": [
      "C:\\Users\\Casa\\anaconda3\\Lib\\site-packages\\keras\\src\\layers\\rnn\\rnn.py:204: UserWarning: Do not pass an `input_shape`/`input_dim` argument to a layer. When using Sequential models, prefer using an `Input(shape)` object as the first layer in the model instead.\n",
      "  super().__init__(**kwargs)\n"
     ]
    },
    {
     "data": {
      "text/html": [
       "<pre style=\"white-space:pre;overflow-x:auto;line-height:normal;font-family:Menlo,'DejaVu Sans Mono',consolas,'Courier New',monospace\"><span style=\"font-weight: bold\">Model: \"sequential_1\"</span>\n",
       "</pre>\n"
      ],
      "text/plain": [
       "\u001b[1mModel: \"sequential_1\"\u001b[0m\n"
      ]
     },
     "metadata": {},
     "output_type": "display_data"
    },
    {
     "data": {
      "text/html": [
       "<pre style=\"white-space:pre;overflow-x:auto;line-height:normal;font-family:Menlo,'DejaVu Sans Mono',consolas,'Courier New',monospace\">┏━━━━━━━━━━━━━━━━━━━━━━━━━━━━━━━━━━━━━━┳━━━━━━━━━━━━━━━━━━━━━━━━━━━━━┳━━━━━━━━━━━━━━━━━┓\n",
       "┃<span style=\"font-weight: bold\"> Layer (type)                         </span>┃<span style=\"font-weight: bold\"> Output Shape                </span>┃<span style=\"font-weight: bold\">         Param # </span>┃\n",
       "┡━━━━━━━━━━━━━━━━━━━━━━━━━━━━━━━━━━━━━━╇━━━━━━━━━━━━━━━━━━━━━━━━━━━━━╇━━━━━━━━━━━━━━━━━┩\n",
       "│ lstm_1 (<span style=\"color: #0087ff; text-decoration-color: #0087ff\">LSTM</span>)                        │ (<span style=\"color: #00d7ff; text-decoration-color: #00d7ff\">None</span>, <span style=\"color: #00af00; text-decoration-color: #00af00\">30</span>)                  │           <span style=\"color: #00af00; text-decoration-color: #00af00\">5,040</span> │\n",
       "├──────────────────────────────────────┼─────────────────────────────┼─────────────────┤\n",
       "│ dense_2 (<span style=\"color: #0087ff; text-decoration-color: #0087ff\">Dense</span>)                      │ (<span style=\"color: #00d7ff; text-decoration-color: #00d7ff\">None</span>, <span style=\"color: #00af00; text-decoration-color: #00af00\">30</span>)                  │             <span style=\"color: #00af00; text-decoration-color: #00af00\">930</span> │\n",
       "├──────────────────────────────────────┼─────────────────────────────┼─────────────────┤\n",
       "│ dense_3 (<span style=\"color: #0087ff; text-decoration-color: #0087ff\">Dense</span>)                      │ (<span style=\"color: #00d7ff; text-decoration-color: #00d7ff\">None</span>, <span style=\"color: #00af00; text-decoration-color: #00af00\">5</span>)                   │             <span style=\"color: #00af00; text-decoration-color: #00af00\">155</span> │\n",
       "└──────────────────────────────────────┴─────────────────────────────┴─────────────────┘\n",
       "</pre>\n"
      ],
      "text/plain": [
       "┏━━━━━━━━━━━━━━━━━━━━━━━━━━━━━━━━━━━━━━┳━━━━━━━━━━━━━━━━━━━━━━━━━━━━━┳━━━━━━━━━━━━━━━━━┓\n",
       "┃\u001b[1m \u001b[0m\u001b[1mLayer (type)                        \u001b[0m\u001b[1m \u001b[0m┃\u001b[1m \u001b[0m\u001b[1mOutput Shape               \u001b[0m\u001b[1m \u001b[0m┃\u001b[1m \u001b[0m\u001b[1m        Param #\u001b[0m\u001b[1m \u001b[0m┃\n",
       "┡━━━━━━━━━━━━━━━━━━━━━━━━━━━━━━━━━━━━━━╇━━━━━━━━━━━━━━━━━━━━━━━━━━━━━╇━━━━━━━━━━━━━━━━━┩\n",
       "│ lstm_1 (\u001b[38;5;33mLSTM\u001b[0m)                        │ (\u001b[38;5;45mNone\u001b[0m, \u001b[38;5;34m30\u001b[0m)                  │           \u001b[38;5;34m5,040\u001b[0m │\n",
       "├──────────────────────────────────────┼─────────────────────────────┼─────────────────┤\n",
       "│ dense_2 (\u001b[38;5;33mDense\u001b[0m)                      │ (\u001b[38;5;45mNone\u001b[0m, \u001b[38;5;34m30\u001b[0m)                  │             \u001b[38;5;34m930\u001b[0m │\n",
       "├──────────────────────────────────────┼─────────────────────────────┼─────────────────┤\n",
       "│ dense_3 (\u001b[38;5;33mDense\u001b[0m)                      │ (\u001b[38;5;45mNone\u001b[0m, \u001b[38;5;34m5\u001b[0m)                   │             \u001b[38;5;34m155\u001b[0m │\n",
       "└──────────────────────────────────────┴─────────────────────────────┴─────────────────┘\n"
      ]
     },
     "metadata": {},
     "output_type": "display_data"
    },
    {
     "data": {
      "text/html": [
       "<pre style=\"white-space:pre;overflow-x:auto;line-height:normal;font-family:Menlo,'DejaVu Sans Mono',consolas,'Courier New',monospace\"><span style=\"font-weight: bold\"> Total params: </span><span style=\"color: #00af00; text-decoration-color: #00af00\">6,125</span> (23.93 KB)\n",
       "</pre>\n"
      ],
      "text/plain": [
       "\u001b[1m Total params: \u001b[0m\u001b[38;5;34m6,125\u001b[0m (23.93 KB)\n"
      ]
     },
     "metadata": {},
     "output_type": "display_data"
    },
    {
     "data": {
      "text/html": [
       "<pre style=\"white-space:pre;overflow-x:auto;line-height:normal;font-family:Menlo,'DejaVu Sans Mono',consolas,'Courier New',monospace\"><span style=\"font-weight: bold\"> Trainable params: </span><span style=\"color: #00af00; text-decoration-color: #00af00\">6,125</span> (23.93 KB)\n",
       "</pre>\n"
      ],
      "text/plain": [
       "\u001b[1m Trainable params: \u001b[0m\u001b[38;5;34m6,125\u001b[0m (23.93 KB)\n"
      ]
     },
     "metadata": {},
     "output_type": "display_data"
    },
    {
     "data": {
      "text/html": [
       "<pre style=\"white-space:pre;overflow-x:auto;line-height:normal;font-family:Menlo,'DejaVu Sans Mono',consolas,'Courier New',monospace\"><span style=\"font-weight: bold\"> Non-trainable params: </span><span style=\"color: #00af00; text-decoration-color: #00af00\">0</span> (0.00 B)\n",
       "</pre>\n"
      ],
      "text/plain": [
       "\u001b[1m Non-trainable params: \u001b[0m\u001b[38;5;34m0\u001b[0m (0.00 B)\n"
      ]
     },
     "metadata": {},
     "output_type": "display_data"
    }
   ],
   "source": [
    "num_classes = 5\n",
    "input_size = X_train.shape[1:]\n",
    "model_LSTM = crear_LSTM(input_size, num_classes)\n",
    "model_LSTM.summary()\n"
   ]
  },
  {
   "cell_type": "code",
   "execution_count": 37,
   "id": "f3c8682d",
   "metadata": {},
   "outputs": [
    {
     "name": "stdout",
     "output_type": "stream",
     "text": [
      "Epoch 1/50\n",
      "\u001b[1m18/18\u001b[0m \u001b[32m━━━━━━━━━━━━━━━━━━━━\u001b[0m\u001b[37m\u001b[0m \u001b[1m2s\u001b[0m 15ms/step - accuracy: 0.2741 - loss: 52.1835 - val_accuracy: 0.3750 - val_loss: 36.5407\n",
      "Epoch 2/50\n",
      "\u001b[1m18/18\u001b[0m \u001b[32m━━━━━━━━━━━━━━━━━━━━\u001b[0m\u001b[37m\u001b[0m \u001b[1m0s\u001b[0m 5ms/step - accuracy: 0.3757 - loss: 27.3011 - val_accuracy: 0.3906 - val_loss: 12.5560\n",
      "Epoch 3/50\n",
      "\u001b[1m18/18\u001b[0m \u001b[32m━━━━━━━━━━━━━━━━━━━━\u001b[0m\u001b[37m\u001b[0m \u001b[1m0s\u001b[0m 5ms/step - accuracy: 0.3919 - loss: 11.7422 - val_accuracy: 0.4062 - val_loss: 8.6597\n",
      "Epoch 4/50\n",
      "\u001b[1m18/18\u001b[0m \u001b[32m━━━━━━━━━━━━━━━━━━━━\u001b[0m\u001b[37m\u001b[0m \u001b[1m0s\u001b[0m 5ms/step - accuracy: 0.4109 - loss: 7.3828 - val_accuracy: 0.4219 - val_loss: 7.1021\n",
      "Epoch 5/50\n",
      "\u001b[1m18/18\u001b[0m \u001b[32m━━━━━━━━━━━━━━━━━━━━\u001b[0m\u001b[37m\u001b[0m \u001b[1m0s\u001b[0m 4ms/step - accuracy: 0.4937 - loss: 6.0199 - val_accuracy: 0.3906 - val_loss: 4.7409\n",
      "Epoch 6/50\n",
      "\u001b[1m18/18\u001b[0m \u001b[32m━━━━━━━━━━━━━━━━━━━━\u001b[0m\u001b[37m\u001b[0m \u001b[1m0s\u001b[0m 3ms/step - accuracy: 0.4480 - loss: 4.2527 - val_accuracy: 0.3281 - val_loss: 5.1259\n",
      "Epoch 7/50\n",
      "\u001b[1m18/18\u001b[0m \u001b[32m━━━━━━━━━━━━━━━━━━━━\u001b[0m\u001b[37m\u001b[0m \u001b[1m0s\u001b[0m 4ms/step - accuracy: 0.4466 - loss: 2.9270 - val_accuracy: 0.3594 - val_loss: 3.2996\n",
      "Epoch 8/50\n",
      "\u001b[1m18/18\u001b[0m \u001b[32m━━━━━━━━━━━━━━━━━━━━\u001b[0m\u001b[37m\u001b[0m \u001b[1m0s\u001b[0m 4ms/step - accuracy: 0.4751 - loss: 2.8962 - val_accuracy: 0.4062 - val_loss: 4.9777\n",
      "Epoch 9/50\n",
      "\u001b[1m18/18\u001b[0m \u001b[32m━━━━━━━━━━━━━━━━━━━━\u001b[0m\u001b[37m\u001b[0m \u001b[1m0s\u001b[0m 3ms/step - accuracy: 0.5360 - loss: 2.5263 - val_accuracy: 0.4219 - val_loss: 3.7259\n",
      "Epoch 10/50\n",
      "\u001b[1m18/18\u001b[0m \u001b[32m━━━━━━━━━━━━━━━━━━━━\u001b[0m\u001b[37m\u001b[0m \u001b[1m0s\u001b[0m 3ms/step - accuracy: 0.5089 - loss: 2.4630 - val_accuracy: 0.3750 - val_loss: 3.7478\n",
      "Epoch 11/50\n",
      "\u001b[1m18/18\u001b[0m \u001b[32m━━━━━━━━━━━━━━━━━━━━\u001b[0m\u001b[37m\u001b[0m \u001b[1m0s\u001b[0m 4ms/step - accuracy: 0.6388 - loss: 1.7516 - val_accuracy: 0.5625 - val_loss: 2.2847\n",
      "Epoch 12/50\n",
      "\u001b[1m18/18\u001b[0m \u001b[32m━━━━━━━━━━━━━━━━━━━━\u001b[0m\u001b[37m\u001b[0m \u001b[1m0s\u001b[0m 4ms/step - accuracy: 0.5568 - loss: 1.6283 - val_accuracy: 0.3906 - val_loss: 2.2693\n",
      "Epoch 13/50\n",
      "\u001b[1m18/18\u001b[0m \u001b[32m━━━━━━━━━━━━━━━━━━━━\u001b[0m\u001b[37m\u001b[0m \u001b[1m0s\u001b[0m 3ms/step - accuracy: 0.5606 - loss: 1.4591 - val_accuracy: 0.3594 - val_loss: 2.5494\n",
      "Epoch 14/50\n",
      "\u001b[1m18/18\u001b[0m \u001b[32m━━━━━━━━━━━━━━━━━━━━\u001b[0m\u001b[37m\u001b[0m \u001b[1m0s\u001b[0m 4ms/step - accuracy: 0.5292 - loss: 1.5587 - val_accuracy: 0.3594 - val_loss: 2.9701\n",
      "Epoch 15/50\n",
      "\u001b[1m18/18\u001b[0m \u001b[32m━━━━━━━━━━━━━━━━━━━━\u001b[0m\u001b[37m\u001b[0m \u001b[1m0s\u001b[0m 3ms/step - accuracy: 0.5997 - loss: 1.4879 - val_accuracy: 0.3594 - val_loss: 2.3495\n",
      "Epoch 16/50\n",
      "\u001b[1m18/18\u001b[0m \u001b[32m━━━━━━━━━━━━━━━━━━━━\u001b[0m\u001b[37m\u001b[0m \u001b[1m0s\u001b[0m 4ms/step - accuracy: 0.5460 - loss: 1.4892 - val_accuracy: 0.4375 - val_loss: 2.2627\n",
      "Epoch 17/50\n",
      "\u001b[1m18/18\u001b[0m \u001b[32m━━━━━━━━━━━━━━━━━━━━\u001b[0m\u001b[37m\u001b[0m \u001b[1m0s\u001b[0m 5ms/step - accuracy: 0.5008 - loss: 1.3469 - val_accuracy: 0.5000 - val_loss: 2.0902\n",
      "Epoch 18/50\n",
      "\u001b[1m18/18\u001b[0m \u001b[32m━━━━━━━━━━━━━━━━━━━━\u001b[0m\u001b[37m\u001b[0m \u001b[1m0s\u001b[0m 4ms/step - accuracy: 0.5339 - loss: 1.6262 - val_accuracy: 0.4375 - val_loss: 2.8576\n",
      "Epoch 19/50\n",
      "\u001b[1m18/18\u001b[0m \u001b[32m━━━━━━━━━━━━━━━━━━━━\u001b[0m\u001b[37m\u001b[0m \u001b[1m0s\u001b[0m 3ms/step - accuracy: 0.5732 - loss: 1.6987 - val_accuracy: 0.5000 - val_loss: 2.1385\n",
      "Epoch 20/50\n",
      "\u001b[1m18/18\u001b[0m \u001b[32m━━━━━━━━━━━━━━━━━━━━\u001b[0m\u001b[37m\u001b[0m \u001b[1m0s\u001b[0m 3ms/step - accuracy: 0.5782 - loss: 1.8096 - val_accuracy: 0.3125 - val_loss: 5.7562\n",
      "Epoch 21/50\n",
      "\u001b[1m18/18\u001b[0m \u001b[32m━━━━━━━━━━━━━━━━━━━━\u001b[0m\u001b[37m\u001b[0m \u001b[1m0s\u001b[0m 3ms/step - accuracy: 0.5066 - loss: 2.9036 - val_accuracy: 0.4531 - val_loss: 4.0558\n",
      "Epoch 22/50\n",
      "\u001b[1m18/18\u001b[0m \u001b[32m━━━━━━━━━━━━━━━━━━━━\u001b[0m\u001b[37m\u001b[0m \u001b[1m0s\u001b[0m 3ms/step - accuracy: 0.5345 - loss: 2.3316 - val_accuracy: 0.5469 - val_loss: 3.3022\n",
      "Epoch 23/50\n",
      "\u001b[1m18/18\u001b[0m \u001b[32m━━━━━━━━━━━━━━━━━━━━\u001b[0m\u001b[37m\u001b[0m \u001b[1m0s\u001b[0m 3ms/step - accuracy: 0.5247 - loss: 3.7126 - val_accuracy: 0.4062 - val_loss: 6.6580\n",
      "Epoch 24/50\n",
      "\u001b[1m18/18\u001b[0m \u001b[32m━━━━━━━━━━━━━━━━━━━━\u001b[0m\u001b[37m\u001b[0m \u001b[1m0s\u001b[0m 3ms/step - accuracy: 0.5369 - loss: 3.9670 - val_accuracy: 0.5469 - val_loss: 4.0241\n",
      "Epoch 25/50\n",
      "\u001b[1m18/18\u001b[0m \u001b[32m━━━━━━━━━━━━━━━━━━━━\u001b[0m\u001b[37m\u001b[0m \u001b[1m0s\u001b[0m 3ms/step - accuracy: 0.5757 - loss: 4.9047 - val_accuracy: 0.5781 - val_loss: 5.0699\n",
      "Epoch 26/50\n",
      "\u001b[1m18/18\u001b[0m \u001b[32m━━━━━━━━━━━━━━━━━━━━\u001b[0m\u001b[37m\u001b[0m \u001b[1m0s\u001b[0m 4ms/step - accuracy: 0.5286 - loss: 3.7794 - val_accuracy: 0.4844 - val_loss: 4.0557\n",
      "Epoch 27/50\n",
      "\u001b[1m18/18\u001b[0m \u001b[32m━━━━━━━━━━━━━━━━━━━━\u001b[0m\u001b[37m\u001b[0m \u001b[1m0s\u001b[0m 3ms/step - accuracy: 0.5224 - loss: 3.8899 - val_accuracy: 0.3594 - val_loss: 12.9358\n",
      "Epoch 28/50\n",
      "\u001b[1m18/18\u001b[0m \u001b[32m━━━━━━━━━━━━━━━━━━━━\u001b[0m\u001b[37m\u001b[0m \u001b[1m0s\u001b[0m 3ms/step - accuracy: 0.4538 - loss: 6.0021 - val_accuracy: 0.5312 - val_loss: 6.7901\n",
      "Epoch 29/50\n",
      "\u001b[1m18/18\u001b[0m \u001b[32m━━━━━━━━━━━━━━━━━━━━\u001b[0m\u001b[37m\u001b[0m \u001b[1m0s\u001b[0m 3ms/step - accuracy: 0.4624 - loss: 7.7742 - val_accuracy: 0.4375 - val_loss: 20.7397\n",
      "Epoch 30/50\n",
      "\u001b[1m18/18\u001b[0m \u001b[32m━━━━━━━━━━━━━━━━━━━━\u001b[0m\u001b[37m\u001b[0m \u001b[1m0s\u001b[0m 3ms/step - accuracy: 0.4139 - loss: 13.0395 - val_accuracy: 0.3906 - val_loss: 20.7055\n",
      "Epoch 31/50\n",
      "\u001b[1m18/18\u001b[0m \u001b[32m━━━━━━━━━━━━━━━━━━━━\u001b[0m\u001b[37m\u001b[0m \u001b[1m0s\u001b[0m 4ms/step - accuracy: 0.4131 - loss: 9.3462 - val_accuracy: 0.4375 - val_loss: 17.0753\n",
      "Epoch 32/50\n",
      "\u001b[1m18/18\u001b[0m \u001b[32m━━━━━━━━━━━━━━━━━━━━\u001b[0m\u001b[37m\u001b[0m \u001b[1m0s\u001b[0m 3ms/step - accuracy: 0.4069 - loss: 15.1220 - val_accuracy: 0.5312 - val_loss: 15.9456\n",
      "Epoch 33/50\n",
      "\u001b[1m18/18\u001b[0m \u001b[32m━━━━━━━━━━━━━━━━━━━━\u001b[0m\u001b[37m\u001b[0m \u001b[1m0s\u001b[0m 3ms/step - accuracy: 0.4289 - loss: 19.4762 - val_accuracy: 0.5000 - val_loss: 20.9030\n",
      "Epoch 34/50\n",
      "\u001b[1m18/18\u001b[0m \u001b[32m━━━━━━━━━━━━━━━━━━━━\u001b[0m\u001b[37m\u001b[0m \u001b[1m0s\u001b[0m 3ms/step - accuracy: 0.4756 - loss: 29.2724 - val_accuracy: 0.4219 - val_loss: 38.3514\n",
      "Epoch 35/50\n",
      "\u001b[1m18/18\u001b[0m \u001b[32m━━━━━━━━━━━━━━━━━━━━\u001b[0m\u001b[37m\u001b[0m \u001b[1m0s\u001b[0m 3ms/step - accuracy: 0.4424 - loss: 20.5311 - val_accuracy: 0.4062 - val_loss: 33.7980\n",
      "Epoch 36/50\n",
      "\u001b[1m18/18\u001b[0m \u001b[32m━━━━━━━━━━━━━━━━━━━━\u001b[0m\u001b[37m\u001b[0m \u001b[1m0s\u001b[0m 3ms/step - accuracy: 0.4764 - loss: 27.1771 - val_accuracy: 0.4219 - val_loss: 24.5584\n",
      "Epoch 37/50\n",
      "\u001b[1m18/18\u001b[0m \u001b[32m━━━━━━━━━━━━━━━━━━━━\u001b[0m\u001b[37m\u001b[0m \u001b[1m0s\u001b[0m 3ms/step - accuracy: 0.4710 - loss: 20.7556 - val_accuracy: 0.4219 - val_loss: 30.1975\n",
      "Epoch 38/50\n",
      "\u001b[1m18/18\u001b[0m \u001b[32m━━━━━━━━━━━━━━━━━━━━\u001b[0m\u001b[37m\u001b[0m \u001b[1m0s\u001b[0m 3ms/step - accuracy: 0.4630 - loss: 17.9913 - val_accuracy: 0.3750 - val_loss: 27.4428\n",
      "Epoch 39/50\n",
      "\u001b[1m18/18\u001b[0m \u001b[32m━━━━━━━━━━━━━━━━━━━━\u001b[0m\u001b[37m\u001b[0m \u001b[1m0s\u001b[0m 3ms/step - accuracy: 0.4987 - loss: 12.5547 - val_accuracy: 0.3125 - val_loss: 16.9148\n",
      "Epoch 40/50\n",
      "\u001b[1m18/18\u001b[0m \u001b[32m━━━━━━━━━━━━━━━━━━━━\u001b[0m\u001b[37m\u001b[0m \u001b[1m0s\u001b[0m 3ms/step - accuracy: 0.5002 - loss: 9.6374 - val_accuracy: 0.3750 - val_loss: 15.7053\n",
      "Epoch 41/50\n",
      "\u001b[1m18/18\u001b[0m \u001b[32m━━━━━━━━━━━━━━━━━━━━\u001b[0m\u001b[37m\u001b[0m \u001b[1m0s\u001b[0m 3ms/step - accuracy: 0.5143 - loss: 7.9470 - val_accuracy: 0.4531 - val_loss: 11.4776\n",
      "Epoch 42/50\n",
      "\u001b[1m18/18\u001b[0m \u001b[32m━━━━━━━━━━━━━━━━━━━━\u001b[0m\u001b[37m\u001b[0m \u001b[1m0s\u001b[0m 3ms/step - accuracy: 0.5466 - loss: 5.1310 - val_accuracy: 0.4531 - val_loss: 10.1052\n",
      "Epoch 43/50\n",
      "\u001b[1m18/18\u001b[0m \u001b[32m━━━━━━━━━━━━━━━━━━━━\u001b[0m\u001b[37m\u001b[0m \u001b[1m0s\u001b[0m 3ms/step - accuracy: 0.5286 - loss: 8.8122 - val_accuracy: 0.4062 - val_loss: 12.2737\n",
      "Epoch 44/50\n",
      "\u001b[1m18/18\u001b[0m \u001b[32m━━━━━━━━━━━━━━━━━━━━\u001b[0m\u001b[37m\u001b[0m \u001b[1m0s\u001b[0m 3ms/step - accuracy: 0.5498 - loss: 7.4397 - val_accuracy: 0.5469 - val_loss: 8.9584\n",
      "Epoch 45/50\n",
      "\u001b[1m18/18\u001b[0m \u001b[32m━━━━━━━━━━━━━━━━━━━━\u001b[0m\u001b[37m\u001b[0m \u001b[1m0s\u001b[0m 3ms/step - accuracy: 0.5929 - loss: 5.4191 - val_accuracy: 0.4688 - val_loss: 8.9951\n",
      "Epoch 46/50\n",
      "\u001b[1m18/18\u001b[0m \u001b[32m━━━━━━━━━━━━━━━━━━━━\u001b[0m\u001b[37m\u001b[0m \u001b[1m0s\u001b[0m 3ms/step - accuracy: 0.5773 - loss: 4.6661 - val_accuracy: 0.5312 - val_loss: 5.5276\n",
      "Epoch 47/50\n",
      "\u001b[1m18/18\u001b[0m \u001b[32m━━━━━━━━━━━━━━━━━━━━\u001b[0m\u001b[37m\u001b[0m \u001b[1m0s\u001b[0m 3ms/step - accuracy: 0.5493 - loss: 4.3963 - val_accuracy: 0.5781 - val_loss: 4.1797\n",
      "Epoch 48/50\n",
      "\u001b[1m18/18\u001b[0m \u001b[32m━━━━━━━━━━━━━━━━━━━━\u001b[0m\u001b[37m\u001b[0m \u001b[1m0s\u001b[0m 3ms/step - accuracy: 0.5812 - loss: 1.8282 - val_accuracy: 0.5781 - val_loss: 3.1833\n",
      "Epoch 49/50\n",
      "\u001b[1m18/18\u001b[0m \u001b[32m━━━━━━━━━━━━━━━━━━━━\u001b[0m\u001b[37m\u001b[0m \u001b[1m0s\u001b[0m 3ms/step - accuracy: 0.5772 - loss: 1.4060 - val_accuracy: 0.5938 - val_loss: 2.1873\n",
      "Epoch 50/50\n",
      "\u001b[1m18/18\u001b[0m \u001b[32m━━━━━━━━━━━━━━━━━━━━\u001b[0m\u001b[37m\u001b[0m \u001b[1m0s\u001b[0m 5ms/step - accuracy: 0.6140 - loss: 1.2286 - val_accuracy: 0.5781 - val_loss: 2.0662\n"
     ]
    }
   ],
   "source": [
    "checkpoint_filepath = 'checkpoint/mlp.keras'\n",
    "\n",
    "# Crear checkpoint\n",
    "model_checkpoint_callback = ModelCheckpoint(\n",
    "    filepath=checkpoint_filepath,\n",
    "    monitor='val_loss',\n",
    "    mode='min',\n",
    "    save_best_only=True\n",
    ")\n",
    "\n",
    "# Hiperparámetros\n",
    "batch_size = 30\n",
    "learning_rate = 1e-0\n",
    "epochs = 50\n",
    "#dropout = 0.5\n",
    "weight_decay = 1e-0\n",
    "\n",
    "\n",
    "\n",
    "# Compilamos el modelo\n",
    "optimizador = Adam(learning_rate=learning_rate)\n",
    "#optimizador = AdamW(learning_rate=learning_rate, weight_decay=weight_decay)\n",
    "model_LSTM.compile(optimizer= optimizador,\n",
    "                  #loss='categorical_crossentropy',\n",
    "                  loss='sparse_categorical_crossentropy',\n",
    "                  metrics=[\"accuracy\"])\n",
    "\n",
    "# Entrenar\n",
    "LSTM_output = model_LSTM.fit(\n",
    "    X_train, y_train,\n",
    "    validation_data=(X_val, y_val),\n",
    "    epochs=epochs, batch_size=batch_size,\n",
    "    callbacks=[model_checkpoint_callback]\n",
    ")"
   ]
  },
  {
   "cell_type": "code",
   "execution_count": 38,
   "id": "0e15425a",
   "metadata": {},
   "outputs": [],
   "source": [
    "def learning_curve(history, key='loss', title='Loss curve'):\n",
    "    epochs = np.arange(1, len(history.history[key]) + 1)\n",
    "\n",
    "    plt.figure(figsize=(20, 4))\n",
    "    plt.subplot(1, 3, 1)\n",
    "    plt.plot(epochs, history.history[key], label='Training')\n",
    "    plt.plot(epochs, history.history['val_' + key], label='Validation')\n",
    "    plt.title(title)\n",
    "    plt.xlabel('Epochs')\n",
    "    plt.ylabel(key.title())\n",
    "    plt.legend()"
   ]
  },
  {
   "cell_type": "code",
   "execution_count": 39,
   "id": "3107456e",
   "metadata": {},
   "outputs": [
    {
     "data": {
      "image/png": "[encoded data removed]",
      "text/plain": [
       "<Figure size 2000x400 with 1 Axes>"
      ]
     },
     "metadata": {},
     "output_type": "display_data"
    }
   ],
   "source": [
    "learning_curve(LSTM_output, 'loss')"
   ]
  },
  {
   "cell_type": "code",
   "execution_count": 40,
   "id": "e2a93f0a",
   "metadata": {},
   "outputs": [],
   "source": [
    "# Cargar pesos del mejor modelo\n",
    "model_LSTM.load_weights(checkpoint_filepath)"
   ]
  },
  {
   "cell_type": "code",
   "execution_count": 41,
   "id": "b3c80024",
   "metadata": {},
   "outputs": [
    {
     "name": "stdout",
     "output_type": "stream",
     "text": [
      "\u001b[1m2/2\u001b[0m \u001b[32m━━━━━━━━━━━━━━━━━━━━\u001b[0m\u001b[37m\u001b[0m \u001b[1m0s\u001b[0m 2ms/step  \n"
     ]
    }
   ],
   "source": [
    "probabilidades_val = model_LSTM.predict(X_val)"
   ]
  },
  {
   "cell_type": "code",
   "execution_count": 42,
   "id": "b20962dc",
   "metadata": {},
   "outputs": [
    {
     "name": "stdout",
     "output_type": "stream",
     "text": [
      "[[1.05375514e-35 5.09026868e-04 1.14363529e-01 4.22576249e-01\n",
      "  4.62551236e-01]\n",
      " [1.03945656e-35 5.07182267e-04 1.14339128e-01 4.22675520e-01\n",
      "  4.62478131e-01]\n",
      " [1.05375514e-35 5.09026868e-04 1.14363529e-01 4.22576249e-01\n",
      "  4.62551236e-01]\n",
      " [1.05375514e-35 5.09026868e-04 1.14363529e-01 4.22576249e-01\n",
      "  4.62551236e-01]\n",
      " [1.05375514e-35 5.09026868e-04 1.14363529e-01 4.22576249e-01\n",
      "  4.62551236e-01]\n",
      " [9.93120033e-36 5.01071743e-04 1.14257932e-01 4.23006624e-01\n",
      "  4.62234318e-01]\n",
      " [1.05375514e-35 5.09026868e-04 1.14363529e-01 4.22576249e-01\n",
      "  4.62551236e-01]\n",
      " [9.99988317e-01 1.16960155e-05 1.25638512e-27 3.01683517e-33\n",
      "  1.61243166e-33]\n",
      " [1.00000000e+00 2.37965555e-36 0.00000000e+00 0.00000000e+00\n",
      "  0.00000000e+00]\n",
      " [1.00000000e+00 0.00000000e+00 0.00000000e+00 0.00000000e+00\n",
      "  0.00000000e+00]\n",
      " [1.00000000e+00 0.00000000e+00 0.00000000e+00 0.00000000e+00\n",
      "  0.00000000e+00]\n",
      " [1.00000000e+00 4.73850628e-29 0.00000000e+00 0.00000000e+00\n",
      "  0.00000000e+00]\n",
      " [1.05375514e-35 5.09026868e-04 1.14363529e-01 4.22576249e-01\n",
      "  4.62551236e-01]\n",
      " [0.00000000e+00 1.82453050e-06 7.83483014e-02 5.76528847e-01\n",
      "  3.45120996e-01]\n",
      " [1.05375514e-35 5.09026868e-04 1.14363529e-01 4.22576249e-01\n",
      "  4.62551236e-01]\n",
      " [0.00000000e+00 1.90782998e-06 7.86114782e-02 5.75339377e-01\n",
      "  3.46047252e-01]\n",
      " [1.05375514e-35 5.09026868e-04 1.14363529e-01 4.22576249e-01\n",
      "  4.62551236e-01]\n",
      " [1.05375514e-35 5.09026868e-04 1.14363529e-01 4.22576249e-01\n",
      "  4.62551236e-01]\n",
      " [1.05375514e-35 5.09026868e-04 1.14363529e-01 4.22576249e-01\n",
      "  4.62551236e-01]\n",
      " [1.05375514e-35 5.09026868e-04 1.14363529e-01 4.22576249e-01\n",
      "  4.62551236e-01]\n",
      " [0.00000000e+00 1.82453050e-06 7.83483014e-02 5.76528847e-01\n",
      "  3.45120996e-01]\n",
      " [0.00000000e+00 7.63158596e-07 7.33084753e-02 5.99516988e-01\n",
      "  3.27173799e-01]\n",
      " [0.00000000e+00 7.63158596e-07 7.33084753e-02 5.99516988e-01\n",
      "  3.27173799e-01]\n",
      " [0.00000000e+00 8.41835979e-04 6.63827360e-02 8.53652120e-01\n",
      "  7.91234002e-02]\n",
      " [1.05375514e-35 5.09026868e-04 1.14363529e-01 4.22576249e-01\n",
      "  4.62551236e-01]\n",
      " [1.05375514e-35 5.09026868e-04 1.14363529e-01 4.22576249e-01\n",
      "  4.62551236e-01]\n",
      " [1.00000000e+00 3.71633765e-11 4.02537336e-35 0.00000000e+00\n",
      "  0.00000000e+00]\n",
      " [1.00000000e+00 0.00000000e+00 0.00000000e+00 0.00000000e+00\n",
      "  0.00000000e+00]\n",
      " [1.00000000e+00 0.00000000e+00 0.00000000e+00 0.00000000e+00\n",
      "  0.00000000e+00]\n",
      " [1.00000000e+00 1.42765458e-16 0.00000000e+00 0.00000000e+00\n",
      "  0.00000000e+00]\n",
      " [1.00000000e+00 0.00000000e+00 0.00000000e+00 0.00000000e+00\n",
      "  0.00000000e+00]\n",
      " [4.94584761e-16 1.00000000e+00 1.03917327e-15 3.18112560e-21\n",
      "  5.08142442e-22]\n",
      " [1.23614274e-34 2.89602991e-04 4.21701699e-01 1.44514412e-01\n",
      "  4.33494210e-01]\n",
      " [3.51898684e-11 1.00000000e+00 2.16481767e-13 1.02672569e-15\n",
      "  5.44477225e-16]\n",
      " [7.16991350e-03 9.92830098e-01 1.56258101e-12 2.37186750e-21\n",
      "  9.46199786e-21]\n",
      " [9.40510027e-24 9.99999881e-01 2.08489794e-08 7.34622105e-08\n",
      "  3.85121179e-09]\n",
      " [8.87502015e-01 1.12497985e-01 1.14610505e-24 2.23083746e-32\n",
      "  1.04822863e-31]\n",
      " [9.99188840e-01 8.11142847e-04 7.59502018e-17 2.20845268e-20\n",
      "  4.00395405e-19]\n",
      " [0.00000000e+00 2.68812106e-09 3.04304481e-01 6.27687871e-01\n",
      "  6.80075958e-02]\n",
      " [4.41528272e-08 9.99995112e-01 1.14669444e-06 3.45452293e-07\n",
      "  3.38823747e-06]\n",
      " [1.00000000e+00 1.14473874e-25 0.00000000e+00 0.00000000e+00\n",
      "  0.00000000e+00]\n",
      " [3.18670828e-07 9.99997258e-01 5.87138459e-07 1.62480120e-07\n",
      "  1.72245177e-06]\n",
      " [7.63883122e-07 9.99999285e-01 1.53722046e-09 1.03427802e-12\n",
      "  1.76453699e-10]\n",
      " [3.58813109e-12 1.00000000e+00 9.44856693e-11 8.33586553e-15\n",
      "  1.48165324e-14]\n",
      " [1.00000000e+00 0.00000000e+00 0.00000000e+00 0.00000000e+00\n",
      "  0.00000000e+00]\n",
      " [1.00000000e+00 0.00000000e+00 0.00000000e+00 0.00000000e+00\n",
      "  0.00000000e+00]\n",
      " [1.00000000e+00 0.00000000e+00 0.00000000e+00 0.00000000e+00\n",
      "  0.00000000e+00]\n",
      " [1.00000000e+00 0.00000000e+00 0.00000000e+00 0.00000000e+00\n",
      "  0.00000000e+00]\n",
      " [1.00000000e+00 0.00000000e+00 0.00000000e+00 0.00000000e+00\n",
      "  0.00000000e+00]\n",
      " [1.05375514e-35 5.09026868e-04 1.14363529e-01 4.22576249e-01\n",
      "  4.62551236e-01]\n",
      " [0.00000000e+00 1.82453050e-06 7.83483014e-02 5.76528847e-01\n",
      "  3.45120996e-01]\n",
      " [1.31912980e-37 1.58609633e-04 1.06558472e-01 4.54559088e-01\n",
      "  4.38723922e-01]\n",
      " [0.00000000e+00 1.11134852e-06 7.54594281e-02 5.89659512e-01\n",
      "  3.34879965e-01]\n",
      " [1.05375514e-35 5.09026868e-04 1.14363529e-01 4.22576249e-01\n",
      "  4.62551236e-01]\n",
      " [1.05375514e-35 5.09026868e-04 1.14363529e-01 4.22576249e-01\n",
      "  4.62551236e-01]\n",
      " [0.00000000e+00 6.59128136e-06 8.60892683e-02 5.41947603e-01\n",
      "  3.71956557e-01]\n",
      " [0.00000000e+00 9.17230864e-07 7.43566379e-02 5.94705343e-01\n",
      "  3.30937058e-01]\n",
      " [0.00000000e+00 7.63161268e-07 7.33087361e-02 5.99516809e-01\n",
      "  3.27173710e-01]\n",
      " [0.00000000e+00 7.63158596e-07 7.33084753e-02 5.99516988e-01\n",
      "  3.27173799e-01]\n",
      " [1.05375514e-35 5.09026868e-04 1.14363529e-01 4.22576249e-01\n",
      "  4.62551236e-01]\n",
      " [1.05375514e-35 5.09026868e-04 1.14363529e-01 4.22576249e-01\n",
      "  4.62551236e-01]\n",
      " [1.05375514e-35 5.09026868e-04 1.14363529e-01 4.22576249e-01\n",
      "  4.62551236e-01]\n",
      " [1.05375514e-35 5.09026868e-04 1.14363529e-01 4.22576249e-01\n",
      "  4.62551236e-01]\n",
      " [1.00000000e+00 3.24215793e-11 2.94269026e-35 0.00000000e+00\n",
      "  0.00000000e+00]]\n",
      "[4 4 4 4 4 4 4 0 0 0 0 0 4 3 4 3 4 4 4 4 3 3 3 3 4 4 0 0 0 0 0 1 4 1 1 1 0\n",
      " 0 3 1 0 1 1 1 0 0 0 0 0 4 3 3 3 4 4 3 3 3 3 4 4 4 4 0]\n",
      "[2 2 2 2 2 2 2 0 0 0 0 0 3 3 3 3 3 3 3 3 3 3 3 3 3 3 0 0 0 0 0 1 1 1 1 1 1\n",
      " 1 1 1 1 1 1 1 0 0 0 0 0 4 4 4 4 4 4 4 4 4 4 4 4 4 4 0]\n"
     ]
    }
   ],
   "source": [
    "print(probabilidades_val)\n",
    "y_val_pred = probabilidades_val.argmax(1)\n",
    "print(y_val_pred)\n",
    "print(y_val)\n",
    "#etiquetas_val = y_val.argmax(1)\n",
    "#print(etiquetas_val)"
   ]
  },
  {
   "cell_type": "code",
   "execution_count": 43,
   "id": "2ecf0e56",
   "metadata": {},
   "outputs": [
    {
     "name": "stdout",
     "output_type": "stream",
     "text": [
      "              precision    recall  f1-score   support\n",
      "\n",
      "           0       0.84      1.00      0.91        16\n",
      "           1       1.00      0.62      0.76        13\n",
      "           2       0.00      0.00      0.00         7\n",
      "           3       0.43      0.43      0.43        14\n",
      "           4       0.30      0.50      0.38        14\n",
      "\n",
      "    accuracy                           0.58        64\n",
      "   macro avg       0.52      0.51      0.50        64\n",
      "weighted avg       0.57      0.58      0.56        64\n",
      "\n"
     ]
    }
   ],
   "source": [
    "#print(classification_report(etiquetas_val, y_val_pred, target_names=CLASES_KEY))\n",
    "print(classification_report(y_val, y_val_pred, target_names=CLASES_KEY))"
   ]
  },
  {
   "cell_type": "code",
   "execution_count": 44,
   "id": "7c3dcf49",
   "metadata": {},
   "outputs": [],
   "source": [
    "def visualizar_matriz_confusion(etiquetas_reales, etiquetas_predichas, class_names, titulo):\n",
    "    # Calcular matriz de confusión\n",
    "    cm = confusion_matrix(etiquetas_reales, etiquetas_predichas)\n",
    "\n",
    "    # Visualizar matriz de confusión\n",
    "    plt.figure(figsize=(7, 5))\n",
    "    sns.heatmap(cm, annot=True, fmt='d', cmap='Blues', xticklabels=class_names, yticklabels=class_names)\n",
    "    plt.title(titulo)\n",
    "    plt.xlabel('Predicción')\n",
    "    plt.ylabel('Real')\n",
    "    plt.show()"
   ]
  },
  {
   "cell_type": "code",
   "execution_count": 45,
   "id": "1e8d4132",
   "metadata": {},
   "outputs": [
    {
     "data": {
      "image/png": "[encoded data removed]",
      "text/plain": [
       "<Figure size 700x500 with 2 Axes>"
      ]
     },
     "metadata": {},
     "output_type": "display_data"
    }
   ],
   "source": [
    "#visualizar_matriz_confusion(etiquetas_val, y_val_pred, CLASES_KEY, 'Matriz de confusión de validación')\n",
    "visualizar_matriz_confusion(y_val, y_val_pred, CLASES_KEY, 'Matriz de confusión de validación')"
   ]
  },
  {
   "cell_type": "code",
   "execution_count": null,
   "id": "4aa3778e",
   "metadata": {},
   "outputs": [],
   "source": []
  },
  {
   "cell_type": "code",
   "execution_count": null,
   "id": "c855344e",
   "metadata": {},
   "outputs": [],
   "source": []
  },
  {
   "cell_type": "code",
   "execution_count": null,
   "id": "cfdab48a",
   "metadata": {},
   "outputs": [],
   "source": []
  },
  {
   "cell_type": "code",
   "execution_count": null,
   "id": "8b81a9a9",
   "metadata": {},
   "outputs": [],
   "source": []
  },
  {
   "cell_type": "code",
   "execution_count": null,
   "id": "84b623d6",
   "metadata": {},
   "outputs": [],
   "source": []
  },
  {
   "cell_type": "code",
   "execution_count": null,
   "id": "f1f8b877",
   "metadata": {},
   "outputs": [],
   "source": []
  },
  {
   "cell_type": "code",
   "execution_count": null,
   "id": "96825c6b",
   "metadata": {},
   "outputs": [],
   "source": []
  },
  {
   "cell_type": "code",
   "execution_count": null,
   "id": "d8d9d910",
   "metadata": {},
   "outputs": [],
   "source": []
  },
  {
   "cell_type": "code",
   "execution_count": null,
   "id": "97af2049",
   "metadata": {},
   "outputs": [],
   "source": []
  },
  {
   "cell_type": "code",
   "execution_count": null,
   "id": "48b0ddfe",
   "metadata": {},
   "outputs": [],
   "source": []
  },
  {
   "cell_type": "code",
   "execution_count": null,
   "id": "91a0048d",
   "metadata": {},
   "outputs": [],
   "source": []
  },
  {
   "cell_type": "code",
   "execution_count": null,
   "id": "a2bdb610",
   "metadata": {},
   "outputs": [],
   "source": []
  },
  {
   "cell_type": "code",
   "execution_count": null,
   "id": "f6353d80",
   "metadata": {},
   "outputs": [],
   "source": []
  },
  {
   "cell_type": "code",
   "execution_count": null,
   "id": "a4155560",
   "metadata": {},
   "outputs": [],
   "source": []
  }
 ],
 "metadata": {
  "kernelspec": {
   "display_name": "Python 3 (ipykernel)",
   "language": "python",
   "name": "python3"
  },
  "language_info": {
   "codemirror_mode": {
    "name": "ipython",
    "version": 3
   },
   "file_extension": ".py",
   "mimetype": "text/x-python",
   "name": "python",
   "nbconvert_exporter": "python",
   "pygments_lexer": "ipython3",
   "version": "3.11.5"
  }
 },
 "nbformat": 4,
 "nbformat_minor": 5
}
