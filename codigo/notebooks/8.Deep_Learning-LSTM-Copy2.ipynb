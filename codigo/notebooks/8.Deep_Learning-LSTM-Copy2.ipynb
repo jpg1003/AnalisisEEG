{
 "cells": [
  {
   "cell_type": "markdown",
   "id": "8045039e",
   "metadata": {},
   "source": [
    "<img style=\"float:left\" width=\"70%\" src=\"../../documentacion/imagenes/escudo_COLOR_1L_DCHA.png\">\n",
    "<img style=\"float:right\" width=\"10%\" src=\"../../documentacion/imagenes/PythonLogo.svg\">\n",
    "<br style=\"clear:both;\">\n",
    "\n",
    "\n",
    "<h2 style=\"display: inline-block; padding: 4mm; padding-left: 2em; background-color: navy; line-height: 1.3em; color: white; border-radius: 10px;\">8. Deep Learning LSTM</h2>\n",
    "\n",
    "\n",
    " \n",
    "## Estudiante:\n",
    "\n",
    "- Jose Luis Perez Gomez"
   ]
  },
  {
   "cell_type": "code",
   "execution_count": 24,
   "id": "af97b04a",
   "metadata": {},
   "outputs": [],
   "source": [
    "%run 3.Importaciones.ipynb\n",
    "%run 4.Variables_Clases.ipynb"
   ]
  },
  {
   "cell_type": "code",
   "execution_count": 25,
   "id": "41199a17",
   "metadata": {},
   "outputs": [],
   "source": [
    "experimento_1_nor_separado = pd.read_csv('../datos/experimento_stscaler_separado1.csv', sep=',')\n",
    "experimento_2_nor_separado = pd.read_csv('../datos/experimento_stscaler_separado2.csv', sep=',')\n",
    "experimento_3_nor_separado = pd.read_csv('../datos/experimento_stscaler_separado3.csv', sep=',')\n",
    "experimento_4_nor_separado = pd.read_csv('../datos/experimento_stscaler_separado4.csv', sep=',')\n",
    "experimento_all_nor = pd.read_csv('../datos/experimento_stscaler_all.csv', sep=',')\n",
    "experimento_all_nor_separado = pd.read_csv('../datos/experimento_stscaler_separado_all.csv', sep=',')\n",
    "\n",
    "experimento_1_nor_separado = experimento_1_nor_separado.drop(['Timestamp'], axis=1)\n",
    "experimento_2_nor_separado = experimento_2_nor_separado.drop(['Timestamp'], axis=1)\n",
    "experimento_3_nor_separado = experimento_3_nor_separado.drop(['Timestamp'], axis=1)\n",
    "experimento_4_nor_separado = experimento_4_nor_separado.drop(['Timestamp'], axis=1)\n",
    "\n",
    "experimentos_nor = [experimento_1_nor_separado, experimento_2_nor_separado, experimento_3_nor_separado, experimento_4_nor_separado, experimento_all_nor, experimento_all_nor_separado ]\n"
   ]
  },
  {
   "cell_type": "code",
   "execution_count": null,
   "id": "4f190c3a",
   "metadata": {},
   "outputs": [],
   "source": []
  },
  {
   "cell_type": "code",
   "execution_count": null,
   "id": "fcd15619",
   "metadata": {},
   "outputs": [],
   "source": []
  },
  {
   "cell_type": "markdown",
   "id": "09831c43",
   "metadata": {},
   "source": [
    "# LSTM (Long short-term memory)"
   ]
  },
  {
   "cell_type": "code",
   "execution_count": null,
   "id": "6b74b62d",
   "metadata": {},
   "outputs": [],
   "source": []
  },
  {
   "cell_type": "code",
   "execution_count": 26,
   "id": "c7099f73",
   "metadata": {},
   "outputs": [],
   "source": [
    "train_datos, val_datos, test_datos = dividir_datos_deep(experimento_all_nor_separado)"
   ]
  },
  {
   "cell_type": "code",
   "execution_count": 27,
   "id": "3c280dfb",
   "metadata": {},
   "outputs": [
    {
     "name": "stdout",
     "output_type": "stream",
     "text": [
      "train_datos: (542, 11)\n",
      "val_datos: (67, 11)\n",
      "test_datos: (69, 11)\n"
     ]
    }
   ],
   "source": [
    "print(f'train_datos: {train_datos.shape}')\n",
    "print(f'val_datos: {val_datos.shape}')\n",
    "print(f'test_datos: {test_datos.shape}')"
   ]
  },
  {
   "cell_type": "code",
   "execution_count": 28,
   "id": "de4b798d",
   "metadata": {},
   "outputs": [
    {
     "data": {
      "text/plain": [
       "Key\n",
       "0.0    149\n",
       "1.0    112\n",
       "4.0    102\n",
       "3.0     90\n",
       "2.0     89\n",
       "Name: count, dtype: int64"
      ]
     },
     "execution_count": 28,
     "metadata": {},
     "output_type": "execute_result"
    }
   ],
   "source": [
    "train_datos['Key'].value_counts()"
   ]
  },
  {
   "cell_type": "code",
   "execution_count": 29,
   "id": "ed5d5419",
   "metadata": {},
   "outputs": [
    {
     "data": {
      "text/plain": [
       "Key\n",
       "0.0    17\n",
       "3.0    14\n",
       "4.0    14\n",
       "1.0    13\n",
       "2.0     9\n",
       "Name: count, dtype: int64"
      ]
     },
     "execution_count": 29,
     "metadata": {},
     "output_type": "execute_result"
    }
   ],
   "source": [
    "val_datos['Key'].value_counts()"
   ]
  },
  {
   "cell_type": "code",
   "execution_count": 30,
   "id": "f9663e42",
   "metadata": {
    "scrolled": true
   },
   "outputs": [
    {
     "data": {
      "text/plain": [
       "Key\n",
       "0.0    20\n",
       "2.0    16\n",
       "1.0    15\n",
       "4.0    11\n",
       "3.0     7\n",
       "Name: count, dtype: int64"
      ]
     },
     "execution_count": 30,
     "metadata": {},
     "output_type": "execute_result"
    }
   ],
   "source": [
    "test_datos['Key'].value_counts()"
   ]
  },
  {
   "cell_type": "code",
   "execution_count": 31,
   "id": "a5688c88",
   "metadata": {},
   "outputs": [],
   "source": [
    "\n",
    "def preparar_ventanas(datos, target, window_size=WINDOWS_SIZE, overlap=OVERLAP, target_type=TARGET_TYPE):\n",
    "    \n",
    "    if window_size <= overlap:\n",
    "        raise \"Overlap no puede ser mayor que window_size\"\n",
    "    X = []\n",
    "    y = []\n",
    "    for i in range(0, len(datos) - window_size, window_size - overlap):\n",
    "        X.append(datos[i:i+window_size])\n",
    "        window_targets = target[i:i+window_size].astype(int)\n",
    "        y_true = window_targets[-1]\n",
    "        y.append(y_true)\n",
    "\n",
    "    #y_one_hot = tf.keras.utils.to_categorical(np.array(y), num_classes = 5)\n",
    "    # Key = [0, 1, 2, 3, 4, 0]\n",
    "    # One-hot [\n",
    "    #    [0, 1, 2, 3, 4]\n",
    "    #     1  0  0  0  0\n",
    "    #     0  1  0  0  0\n",
    "    #     0  0  1  0  0\n",
    "    #]\n",
    "    #return np.array(X), y_one_hot\n",
    "    return np.array(X), np.array(y)"
   ]
  },
  {
   "cell_type": "code",
   "execution_count": 32,
   "id": "7d4a3ecd",
   "metadata": {},
   "outputs": [
    {
     "ename": "IndexError",
     "evalue": "only integers, slices (`:`), ellipsis (`...`), numpy.newaxis (`None`) and integer or boolean arrays are valid indices",
     "output_type": "error",
     "traceback": [
      "\u001b[1;31m---------------------------------------------------------------------------\u001b[0m",
      "\u001b[1;31mIndexError\u001b[0m                                Traceback (most recent call last)",
      "Cell \u001b[1;32mIn[32], line 2\u001b[0m\n\u001b[0;32m      1\u001b[0m \u001b[38;5;66;03m#columns = train_datos.columns[train_datos.columns != TARGET]\u001b[39;00m\n\u001b[1;32m----> 2\u001b[0m columns \u001b[38;5;241m=\u001b[39m train_datos\u001b[38;5;241m.\u001b[39mcolumns[train_datos\u001b[38;5;241m.\u001b[39mcolumns]\n",
      "File \u001b[1;32m~\\anaconda3\\Lib\\site-packages\\pandas\\core\\indexes\\base.py:5196\u001b[0m, in \u001b[0;36mIndex.__getitem__\u001b[1;34m(self, key)\u001b[0m\n\u001b[0;32m   5193\u001b[0m     \u001b[38;5;28;01melse\u001b[39;00m:\n\u001b[0;32m   5194\u001b[0m         key \u001b[38;5;241m=\u001b[39m np\u001b[38;5;241m.\u001b[39masarray(key, dtype\u001b[38;5;241m=\u001b[39m\u001b[38;5;28mbool\u001b[39m)\n\u001b[1;32m-> 5196\u001b[0m result \u001b[38;5;241m=\u001b[39m getitem(key)\n\u001b[0;32m   5197\u001b[0m \u001b[38;5;66;03m# Because we ruled out integer above, we always get an arraylike here\u001b[39;00m\n\u001b[0;32m   5198\u001b[0m \u001b[38;5;28;01mif\u001b[39;00m result\u001b[38;5;241m.\u001b[39mndim \u001b[38;5;241m>\u001b[39m \u001b[38;5;241m1\u001b[39m:\n",
      "\u001b[1;31mIndexError\u001b[0m: only integers, slices (`:`), ellipsis (`...`), numpy.newaxis (`None`) and integer or boolean arrays are valid indices"
     ]
    }
   ],
   "source": [
    "#columns = train_datos.columns[train_datos.columns != TARGET]\n",
    "columns = train_datos.columns[train_datos.columns]\n",
    "\n"
   ]
  },
  {
   "cell_type": "code",
   "execution_count": null,
   "id": "e929694b",
   "metadata": {},
   "outputs": [],
   "source": []
  },
  {
   "cell_type": "code",
   "execution_count": null,
   "id": "ce41f475",
   "metadata": {},
   "outputs": [],
   "source": [
    "X_train, y_train = preparar_ventanas(train_datos[columns].values, train_datos[TARGET].values, WINDOWS_SIZE, OVERLAP, TARGET_TYPE)\n",
    "X_val, y_val = preparar_ventanas(val_datos[columns].values, val_datos[TARGET].values, WINDOWS_SIZE, OVERLAP, TARGET_TYPE)\n",
    "X_test, y_test = preparar_ventanas(test_datos[columns].values, test_datos[TARGET].values, WINDOWS_SIZE, OVERLAP, TARGET_TYPE)"
   ]
  },
  {
   "cell_type": "code",
   "execution_count": null,
   "id": "af90c208",
   "metadata": {},
   "outputs": [],
   "source": []
  },
  {
   "cell_type": "code",
   "execution_count": null,
   "id": "52bec6e4",
   "metadata": {},
   "outputs": [],
   "source": [
    "print(f'X_train: {X_train.shape}')\n",
    "print(f'X_val: {X_val.shape}')\n",
    "print(f'X_test: {X_test.shape}')\n",
    "print(f'y_train: {y_train.shape}')\n",
    "print(f'y_val: {y_val.shape}')\n",
    "print(f'y_test: {y_test.shape}')\n",
    "\n",
    "print(y_val)\n"
   ]
  },
  {
   "cell_type": "code",
   "execution_count": null,
   "id": "24bd83d2",
   "metadata": {},
   "outputs": [],
   "source": [
    "# Definición del modelo\n",
    "timesteps = 30\n",
    "features = 10\n",
    "\n",
    "def crear_LSTM(input_size, num_classes):\n",
    "    model_LSTM = Sequential()\n",
    "    model_LSTM.add(LSTM(units=30, input_shape=(timesteps, features), return_sequences=False))\n",
    "    model_LSTM.add(Dense(30))\n",
    "    model_LSTM.add(Dense(num_classes, activation='softmax'))\n",
    "                        \n",
    "    return model_LSTM\n",
    "\n",
    "\n"
   ]
  },
  {
   "cell_type": "code",
   "execution_count": null,
   "id": "deffa6fe",
   "metadata": {},
   "outputs": [],
   "source": [
    "num_classes = 5\n",
    "input_size = X_train.shape[1:]\n",
    "model_LSTM = crear_LSTM(input_size, num_classes)\n",
    "model_LSTM.summary()\n"
   ]
  },
  {
   "cell_type": "code",
   "execution_count": null,
   "id": "f3c8682d",
   "metadata": {},
   "outputs": [],
   "source": [
    "checkpoint_filepath = 'checkpoint/mlp.keras'\n",
    "\n",
    "# Crear checkpoint\n",
    "model_checkpoint_callback = ModelCheckpoint(\n",
    "    filepath=checkpoint_filepath,\n",
    "    monitor='val_loss',\n",
    "    mode='min',\n",
    "    save_best_only=True\n",
    ")\n",
    "\n",
    "# Hiperparámetros\n",
    "batch_size = 30\n",
    "learning_rate = 1e-0\n",
    "epochs = 50\n",
    "#dropout = 0.5\n",
    "weight_decay = 1e-0\n",
    "\n",
    "\n",
    "\n",
    "# Compilamos el modelo\n",
    "optimizador = Adam(learning_rate=learning_rate)\n",
    "#optimizador = AdamW(learning_rate=learning_rate, weight_decay=weight_decay)\n",
    "model_LSTM.compile(optimizer= optimizador,\n",
    "                  #loss='categorical_crossentropy',\n",
    "                  loss='sparse_categorical_crossentropy',\n",
    "                  metrics=[\"accuracy\"])\n",
    "\n",
    "# Entrenar\n",
    "LSTM_output = model_LSTM.fit(\n",
    "    X_train, y_train,\n",
    "    validation_data=(X_val, y_val),\n",
    "    epochs=epochs, batch_size=batch_size,\n",
    "    callbacks=[model_checkpoint_callback]\n",
    ")"
   ]
  },
  {
   "cell_type": "code",
   "execution_count": null,
   "id": "0e15425a",
   "metadata": {},
   "outputs": [],
   "source": [
    "def learning_curve(history, key='loss', title='Loss curve'):\n",
    "    epochs = np.arange(1, len(history.history[key]) + 1)\n",
    "\n",
    "    plt.figure(figsize=(20, 4))\n",
    "    plt.subplot(1, 3, 1)\n",
    "    plt.plot(epochs, history.history[key], label='Training')\n",
    "    plt.plot(epochs, history.history['val_' + key], label='Validation')\n",
    "    plt.title(title)\n",
    "    plt.xlabel('Epochs')\n",
    "    plt.ylabel(key.title())\n",
    "    plt.legend()"
   ]
  },
  {
   "cell_type": "code",
   "execution_count": null,
   "id": "3107456e",
   "metadata": {},
   "outputs": [],
   "source": [
    "learning_curve(LSTM_output, 'loss')"
   ]
  },
  {
   "cell_type": "code",
   "execution_count": null,
   "id": "e2a93f0a",
   "metadata": {},
   "outputs": [],
   "source": [
    "# Cargar pesos del mejor modelo\n",
    "model_LSTM.load_weights(checkpoint_filepath)"
   ]
  },
  {
   "cell_type": "code",
   "execution_count": null,
   "id": "b3c80024",
   "metadata": {},
   "outputs": [],
   "source": [
    "probabilidades_val = model_LSTM.predict(X_val)"
   ]
  },
  {
   "cell_type": "code",
   "execution_count": null,
   "id": "b20962dc",
   "metadata": {},
   "outputs": [],
   "source": [
    "print(probabilidades_val)\n",
    "y_val_pred = probabilidades_val.argmax(1)\n",
    "print(y_val_pred)\n",
    "print(y_val)\n",
    "#etiquetas_val = y_val.argmax(1)\n",
    "#print(etiquetas_val)"
   ]
  },
  {
   "cell_type": "code",
   "execution_count": null,
   "id": "2ecf0e56",
   "metadata": {},
   "outputs": [],
   "source": [
    "#print(classification_report(etiquetas_val, y_val_pred, target_names=CLASES_KEY))\n",
    "print(classification_report(y_val, y_val_pred, target_names=CLASES_KEY))"
   ]
  },
  {
   "cell_type": "code",
   "execution_count": null,
   "id": "7c3dcf49",
   "metadata": {},
   "outputs": [],
   "source": [
    "def visualizar_matriz_confusion(etiquetas_reales, etiquetas_predichas, class_names, titulo):\n",
    "    # Calcular matriz de confusión\n",
    "    cm = confusion_matrix(etiquetas_reales, etiquetas_predichas)\n",
    "\n",
    "    # Visualizar matriz de confusión\n",
    "    plt.figure(figsize=(7, 5))\n",
    "    sns.heatmap(cm, annot=True, fmt='d', cmap='Blues', xticklabels=class_names, yticklabels=class_names)\n",
    "    plt.title(titulo)\n",
    "    plt.xlabel('Predicción')\n",
    "    plt.ylabel('Real')\n",
    "    plt.show()"
   ]
  },
  {
   "cell_type": "code",
   "execution_count": null,
   "id": "1e8d4132",
   "metadata": {},
   "outputs": [],
   "source": [
    "#visualizar_matriz_confusion(etiquetas_val, y_val_pred, CLASES_KEY, 'Matriz de confusión de validación')\n",
    "visualizar_matriz_confusion(y_val, y_val_pred, CLASES_KEY, 'Matriz de confusión de validación')"
   ]
  },
  {
   "cell_type": "code",
   "execution_count": null,
   "id": "4aa3778e",
   "metadata": {},
   "outputs": [],
   "source": []
  },
  {
   "cell_type": "code",
   "execution_count": null,
   "id": "c855344e",
   "metadata": {},
   "outputs": [],
   "source": []
  },
  {
   "cell_type": "code",
   "execution_count": null,
   "id": "cfdab48a",
   "metadata": {},
   "outputs": [],
   "source": []
  },
  {
   "cell_type": "code",
   "execution_count": null,
   "id": "8b81a9a9",
   "metadata": {},
   "outputs": [],
   "source": []
  },
  {
   "cell_type": "code",
   "execution_count": null,
   "id": "84b623d6",
   "metadata": {},
   "outputs": [],
   "source": []
  },
  {
   "cell_type": "code",
   "execution_count": null,
   "id": "f1f8b877",
   "metadata": {},
   "outputs": [],
   "source": []
  },
  {
   "cell_type": "code",
   "execution_count": null,
   "id": "96825c6b",
   "metadata": {},
   "outputs": [],
   "source": []
  },
  {
   "cell_type": "code",
   "execution_count": null,
   "id": "d8d9d910",
   "metadata": {},
   "outputs": [],
   "source": []
  },
  {
   "cell_type": "code",
   "execution_count": null,
   "id": "97af2049",
   "metadata": {},
   "outputs": [],
   "source": []
  },
  {
   "cell_type": "code",
   "execution_count": null,
   "id": "48b0ddfe",
   "metadata": {},
   "outputs": [],
   "source": []
  },
  {
   "cell_type": "code",
   "execution_count": null,
   "id": "91a0048d",
   "metadata": {},
   "outputs": [],
   "source": []
  },
  {
   "cell_type": "code",
   "execution_count": null,
   "id": "a2bdb610",
   "metadata": {},
   "outputs": [],
   "source": []
  },
  {
   "cell_type": "code",
   "execution_count": null,
   "id": "f6353d80",
   "metadata": {},
   "outputs": [],
   "source": []
  },
  {
   "cell_type": "code",
   "execution_count": null,
   "id": "a4155560",
   "metadata": {},
   "outputs": [],
   "source": []
  }
 ],
 "metadata": {
  "kernelspec": {
   "display_name": "Python 3 (ipykernel)",
   "language": "python",
   "name": "python3"
  },
  "language_info": {
   "codemirror_mode": {
    "name": "ipython",
    "version": 3
   },
   "file_extension": ".py",
   "mimetype": "text/x-python",
   "name": "python",
   "nbconvert_exporter": "python",
   "pygments_lexer": "ipython3",
   "version": "3.11.5"
  }
 },
 "nbformat": 4,
 "nbformat_minor": 5
}
