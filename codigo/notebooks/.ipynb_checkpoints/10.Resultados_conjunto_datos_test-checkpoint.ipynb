{
 "cells": [
  {
   "cell_type": "markdown",
   "id": "8045039e",
   "metadata": {},
   "source": [
    "<img style=\"float:left\" width=\"70%\" src=\"../../documentacion/imagenes/escudo_COLOR_1L_DCHA.png\">\n",
    "<img style=\"float:right\" width=\"10%\" src=\"../../documentacion/imagenes/PythonLogo.svg\">\n",
    "<br style=\"clear:both;\">\n",
    "\n",
    "\n",
    "<h2 style=\"display: inline-block; padding: 4mm; padding-left: 2em; background-color: navy; line-height: 1.3em; color: white; border-radius: 10px;\">10.Resultados datos test</h2>\n",
    "\n",
    "\n",
    " \n",
    "## Estudiante:\n",
    "\n",
    "- Jose Luis Perez Gomez"
   ]
  },
  {
   "cell_type": "code",
   "execution_count": 1,
   "id": "af97b04a",
   "metadata": {},
   "outputs": [],
   "source": [
    "%run 3.Importaciones.ipynb\n",
    "%run 4.Variables_Clases.ipynb"
   ]
  },
  {
   "cell_type": "code",
   "execution_count": 2,
   "id": "41199a17",
   "metadata": {},
   "outputs": [],
   "source": [
    "datosEEG_seg1_standarizado = pd.read_csv('../datos/csv/seg1_stscaler.csv', sep=',')\n",
    "datosEEG_std_after_resampled = pd.read_csv('../datos/csv/datosEEG_std_after_resampled.csv', sep=',')\n",
    "datosEEG_std_before_resampled = pd.read_csv('../datos/csv/datosEEG_std_before_resampled.csv', sep=',')\n",
    "datosEEG_std_tres_segmentos = pd.read_csv('../datos/csv/datosEEG_std_tres_segmentos.csv', sep=',')\n",
    "\n",
    "datosEEG_all = [datosEEG_std_after_resampled, datosEEG_std_before_resampled]\n",
    "\n",
    "nombre_clases = valores_key(datosEEG_seg1_standarizado)"
   ]
  },
  {
   "cell_type": "code",
   "execution_count": null,
   "id": "4f190c3a",
   "metadata": {},
   "outputs": [],
   "source": []
  },
  {
   "cell_type": "markdown",
   "id": "09831c43",
   "metadata": {},
   "source": [
    "# Datos para el conjunto de datos Test para cada modelo"
   ]
  },
  {
   "cell_type": "code",
   "execution_count": 1,
   "id": "274ef8a7",
   "metadata": {},
   "outputs": [
    {
     "ename": "NameError",
     "evalue": "name 'MATRIZ_CONFUSION_TEST' is not defined",
     "output_type": "error",
     "traceback": [
      "\u001b[1;31m---------------------------------------------------------------------------\u001b[0m",
      "\u001b[1;31mNameError\u001b[0m                                 Traceback (most recent call last)",
      "Cell \u001b[1;32mIn[1], line 1\u001b[0m\n\u001b[1;32m----> 1\u001b[0m \u001b[38;5;28mprint\u001b[39m(MATRIZ_CONFUSION_TEST)\n",
      "\u001b[1;31mNameError\u001b[0m: name 'MATRIZ_CONFUSION_TEST' is not defined"
     ]
    }
   ],
   "source": [
    "print(MATRIZ_CONFUSION_TEST)"
   ]
  },
  {
   "cell_type": "code",
   "execution_count": null,
   "id": "8e420232",
   "metadata": {},
   "outputs": [],
   "source": []
  }
 ],
 "metadata": {
  "kernelspec": {
   "display_name": "Python 3 (ipykernel)",
   "language": "python",
   "name": "python3"
  },
  "language_info": {
   "codemirror_mode": {
    "name": "ipython",
    "version": 3
   },
   "file_extension": ".py",
   "mimetype": "text/x-python",
   "name": "python",
   "nbconvert_exporter": "python",
   "pygments_lexer": "ipython3",
   "version": "3.11.5"
  }
 },
 "nbformat": 4,
 "nbformat_minor": 5
}
