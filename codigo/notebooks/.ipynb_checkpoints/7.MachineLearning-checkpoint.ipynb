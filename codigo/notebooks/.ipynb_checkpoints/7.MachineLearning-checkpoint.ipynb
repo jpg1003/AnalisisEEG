{
 "cells": [
  {
   "cell_type": "markdown",
   "id": "355adf8f",
   "metadata": {},
   "source": [
    "<img style=\"float:left\" width=\"70%\" src=\"../../documentacion/imagenes/escudo_COLOR_1L_DCHA.png\">\n",
    "<img style=\"float:right\" width=\"10%\" src=\"../../documentacion/imagenes/PythonLogo.svg\">\n",
    "<br style=\"clear:both;\">\n",
    "\n",
    "\n",
    "<h2 style=\"display: inline-block; padding: 4mm; padding-left: 2em; background-color: navy; line-height: 1.3em; color: white; border-radius: 10px;\">7. Machine Learning</h2>\n",
    "\n",
    "\n",
    " \n",
    "## Estudiante:\n",
    "\n",
    "- Jose Luis Perez Gomez"
   ]
  },
  {
   "cell_type": "markdown",
   "id": "87781372",
   "metadata": {},
   "source": [
    "## Seleccionar que tipo de ejecucion se va a realizar:\n",
    "\n",
    "## AUTOMATICA o MANUAL (por defecto AUTOMATICA)."
   ]
  },
  {
   "cell_type": "code",
   "execution_count": 2,
   "id": "b776b58f",
   "metadata": {},
   "outputs": [],
   "source": [
    "# escribir entre parentesis AUTOMATICA o MANUAL\n",
    "\n",
    "EJECUCION = \"AUTOMATICA\""
   ]
  },
  {
   "cell_type": "code",
   "execution_count": 3,
   "id": "c76b050e",
   "metadata": {},
   "outputs": [],
   "source": [
    "# en esta celda no ha de ser modificada \n",
    "\n",
    "if EJECUCION == \"MANUAL\":\n",
    "    %run 3.Importaciones.ipynb\n",
    "    %run 4.VariablesClases.ipynb"
   ]
  },
  {
   "cell_type": "code",
   "execution_count": 4,
   "id": "24f6e1be",
   "metadata": {},
   "outputs": [
    {
     "data": {
      "text/html": [
       "\n",
       "    <!DOCTYPE html>\n",
       "    <html>\n",
       "    <head>\n",
       "    </head>\n",
       "    <body>\n",
       "    \n",
       "    <h4><font color=purple>Realizo la importacion a Dataframe de los datos de los csv creados en la etapa de Prepocessing. </h4>\n",
       "\n",
       "    </body>\n",
       "    </html>\n",
       "    "
      ],
      "text/plain": [
       "<IPython.core.display.HTML object>"
      ]
     },
     "metadata": {},
     "output_type": "display_data"
    }
   ],
   "source": [
    "display(HTML(html_h4('Realizo la importacion a Dataframe de los datos de los csv creados en la etapa de Prepocessing. ','purple')))\n",
    "\n",
    "datosEEG_seg1_standarizado = pd.read_csv('../datos/csv/seg1_stscaler.csv', sep=',')\n",
    "datosEEG_seg2_standarizado = pd.read_csv('../datos/csv/seg2_stscaler.csv', sep=',')\n",
    "datosEEG_seg3_standarizado = pd.read_csv('../datos/csv/seg3_stscaler.csv', sep=',')\n",
    "datosEEG_seg4_standarizado = pd.read_csv('../datos/csv/seg4_stscaler.csv', sep=',')\n",
    "datosEEG_std_after = pd.read_csv('../datos/csv/all_stscaler_after.csv', sep=',')\n",
    "datosEEG_std_before = pd.read_csv('../datos/csv/all_stscaler_before.csv', sep=',')\n",
    "\n",
    "\n",
    "datosEEG_all = [datosEEG_seg1_standarizado, datosEEG_seg2_standarizado, datosEEG_seg3_standarizado, datosEEG_seg4_standarizado, datosEEG_std_after, datosEEG_std_before]\n",
    "\n",
    "nombre_clases = valores_key(datosEEG_seg1_standarizado)"
   ]
  },
  {
   "cell_type": "code",
   "execution_count": 5,
   "id": "ba868e15",
   "metadata": {},
   "outputs": [
    {
     "data": {
      "text/html": [
       "\n",
       "    <!DOCTYPE html>\n",
       "    <html>\n",
       "    <head>\n",
       "    </head>\n",
       "    <body>\n",
       "    \n",
       "    <h4><font color=purple>Ejemplo de las primeras lineas del dataframe del segmento 1 una vez importado: </h4>\n",
       "\n",
       "    </body>\n",
       "    </html>\n",
       "    "
      ],
      "text/plain": [
       "<IPython.core.display.HTML object>"
      ]
     },
     "metadata": {},
     "output_type": "display_data"
    },
    {
     "data": {
      "text/html": [
       "<div>\n",
       "<style scoped>\n",
       "    .dataframe tbody tr th:only-of-type {\n",
       "        vertical-align: middle;\n",
       "    }\n",
       "\n",
       "    .dataframe tbody tr th {\n",
       "        vertical-align: top;\n",
       "    }\n",
       "\n",
       "    .dataframe thead th {\n",
       "        text-align: right;\n",
       "    }\n",
       "</style>\n",
       "<table border=\"1\" class=\"dataframe\">\n",
       "  <thead>\n",
       "    <tr style=\"text-align: right;\">\n",
       "      <th></th>\n",
       "      <th>Attention</th>\n",
       "      <th>Meditation</th>\n",
       "      <th>Delta</th>\n",
       "      <th>Theta</th>\n",
       "      <th>LowAlpha</th>\n",
       "      <th>HighAlpha</th>\n",
       "      <th>LowBeta</th>\n",
       "      <th>HighBeta</th>\n",
       "      <th>LowGamma</th>\n",
       "      <th>HighGamma</th>\n",
       "      <th>Key</th>\n",
       "    </tr>\n",
       "  </thead>\n",
       "  <tbody>\n",
       "    <tr>\n",
       "      <th>0</th>\n",
       "      <td>1.737682</td>\n",
       "      <td>-1.475134</td>\n",
       "      <td>-0.292529</td>\n",
       "      <td>0.113404</td>\n",
       "      <td>-0.128579</td>\n",
       "      <td>-0.130215</td>\n",
       "      <td>-0.488718</td>\n",
       "      <td>1.422434</td>\n",
       "      <td>2.384682</td>\n",
       "      <td>2.969090</td>\n",
       "      <td>4.0</td>\n",
       "    </tr>\n",
       "    <tr>\n",
       "      <th>1</th>\n",
       "      <td>1.349318</td>\n",
       "      <td>-0.698485</td>\n",
       "      <td>-0.366728</td>\n",
       "      <td>-0.291373</td>\n",
       "      <td>0.705022</td>\n",
       "      <td>1.516928</td>\n",
       "      <td>-0.956520</td>\n",
       "      <td>0.417438</td>\n",
       "      <td>0.861329</td>\n",
       "      <td>0.877518</td>\n",
       "      <td>0.0</td>\n",
       "    </tr>\n",
       "    <tr>\n",
       "      <th>2</th>\n",
       "      <td>0.248952</td>\n",
       "      <td>1.048973</td>\n",
       "      <td>-0.173741</td>\n",
       "      <td>0.039344</td>\n",
       "      <td>0.290215</td>\n",
       "      <td>0.046625</td>\n",
       "      <td>0.144823</td>\n",
       "      <td>1.595529</td>\n",
       "      <td>3.690499</td>\n",
       "      <td>3.708998</td>\n",
       "      <td>0.0</td>\n",
       "    </tr>\n",
       "    <tr>\n",
       "      <th>3</th>\n",
       "      <td>-1.304507</td>\n",
       "      <td>0.854811</td>\n",
       "      <td>-0.306022</td>\n",
       "      <td>2.749333</td>\n",
       "      <td>1.075682</td>\n",
       "      <td>0.810876</td>\n",
       "      <td>0.894613</td>\n",
       "      <td>-0.944526</td>\n",
       "      <td>-0.136710</td>\n",
       "      <td>-0.308915</td>\n",
       "      <td>0.0</td>\n",
       "    </tr>\n",
       "    <tr>\n",
       "      <th>4</th>\n",
       "      <td>-0.592505</td>\n",
       "      <td>-0.504323</td>\n",
       "      <td>-0.375519</td>\n",
       "      <td>-0.451322</td>\n",
       "      <td>-0.549978</td>\n",
       "      <td>-0.821343</td>\n",
       "      <td>-0.753899</td>\n",
       "      <td>-0.844119</td>\n",
       "      <td>-0.186910</td>\n",
       "      <td>-1.302714</td>\n",
       "      <td>0.0</td>\n",
       "    </tr>\n",
       "  </tbody>\n",
       "</table>\n",
       "</div>"
      ],
      "text/plain": [
       "   Attention  Meditation     Delta     Theta  LowAlpha  HighAlpha   LowBeta  \\\n",
       "0   1.737682   -1.475134 -0.292529  0.113404 -0.128579  -0.130215 -0.488718   \n",
       "1   1.349318   -0.698485 -0.366728 -0.291373  0.705022   1.516928 -0.956520   \n",
       "2   0.248952    1.048973 -0.173741  0.039344  0.290215   0.046625  0.144823   \n",
       "3  -1.304507    0.854811 -0.306022  2.749333  1.075682   0.810876  0.894613   \n",
       "4  -0.592505   -0.504323 -0.375519 -0.451322 -0.549978  -0.821343 -0.753899   \n",
       "\n",
       "   HighBeta  LowGamma  HighGamma  Key  \n",
       "0  1.422434  2.384682   2.969090  4.0  \n",
       "1  0.417438  0.861329   0.877518  0.0  \n",
       "2  1.595529  3.690499   3.708998  0.0  \n",
       "3 -0.944526 -0.136710  -0.308915  0.0  \n",
       "4 -0.844119 -0.186910  -1.302714  0.0  "
      ]
     },
     "execution_count": 5,
     "metadata": {},
     "output_type": "execute_result"
    }
   ],
   "source": [
    "display(HTML(html_h4('Ejemplo de las primeras lineas del dataframe del segmento 1 una vez importado: ','purple')))\n",
    "datosEEG_seg1_standarizado.head()"
   ]
  },
  {
   "cell_type": "markdown",
   "id": "337eb389",
   "metadata": {},
   "source": [
    "# Comienzo con los experimentos para Machine Learning"
   ]
  },
  {
   "cell_type": "markdown",
   "id": "8c8a9ea7",
   "metadata": {},
   "source": [
    "# 1. Holdout"
   ]
  },
  {
   "cell_type": "markdown",
   "id": "c66d91a8",
   "metadata": {},
   "source": [
    "Conjunto de entrenamiento: 81% del total\n",
    "Conjunto de validación: 9% del total\n",
    "Conjunto de prueba: 10% del total"
   ]
  },
  {
   "cell_type": "code",
   "execution_count": null,
   "id": "813ed561",
   "metadata": {},
   "outputs": [],
   "source": []
  },
  {
   "cell_type": "code",
   "execution_count": 6,
   "id": "eee1c7fe",
   "metadata": {},
   "outputs": [],
   "source": [
    "def evaluar_holdout_knn(dataframe):\n",
    "    \n",
    "    X_train, y_train, X_val, y_val, X_test, y_test = dividir_datos(dataframe)\n",
    "   \n",
    "    #modelo\n",
    "    #model_KNN = KNeighborsClassifier()\n",
    "    # Entreno el modelo\n",
    "    model_KNN.fit(X_train, y_train)\n",
    "    \n",
    "    # Evaluo el modelo con X_val\n",
    "    y_predict_knn = model_KNN.predict(X_val)\n",
    "    \n",
    "    # Evaluo el rendimiento que ha tenido Validation \n",
    "    knn_ac = accuracy_score(y_val, y_predict_knn)\n",
    "     \n",
    "    # Evaluo el modelo con X_test\n",
    "    y_predict_knn_test = model_KNN.predict(X_test)\n",
    "    \n",
    "    # Evaluo el rendimiento que ha tenido Validation \n",
    "    knn_ac_test = accuracy_score(y_test, y_predict_knn_test)\n",
    "        \n",
    "    matriz_confusion_val = confusion_matrix(y_val, y_predict_knn)\n",
    "    matriz_confusion_test = confusion_matrix(y_test, y_predict_knn_test)\n",
    "        \n",
    "    return ((knn_ac), (matriz_confusion_val), (knn_ac_test), (matriz_confusion_test))\n"
   ]
  },
  {
   "cell_type": "code",
   "execution_count": 7,
   "id": "ae8d8f96",
   "metadata": {},
   "outputs": [],
   "source": [
    "modelos_all_knn= []\n",
    "\n",
    "for experimento_knn in datosEEG_all:\n",
    "    \n",
    "    modelos_all_knn.append(evaluar_holdout_knn(experimento_knn))\n",
    "\n",
    "accuracy_score_knn = []\n",
    "accuracy_score_test_knn =[]\n",
    "matriz_confusion_knn = []\n",
    "matriz_confusion_test_knn = []\n",
    "\n",
    "for valores_knn in modelos_all_knn:\n",
    "\n",
    "    accuracy_score_knn.append(valores_knn[0])\n",
    "    accuracy_score_test_knn.append(valores_knn[2])\n",
    "    matriz_confusion_knn.append(valores_knn[1])\n",
    "    matriz_confusion_test_knn.append(valores_knn[3])\n"
   ]
  },
  {
   "cell_type": "code",
   "execution_count": 8,
   "id": "1ff2d4dc",
   "metadata": {
    "scrolled": false
   },
   "outputs": [
    {
     "data": {
      "text/html": [
       "\n",
       "    <!DOCTYPE html>\n",
       "    <html>\n",
       "    <head>\n",
       "    </head>\n",
       "    <body>\n",
       "    \n",
       "    <h5><font color=purple>Entreno los conjuntos de datos del modelo Holdout con validacion KNN: </h5>\n",
       "\n",
       "    </body>\n",
       "    </html>\n",
       "    "
      ],
      "text/plain": [
       "<IPython.core.display.HTML object>"
      ]
     },
     "metadata": {},
     "output_type": "display_data"
    },
    {
     "data": {
      "text/html": [
       "\n",
       "    <!DOCTYPE html>\n",
       "    <html>\n",
       "    <head>\n",
       "    </head>\n",
       "    <body>\n",
       "    \n",
       "    <h5><font color=blue>Con los siguientes resultados para Tasa de acierto y su matrices de confusión: </h5>\n",
       "\n",
       "    </body>\n",
       "    </html>\n",
       "    "
      ],
      "text/plain": [
       "<IPython.core.display.HTML object>"
      ]
     },
     "metadata": {},
     "output_type": "display_data"
    },
    {
     "data": {
      "text/html": [
       "<div>\n",
       "<style scoped>\n",
       "    .dataframe tbody tr th:only-of-type {\n",
       "        vertical-align: middle;\n",
       "    }\n",
       "\n",
       "    .dataframe tbody tr th {\n",
       "        vertical-align: top;\n",
       "    }\n",
       "\n",
       "    .dataframe thead th {\n",
       "        text-align: right;\n",
       "    }\n",
       "</style>\n",
       "<table border=\"1\" class=\"dataframe\">\n",
       "  <thead>\n",
       "    <tr style=\"text-align: right;\">\n",
       "      <th></th>\n",
       "      <th>KNN_VAL</th>\n",
       "    </tr>\n",
       "  </thead>\n",
       "  <tbody>\n",
       "    <tr>\n",
       "      <th>Segmento 1</th>\n",
       "      <td>0.416667</td>\n",
       "    </tr>\n",
       "    <tr>\n",
       "      <th>Segmento 2</th>\n",
       "      <td>0.400000</td>\n",
       "    </tr>\n",
       "    <tr>\n",
       "      <th>Segmento 3</th>\n",
       "      <td>0.277778</td>\n",
       "    </tr>\n",
       "    <tr>\n",
       "      <th>Segmento 4</th>\n",
       "      <td>0.222222</td>\n",
       "    </tr>\n",
       "    <tr>\n",
       "      <th>All Segmentos after</th>\n",
       "      <td>0.344262</td>\n",
       "    </tr>\n",
       "    <tr>\n",
       "      <th>All Segmentos before</th>\n",
       "      <td>0.393443</td>\n",
       "    </tr>\n",
       "  </tbody>\n",
       "</table>\n",
       "</div>"
      ],
      "text/plain": [
       "                       KNN_VAL\n",
       "Segmento 1            0.416667\n",
       "Segmento 2            0.400000\n",
       "Segmento 3            0.277778\n",
       "Segmento 4            0.222222\n",
       "All Segmentos after   0.344262\n",
       "All Segmentos before  0.393443"
      ]
     },
     "metadata": {},
     "output_type": "display_data"
    },
    {
     "data": {
      "image/png": "[encoded data removed]",
      "text/plain": [
       "<Figure size 1000x1200 with 6 Axes>"
      ]
     },
     "metadata": {},
     "output_type": "display_data"
    }
   ],
   "source": [
    "\n",
    "display(HTML(html_h5('Entreno los conjuntos de datos del modelo Holdout con validacion KNN: ', 'purple')))\n",
    "display(HTML(html_h5('Con los siguientes resultados para Tasa de acierto y su matrices de confusión: ', 'blue')))\n",
    "datos_holdout_knn = pd.DataFrame(accuracy_score_knn, columns=['KNN_VAL'], index=(titulos_all))\n",
    "datos_holdout_knn_test = pd.DataFrame(accuracy_score_test_knn, columns=['KNN_TEST'], index=(titulos_all))\n",
    "\n",
    "display(datos_holdout_knn)\n",
    "\n",
    "mc_knn = []\n",
    "\n",
    "for matrices_knn in matriz_confusion_knn:\n",
    "\n",
    "    mc_knn.append(pd.DataFrame(matrices_knn, index=nombre_clases, columns=nombre_clases))\n",
    "\n",
    "#https://scikit-learn.org/stable/modules/generated/sklearn.metrics.ConfusionMatrixDisplay.html\n",
    "\n",
    "# Creo una figura y ejes para dividir el espacio en cuatro subgráficos\n",
    "fig, axs = plt.subplots(3, 2, figsize=(10, 12))\n",
    "\n",
    "# Matrices de confusión y títulos para cada subgráfico\n",
    "dataframes = [mc_knn[0], mc_knn[1], mc_knn[2], mc_knn[3], mc_knn[4], mc_knn[5]]\n",
    "\n",
    "# Itero sobre los DataFrames y títulos para imprimir matriz de confusión en un subgráfico\n",
    "for i, (dataframe, titulo) in enumerate(zip(dataframes, titulos_all)):\n",
    "    fila = i // 2\n",
    "    columna = i % 2\n",
    "    ax = axs[fila, columna]\n",
    "   \n",
    "    # Se crea la impresion de la matriz de confusión y se implime\n",
    "    disp = ConfusionMatrixDisplay(confusion_matrix=dataframe.values, display_labels=(nombre_clases))\n",
    "    disp.plot(ax=ax, colorbar=False, cmap='Blues')\n",
    "    \n",
    "    # Añado el título al subgráfico\n",
    "    ax.set_title(titulo)\n",
    "\n",
    "# Se ajusta el espaciado entre subgráficos\n",
    "plt.tight_layout()\n",
    "\n",
    "# Se imprime el gráfico\n",
    "plt.show()\n"
   ]
  },
  {
   "cell_type": "code",
   "execution_count": null,
   "id": "117d4025",
   "metadata": {},
   "outputs": [],
   "source": []
  },
  {
   "cell_type": "code",
   "execution_count": 9,
   "id": "eadeb02b",
   "metadata": {},
   "outputs": [],
   "source": [
    "\n",
    "def evaluar_holdout_tree(dataframe):\n",
    "    \n",
    "    X_train, y_train, X_val, y_val, X_test, y_test = dividir_datos(dataframe)\n",
    "    \n",
    "    #model_TREE = DecisionTreeClassifier()\n",
    "    \n",
    "    # Entreno el modelo\n",
    "    model_TREE.fit(X_train, y_train)\n",
    "    \n",
    "    # Evaluo el modelo con X_val\n",
    "    y_predict_tree = model_TREE.predict(X_val)\n",
    "    \n",
    "    # Evaluo el rendimiento que ha tenido Validation \n",
    "    tree_ac = accuracy_score(y_val, y_predict_tree)\n",
    "       \n",
    "    # Evaluo el modelo con X_Test\n",
    "    y_predict_tree_test = model_TREE.predict(X_test)\n",
    "    \n",
    "    # Evaluo el rendimiento que ha tenido Validation \n",
    "    tree_ac_test = accuracy_score(y_test, y_predict_tree_test)\n",
    "    \n",
    "    \n",
    "    matriz_confusion_val = confusion_matrix(y_val, y_predict_tree)\n",
    "    matriz_confusion_test = confusion_matrix(y_test, y_predict_tree_test)\n",
    "        \n",
    "    return ((tree_ac), (matriz_confusion_val), (tree_ac_test), (matriz_confusion_test))\n",
    "    \n",
    "    "
   ]
  },
  {
   "cell_type": "code",
   "execution_count": 10,
   "id": "a7237e01",
   "metadata": {},
   "outputs": [],
   "source": [
    "modelos_all_tree= []\n",
    "\n",
    "for experimento_tree in datosEEG_all:\n",
    "    \n",
    "    modelos_all_tree.append(evaluar_holdout_tree(experimento_tree))\n",
    "\n",
    "accuracy_score_tree = []\n",
    "accuracy_score_test_tree =[]\n",
    "matriz_confusion_tree = []\n",
    "matriz_confusion_test_tree = []\n",
    "\n",
    "for valores_tree in modelos_all_tree:\n",
    "\n",
    "    accuracy_score_tree.append(valores_tree[0])\n",
    "    accuracy_score_test_tree.append(valores_tree[2])\n",
    "    matriz_confusion_tree.append(valores_tree[1])\n",
    "    matriz_confusion_test_tree.append(valores_tree[3])\n"
   ]
  },
  {
   "cell_type": "code",
   "execution_count": 11,
   "id": "27ae91e5",
   "metadata": {},
   "outputs": [
    {
     "data": {
      "text/html": [
       "\n",
       "    <!DOCTYPE html>\n",
       "    <html>\n",
       "    <head>\n",
       "    </head>\n",
       "    <body>\n",
       "    \n",
       "    <h5><font color=purple>Entreno los conjuntos de datos del modelo Holdout con validacion Árboles de decisión: </h5>\n",
       "\n",
       "    </body>\n",
       "    </html>\n",
       "    "
      ],
      "text/plain": [
       "<IPython.core.display.HTML object>"
      ]
     },
     "metadata": {},
     "output_type": "display_data"
    },
    {
     "data": {
      "text/html": [
       "\n",
       "    <!DOCTYPE html>\n",
       "    <html>\n",
       "    <head>\n",
       "    </head>\n",
       "    <body>\n",
       "    \n",
       "    <h5><font color=blue>Con los siguientes resultados para Tasa de acierto y su matrices de confusión: </h5>\n",
       "\n",
       "    </body>\n",
       "    </html>\n",
       "    "
      ],
      "text/plain": [
       "<IPython.core.display.HTML object>"
      ]
     },
     "metadata": {},
     "output_type": "display_data"
    },
    {
     "data": {
      "text/html": [
       "<div>\n",
       "<style scoped>\n",
       "    .dataframe tbody tr th:only-of-type {\n",
       "        vertical-align: middle;\n",
       "    }\n",
       "\n",
       "    .dataframe tbody tr th {\n",
       "        vertical-align: top;\n",
       "    }\n",
       "\n",
       "    .dataframe thead th {\n",
       "        text-align: right;\n",
       "    }\n",
       "</style>\n",
       "<table border=\"1\" class=\"dataframe\">\n",
       "  <thead>\n",
       "    <tr style=\"text-align: right;\">\n",
       "      <th></th>\n",
       "      <th>TREE_VAL</th>\n",
       "    </tr>\n",
       "  </thead>\n",
       "  <tbody>\n",
       "    <tr>\n",
       "      <th>Segmento 1</th>\n",
       "      <td>0.416667</td>\n",
       "    </tr>\n",
       "    <tr>\n",
       "      <th>Segmento 2</th>\n",
       "      <td>0.333333</td>\n",
       "    </tr>\n",
       "    <tr>\n",
       "      <th>Segmento 3</th>\n",
       "      <td>0.333333</td>\n",
       "    </tr>\n",
       "    <tr>\n",
       "      <th>Segmento 4</th>\n",
       "      <td>0.388889</td>\n",
       "    </tr>\n",
       "    <tr>\n",
       "      <th>All Segmentos after</th>\n",
       "      <td>0.213115</td>\n",
       "    </tr>\n",
       "    <tr>\n",
       "      <th>All Segmentos before</th>\n",
       "      <td>0.229508</td>\n",
       "    </tr>\n",
       "  </tbody>\n",
       "</table>\n",
       "</div>"
      ],
      "text/plain": [
       "                      TREE_VAL\n",
       "Segmento 1            0.416667\n",
       "Segmento 2            0.333333\n",
       "Segmento 3            0.333333\n",
       "Segmento 4            0.388889\n",
       "All Segmentos after   0.213115\n",
       "All Segmentos before  0.229508"
      ]
     },
     "metadata": {},
     "output_type": "display_data"
    },
    {
     "data": {
      "image/png": "[encoded data removed]",
      "text/plain": [
       "<Figure size 1000x1200 with 6 Axes>"
      ]
     },
     "metadata": {},
     "output_type": "display_data"
    }
   ],
   "source": [
    "\n",
    "display(HTML(html_h5('Entreno los conjuntos de datos del modelo Holdout con validacion Árboles de decisión: ', 'purple')))\n",
    "display(HTML(html_h5('Con los siguientes resultados para Tasa de acierto y su matrices de confusión: ', 'blue')))\n",
    "\n",
    "datos_holdout_tree = pd.DataFrame(accuracy_score_tree, columns=['TREE_VAL'], index=(titulos_all))\n",
    "datos_holdout_tree_test = pd.DataFrame(accuracy_score_test_tree, columns=['TREE_TEST'], index=(titulos_all))\n",
    "\n",
    "display(datos_holdout_tree)\n",
    "\n",
    "mc_tree = []\n",
    "\n",
    "for matrices_tree in matriz_confusion_tree:\n",
    "\n",
    "    mc_tree.append(pd.DataFrame(matrices_tree, index=nombre_clases, columns=nombre_clases))\n",
    "\n",
    "#https://scikit-learn.org/stable/modules/generated/sklearn.metrics.ConfusionMatrixDisplay.html\n",
    "\n",
    "# Creo una figura y ejes para dividir el espacio en cuatro subgráficos\n",
    "fig, axs = plt.subplots(3, 2, figsize=(10, 12))\n",
    "\n",
    "# Matrices de confusión y títulos para cada subgráfico\n",
    "dataframes = [mc_tree[0], mc_tree[1], mc_tree[2], mc_tree[3], mc_tree[4], mc_tree[5]]\n",
    "\n",
    "# Itero sobre los DataFrames y títulos para imprimir matriz de confusión en un subgráfico\n",
    "for i, (dataframe, titulo) in enumerate(zip(dataframes, titulos_all)):\n",
    "    fila = i // 2\n",
    "    columna = i % 2\n",
    "    ax = axs[fila, columna]\n",
    "   \n",
    "    # Se crea la impresion de la matriz de confusión y se implime\n",
    "    disp = ConfusionMatrixDisplay(confusion_matrix=dataframe.values, display_labels=(nombre_clases))\n",
    "    disp.plot(ax=ax, colorbar=False, cmap='Oranges')\n",
    "    \n",
    "    # Añado el título al subgráfico\n",
    "    ax.set_title(titulo)\n",
    "\n",
    "# Se ajusta el espaciado entre subgráficos\n",
    "plt.tight_layout()\n",
    "\n",
    "# Se imprime el gráfico\n",
    "plt.show()\n"
   ]
  },
  {
   "cell_type": "code",
   "execution_count": 12,
   "id": "c06f45e2",
   "metadata": {},
   "outputs": [],
   "source": [
    "\n",
    "def evaluar_holdout_random(dataframe):\n",
    "    \n",
    "    X_train, y_train, X_val, y_val, X_test, y_test = dividir_datos(dataframe)\n",
    "\n",
    "    #model_RANDOM = RandomForestClassifier(max_depth=MAX_DEPTH, n_estimators=ESTIMATOR)\n",
    "    # Entreno el modelo\n",
    "    model_RANDOM.fit(X_train, y_train)\n",
    "    \n",
    "    # Evaluo el modelo con X_val\n",
    "    y_predict_random = model_RANDOM.predict(X_val)\n",
    "    \n",
    "    # Evaluo el rendimiento que ha tenido Validation \n",
    "    random_ac = accuracy_score(y_val, y_predict_random)  \n",
    "    \n",
    "    # Evaluo el modelo con X_Test\n",
    "    y_predict_random_test = model_RANDOM.predict(X_test)\n",
    "    \n",
    "    # Evaluo el rendimiento que ha tenido Validation \n",
    "    random_ac_test = accuracy_score(y_test, y_predict_random_test)\n",
    "    \n",
    "    matriz_confusion_val = confusion_matrix(y_val, y_predict_random)\n",
    "    matriz_confusion_test = confusion_matrix(y_test, y_predict_random_test)\n",
    "        \n",
    "    return ((random_ac), (matriz_confusion_val), (random_ac_test), (matriz_confusion_test))\n",
    "    \n",
    "    "
   ]
  },
  {
   "cell_type": "code",
   "execution_count": 13,
   "id": "7dc8114e",
   "metadata": {},
   "outputs": [],
   "source": [
    "modelos_all_random= []\n",
    "\n",
    "for experimento_random in datosEEG_all:\n",
    "    \n",
    "    modelos_all_random.append(evaluar_holdout_random(experimento_random))\n",
    "\n",
    "accuracy_score_random = []\n",
    "accuracy_score_test_random =[]\n",
    "matriz_confusion_random = []\n",
    "matriz_confusion_test_random = []\n",
    "\n",
    "for valores_random in modelos_all_random:\n",
    "\n",
    "    accuracy_score_random.append(valores_random[0])\n",
    "    accuracy_score_test_random.append(valores_random[2])\n",
    "    matriz_confusion_random.append(valores_random[1])\n",
    "    matriz_confusion_test_random.append(valores_random[3])\n",
    "\n",
    "  "
   ]
  },
  {
   "cell_type": "code",
   "execution_count": 14,
   "id": "e93899aa",
   "metadata": {
    "scrolled": false
   },
   "outputs": [
    {
     "data": {
      "text/html": [
       "\n",
       "    <!DOCTYPE html>\n",
       "    <html>\n",
       "    <head>\n",
       "    </head>\n",
       "    <body>\n",
       "    \n",
       "    <h5><font color=purple>Entreno los conjuntos de datos del modelo Holdout con validacion random forest: </h5>\n",
       "\n",
       "    </body>\n",
       "    </html>\n",
       "    "
      ],
      "text/plain": [
       "<IPython.core.display.HTML object>"
      ]
     },
     "metadata": {},
     "output_type": "display_data"
    },
    {
     "data": {
      "text/html": [
       "\n",
       "    <!DOCTYPE html>\n",
       "    <html>\n",
       "    <head>\n",
       "    </head>\n",
       "    <body>\n",
       "    \n",
       "    <h5><font color=blue>Con los siguientes resultados para Tasa de acierto y su matrices de confusión: </h5>\n",
       "\n",
       "    </body>\n",
       "    </html>\n",
       "    "
      ],
      "text/plain": [
       "<IPython.core.display.HTML object>"
      ]
     },
     "metadata": {},
     "output_type": "display_data"
    },
    {
     "data": {
      "text/html": [
       "<div>\n",
       "<style scoped>\n",
       "    .dataframe tbody tr th:only-of-type {\n",
       "        vertical-align: middle;\n",
       "    }\n",
       "\n",
       "    .dataframe tbody tr th {\n",
       "        vertical-align: top;\n",
       "    }\n",
       "\n",
       "    .dataframe thead th {\n",
       "        text-align: right;\n",
       "    }\n",
       "</style>\n",
       "<table border=\"1\" class=\"dataframe\">\n",
       "  <thead>\n",
       "    <tr style=\"text-align: right;\">\n",
       "      <th></th>\n",
       "      <th>RANDOM_VAL</th>\n",
       "    </tr>\n",
       "  </thead>\n",
       "  <tbody>\n",
       "    <tr>\n",
       "      <th>Segmento 1</th>\n",
       "      <td>0.250000</td>\n",
       "    </tr>\n",
       "    <tr>\n",
       "      <th>Segmento 2</th>\n",
       "      <td>0.333333</td>\n",
       "    </tr>\n",
       "    <tr>\n",
       "      <th>Segmento 3</th>\n",
       "      <td>0.333333</td>\n",
       "    </tr>\n",
       "    <tr>\n",
       "      <th>Segmento 4</th>\n",
       "      <td>0.166667</td>\n",
       "    </tr>\n",
       "    <tr>\n",
       "      <th>All Segmentos after</th>\n",
       "      <td>0.377049</td>\n",
       "    </tr>\n",
       "    <tr>\n",
       "      <th>All Segmentos before</th>\n",
       "      <td>0.278689</td>\n",
       "    </tr>\n",
       "  </tbody>\n",
       "</table>\n",
       "</div>"
      ],
      "text/plain": [
       "                      RANDOM_VAL\n",
       "Segmento 1              0.250000\n",
       "Segmento 2              0.333333\n",
       "Segmento 3              0.333333\n",
       "Segmento 4              0.166667\n",
       "All Segmentos after     0.377049\n",
       "All Segmentos before    0.278689"
      ]
     },
     "metadata": {},
     "output_type": "display_data"
    },
    {
     "data": {
      "image/png": "[encoded data removed]",
      "text/plain": [
       "<Figure size 1000x1200 with 6 Axes>"
      ]
     },
     "metadata": {},
     "output_type": "display_data"
    }
   ],
   "source": [
    "display(HTML(html_h5('Entreno los conjuntos de datos del modelo Holdout con validacion random forest: ', 'purple')))\n",
    "display(HTML(html_h5('Con los siguientes resultados para Tasa de acierto y su matrices de confusión: ', 'blue')))\n",
    "\n",
    "datos_holdout_random = pd.DataFrame(accuracy_score_random, columns=['RANDOM_VAL'], index=(titulos_all))\n",
    "datos_holdout_random_test = pd.DataFrame(accuracy_score_test_random, columns=['RANDOM_TEST'], index=(titulos_all))\n",
    "\n",
    "display(datos_holdout_random)\n",
    "\n",
    "mc_random = []\n",
    "\n",
    "for matrices_random in matriz_confusion_random:\n",
    "\n",
    "    mc_random.append(pd.DataFrame(matrices_random, index=nombre_clases, columns=nombre_clases))\n",
    "\n",
    "#https://scikit-learn.org/stable/modules/generated/sklearn.metrics.ConfusionMatrixDisplay.html\n",
    "\n",
    "# Creo una figura y ejes para dividir el espacio en cuatro subgráficos\n",
    "fig, axs = plt.subplots(3, 2, figsize=(10, 12))\n",
    "\n",
    "# Matrices de confusión y títulos para cada subgráfico\n",
    "dataframes = [mc_random[0], mc_random[1], mc_random[2], mc_random[3], mc_random[4], mc_random[5]]\n",
    "\n",
    "# Itero sobre los DataFrames y títulos para imprimir matriz de confusión en un subgráfico\n",
    "for i, (dataframe, titulo) in enumerate(zip(dataframes, titulos_all)):\n",
    "    fila = i // 2\n",
    "    columna = i % 2\n",
    "    ax = axs[fila, columna]\n",
    "   \n",
    "    # Se crea la impresion de la matriz de confusión y se implime\n",
    "    disp = ConfusionMatrixDisplay(confusion_matrix=dataframe.values, display_labels=(nombre_clases))\n",
    "    disp.plot(ax=ax, colorbar=False, cmap='Greens')\n",
    "    \n",
    "    # Añado el título al subgráfico\n",
    "    ax.set_title(titulo)\n",
    "\n",
    "# Se ajusta el espaciado entre subgráficos\n",
    "plt.tight_layout()\n",
    "\n",
    "# Se imprime el gráfico\n",
    "plt.show()\n",
    "\n"
   ]
  },
  {
   "cell_type": "code",
   "execution_count": 15,
   "id": "899b5001",
   "metadata": {},
   "outputs": [
    {
     "data": {
      "text/html": [
       "\n",
       "    <!DOCTYPE html>\n",
       "    <html>\n",
       "    <head>\n",
       "    </head>\n",
       "    <body>\n",
       "    \n",
       "    <h5><font color=purple>Imprimo lo resultados para la metrica de Tasa de acierto de los experimentos realizados para Holdout: </h5>\n",
       "\n",
       "    </body>\n",
       "    </html>\n",
       "    "
      ],
      "text/plain": [
       "<IPython.core.display.HTML object>"
      ]
     },
     "metadata": {},
     "output_type": "display_data"
    },
    {
     "data": {
      "text/html": [
       "<div>\n",
       "<style scoped>\n",
       "    .dataframe tbody tr th:only-of-type {\n",
       "        vertical-align: middle;\n",
       "    }\n",
       "\n",
       "    .dataframe tbody tr th {\n",
       "        vertical-align: top;\n",
       "    }\n",
       "\n",
       "    .dataframe thead tr th {\n",
       "        text-align: left;\n",
       "    }\n",
       "</style>\n",
       "<table border=\"1\" class=\"dataframe\">\n",
       "  <thead>\n",
       "    <tr>\n",
       "      <th></th>\n",
       "      <th colspan=\"3\" halign=\"left\">HoldOut</th>\n",
       "    </tr>\n",
       "    <tr>\n",
       "      <th></th>\n",
       "      <th>KNN</th>\n",
       "      <th>TREE</th>\n",
       "      <th>RANDOM</th>\n",
       "    </tr>\n",
       "  </thead>\n",
       "  <tbody>\n",
       "    <tr>\n",
       "      <th>Segmento 1</th>\n",
       "      <td>0.416667</td>\n",
       "      <td>0.416667</td>\n",
       "      <td>0.250000</td>\n",
       "    </tr>\n",
       "    <tr>\n",
       "      <th>Segmento 2</th>\n",
       "      <td>0.400000</td>\n",
       "      <td>0.333333</td>\n",
       "      <td>0.333333</td>\n",
       "    </tr>\n",
       "    <tr>\n",
       "      <th>Segmento 3</th>\n",
       "      <td>0.277778</td>\n",
       "      <td>0.333333</td>\n",
       "      <td>0.333333</td>\n",
       "    </tr>\n",
       "    <tr>\n",
       "      <th>Segmento 4</th>\n",
       "      <td>0.222222</td>\n",
       "      <td>0.388889</td>\n",
       "      <td>0.166667</td>\n",
       "    </tr>\n",
       "    <tr>\n",
       "      <th>All Segmentos after</th>\n",
       "      <td>0.344262</td>\n",
       "      <td>0.213115</td>\n",
       "      <td>0.377049</td>\n",
       "    </tr>\n",
       "    <tr>\n",
       "      <th>All Segmentos before</th>\n",
       "      <td>0.393443</td>\n",
       "      <td>0.229508</td>\n",
       "      <td>0.278689</td>\n",
       "    </tr>\n",
       "  </tbody>\n",
       "</table>\n",
       "</div>"
      ],
      "text/plain": [
       "                       HoldOut                    \n",
       "                           KNN      TREE    RANDOM\n",
       "Segmento 1            0.416667  0.416667  0.250000\n",
       "Segmento 2            0.400000  0.333333  0.333333\n",
       "Segmento 3            0.277778  0.333333  0.333333\n",
       "Segmento 4            0.222222  0.388889  0.166667\n",
       "All Segmentos after   0.344262  0.213115  0.377049\n",
       "All Segmentos before  0.393443  0.229508  0.278689"
      ]
     },
     "metadata": {},
     "output_type": "display_data"
    }
   ],
   "source": [
    "display(HTML(html_h5('Imprimo lo resultados para la metrica de Tasa de acierto de los experimentos realizados para Holdout: ', 'purple')))\n",
    "\n",
    "\n",
    "datos_holdout = pd.concat([datos_holdout_knn, datos_holdout_tree, datos_holdout_random], axis=1)\n",
    "datos_holdout_test = pd.concat([datos_holdout_knn_test, datos_holdout_tree_test, datos_holdout_random_test], axis=1)\n",
    "\n",
    "datos_holdout.columns = pd.MultiIndex.from_tuples([(\"HoldOut\",\"KNN\"), (\"HoldOut\",\"TREE\"), (\"HoldOut\",\"RANDOM\")])\n",
    "datos_holdout_test.columns = pd.MultiIndex.from_tuples([(\"HoldOut\",\"KNN\"), (\"HoldOut\",\"TREE\"), (\"HoldOut\",\"RANDOM\")])\n",
    "\n",
    "display(datos_holdout)"
   ]
  },
  {
   "cell_type": "markdown",
   "id": "0975bc51",
   "metadata": {},
   "source": [
    " # k-fold cross-validation"
   ]
  },
  {
   "cell_type": "code",
   "execution_count": 16,
   "id": "fb987a86",
   "metadata": {},
   "outputs": [],
   "source": [
    "#ACC_SCORER\n",
    "\n",
    "def evaluar_cross_val(dataframe):\n",
    "    \n",
    "    X_train, y_train, X_val, y_val, X_test, y_test = dividir_datos(dataframe)\n",
    "        \n",
    "    model_KFOLD = KFold(n_splits=CV)\n",
    "    model_KNN = KNeighborsClassifier()\n",
    "    model_TREE = DecisionTreeClassifier()\n",
    "    model_RANDOM = RandomForestClassifier(max_depth=MAX_DEPTH, n_estimators=ESTIMATOR)\n",
    "\n",
    "    # Calculo las  metricas       \n",
    "\n",
    "    knn = cross_val_score(model_KNN, X_val, y_val, cv=model_KFOLD, scoring=ACC_SCORER)\n",
    "    tree = cross_val_score(model_TREE, X_val, y_val, cv=model_KFOLD, scoring=ACC_SCORER)  \n",
    "    random = cross_val_score(model_RANDOM, X_val, y_val, cv=model_KFOLD, scoring=ACC_SCORER)\n",
    "    \n",
    "    # Calculo la media de las metricas anteriores\n",
    "    knn_mean = knn.mean()\n",
    "    tree_mean = tree.mean()\n",
    "    random_mean = random.mean()\n",
    "    \n",
    "    return ((knn_mean), (tree_mean), (random_mean))\n",
    "    \n"
   ]
  },
  {
   "cell_type": "code",
   "execution_count": 17,
   "id": "5eb0dc21",
   "metadata": {},
   "outputs": [],
   "source": [
    "modelos_all= []\n",
    "\n",
    "for exp in datosEEG_all:\n",
    "    \n",
    "    modelos_all.append(evaluar_cross_val(exp))\n",
    "\n",
    "datos_cross_val = pd.DataFrame(modelos_all)\n",
    "\n",
    "\n",
    "# combio los valores anteriores en el dataframene con rename\n",
    "datos_cross_val = datos_cross_val.rename(index=nuevos_indices)\n",
    "\n",
    "datos_cross_val.columns = pd.MultiIndex.from_tuples([(\"KFold-CrossVal\",\"KNN\"), (\"KFold-CrossVal\",\"TREE\"), (\"KFold-CrossVal\",\"RANDOM\")])\n"
   ]
  },
  {
   "cell_type": "code",
   "execution_count": 18,
   "id": "6547e938",
   "metadata": {},
   "outputs": [
    {
     "data": {
      "text/html": [
       "\n",
       "    <!DOCTYPE html>\n",
       "    <html>\n",
       "    <head>\n",
       "    </head>\n",
       "    <body>\n",
       "    \n",
       "    <h5><font color=purple>Entreno los conjuntos de datos del modelo K-fold cross validation con validacion knn, árboles de decisón y random forest: </h5>\n",
       "\n",
       "    </body>\n",
       "    </html>\n",
       "    "
      ],
      "text/plain": [
       "<IPython.core.display.HTML object>"
      ]
     },
     "metadata": {},
     "output_type": "display_data"
    },
    {
     "data": {
      "text/html": [
       "\n",
       "    <!DOCTYPE html>\n",
       "    <html>\n",
       "    <head>\n",
       "    </head>\n",
       "    <body>\n",
       "    \n",
       "    <h5><font color=blue>Imprimo lo resultados para la metrica de Tasa de acierto de los experimentos realizados: </h5>\n",
       "\n",
       "    </body>\n",
       "    </html>\n",
       "    "
      ],
      "text/plain": [
       "<IPython.core.display.HTML object>"
      ]
     },
     "metadata": {},
     "output_type": "display_data"
    },
    {
     "data": {
      "text/html": [
       "<div>\n",
       "<style scoped>\n",
       "    .dataframe tbody tr th:only-of-type {\n",
       "        vertical-align: middle;\n",
       "    }\n",
       "\n",
       "    .dataframe tbody tr th {\n",
       "        vertical-align: top;\n",
       "    }\n",
       "\n",
       "    .dataframe thead tr th {\n",
       "        text-align: left;\n",
       "    }\n",
       "</style>\n",
       "<table border=\"1\" class=\"dataframe\">\n",
       "  <thead>\n",
       "    <tr>\n",
       "      <th></th>\n",
       "      <th colspan=\"3\" halign=\"left\">KFold-CrossVal</th>\n",
       "    </tr>\n",
       "    <tr>\n",
       "      <th></th>\n",
       "      <th>KNN</th>\n",
       "      <th>TREE</th>\n",
       "      <th>RANDOM</th>\n",
       "    </tr>\n",
       "  </thead>\n",
       "  <tbody>\n",
       "    <tr>\n",
       "      <th>Segmento 1</th>\n",
       "      <td>0.150000</td>\n",
       "      <td>0.050000</td>\n",
       "      <td>0.050000</td>\n",
       "    </tr>\n",
       "    <tr>\n",
       "      <th>Segmento 2</th>\n",
       "      <td>0.000000</td>\n",
       "      <td>0.250000</td>\n",
       "      <td>0.300000</td>\n",
       "    </tr>\n",
       "    <tr>\n",
       "      <th>Segmento 3</th>\n",
       "      <td>0.100000</td>\n",
       "      <td>0.300000</td>\n",
       "      <td>0.150000</td>\n",
       "    </tr>\n",
       "    <tr>\n",
       "      <th>Segmento 4</th>\n",
       "      <td>0.250000</td>\n",
       "      <td>0.050000</td>\n",
       "      <td>0.000000</td>\n",
       "    </tr>\n",
       "    <tr>\n",
       "      <th>All Segmentos after</th>\n",
       "      <td>0.242857</td>\n",
       "      <td>0.292857</td>\n",
       "      <td>0.178571</td>\n",
       "    </tr>\n",
       "    <tr>\n",
       "      <th>All Segmentos before</th>\n",
       "      <td>0.245238</td>\n",
       "      <td>0.242857</td>\n",
       "      <td>0.197619</td>\n",
       "    </tr>\n",
       "  </tbody>\n",
       "</table>\n",
       "</div>"
      ],
      "text/plain": [
       "                     KFold-CrossVal                    \n",
       "                                KNN      TREE    RANDOM\n",
       "Segmento 1                 0.150000  0.050000  0.050000\n",
       "Segmento 2                 0.000000  0.250000  0.300000\n",
       "Segmento 3                 0.100000  0.300000  0.150000\n",
       "Segmento 4                 0.250000  0.050000  0.000000\n",
       "All Segmentos after        0.242857  0.292857  0.178571\n",
       "All Segmentos before       0.245238  0.242857  0.197619"
      ]
     },
     "metadata": {},
     "output_type": "display_data"
    }
   ],
   "source": [
    "display(HTML(html_h5('Entreno los conjuntos de datos del modelo K-fold cross validation con validacion knn, árboles de decisón y random forest: ', 'purple')))\n",
    "display(HTML(html_h5('Imprimo lo resultados para la metrica de Tasa de acierto de los experimentos realizados: ', 'blue')))\n",
    "\n",
    "display(datos_cross_val)"
   ]
  },
  {
   "cell_type": "markdown",
   "id": "b463c04f",
   "metadata": {},
   "source": [
    "# leave-one-out"
   ]
  },
  {
   "cell_type": "code",
   "execution_count": 19,
   "id": "a8c76e5b",
   "metadata": {},
   "outputs": [],
   "source": [
    "#LOO\n",
    "\n",
    "def evaluar_loo(dataframe):\n",
    "    \n",
    "    X_train, y_train, X_val, y_val, X_test, y_test = dividir_datos(dataframe)\n",
    "\n",
    "    model_KFOLD = KFold(n_splits=CV)\n",
    "    model_KNN = KNeighborsClassifier()\n",
    "    model_TREE = DecisionTreeClassifier()\n",
    "    model_RANDOM = RandomForestClassifier(max_depth=MAX_DEPTH, n_estimators=ESTIMATOR)\n",
    "        \n",
    "    # Calculo las  metricas       \n",
    "    knn = cross_val_score(model_KNN, X_val, y_val, cv=LOO, scoring=ACC_SCORER)   \n",
    "    tree = cross_val_score(model_TREE, X_val, y_val, cv=LOO, scoring=ACC_SCORER) \n",
    "    random = cross_val_score(model_RANDOM, X_val, y_val, cv=LOO, scoring=ACC_SCORER)\n",
    "\n",
    "    # Calculo la media de las metricas anteriores\n",
    "    knn_mean = knn.mean()\n",
    "    tree_mean = tree.mean()\n",
    "    random_mean = random.mean()\n",
    "\n",
    "    return ((knn_mean), (tree_mean), (random_mean))"
   ]
  },
  {
   "cell_type": "code",
   "execution_count": 20,
   "id": "4da81a8c",
   "metadata": {},
   "outputs": [],
   "source": [
    "modelos_all= []\n",
    "\n",
    "for exp in datosEEG_all:\n",
    "    \n",
    "    modelos_all.append(evaluar_loo(exp))\n",
    "\n",
    "datos_loo = pd.DataFrame(modelos_all)\n",
    "\n",
    "# combio los valores anteriores en el dataframene con rename\n",
    "datos_loo = datos_loo.rename(index=nuevos_indices)\n",
    "\n",
    "datos_loo.columns = pd.MultiIndex.from_tuples([(\"Leave-1-out\",\"KNN\"), (\"Leave-1-out\",\"TREE\"), (\"Leave-1-out\",\"RANDOM\")])\n",
    "\n",
    "\n"
   ]
  },
  {
   "cell_type": "code",
   "execution_count": 21,
   "id": "8f483996",
   "metadata": {},
   "outputs": [
    {
     "data": {
      "text/html": [
       "\n",
       "    <!DOCTYPE html>\n",
       "    <html>\n",
       "    <head>\n",
       "    </head>\n",
       "    <body>\n",
       "    \n",
       "    <h5><font color=purple>Entreno los conjuntos de datos del modelo leave one out cross validation con validacion knn, árboles de decisón y random forest: </h5>\n",
       "\n",
       "    </body>\n",
       "    </html>\n",
       "    "
      ],
      "text/plain": [
       "<IPython.core.display.HTML object>"
      ]
     },
     "metadata": {},
     "output_type": "display_data"
    },
    {
     "data": {
      "text/html": [
       "\n",
       "    <!DOCTYPE html>\n",
       "    <html>\n",
       "    <head>\n",
       "    </head>\n",
       "    <body>\n",
       "    \n",
       "    <h5><font color=blue>Imprimo lo resultados para la metrica de Tasa de acierto de los experimentos realizados: </h5>\n",
       "\n",
       "    </body>\n",
       "    </html>\n",
       "    "
      ],
      "text/plain": [
       "<IPython.core.display.HTML object>"
      ]
     },
     "metadata": {},
     "output_type": "display_data"
    },
    {
     "data": {
      "text/html": [
       "<div>\n",
       "<style scoped>\n",
       "    .dataframe tbody tr th:only-of-type {\n",
       "        vertical-align: middle;\n",
       "    }\n",
       "\n",
       "    .dataframe tbody tr th {\n",
       "        vertical-align: top;\n",
       "    }\n",
       "\n",
       "    .dataframe thead tr th {\n",
       "        text-align: left;\n",
       "    }\n",
       "</style>\n",
       "<table border=\"1\" class=\"dataframe\">\n",
       "  <thead>\n",
       "    <tr>\n",
       "      <th></th>\n",
       "      <th colspan=\"3\" halign=\"left\">Leave-1-out</th>\n",
       "    </tr>\n",
       "    <tr>\n",
       "      <th></th>\n",
       "      <th>KNN</th>\n",
       "      <th>TREE</th>\n",
       "      <th>RANDOM</th>\n",
       "    </tr>\n",
       "  </thead>\n",
       "  <tbody>\n",
       "    <tr>\n",
       "      <th>Segmento 1</th>\n",
       "      <td>0.166667</td>\n",
       "      <td>0.083333</td>\n",
       "      <td>0.083333</td>\n",
       "    </tr>\n",
       "    <tr>\n",
       "      <th>Segmento 2</th>\n",
       "      <td>0.000000</td>\n",
       "      <td>0.200000</td>\n",
       "      <td>0.133333</td>\n",
       "    </tr>\n",
       "    <tr>\n",
       "      <th>Segmento 3</th>\n",
       "      <td>0.111111</td>\n",
       "      <td>0.333333</td>\n",
       "      <td>0.277778</td>\n",
       "    </tr>\n",
       "    <tr>\n",
       "      <th>Segmento 4</th>\n",
       "      <td>0.222222</td>\n",
       "      <td>0.000000</td>\n",
       "      <td>0.111111</td>\n",
       "    </tr>\n",
       "    <tr>\n",
       "      <th>All Segmentos after</th>\n",
       "      <td>0.229508</td>\n",
       "      <td>0.180328</td>\n",
       "      <td>0.344262</td>\n",
       "    </tr>\n",
       "    <tr>\n",
       "      <th>All Segmentos before</th>\n",
       "      <td>0.229508</td>\n",
       "      <td>0.229508</td>\n",
       "      <td>0.229508</td>\n",
       "    </tr>\n",
       "  </tbody>\n",
       "</table>\n",
       "</div>"
      ],
      "text/plain": [
       "                     Leave-1-out                    \n",
       "                             KNN      TREE    RANDOM\n",
       "Segmento 1              0.166667  0.083333  0.083333\n",
       "Segmento 2              0.000000  0.200000  0.133333\n",
       "Segmento 3              0.111111  0.333333  0.277778\n",
       "Segmento 4              0.222222  0.000000  0.111111\n",
       "All Segmentos after     0.229508  0.180328  0.344262\n",
       "All Segmentos before    0.229508  0.229508  0.229508"
      ]
     },
     "metadata": {},
     "output_type": "display_data"
    }
   ],
   "source": [
    "display(HTML(html_h5('Entreno los conjuntos de datos del modelo leave one out cross validation con validacion knn, árboles de decisón y random forest: ', 'purple')))\n",
    "display(HTML(html_h5('Imprimo lo resultados para la metrica de Tasa de acierto de los experimentos realizados: ', 'blue')))\n",
    "\n",
    "\n",
    "display(datos_loo)"
   ]
  },
  {
   "cell_type": "code",
   "execution_count": 22,
   "id": "7f2fe243",
   "metadata": {},
   "outputs": [],
   "source": [
    "\n",
    "\n",
    "df_concatenado = pd.concat([datos_holdout, datos_cross_val, datos_loo], axis=1)\n",
    "\n"
   ]
  },
  {
   "cell_type": "code",
   "execution_count": null,
   "id": "3142ce75",
   "metadata": {},
   "outputs": [],
   "source": [
    "\n",
    "\n"
   ]
  },
  {
   "cell_type": "code",
   "execution_count": 23,
   "id": "47725f27",
   "metadata": {},
   "outputs": [
    {
     "data": {
      "text/html": [
       "\n",
       "    <!DOCTYPE html>\n",
       "    <html>\n",
       "    <head>\n",
       "    </head>\n",
       "    <body>\n",
       "    \n",
       "    <h5><font color=blue>Imprimo resumen de todos lo resultados obtenidos para la metrica de Tasa de acierto de los experimentos anteriores: </h5>\n",
       "\n",
       "    </body>\n",
       "    </html>\n",
       "    "
      ],
      "text/plain": [
       "<IPython.core.display.HTML object>"
      ]
     },
     "metadata": {},
     "output_type": "display_data"
    },
    {
     "name": "stdout",
     "output_type": "stream",
     "text": [
      "Datos Evaluación\n"
     ]
    },
    {
     "data": {
      "text/html": [
       "<style type=\"text/css\">\n",
       "#T_b9b4a_row0_col0, #T_b9b4a_row1_col0, #T_b9b4a_row2_col1, #T_b9b4a_row3_col1, #T_b9b4a_row4_col2, #T_b9b4a_row5_col0 {\n",
       "  background-color: green;\n",
       "}\n",
       "#T_b9b4a_row0_col1, #T_b9b4a_row1_col1, #T_b9b4a_row2_col2, #T_b9b4a_row3_col3, #T_b9b4a_row4_col0, #T_b9b4a_row5_col2 {\n",
       "  background-color: yellow;\n",
       "}\n",
       "#T_b9b4a_row0_col2, #T_b9b4a_row1_col2, #T_b9b4a_row2_col7, #T_b9b4a_row3_col0, #T_b9b4a_row4_col8, #T_b9b4a_row5_col3 {\n",
       "  background-color: orange;\n",
       "}\n",
       "</style>\n",
       "<table id=\"T_b9b4a\">\n",
       "  <thead>\n",
       "    <tr>\n",
       "      <th class=\"blank level0\" >&nbsp;</th>\n",
       "      <th id=\"T_b9b4a_level0_col0\" class=\"col_heading level0 col0\" colspan=\"3\">HoldOut</th>\n",
       "      <th id=\"T_b9b4a_level0_col3\" class=\"col_heading level0 col3\" colspan=\"3\">KFold-CrossVal</th>\n",
       "      <th id=\"T_b9b4a_level0_col6\" class=\"col_heading level0 col6\" colspan=\"3\">Leave-1-out</th>\n",
       "    </tr>\n",
       "    <tr>\n",
       "      <th class=\"blank level1\" >&nbsp;</th>\n",
       "      <th id=\"T_b9b4a_level1_col0\" class=\"col_heading level1 col0\" >KNN</th>\n",
       "      <th id=\"T_b9b4a_level1_col1\" class=\"col_heading level1 col1\" >TREE</th>\n",
       "      <th id=\"T_b9b4a_level1_col2\" class=\"col_heading level1 col2\" >RANDOM</th>\n",
       "      <th id=\"T_b9b4a_level1_col3\" class=\"col_heading level1 col3\" >KNN</th>\n",
       "      <th id=\"T_b9b4a_level1_col4\" class=\"col_heading level1 col4\" >TREE</th>\n",
       "      <th id=\"T_b9b4a_level1_col5\" class=\"col_heading level1 col5\" >RANDOM</th>\n",
       "      <th id=\"T_b9b4a_level1_col6\" class=\"col_heading level1 col6\" >KNN</th>\n",
       "      <th id=\"T_b9b4a_level1_col7\" class=\"col_heading level1 col7\" >TREE</th>\n",
       "      <th id=\"T_b9b4a_level1_col8\" class=\"col_heading level1 col8\" >RANDOM</th>\n",
       "    </tr>\n",
       "  </thead>\n",
       "  <tbody>\n",
       "    <tr>\n",
       "      <th id=\"T_b9b4a_level0_row0\" class=\"row_heading level0 row0\" >Segmento 1</th>\n",
       "      <td id=\"T_b9b4a_row0_col0\" class=\"data row0 col0\" >0.416667</td>\n",
       "      <td id=\"T_b9b4a_row0_col1\" class=\"data row0 col1\" >0.416667</td>\n",
       "      <td id=\"T_b9b4a_row0_col2\" class=\"data row0 col2\" >0.250000</td>\n",
       "      <td id=\"T_b9b4a_row0_col3\" class=\"data row0 col3\" >0.150000</td>\n",
       "      <td id=\"T_b9b4a_row0_col4\" class=\"data row0 col4\" >0.050000</td>\n",
       "      <td id=\"T_b9b4a_row0_col5\" class=\"data row0 col5\" >0.050000</td>\n",
       "      <td id=\"T_b9b4a_row0_col6\" class=\"data row0 col6\" >0.166667</td>\n",
       "      <td id=\"T_b9b4a_row0_col7\" class=\"data row0 col7\" >0.083333</td>\n",
       "      <td id=\"T_b9b4a_row0_col8\" class=\"data row0 col8\" >0.083333</td>\n",
       "    </tr>\n",
       "    <tr>\n",
       "      <th id=\"T_b9b4a_level0_row1\" class=\"row_heading level0 row1\" >Segmento 2</th>\n",
       "      <td id=\"T_b9b4a_row1_col0\" class=\"data row1 col0\" >0.400000</td>\n",
       "      <td id=\"T_b9b4a_row1_col1\" class=\"data row1 col1\" >0.333333</td>\n",
       "      <td id=\"T_b9b4a_row1_col2\" class=\"data row1 col2\" >0.333333</td>\n",
       "      <td id=\"T_b9b4a_row1_col3\" class=\"data row1 col3\" >0.000000</td>\n",
       "      <td id=\"T_b9b4a_row1_col4\" class=\"data row1 col4\" >0.250000</td>\n",
       "      <td id=\"T_b9b4a_row1_col5\" class=\"data row1 col5\" >0.300000</td>\n",
       "      <td id=\"T_b9b4a_row1_col6\" class=\"data row1 col6\" >0.000000</td>\n",
       "      <td id=\"T_b9b4a_row1_col7\" class=\"data row1 col7\" >0.200000</td>\n",
       "      <td id=\"T_b9b4a_row1_col8\" class=\"data row1 col8\" >0.133333</td>\n",
       "    </tr>\n",
       "    <tr>\n",
       "      <th id=\"T_b9b4a_level0_row2\" class=\"row_heading level0 row2\" >Segmento 3</th>\n",
       "      <td id=\"T_b9b4a_row2_col0\" class=\"data row2 col0\" >0.277778</td>\n",
       "      <td id=\"T_b9b4a_row2_col1\" class=\"data row2 col1\" >0.333333</td>\n",
       "      <td id=\"T_b9b4a_row2_col2\" class=\"data row2 col2\" >0.333333</td>\n",
       "      <td id=\"T_b9b4a_row2_col3\" class=\"data row2 col3\" >0.100000</td>\n",
       "      <td id=\"T_b9b4a_row2_col4\" class=\"data row2 col4\" >0.300000</td>\n",
       "      <td id=\"T_b9b4a_row2_col5\" class=\"data row2 col5\" >0.150000</td>\n",
       "      <td id=\"T_b9b4a_row2_col6\" class=\"data row2 col6\" >0.111111</td>\n",
       "      <td id=\"T_b9b4a_row2_col7\" class=\"data row2 col7\" >0.333333</td>\n",
       "      <td id=\"T_b9b4a_row2_col8\" class=\"data row2 col8\" >0.277778</td>\n",
       "    </tr>\n",
       "    <tr>\n",
       "      <th id=\"T_b9b4a_level0_row3\" class=\"row_heading level0 row3\" >Segmento 4</th>\n",
       "      <td id=\"T_b9b4a_row3_col0\" class=\"data row3 col0\" >0.222222</td>\n",
       "      <td id=\"T_b9b4a_row3_col1\" class=\"data row3 col1\" >0.388889</td>\n",
       "      <td id=\"T_b9b4a_row3_col2\" class=\"data row3 col2\" >0.166667</td>\n",
       "      <td id=\"T_b9b4a_row3_col3\" class=\"data row3 col3\" >0.250000</td>\n",
       "      <td id=\"T_b9b4a_row3_col4\" class=\"data row3 col4\" >0.050000</td>\n",
       "      <td id=\"T_b9b4a_row3_col5\" class=\"data row3 col5\" >0.000000</td>\n",
       "      <td id=\"T_b9b4a_row3_col6\" class=\"data row3 col6\" >0.222222</td>\n",
       "      <td id=\"T_b9b4a_row3_col7\" class=\"data row3 col7\" >0.000000</td>\n",
       "      <td id=\"T_b9b4a_row3_col8\" class=\"data row3 col8\" >0.111111</td>\n",
       "    </tr>\n",
       "    <tr>\n",
       "      <th id=\"T_b9b4a_level0_row4\" class=\"row_heading level0 row4\" >All Segmentos after</th>\n",
       "      <td id=\"T_b9b4a_row4_col0\" class=\"data row4 col0\" >0.344262</td>\n",
       "      <td id=\"T_b9b4a_row4_col1\" class=\"data row4 col1\" >0.213115</td>\n",
       "      <td id=\"T_b9b4a_row4_col2\" class=\"data row4 col2\" >0.377049</td>\n",
       "      <td id=\"T_b9b4a_row4_col3\" class=\"data row4 col3\" >0.242857</td>\n",
       "      <td id=\"T_b9b4a_row4_col4\" class=\"data row4 col4\" >0.292857</td>\n",
       "      <td id=\"T_b9b4a_row4_col5\" class=\"data row4 col5\" >0.178571</td>\n",
       "      <td id=\"T_b9b4a_row4_col6\" class=\"data row4 col6\" >0.229508</td>\n",
       "      <td id=\"T_b9b4a_row4_col7\" class=\"data row4 col7\" >0.180328</td>\n",
       "      <td id=\"T_b9b4a_row4_col8\" class=\"data row4 col8\" >0.344262</td>\n",
       "    </tr>\n",
       "    <tr>\n",
       "      <th id=\"T_b9b4a_level0_row5\" class=\"row_heading level0 row5\" >All Segmentos before</th>\n",
       "      <td id=\"T_b9b4a_row5_col0\" class=\"data row5 col0\" >0.393443</td>\n",
       "      <td id=\"T_b9b4a_row5_col1\" class=\"data row5 col1\" >0.229508</td>\n",
       "      <td id=\"T_b9b4a_row5_col2\" class=\"data row5 col2\" >0.278689</td>\n",
       "      <td id=\"T_b9b4a_row5_col3\" class=\"data row5 col3\" >0.245238</td>\n",
       "      <td id=\"T_b9b4a_row5_col4\" class=\"data row5 col4\" >0.242857</td>\n",
       "      <td id=\"T_b9b4a_row5_col5\" class=\"data row5 col5\" >0.197619</td>\n",
       "      <td id=\"T_b9b4a_row5_col6\" class=\"data row5 col6\" >0.229508</td>\n",
       "      <td id=\"T_b9b4a_row5_col7\" class=\"data row5 col7\" >0.229508</td>\n",
       "      <td id=\"T_b9b4a_row5_col8\" class=\"data row5 col8\" >0.229508</td>\n",
       "    </tr>\n",
       "  </tbody>\n",
       "</table>\n"
      ],
      "text/plain": [
       "<pandas.io.formats.style.Styler at 0x22ee9530cd0>"
      ]
     },
     "metadata": {},
     "output_type": "display_data"
    }
   ],
   "source": [
    "\n",
    "display(HTML(html_h5('Imprimo resumen de todos lo resultados obtenidos para la metrica de Tasa de acierto de los experimentos anteriores: ', 'blue')))\n",
    "\n",
    "print('Datos Evaluación')\n",
    "comparativa_ml = df_concatenado.style.apply(colorear_mayores_3, axis=1)\n",
    "\n",
    "display(comparativa_ml)\n",
    "\n"
   ]
  },
  {
   "cell_type": "code",
   "execution_count": null,
   "id": "73b58f89",
   "metadata": {},
   "outputs": [],
   "source": []
  },
  {
   "cell_type": "code",
   "execution_count": 24,
   "id": "37b46871",
   "metadata": {},
   "outputs": [
    {
     "name": "stdout",
     "output_type": "stream",
     "text": [
      "Datos Test\n"
     ]
    },
    {
     "data": {
      "text/html": [
       "<style type=\"text/css\">\n",
       "#T_ff31b_row0_col0, #T_ff31b_row1_col0, #T_ff31b_row2_col0, #T_ff31b_row3_col1, #T_ff31b_row4_col1, #T_ff31b_row5_col1 {\n",
       "  background-color: green;\n",
       "}\n",
       "#T_ff31b_row0_col1, #T_ff31b_row1_col1, #T_ff31b_row2_col1, #T_ff31b_row3_col0, #T_ff31b_row4_col0, #T_ff31b_row5_col0 {\n",
       "  background-color: yellow;\n",
       "}\n",
       "</style>\n",
       "<table id=\"T_ff31b\">\n",
       "  <thead>\n",
       "    <tr>\n",
       "      <th class=\"blank level0\" >&nbsp;</th>\n",
       "      <th id=\"T_ff31b_level0_col0\" class=\"col_heading level0 col0\" colspan=\"3\">HoldOut</th>\n",
       "    </tr>\n",
       "    <tr>\n",
       "      <th class=\"blank level1\" >&nbsp;</th>\n",
       "      <th id=\"T_ff31b_level1_col0\" class=\"col_heading level1 col0\" >KNN</th>\n",
       "      <th id=\"T_ff31b_level1_col1\" class=\"col_heading level1 col1\" >TREE</th>\n",
       "      <th id=\"T_ff31b_level1_col2\" class=\"col_heading level1 col2\" >RANDOM</th>\n",
       "    </tr>\n",
       "  </thead>\n",
       "  <tbody>\n",
       "    <tr>\n",
       "      <th id=\"T_ff31b_level0_row0\" class=\"row_heading level0 row0\" >Segmento 1</th>\n",
       "      <td id=\"T_ff31b_row0_col0\" class=\"data row0 col0\" >0.692308</td>\n",
       "      <td id=\"T_ff31b_row0_col1\" class=\"data row0 col1\" >0.615385</td>\n",
       "      <td id=\"T_ff31b_row0_col2\" class=\"data row0 col2\" >0.615385</td>\n",
       "    </tr>\n",
       "    <tr>\n",
       "      <th id=\"T_ff31b_level0_row1\" class=\"row_heading level0 row1\" >Segmento 2</th>\n",
       "      <td id=\"T_ff31b_row1_col0\" class=\"data row1 col0\" >0.500000</td>\n",
       "      <td id=\"T_ff31b_row1_col1\" class=\"data row1 col1\" >0.312500</td>\n",
       "      <td id=\"T_ff31b_row1_col2\" class=\"data row1 col2\" >0.312500</td>\n",
       "    </tr>\n",
       "    <tr>\n",
       "      <th id=\"T_ff31b_level0_row2\" class=\"row_heading level0 row2\" >Segmento 3</th>\n",
       "      <td id=\"T_ff31b_row2_col0\" class=\"data row2 col0\" >0.400000</td>\n",
       "      <td id=\"T_ff31b_row2_col1\" class=\"data row2 col1\" >0.250000</td>\n",
       "      <td id=\"T_ff31b_row2_col2\" class=\"data row2 col2\" >0.250000</td>\n",
       "    </tr>\n",
       "    <tr>\n",
       "      <th id=\"T_ff31b_level0_row3\" class=\"row_heading level0 row3\" >Segmento 4</th>\n",
       "      <td id=\"T_ff31b_row3_col0\" class=\"data row3 col0\" >0.200000</td>\n",
       "      <td id=\"T_ff31b_row3_col1\" class=\"data row3 col1\" >0.350000</td>\n",
       "      <td id=\"T_ff31b_row3_col2\" class=\"data row3 col2\" >0.200000</td>\n",
       "    </tr>\n",
       "    <tr>\n",
       "      <th id=\"T_ff31b_level0_row4\" class=\"row_heading level0 row4\" >All Segmentos after</th>\n",
       "      <td id=\"T_ff31b_row4_col0\" class=\"data row4 col0\" >0.279412</td>\n",
       "      <td id=\"T_ff31b_row4_col1\" class=\"data row4 col1\" >0.308824</td>\n",
       "      <td id=\"T_ff31b_row4_col2\" class=\"data row4 col2\" >0.250000</td>\n",
       "    </tr>\n",
       "    <tr>\n",
       "      <th id=\"T_ff31b_level0_row5\" class=\"row_heading level0 row5\" >All Segmentos before</th>\n",
       "      <td id=\"T_ff31b_row5_col0\" class=\"data row5 col0\" >0.250000</td>\n",
       "      <td id=\"T_ff31b_row5_col1\" class=\"data row5 col1\" >0.279412</td>\n",
       "      <td id=\"T_ff31b_row5_col2\" class=\"data row5 col2\" >0.250000</td>\n",
       "    </tr>\n",
       "  </tbody>\n",
       "</table>\n"
      ],
      "text/plain": [
       "<pandas.io.formats.style.Styler at 0x22ee94f11d0>"
      ]
     },
     "metadata": {},
     "output_type": "display_data"
    }
   ],
   "source": [
    "\n",
    "print('Datos Test')\n",
    "comparativa_ml_test = datos_holdout_test.style.apply(colorear_mayores_2, axis=1)\n",
    "\n",
    "display(comparativa_ml_test)"
   ]
  },
  {
   "cell_type": "code",
   "execution_count": 25,
   "id": "ec83b489",
   "metadata": {},
   "outputs": [],
   "source": [
    "datos_holdout = pd.concat([datos_holdout_knn, datos_holdout_tree, datos_holdout_random], axis=1)\n",
    "datos_holdout_test = pd.concat([datos_holdout_knn_test, datos_holdout_tree_test, datos_holdout_random_test], axis=1)\n",
    "datos_holdout.to_csv(f'../datos/csv/datosEGG_holdout_val.csv', index=False)\n",
    "datos_holdout_test.to_csv(f'../datos/csv/datosEGG_holdout_test.csv', index=False)"
   ]
  },
  {
   "cell_type": "code",
   "execution_count": null,
   "id": "deef48b0",
   "metadata": {},
   "outputs": [],
   "source": []
  }
 ],
 "metadata": {
  "kernelspec": {
   "display_name": "Python 3 (ipykernel)",
   "language": "python",
   "name": "python3"
  },
  "language_info": {
   "codemirror_mode": {
    "name": "ipython",
    "version": 3
   },
   "file_extension": ".py",
   "mimetype": "text/x-python",
   "name": "python",
   "nbconvert_exporter": "python",
   "pygments_lexer": "ipython3",
   "version": "3.11.5"
  }
 },
 "nbformat": 4,
 "nbformat_minor": 5
}
