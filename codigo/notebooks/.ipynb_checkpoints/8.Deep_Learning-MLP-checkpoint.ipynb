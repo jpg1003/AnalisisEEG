{
 "cells": [
  {
   "cell_type": "markdown",
   "id": "8045039e",
   "metadata": {},
   "source": [
    "<img style=\"float:left\" width=\"70%\" src=\"../../documentacion/imagenes/escudo_COLOR_1L_DCHA.png\">\n",
    "<img style=\"float:right\" width=\"10%\" src=\"../../documentacion/imagenes/PythonLogo.svg\">\n",
    "<br style=\"clear:both;\">\n",
    "\n",
    "\n",
    "<h2 style=\"display: inline-block; padding: 4mm; padding-left: 2em; background-color: navy; line-height: 1.3em; color: white; border-radius: 10px;\">8. Deep Learning MLP</h2>\n",
    "\n",
    "\n",
    " \n",
    "## Estudiante:\n",
    "\n",
    "- Jose Luis Perez Gomez"
   ]
  },
  {
   "cell_type": "code",
   "execution_count": 136,
   "id": "af97b04a",
   "metadata": {},
   "outputs": [],
   "source": [
    "%run 3.Importaciones.ipynb\n",
    "%run 4.Variables_Clases.ipynb"
   ]
  },
  {
   "cell_type": "code",
   "execution_count": 154,
   "id": "41199a17",
   "metadata": {},
   "outputs": [],
   "source": [
    "experimento_1_nor = pd.read_csv('../datos/experimento_1.csv', sep=',')\n",
    "experimento_2_nor = pd.read_csv('../datos/experimento_stscaler_2.csv', sep=',')\n",
    "experimento_3_nor = pd.read_csv('../datos/experimento_stscaler_3.csv', sep=',')\n",
    "experimento_4_nor = pd.read_csv('../datos/experimento_stscaler_4.csv', sep=',')\n",
    "experimento_all_nor = pd.read_csv('../datos/experimento_stscaler_all.csv', sep=',')\n",
    "\n",
    "experimentos_nor = [experimento_1_nor, experimento_2_nor, experimento_3_nor, experimento_4_nor]\n",
    "experimentos_name = {'experimento_1':experimento_1_nor, 'experimento_2':experimento_2_nor, 'experimento_3':experimento_3_nor,'experimento_4':experimento_4_nor}\n",
    "\n"
   ]
  },
  {
   "cell_type": "code",
   "execution_count": 155,
   "id": "4f190c3a",
   "metadata": {},
   "outputs": [],
   "source": [
    "experimento_1_nor = experimento_1_nor.drop(['Timestamp'], axis=1)\n",
    "experimento_2_nor = experimento_2_nor.drop(['Timestamp'], axis=1)\n",
    "experimento_3_nor = experimento_3_nor.drop(['Timestamp'], axis=1)\n",
    "experimento_4_nor = experimento_4_nor.drop(['Timestamp'], axis=1)"
   ]
  },
  {
   "cell_type": "markdown",
   "id": "4d60168f",
   "metadata": {},
   "source": [
    " # MLP Cassifier"
   ]
  },
  {
   "cell_type": "code",
   "execution_count": 156,
   "id": "130e33b0",
   "metadata": {},
   "outputs": [],
   "source": [
    "from sklearn.exceptions import ConvergenceWarning\n",
    "from sklearn.exceptions import UndefinedMetricWarning\n",
    "import warnings\n",
    "warnings.filterwarnings(\"ignore\", category=ConvergenceWarning)\n",
    "warnings.filterwarnings(\"ignore\", category=UndefinedMetricWarning)"
   ]
  },
  {
   "cell_type": "code",
   "execution_count": null,
   "id": "356365e0",
   "metadata": {},
   "outputs": [
    {
     "name": "stdout",
     "output_type": "stream",
     "text": [
      "experimento_1\n",
      "{'alpha': 0.07778, 'hidden_layer_sizes': (100,)}\n",
      "y_val\n",
      "[2. 0. 1. 0. 4. 0. 3. 0. 2. 1. 3. 4.]\n",
      "y_predict_model\n",
      "[2. 0. 1. 0. 4. 2. 4. 1. 4. 1. 2. 4.]\n",
      "experimento_1\n",
      "accuracy_score:\n",
      "0.5833333333333334\n",
      "Matriz  de Confusion:\n",
      "[[2 1 1 0 0]\n",
      " [0 2 0 0 0]\n",
      " [0 0 1 0 1]\n",
      " [0 0 1 0 1]\n",
      " [0 0 0 0 2]]\n",
      "********************************************************\n",
      "experimento_2\n",
      "{'alpha': 1e-05, 'hidden_layer_sizes': (50,)}\n",
      "y_val\n",
      "[3. 1. 3. 1. 4. 0. 0. 4. 4. 0. 2. 2. 0. 3.]\n",
      "y_predict_model\n",
      "[3. 0. 4. 3. 0. 4. 0. 4. 0. 0. 4. 0. 1. 3.]\n",
      "experimento_2\n",
      "accuracy_score:\n",
      "0.35714285714285715\n",
      "Matriz  de Confusion:\n",
      "[[2 1 0 0 1]\n",
      " [1 0 0 1 0]\n",
      " [1 0 0 0 1]\n",
      " [0 0 0 2 1]\n",
      " [2 0 0 0 1]]\n",
      "********************************************************\n",
      "experimento_3\n"
     ]
    }
   ],
   "source": [
    "experimentos = [(\"experimento_1\", experimento_1_nor), \n",
    "                (\"experimento_2\", experimento_2_nor), \n",
    "                (\"experimento_3\", experimento_3_nor), \n",
    "                (\"experimento_4\", experimento_4_nor)]\n",
    "\n",
    "model = MLPClassifier(max_iter=100)\n",
    "\n",
    "n_folds = 10\n",
    "\n",
    "# Defino los rangos de parámetros para MLP\n",
    "param_grid_mlp = {\n",
    "    'alpha': np.linspace(0.00001, 0.1, 10),  # Rango de valores para alpha\n",
    "    'hidden_layer_sizes': [(50,), (100,), (200,), (500,), (1000,)]  # Rango de valores para neuronas en la capa oculta\n",
    "}\n",
    "\n",
    "grid_search_mlp = GridSearchCV(model, param_grid_mlp, cv=n_folds)\n",
    "\n",
    "inicio_tiempo = time.time()\n",
    "\n",
    "for dataset_name, dataset in experimentos:\n",
    "    \n",
    "    print(dataset_name)\n",
    "    \n",
    "    \n",
    "    X_train, y_train, X_val, y_val, X_test, y_test = dividir_datos(dataset)\n",
    "    \n",
    "    \n",
    "    # Entrenar modelo\n",
    "    grid_search_mlp.fit(X_train, y_train)\n",
    "    best_model = grid_search_mlp.best_estimator_\n",
    "    \n",
    "    print(grid_search_mlp.best_params_)\n",
    "          \n",
    "    y_predict_model = best_model.predict(X_val)\n",
    "    \n",
    "    \n",
    "    #model.fit(X_train, y_train)\n",
    "    #y_predict_model = model.predict(X_val)\n",
    "    \n",
    "    \n",
    "    print('y_val')\n",
    "    print(y_val)\n",
    "    print('y_predict_model')\n",
    "    print(y_predict_model)\n",
    "    \n",
    "    #scores = get_cv_results(grid_search_mlp.best_estimator_, y_val, y_predict_model, n_folds)\n",
    "    \n",
    "    mlp = accuracy_score(y_val, y_predict_model)\n",
    "    \n",
    "    print(dataset_name)\n",
    "\n",
    "    print('accuracy_score:')\n",
    "    print(mlp)\n",
    "        \n",
    "    report = classification_report(y_val, y_predict_model)\n",
    "    #print('Classification Report:')\n",
    "    #print(report)\n",
    "        \n",
    "    matriz_confusion = confusion_matrix(y_val, y_predict_model)\n",
    "    print('Matriz  de Confusion:')\n",
    "    print(matriz_confusion)\n",
    "    print('********************************************************')\n",
    "\n",
    "\n",
    "fin_tiempo = time.time()\n",
    "\n",
    "tiempo_utilizado = fin_tiempo - inicio_tiempo\n",
    "\n",
    "# Convierto el tiempo a horas, minutos y segundos para saber cuanto tarda la ejecucion\n",
    "horas = int(tiempo_utilizado // 3600)\n",
    "minutos = int((tiempo_utilizado % 3600) // 60)\n",
    "segundos = int(tiempo_utilizado % 60)\n",
    "print(f\"Tiempo: {horas} : {minutos} : {segundos}\")"
   ]
  },
  {
   "cell_type": "code",
   "execution_count": null,
   "id": "4793f9cf",
   "metadata": {},
   "outputs": [],
   "source": []
  },
  {
   "cell_type": "code",
   "execution_count": null,
   "id": "d0585fd2",
   "metadata": {},
   "outputs": [],
   "source": []
  },
  {
   "cell_type": "code",
   "execution_count": null,
   "id": "37cb431d",
   "metadata": {},
   "outputs": [],
   "source": []
  },
  {
   "cell_type": "code",
   "execution_count": null,
   "id": "87a743be",
   "metadata": {},
   "outputs": [],
   "source": []
  },
  {
   "cell_type": "code",
   "execution_count": null,
   "id": "f4c3bbfd",
   "metadata": {},
   "outputs": [],
   "source": []
  }
 ],
 "metadata": {
  "kernelspec": {
   "display_name": "Python 3 (ipykernel)",
   "language": "python",
   "name": "python3"
  },
  "language_info": {
   "codemirror_mode": {
    "name": "ipython",
    "version": 3
   },
   "file_extension": ".py",
   "mimetype": "text/x-python",
   "name": "python",
   "nbconvert_exporter": "python",
   "pygments_lexer": "ipython3",
   "version": "3.11.5"
  }
 },
 "nbformat": 4,
 "nbformat_minor": 5
}
