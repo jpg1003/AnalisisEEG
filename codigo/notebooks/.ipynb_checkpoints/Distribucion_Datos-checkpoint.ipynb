{
 "cells": [
  {
   "cell_type": "markdown",
   "id": "f5907044",
   "metadata": {},
   "source": [
    "Distribucion de datos"
   ]
  },
  {
   "cell_type": "code",
   "execution_count": null,
   "id": "46b50b44",
   "metadata": {},
   "outputs": [],
   "source": [
    "experimento_4_nor = pd.read_csv('../datos/experimento_4_nor.csv', sep=',')\n",
    "experimento_3_nor = pd.read_csv('../datos/experimento_4_nor.csv', sep=',')\n",
    "experimento_2_nor = pd.read_csv('../datos/experimento_4_nor.csv', sep=',')\n",
    "experimento_1_nor = pd.read_csv('../datos/experimento_4_nor.csv', sep=',')\n"
   ]
  },
  {
   "cell_type": "code",
   "execution_count": null,
   "id": "0ab27b56",
   "metadata": {},
   "outputs": [],
   "source": [
    "#Dividir\n",
    "X4 = experimento_4_nor.drop('Key', axis=1)\n",
    "y4 = experimento_4_nor['Key']\n"
   ]
  }
 ],
 "metadata": {
  "kernelspec": {
   "display_name": "Python 3 (ipykernel)",
   "language": "python",
   "name": "python3"
  },
  "language_info": {
   "codemirror_mode": {
    "name": "ipython",
    "version": 3
   },
   "file_extension": ".py",
   "mimetype": "text/x-python",
   "name": "python",
   "nbconvert_exporter": "python",
   "pygments_lexer": "ipython3",
   "version": "3.11.5"
  }
 },
 "nbformat": 4,
 "nbformat_minor": 5
}
