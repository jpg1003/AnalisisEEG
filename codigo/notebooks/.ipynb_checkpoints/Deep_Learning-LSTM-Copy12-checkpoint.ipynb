{
 "cells": [
  {
   "cell_type": "markdown",
   "id": "8045039e",
   "metadata": {},
   "source": [
    "<img style=\"float:left\" width=\"70%\" src=\"../../documentacion/imagenes/escudo_COLOR_1L_DCHA.png\">\n",
    "<img style=\"float:right\" width=\"10%\" src=\"../../documentacion/imagenes/PythonLogo.svg\">\n",
    "<br style=\"clear:both;\">\n",
    "\n",
    "\n",
    "<h2 style=\"display: inline-block; padding: 4mm; padding-left: 2em; background-color: navy; line-height: 1.3em; color: white; border-radius: 10px;\">8. Deep Learning LSTM</h2>\n",
    "\n",
    "\n",
    " \n",
    "## Estudiante:\n",
    "\n",
    "- Jose Luis Perez Gomez"
   ]
  },
  {
   "cell_type": "code",
   "execution_count": 190,
   "id": "af97b04a",
   "metadata": {},
   "outputs": [],
   "source": [
    "%run 3.Importaciones.ipynb\n",
    "%run 4.Variables_Clases.ipynb"
   ]
  },
  {
   "cell_type": "code",
   "execution_count": 191,
   "id": "41199a17",
   "metadata": {},
   "outputs": [],
   "source": [
    "experimento_1_nor_separado = pd.read_csv('../datos/experimento_stscaler_separado1.csv', sep=',')\n",
    "experimento_2_nor_separado = pd.read_csv('../datos/experimento_stscaler_separado2.csv', sep=',')\n",
    "experimento_3_nor_separado = pd.read_csv('../datos/experimento_stscaler_separado3.csv', sep=',')\n",
    "experimento_4_nor_separado = pd.read_csv('../datos/experimento_stscaler_separado4.csv', sep=',')\n",
    "experimento_all_nor = pd.read_csv('../datos/experimento_stscaler_all.csv', sep=',')\n",
    "experimento_all_nor_separado = pd.read_csv('../datos/experimento_stscaler_separado_all.csv', sep=',')\n",
    "\n",
    "experimento_1_nor_separado = experimento_1_nor_separado.drop(['Timestamp'], axis=1)\n",
    "experimento_2_nor_separado = experimento_2_nor_separado.drop(['Timestamp'], axis=1)\n",
    "experimento_3_nor_separado = experimento_3_nor_separado.drop(['Timestamp'], axis=1)\n",
    "experimento_4_nor_separado = experimento_4_nor_separado.drop(['Timestamp'], axis=1)\n",
    "\n",
    "experimentos_nor = [experimento_1_nor_separado, experimento_2_nor_separado, experimento_3_nor_separado, experimento_4_nor_separado, experimento_all_nor, experimento_all_nor_separado ]\n"
   ]
  },
  {
   "cell_type": "code",
   "execution_count": null,
   "id": "4f190c3a",
   "metadata": {},
   "outputs": [],
   "source": []
  },
  {
   "cell_type": "code",
   "execution_count": null,
   "id": "fcd15619",
   "metadata": {},
   "outputs": [],
   "source": []
  },
  {
   "cell_type": "markdown",
   "id": "09831c43",
   "metadata": {},
   "source": [
    "# LSTM (Long short-term memory)"
   ]
  },
  {
   "cell_type": "code",
   "execution_count": null,
   "id": "6b74b62d",
   "metadata": {},
   "outputs": [],
   "source": []
  },
  {
   "cell_type": "code",
   "execution_count": 192,
   "id": "c7099f73",
   "metadata": {},
   "outputs": [],
   "source": [
    "train_datos, val_datos, test_datos = dividir_datos_deep(experimento_all_nor_separado)"
   ]
  },
  {
   "cell_type": "code",
   "execution_count": 193,
   "id": "3c280dfb",
   "metadata": {},
   "outputs": [
    {
     "name": "stdout",
     "output_type": "stream",
     "text": [
      "train_datos: (542, 11)\n",
      "val_datos: (67, 11)\n",
      "test_datos: (69, 11)\n"
     ]
    }
   ],
   "source": [
    "print(f'train_datos: {train_datos.shape}')\n",
    "print(f'val_datos: {val_datos.shape}')\n",
    "print(f'test_datos: {test_datos.shape}')"
   ]
  },
  {
   "cell_type": "code",
   "execution_count": 194,
   "id": "de4b798d",
   "metadata": {},
   "outputs": [
    {
     "data": {
      "text/plain": [
       "Key\n",
       "0.0    149\n",
       "1.0    112\n",
       "4.0    102\n",
       "3.0     90\n",
       "2.0     89\n",
       "Name: count, dtype: int64"
      ]
     },
     "execution_count": 194,
     "metadata": {},
     "output_type": "execute_result"
    }
   ],
   "source": [
    "train_datos['Key'].value_counts()"
   ]
  },
  {
   "cell_type": "code",
   "execution_count": 195,
   "id": "ed5d5419",
   "metadata": {},
   "outputs": [
    {
     "data": {
      "text/plain": [
       "Key\n",
       "0.0    17\n",
       "3.0    14\n",
       "4.0    14\n",
       "1.0    13\n",
       "2.0     9\n",
       "Name: count, dtype: int64"
      ]
     },
     "execution_count": 195,
     "metadata": {},
     "output_type": "execute_result"
    }
   ],
   "source": [
    "val_datos['Key'].value_counts()"
   ]
  },
  {
   "cell_type": "code",
   "execution_count": 196,
   "id": "f9663e42",
   "metadata": {
    "scrolled": true
   },
   "outputs": [
    {
     "data": {
      "text/plain": [
       "Key\n",
       "0.0    20\n",
       "2.0    16\n",
       "1.0    15\n",
       "4.0    11\n",
       "3.0     7\n",
       "Name: count, dtype: int64"
      ]
     },
     "execution_count": 196,
     "metadata": {},
     "output_type": "execute_result"
    }
   ],
   "source": [
    "test_datos['Key'].value_counts()"
   ]
  },
  {
   "cell_type": "code",
   "execution_count": 206,
   "id": "a5688c88",
   "metadata": {},
   "outputs": [],
   "source": [
    "\n",
    "def preparar_ventanas(datos, target, window_size=WINDOWS_SIZE, overlap=OVERLAP, target_type=TARGET_TYPE):\n",
    "    \n",
    "    if window_size <= overlap:\n",
    "        raise \"Overlap no puede ser mayor que window_size\"\n",
    "    X = []\n",
    "    y = []\n",
    "    for i in range(0, len(datos) - window_size, window_size - overlap):\n",
    "        X.append(datos[i:i+window_size])\n",
    "        window_targets = target[i:i+window_size].astype(int)\n",
    "        y_true = window_targets[-1]\n",
    "        y.append(y_true)\n",
    "\n",
    "    y_one_hot = tf.keras.utils.to_categorical(np.array(y), num_classes = 5)\n",
    "    # Key = [0, 1, 2, 3, 4, 0]\n",
    "    # One-hot [\n",
    "    #    [0, 1, 2, 3, 4]\n",
    "    #     1  0  0  0  0\n",
    "    #     0  1  0  0  0\n",
    "    #     0  0  1  0  0\n",
    "    #]\n",
    "    return np.array(X), y_one_hot\n",
    "    #return np.array(X), np.array(y)"
   ]
  },
  {
   "cell_type": "code",
   "execution_count": 207,
   "id": "7d4a3ecd",
   "metadata": {},
   "outputs": [],
   "source": [
    "columns = train_datos.columns[train_datos.columns != TARGET]\n",
    "\n"
   ]
  },
  {
   "cell_type": "code",
   "execution_count": null,
   "id": "e929694b",
   "metadata": {},
   "outputs": [],
   "source": []
  },
  {
   "cell_type": "code",
   "execution_count": 208,
   "id": "ce41f475",
   "metadata": {},
   "outputs": [],
   "source": [
    "X_train, y_train = preparar_ventanas(train_datos[columns].values, train_datos[TARGET].values, WINDOWS_SIZE, OVERLAP, TARGET_TYPE)\n",
    "X_val, y_val = preparar_ventanas(val_datos[columns].values, val_datos[TARGET].values, WINDOWS_SIZE, OVERLAP, TARGET_TYPE)\n",
    "X_test, y_test = preparar_ventanas(test_datos[columns].values, test_datos[TARGET].values, WINDOWS_SIZE, OVERLAP, TARGET_TYPE)"
   ]
  },
  {
   "cell_type": "code",
   "execution_count": null,
   "id": "af90c208",
   "metadata": {},
   "outputs": [],
   "source": []
  },
  {
   "cell_type": "code",
   "execution_count": 209,
   "id": "52bec6e4",
   "metadata": {},
   "outputs": [
    {
     "name": "stdout",
     "output_type": "stream",
     "text": [
      "X_train: (539, 3, 10)\n",
      "X_val: (64, 3, 10)\n",
      "X_test: (66, 3, 10)\n",
      "y_train: (539, 5)\n",
      "y_val: (64, 5)\n",
      "y_test: (66, 5)\n"
     ]
    }
   ],
   "source": [
    "print(f'X_train: {X_train.shape}')\n",
    "print(f'X_val: {X_val.shape}')\n",
    "print(f'X_test: {X_test.shape}')\n",
    "print(f'y_train: {y_train.shape}')\n",
    "print(f'y_val: {y_val.shape}')\n",
    "print(f'y_test: {y_test.shape}')\n"
   ]
  },
  {
   "cell_type": "code",
   "execution_count": 210,
   "id": "24bd83d2",
   "metadata": {},
   "outputs": [],
   "source": [
    "# Definición del modelo\n",
    "timesteps = 30\n",
    "features = 10\n",
    "\n",
    "def crear_LSTM(input_size, num_classes):\n",
    "    model_LSTM = Sequential()\n",
    "    model_LSTM.add(LSTM(units=128, input_shape=(timesteps, features)))\n",
    "    model_LSTM.add(Dense(num_classes, activation='softmax'))\n",
    "                        \n",
    "    return model_LSTM\n",
    "\n",
    "\n"
   ]
  },
  {
   "cell_type": "code",
   "execution_count": 211,
   "id": "deffa6fe",
   "metadata": {},
   "outputs": [
    {
     "data": {
      "text/html": [
       "<pre style=\"white-space:pre;overflow-x:auto;line-height:normal;font-family:Menlo,'DejaVu Sans Mono',consolas,'Courier New',monospace\"><span style=\"font-weight: bold\">Model: \"sequential_32\"</span>\n",
       "</pre>\n"
      ],
      "text/plain": [
       "\u001b[1mModel: \"sequential_32\"\u001b[0m\n"
      ]
     },
     "metadata": {},
     "output_type": "display_data"
    },
    {
     "data": {
      "text/html": [
       "<pre style=\"white-space:pre;overflow-x:auto;line-height:normal;font-family:Menlo,'DejaVu Sans Mono',consolas,'Courier New',monospace\">┏━━━━━━━━━━━━━━━━━━━━━━━━━━━━━━━━━━━━━━┳━━━━━━━━━━━━━━━━━━━━━━━━━━━━━┳━━━━━━━━━━━━━━━━━┓\n",
       "┃<span style=\"font-weight: bold\"> Layer (type)                         </span>┃<span style=\"font-weight: bold\"> Output Shape                </span>┃<span style=\"font-weight: bold\">         Param # </span>┃\n",
       "┡━━━━━━━━━━━━━━━━━━━━━━━━━━━━━━━━━━━━━━╇━━━━━━━━━━━━━━━━━━━━━━━━━━━━━╇━━━━━━━━━━━━━━━━━┩\n",
       "│ lstm_4 (<span style=\"color: #0087ff; text-decoration-color: #0087ff\">LSTM</span>)                        │ (<span style=\"color: #00d7ff; text-decoration-color: #00d7ff\">None</span>, <span style=\"color: #00af00; text-decoration-color: #00af00\">128</span>)                 │          <span style=\"color: #00af00; text-decoration-color: #00af00\">71,168</span> │\n",
       "├──────────────────────────────────────┼─────────────────────────────┼─────────────────┤\n",
       "│ dense_26 (<span style=\"color: #0087ff; text-decoration-color: #0087ff\">Dense</span>)                     │ (<span style=\"color: #00d7ff; text-decoration-color: #00d7ff\">None</span>, <span style=\"color: #00af00; text-decoration-color: #00af00\">5</span>)                   │             <span style=\"color: #00af00; text-decoration-color: #00af00\">645</span> │\n",
       "└──────────────────────────────────────┴─────────────────────────────┴─────────────────┘\n",
       "</pre>\n"
      ],
      "text/plain": [
       "┏━━━━━━━━━━━━━━━━━━━━━━━━━━━━━━━━━━━━━━┳━━━━━━━━━━━━━━━━━━━━━━━━━━━━━┳━━━━━━━━━━━━━━━━━┓\n",
       "┃\u001b[1m \u001b[0m\u001b[1mLayer (type)                        \u001b[0m\u001b[1m \u001b[0m┃\u001b[1m \u001b[0m\u001b[1mOutput Shape               \u001b[0m\u001b[1m \u001b[0m┃\u001b[1m \u001b[0m\u001b[1m        Param #\u001b[0m\u001b[1m \u001b[0m┃\n",
       "┡━━━━━━━━━━━━━━━━━━━━━━━━━━━━━━━━━━━━━━╇━━━━━━━━━━━━━━━━━━━━━━━━━━━━━╇━━━━━━━━━━━━━━━━━┩\n",
       "│ lstm_4 (\u001b[38;5;33mLSTM\u001b[0m)                        │ (\u001b[38;5;45mNone\u001b[0m, \u001b[38;5;34m128\u001b[0m)                 │          \u001b[38;5;34m71,168\u001b[0m │\n",
       "├──────────────────────────────────────┼─────────────────────────────┼─────────────────┤\n",
       "│ dense_26 (\u001b[38;5;33mDense\u001b[0m)                     │ (\u001b[38;5;45mNone\u001b[0m, \u001b[38;5;34m5\u001b[0m)                   │             \u001b[38;5;34m645\u001b[0m │\n",
       "└──────────────────────────────────────┴─────────────────────────────┴─────────────────┘\n"
      ]
     },
     "metadata": {},
     "output_type": "display_data"
    },
    {
     "data": {
      "text/html": [
       "<pre style=\"white-space:pre;overflow-x:auto;line-height:normal;font-family:Menlo,'DejaVu Sans Mono',consolas,'Courier New',monospace\"><span style=\"font-weight: bold\"> Total params: </span><span style=\"color: #00af00; text-decoration-color: #00af00\">71,813</span> (280.52 KB)\n",
       "</pre>\n"
      ],
      "text/plain": [
       "\u001b[1m Total params: \u001b[0m\u001b[38;5;34m71,813\u001b[0m (280.52 KB)\n"
      ]
     },
     "metadata": {},
     "output_type": "display_data"
    },
    {
     "data": {
      "text/html": [
       "<pre style=\"white-space:pre;overflow-x:auto;line-height:normal;font-family:Menlo,'DejaVu Sans Mono',consolas,'Courier New',monospace\"><span style=\"font-weight: bold\"> Trainable params: </span><span style=\"color: #00af00; text-decoration-color: #00af00\">71,813</span> (280.52 KB)\n",
       "</pre>\n"
      ],
      "text/plain": [
       "\u001b[1m Trainable params: \u001b[0m\u001b[38;5;34m71,813\u001b[0m (280.52 KB)\n"
      ]
     },
     "metadata": {},
     "output_type": "display_data"
    },
    {
     "data": {
      "text/html": [
       "<pre style=\"white-space:pre;overflow-x:auto;line-height:normal;font-family:Menlo,'DejaVu Sans Mono',consolas,'Courier New',monospace\"><span style=\"font-weight: bold\"> Non-trainable params: </span><span style=\"color: #00af00; text-decoration-color: #00af00\">0</span> (0.00 B)\n",
       "</pre>\n"
      ],
      "text/plain": [
       "\u001b[1m Non-trainable params: \u001b[0m\u001b[38;5;34m0\u001b[0m (0.00 B)\n"
      ]
     },
     "metadata": {},
     "output_type": "display_data"
    }
   ],
   "source": [
    "num_classes = 5\n",
    "input_size = X_train.shape[1:]\n",
    "model_LSTM = crear_LSTM(input_size, num_classes)\n",
    "model_LSTM.summary()\n"
   ]
  },
  {
   "cell_type": "code",
   "execution_count": 212,
   "id": "f3c8682d",
   "metadata": {},
   "outputs": [
    {
     "name": "stdout",
     "output_type": "stream",
     "text": [
      "Epoch 1/50\n",
      "\u001b[1m17/17\u001b[0m \u001b[32m━━━━━━━━━━━━━━━━━━━━\u001b[0m\u001b[37m\u001b[0m \u001b[1m2s\u001b[0m 22ms/step - accuracy: 0.2500 - f1_score: 0.2438 - loss: 1.6021 - val_accuracy: 0.1719 - val_f1_score: 0.1587 - val_loss: 1.6142\n",
      "Epoch 2/50\n",
      "\u001b[1m17/17\u001b[0m \u001b[32m━━━━━━━━━━━━━━━━━━━━\u001b[0m\u001b[37m\u001b[0m \u001b[1m0s\u001b[0m 5ms/step - accuracy: 0.2730 - f1_score: 0.2512 - loss: 1.5991 - val_accuracy: 0.2031 - val_f1_score: 0.2030 - val_loss: 1.6126\n",
      "Epoch 3/50\n",
      "\u001b[1m17/17\u001b[0m \u001b[32m━━━━━━━━━━━━━━━━━━━━\u001b[0m\u001b[37m\u001b[0m \u001b[1m0s\u001b[0m 6ms/step - accuracy: 0.2428 - f1_score: 0.2215 - loss: 1.5993 - val_accuracy: 0.1875 - val_f1_score: 0.1914 - val_loss: 1.6111\n",
      "Epoch 4/50\n",
      "\u001b[1m17/17\u001b[0m \u001b[32m━━━━━━━━━━━━━━━━━━━━\u001b[0m\u001b[37m\u001b[0m \u001b[1m0s\u001b[0m 6ms/step - accuracy: 0.2877 - f1_score: 0.2695 - loss: 1.5799 - val_accuracy: 0.1875 - val_f1_score: 0.1919 - val_loss: 1.6103\n",
      "Epoch 5/50\n",
      "\u001b[1m17/17\u001b[0m \u001b[32m━━━━━━━━━━━━━━━━━━━━\u001b[0m\u001b[37m\u001b[0m \u001b[1m0s\u001b[0m 5ms/step - accuracy: 0.3173 - f1_score: 0.2768 - loss: 1.5751 - val_accuracy: 0.1719 - val_f1_score: 0.1681 - val_loss: 1.6091\n",
      "Epoch 6/50\n",
      "\u001b[1m17/17\u001b[0m \u001b[32m━━━━━━━━━━━━━━━━━━━━\u001b[0m\u001b[37m\u001b[0m \u001b[1m0s\u001b[0m 5ms/step - accuracy: 0.3201 - f1_score: 0.2938 - loss: 1.5737 - val_accuracy: 0.1719 - val_f1_score: 0.1681 - val_loss: 1.6077\n",
      "Epoch 7/50\n",
      "\u001b[1m17/17\u001b[0m \u001b[32m━━━━━━━━━━━━━━━━━━━━\u001b[0m\u001b[37m\u001b[0m \u001b[1m0s\u001b[0m 5ms/step - accuracy: 0.3019 - f1_score: 0.2695 - loss: 1.5658 - val_accuracy: 0.1875 - val_f1_score: 0.1861 - val_loss: 1.6064\n",
      "Epoch 8/50\n",
      "\u001b[1m17/17\u001b[0m \u001b[32m━━━━━━━━━━━━━━━━━━━━\u001b[0m\u001b[37m\u001b[0m \u001b[1m0s\u001b[0m 5ms/step - accuracy: 0.3098 - f1_score: 0.2754 - loss: 1.5669 - val_accuracy: 0.1562 - val_f1_score: 0.1638 - val_loss: 1.6060\n",
      "Epoch 9/50\n",
      "\u001b[1m17/17\u001b[0m \u001b[32m━━━━━━━━━━━━━━━━━━━━\u001b[0m\u001b[37m\u001b[0m \u001b[1m0s\u001b[0m 5ms/step - accuracy: 0.3198 - f1_score: 0.2833 - loss: 1.5601 - val_accuracy: 0.1406 - val_f1_score: 0.1486 - val_loss: 1.6047\n",
      "Epoch 10/50\n",
      "\u001b[1m17/17\u001b[0m \u001b[32m━━━━━━━━━━━━━━━━━━━━\u001b[0m\u001b[37m\u001b[0m \u001b[1m0s\u001b[0m 5ms/step - accuracy: 0.3343 - f1_score: 0.2918 - loss: 1.5527 - val_accuracy: 0.1719 - val_f1_score: 0.1823 - val_loss: 1.6038\n",
      "Epoch 11/50\n",
      "\u001b[1m17/17\u001b[0m \u001b[32m━━━━━━━━━━━━━━━━━━━━\u001b[0m\u001b[37m\u001b[0m \u001b[1m0s\u001b[0m 5ms/step - accuracy: 0.3574 - f1_score: 0.3264 - loss: 1.5394 - val_accuracy: 0.1719 - val_f1_score: 0.1804 - val_loss: 1.6031\n",
      "Epoch 12/50\n",
      "\u001b[1m17/17\u001b[0m \u001b[32m━━━━━━━━━━━━━━━━━━━━\u001b[0m\u001b[37m\u001b[0m \u001b[1m0s\u001b[0m 5ms/step - accuracy: 0.3422 - f1_score: 0.3148 - loss: 1.5393 - val_accuracy: 0.1562 - val_f1_score: 0.1656 - val_loss: 1.6021\n",
      "Epoch 13/50\n",
      "\u001b[1m17/17\u001b[0m \u001b[32m━━━━━━━━━━━━━━━━━━━━\u001b[0m\u001b[37m\u001b[0m \u001b[1m0s\u001b[0m 5ms/step - accuracy: 0.3429 - f1_score: 0.3183 - loss: 1.5352 - val_accuracy: 0.1719 - val_f1_score: 0.1810 - val_loss: 1.6014\n",
      "Epoch 14/50\n",
      "\u001b[1m17/17\u001b[0m \u001b[32m━━━━━━━━━━━━━━━━━━━━\u001b[0m\u001b[37m\u001b[0m \u001b[1m0s\u001b[0m 5ms/step - accuracy: 0.3360 - f1_score: 0.3097 - loss: 1.5340 - val_accuracy: 0.1719 - val_f1_score: 0.1810 - val_loss: 1.5998\n",
      "Epoch 15/50\n",
      "\u001b[1m17/17\u001b[0m \u001b[32m━━━━━━━━━━━━━━━━━━━━\u001b[0m\u001b[37m\u001b[0m \u001b[1m0s\u001b[0m 5ms/step - accuracy: 0.3504 - f1_score: 0.3224 - loss: 1.5391 - val_accuracy: 0.1719 - val_f1_score: 0.1810 - val_loss: 1.5988\n",
      "Epoch 16/50\n",
      "\u001b[1m17/17\u001b[0m \u001b[32m━━━━━━━━━━━━━━━━━━━━\u001b[0m\u001b[37m\u001b[0m \u001b[1m0s\u001b[0m 5ms/step - accuracy: 0.3286 - f1_score: 0.3034 - loss: 1.5316 - val_accuracy: 0.1719 - val_f1_score: 0.1810 - val_loss: 1.5974\n",
      "Epoch 17/50\n",
      "\u001b[1m17/17\u001b[0m \u001b[32m━━━━━━━━━━━━━━━━━━━━\u001b[0m\u001b[37m\u001b[0m \u001b[1m0s\u001b[0m 5ms/step - accuracy: 0.3411 - f1_score: 0.3215 - loss: 1.5239 - val_accuracy: 0.1719 - val_f1_score: 0.1814 - val_loss: 1.5964\n",
      "Epoch 18/50\n",
      "\u001b[1m17/17\u001b[0m \u001b[32m━━━━━━━━━━━━━━━━━━━━\u001b[0m\u001b[37m\u001b[0m \u001b[1m0s\u001b[0m 5ms/step - accuracy: 0.3429 - f1_score: 0.3167 - loss: 1.5324 - val_accuracy: 0.1562 - val_f1_score: 0.1621 - val_loss: 1.5950\n",
      "Epoch 19/50\n",
      "\u001b[1m17/17\u001b[0m \u001b[32m━━━━━━━━━━━━━━━━━━━━\u001b[0m\u001b[37m\u001b[0m \u001b[1m0s\u001b[0m 5ms/step - accuracy: 0.3588 - f1_score: 0.3309 - loss: 1.5172 - val_accuracy: 0.1562 - val_f1_score: 0.1621 - val_loss: 1.5932\n",
      "Epoch 20/50\n",
      "\u001b[1m17/17\u001b[0m \u001b[32m━━━━━━━━━━━━━━━━━━━━\u001b[0m\u001b[37m\u001b[0m \u001b[1m0s\u001b[0m 5ms/step - accuracy: 0.3016 - f1_score: 0.2788 - loss: 1.5343 - val_accuracy: 0.1562 - val_f1_score: 0.1628 - val_loss: 1.5919\n",
      "Epoch 21/50\n",
      "\u001b[1m17/17\u001b[0m \u001b[32m━━━━━━━━━━━━━━━━━━━━\u001b[0m\u001b[37m\u001b[0m \u001b[1m0s\u001b[0m 5ms/step - accuracy: 0.3380 - f1_score: 0.3098 - loss: 1.5325 - val_accuracy: 0.1562 - val_f1_score: 0.1619 - val_loss: 1.5909\n",
      "Epoch 22/50\n",
      "\u001b[1m17/17\u001b[0m \u001b[32m━━━━━━━━━━━━━━━━━━━━\u001b[0m\u001b[37m\u001b[0m \u001b[1m0s\u001b[0m 8ms/step - accuracy: 0.3665 - f1_score: 0.3370 - loss: 1.4975 - val_accuracy: 0.1719 - val_f1_score: 0.1819 - val_loss: 1.5891\n",
      "Epoch 23/50\n",
      "\u001b[1m17/17\u001b[0m \u001b[32m━━━━━━━━━━━━━━━━━━━━\u001b[0m\u001b[37m\u001b[0m \u001b[1m0s\u001b[0m 5ms/step - accuracy: 0.3371 - f1_score: 0.2996 - loss: 1.5064 - val_accuracy: 0.1719 - val_f1_score: 0.1833 - val_loss: 1.5883\n",
      "Epoch 24/50\n",
      "\u001b[1m17/17\u001b[0m \u001b[32m━━━━━━━━━━━━━━━━━━━━\u001b[0m\u001b[37m\u001b[0m \u001b[1m0s\u001b[0m 5ms/step - accuracy: 0.3901 - f1_score: 0.3666 - loss: 1.5082 - val_accuracy: 0.1719 - val_f1_score: 0.1814 - val_loss: 1.5868\n",
      "Epoch 25/50\n",
      "\u001b[1m17/17\u001b[0m \u001b[32m━━━━━━━━━━━━━━━━━━━━\u001b[0m\u001b[37m\u001b[0m \u001b[1m0s\u001b[0m 6ms/step - accuracy: 0.3473 - f1_score: 0.3227 - loss: 1.5015 - val_accuracy: 0.2031 - val_f1_score: 0.2146 - val_loss: 1.5852\n",
      "Epoch 26/50\n",
      "\u001b[1m17/17\u001b[0m \u001b[32m━━━━━━━━━━━━━━━━━━━━\u001b[0m\u001b[37m\u001b[0m \u001b[1m0s\u001b[0m 5ms/step - accuracy: 0.3982 - f1_score: 0.3730 - loss: 1.4777 - val_accuracy: 0.2031 - val_f1_score: 0.2134 - val_loss: 1.5837\n",
      "Epoch 27/50\n",
      "\u001b[1m17/17\u001b[0m \u001b[32m━━━━━━━━━━━━━━━━━━━━\u001b[0m\u001b[37m\u001b[0m \u001b[1m0s\u001b[0m 5ms/step - accuracy: 0.3460 - f1_score: 0.3116 - loss: 1.4960 - val_accuracy: 0.2031 - val_f1_score: 0.2146 - val_loss: 1.5816\n",
      "Epoch 28/50\n",
      "\u001b[1m17/17\u001b[0m \u001b[32m━━━━━━━━━━━━━━━━━━━━\u001b[0m\u001b[37m\u001b[0m \u001b[1m0s\u001b[0m 5ms/step - accuracy: 0.3653 - f1_score: 0.3358 - loss: 1.4937 - val_accuracy: 0.2031 - val_f1_score: 0.2146 - val_loss: 1.5808\n",
      "Epoch 29/50\n",
      "\u001b[1m17/17\u001b[0m \u001b[32m━━━━━━━━━━━━━━━━━━━━\u001b[0m\u001b[37m\u001b[0m \u001b[1m0s\u001b[0m 5ms/step - accuracy: 0.3598 - f1_score: 0.3286 - loss: 1.4853 - val_accuracy: 0.1875 - val_f1_score: 0.2012 - val_loss: 1.5795\n",
      "Epoch 30/50\n",
      "\u001b[1m17/17\u001b[0m \u001b[32m━━━━━━━━━━━━━━━━━━━━\u001b[0m\u001b[37m\u001b[0m \u001b[1m0s\u001b[0m 7ms/step - accuracy: 0.3681 - f1_score: 0.3396 - loss: 1.4840 - val_accuracy: 0.1875 - val_f1_score: 0.2012 - val_loss: 1.5771\n",
      "Epoch 31/50\n",
      "\u001b[1m17/17\u001b[0m \u001b[32m━━━━━━━━━━━━━━━━━━━━\u001b[0m\u001b[37m\u001b[0m \u001b[1m0s\u001b[0m 5ms/step - accuracy: 0.3514 - f1_score: 0.3214 - loss: 1.4805 - val_accuracy: 0.1875 - val_f1_score: 0.2012 - val_loss: 1.5758\n",
      "Epoch 32/50\n",
      "\u001b[1m17/17\u001b[0m \u001b[32m━━━━━━━━━━━━━━━━━━━━\u001b[0m\u001b[37m\u001b[0m \u001b[1m0s\u001b[0m 5ms/step - accuracy: 0.3447 - f1_score: 0.3158 - loss: 1.4897 - val_accuracy: 0.2188 - val_f1_score: 0.2320 - val_loss: 1.5743\n",
      "Epoch 33/50\n",
      "\u001b[1m17/17\u001b[0m \u001b[32m━━━━━━━━━━━━━━━━━━━━\u001b[0m\u001b[37m\u001b[0m \u001b[1m0s\u001b[0m 6ms/step - accuracy: 0.3584 - f1_score: 0.3318 - loss: 1.4897 - val_accuracy: 0.2031 - val_f1_score: 0.2199 - val_loss: 1.5731\n",
      "Epoch 34/50\n",
      "\u001b[1m17/17\u001b[0m \u001b[32m━━━━━━━━━━━━━━━━━━━━\u001b[0m\u001b[37m\u001b[0m \u001b[1m0s\u001b[0m 5ms/step - accuracy: 0.3507 - f1_score: 0.3195 - loss: 1.4993 - val_accuracy: 0.1875 - val_f1_score: 0.2012 - val_loss: 1.5725\n",
      "Epoch 35/50\n",
      "\u001b[1m17/17\u001b[0m \u001b[32m━━━━━━━━━━━━━━━━━━━━\u001b[0m\u001b[37m\u001b[0m \u001b[1m0s\u001b[0m 6ms/step - accuracy: 0.3709 - f1_score: 0.3411 - loss: 1.4824 - val_accuracy: 0.2031 - val_f1_score: 0.2199 - val_loss: 1.5704\n",
      "Epoch 36/50\n",
      "\u001b[1m17/17\u001b[0m \u001b[32m━━━━━━━━━━━━━━━━━━━━\u001b[0m\u001b[37m\u001b[0m \u001b[1m0s\u001b[0m 6ms/step - accuracy: 0.3723 - f1_score: 0.3462 - loss: 1.4811 - val_accuracy: 0.2188 - val_f1_score: 0.2411 - val_loss: 1.5694\n",
      "Epoch 37/50\n",
      "\u001b[1m17/17\u001b[0m \u001b[32m━━━━━━━━━━━━━━━━━━━━\u001b[0m\u001b[37m\u001b[0m \u001b[1m0s\u001b[0m 4ms/step - accuracy: 0.3963 - f1_score: 0.3694 - loss: 1.4682 - val_accuracy: 0.2344 - val_f1_score: 0.2599 - val_loss: 1.5670\n",
      "Epoch 38/50\n",
      "\u001b[1m17/17\u001b[0m \u001b[32m━━━━━━━━━━━━━━━━━━━━\u001b[0m\u001b[37m\u001b[0m \u001b[1m0s\u001b[0m 5ms/step - accuracy: 0.3474 - f1_score: 0.3210 - loss: 1.4716 - val_accuracy: 0.2344 - val_f1_score: 0.2599 - val_loss: 1.5654\n",
      "Epoch 39/50\n",
      "\u001b[1m17/17\u001b[0m \u001b[32m━━━━━━━━━━━━━━━━━━━━\u001b[0m\u001b[37m\u001b[0m \u001b[1m0s\u001b[0m 5ms/step - accuracy: 0.3591 - f1_score: 0.3306 - loss: 1.5011 - val_accuracy: 0.2344 - val_f1_score: 0.2599 - val_loss: 1.5647\n",
      "Epoch 40/50\n",
      "\u001b[1m17/17\u001b[0m \u001b[32m━━━━━━━━━━━━━━━━━━━━\u001b[0m\u001b[37m\u001b[0m \u001b[1m0s\u001b[0m 6ms/step - accuracy: 0.3866 - f1_score: 0.3615 - loss: 1.4558 - val_accuracy: 0.2344 - val_f1_score: 0.2532 - val_loss: 1.5637\n",
      "Epoch 41/50\n"
     ]
    },
    {
     "name": "stdout",
     "output_type": "stream",
     "text": [
      "\u001b[1m17/17\u001b[0m \u001b[32m━━━━━━━━━━━━━━━━━━━━\u001b[0m\u001b[37m\u001b[0m \u001b[1m0s\u001b[0m 5ms/step - accuracy: 0.3877 - f1_score: 0.3689 - loss: 1.4465 - val_accuracy: 0.2344 - val_f1_score: 0.2599 - val_loss: 1.5616\n",
      "Epoch 42/50\n",
      "\u001b[1m17/17\u001b[0m \u001b[32m━━━━━━━━━━━━━━━━━━━━\u001b[0m\u001b[37m\u001b[0m \u001b[1m0s\u001b[0m 5ms/step - accuracy: 0.3702 - f1_score: 0.3495 - loss: 1.4661 - val_accuracy: 0.2344 - val_f1_score: 0.2599 - val_loss: 1.5606\n",
      "Epoch 43/50\n",
      "\u001b[1m17/17\u001b[0m \u001b[32m━━━━━━━━━━━━━━━━━━━━\u001b[0m\u001b[37m\u001b[0m \u001b[1m0s\u001b[0m 6ms/step - accuracy: 0.3498 - f1_score: 0.3202 - loss: 1.4730 - val_accuracy: 0.2188 - val_f1_score: 0.2470 - val_loss: 1.5599\n",
      "Epoch 44/50\n",
      "\u001b[1m17/17\u001b[0m \u001b[32m━━━━━━━━━━━━━━━━━━━━\u001b[0m\u001b[37m\u001b[0m \u001b[1m0s\u001b[0m 5ms/step - accuracy: 0.3782 - f1_score: 0.3575 - loss: 1.4559 - val_accuracy: 0.2031 - val_f1_score: 0.2301 - val_loss: 1.5592\n",
      "Epoch 45/50\n",
      "\u001b[1m17/17\u001b[0m \u001b[32m━━━━━━━━━━━━━━━━━━━━\u001b[0m\u001b[37m\u001b[0m \u001b[1m0s\u001b[0m 5ms/step - accuracy: 0.4000 - f1_score: 0.3716 - loss: 1.4257 - val_accuracy: 0.2031 - val_f1_score: 0.2303 - val_loss: 1.5588\n",
      "Epoch 46/50\n",
      "\u001b[1m17/17\u001b[0m \u001b[32m━━━━━━━━━━━━━━━━━━━━\u001b[0m\u001b[37m\u001b[0m \u001b[1m0s\u001b[0m 6ms/step - accuracy: 0.3686 - f1_score: 0.3447 - loss: 1.4517 - val_accuracy: 0.2031 - val_f1_score: 0.2301 - val_loss: 1.5569\n",
      "Epoch 47/50\n",
      "\u001b[1m17/17\u001b[0m \u001b[32m━━━━━━━━━━━━━━━━━━━━\u001b[0m\u001b[37m\u001b[0m \u001b[1m0s\u001b[0m 6ms/step - accuracy: 0.3647 - f1_score: 0.3423 - loss: 1.4553 - val_accuracy: 0.2344 - val_f1_score: 0.2612 - val_loss: 1.5557\n",
      "Epoch 48/50\n",
      "\u001b[1m17/17\u001b[0m \u001b[32m━━━━━━━━━━━━━━━━━━━━\u001b[0m\u001b[37m\u001b[0m \u001b[1m0s\u001b[0m 6ms/step - accuracy: 0.3499 - f1_score: 0.3250 - loss: 1.4785 - val_accuracy: 0.2500 - val_f1_score: 0.2738 - val_loss: 1.5541\n",
      "Epoch 49/50\n",
      "\u001b[1m17/17\u001b[0m \u001b[32m━━━━━━━━━━━━━━━━━━━━\u001b[0m\u001b[37m\u001b[0m \u001b[1m0s\u001b[0m 6ms/step - accuracy: 0.3600 - f1_score: 0.3289 - loss: 1.4468 - val_accuracy: 0.2188 - val_f1_score: 0.2423 - val_loss: 1.5538\n",
      "Epoch 50/50\n",
      "\u001b[1m17/17\u001b[0m \u001b[32m━━━━━━━━━━━━━━━━━━━━\u001b[0m\u001b[37m\u001b[0m \u001b[1m0s\u001b[0m 5ms/step - accuracy: 0.3580 - f1_score: 0.3347 - loss: 1.4560 - val_accuracy: 0.2188 - val_f1_score: 0.2423 - val_loss: 1.5522\n"
     ]
    }
   ],
   "source": [
    "checkpoint_filepath = 'checkpoint/mlp.keras'\n",
    "\n",
    "# Crear checkpoint\n",
    "model_checkpoint_callback = ModelCheckpoint(\n",
    "    filepath=checkpoint_filepath,\n",
    "    monitor='val_loss',\n",
    "    mode='min',\n",
    "    save_best_only=True\n",
    ")\n",
    "\n",
    "# Hiperparámetros\n",
    "batch_size = 32\n",
    "learning_rate = 1e-4\n",
    "epochs = 50\n",
    "dropout = 0.5\n",
    "weight_decay = 1e1\n",
    "\n",
    "\n",
    "\n",
    "# Compilamos el modelo\n",
    "optimizador = Adam(learning_rate=learning_rate)\n",
    "#optimizador = AdamW(learning_rate=learning_rate, weight_decay=weight_decay)\n",
    "model_LSTM.compile(optimizer= optimizador,\n",
    "                  loss='categorical_crossentropy',\n",
    "                  metrics=[\"accuracy\", tf.keras.metrics.F1Score(\"weighted\")])\n",
    "\n",
    "# Entrenar\n",
    "LSTM_output = model_LSTM.fit(\n",
    "    X_train, y_train,\n",
    "    validation_data=(X_val, y_val),\n",
    "    epochs=epochs, batch_size=batch_size,\n",
    "    callbacks=[model_checkpoint_callback]\n",
    ")"
   ]
  },
  {
   "cell_type": "code",
   "execution_count": 213,
   "id": "0e15425a",
   "metadata": {},
   "outputs": [],
   "source": [
    "def learning_curve(history, key='loss', title='Loss curve'):\n",
    "    epochs = np.arange(1, len(history.history[key]) + 1)\n",
    "\n",
    "    plt.figure(figsize=(20, 4))\n",
    "    plt.subplot(1, 3, 1)\n",
    "    plt.plot(epochs, history.history[key], label='Training')\n",
    "    plt.plot(epochs, history.history['val_' + key], label='Validation')\n",
    "    plt.title(title)\n",
    "    plt.xlabel('Epochs')\n",
    "    plt.ylabel(key.title())\n",
    "    plt.legend()"
   ]
  },
  {
   "cell_type": "code",
   "execution_count": 214,
   "id": "3107456e",
   "metadata": {},
   "outputs": [
    {
     "data": {
      "image/png": "[encoded data removed]",
      "text/plain": [
       "<Figure size 2000x400 with 1 Axes>"
      ]
     },
     "metadata": {},
     "output_type": "display_data"
    }
   ],
   "source": [
    "learning_curve(LSTM_output, 'loss')"
   ]
  },
  {
   "cell_type": "code",
   "execution_count": 215,
   "id": "e2a93f0a",
   "metadata": {},
   "outputs": [],
   "source": [
    "# Cargar pesos del mejor modelo\n",
    "model_LSTM.load_weights(checkpoint_filepath)"
   ]
  },
  {
   "cell_type": "code",
   "execution_count": 216,
   "id": "b3c80024",
   "metadata": {},
   "outputs": [
    {
     "name": "stdout",
     "output_type": "stream",
     "text": [
      "\u001b[1m2/2\u001b[0m \u001b[32m━━━━━━━━━━━━━━━━━━━━\u001b[0m\u001b[37m\u001b[0m \u001b[1m0s\u001b[0m 9ms/step  \n"
     ]
    }
   ],
   "source": [
    "probabilidades_val = model_LSTM.predict(X_val)"
   ]
  },
  {
   "cell_type": "code",
   "execution_count": 217,
   "id": "b20962dc",
   "metadata": {},
   "outputs": [
    {
     "name": "stdout",
     "output_type": "stream",
     "text": [
      "[4 4 4 2 4 3 3 3 3 3 1 3 3 3 3 4 4 4 4 4 4 4 4 4 4 3 3 3 3 1 1 1 3 1 1 3 3\n",
      " 0 0 0 4 4 4 4 0 0 0 4 0 4 2 3 3 2 2 4 2 2 2 2 2 2 2 2]\n",
      "[2 2 2 2 2 2 2 0 0 0 0 0 3 3 3 3 3 3 3 3 3 3 3 3 3 3 0 0 0 0 0 1 1 1 1 1 1\n",
      " 1 1 1 1 1 1 1 0 0 0 0 0 4 4 4 4 4 4 4 4 4 4 4 4 4 4 0]\n"
     ]
    }
   ],
   "source": [
    "y_val_pred = probabilidades_val.argmax(1)\n",
    "print(y_val_pred)\n",
    "etiquetas_val = y_val.argmax(1)\n",
    "print(etiquetas_val)"
   ]
  },
  {
   "cell_type": "code",
   "execution_count": 218,
   "id": "2ecf0e56",
   "metadata": {},
   "outputs": [
    {
     "name": "stdout",
     "output_type": "stream",
     "text": [
      "              precision    recall  f1-score   support\n",
      "\n",
      "           0       0.57      0.25      0.35        16\n",
      "           1       0.50      0.23      0.32        13\n",
      "           2       0.08      0.14      0.11         7\n",
      "           3       0.22      0.29      0.25        14\n",
      "           4       0.10      0.14      0.11        14\n",
      "\n",
      "    accuracy                           0.22        64\n",
      "   macro avg       0.29      0.21      0.23        64\n",
      "weighted avg       0.32      0.22      0.24        64\n",
      "\n"
     ]
    }
   ],
   "source": [
    "print(classification_report(etiquetas_val, y_val_pred, target_names=CLASES_KEY))"
   ]
  },
  {
   "cell_type": "code",
   "execution_count": 219,
   "id": "7c3dcf49",
   "metadata": {},
   "outputs": [],
   "source": [
    "def visualizar_matriz_confusion(etiquetas_reales, etiquetas_predichas, class_names, titulo):\n",
    "    # Calcular matriz de confusión\n",
    "    cm = confusion_matrix(etiquetas_reales, etiquetas_predichas)\n",
    "\n",
    "    # Visualizar matriz de confusión\n",
    "    plt.figure(figsize=(7, 5))\n",
    "    sns.heatmap(cm, annot=True, fmt='d', cmap='Blues', xticklabels=class_names, yticklabels=class_names)\n",
    "    plt.title(titulo)\n",
    "    plt.xlabel('Predicción')\n",
    "    plt.ylabel('Real')\n",
    "    plt.show()"
   ]
  },
  {
   "cell_type": "code",
   "execution_count": 220,
   "id": "1e8d4132",
   "metadata": {},
   "outputs": [
    {
     "data": {
      "image/png": "[encoded data removed]",
      "text/plain": [
       "<Figure size 700x500 with 2 Axes>"
      ]
     },
     "metadata": {},
     "output_type": "display_data"
    }
   ],
   "source": [
    "visualizar_matriz_confusion(etiquetas_val, y_val_pred, CLASES_KEY, 'Matriz de confusión de validación')"
   ]
  },
  {
   "cell_type": "code",
   "execution_count": null,
   "id": "4aa3778e",
   "metadata": {},
   "outputs": [],
   "source": []
  },
  {
   "cell_type": "code",
   "execution_count": null,
   "id": "c855344e",
   "metadata": {},
   "outputs": [],
   "source": []
  },
  {
   "cell_type": "code",
   "execution_count": null,
   "id": "cfdab48a",
   "metadata": {},
   "outputs": [],
   "source": []
  },
  {
   "cell_type": "code",
   "execution_count": null,
   "id": "8b81a9a9",
   "metadata": {},
   "outputs": [],
   "source": []
  },
  {
   "cell_type": "code",
   "execution_count": null,
   "id": "84b623d6",
   "metadata": {},
   "outputs": [],
   "source": []
  },
  {
   "cell_type": "code",
   "execution_count": null,
   "id": "f1f8b877",
   "metadata": {},
   "outputs": [],
   "source": []
  },
  {
   "cell_type": "code",
   "execution_count": null,
   "id": "96825c6b",
   "metadata": {},
   "outputs": [],
   "source": []
  },
  {
   "cell_type": "code",
   "execution_count": null,
   "id": "d8d9d910",
   "metadata": {},
   "outputs": [],
   "source": []
  },
  {
   "cell_type": "code",
   "execution_count": null,
   "id": "97af2049",
   "metadata": {},
   "outputs": [],
   "source": []
  },
  {
   "cell_type": "code",
   "execution_count": null,
   "id": "48b0ddfe",
   "metadata": {},
   "outputs": [],
   "source": []
  },
  {
   "cell_type": "code",
   "execution_count": null,
   "id": "91a0048d",
   "metadata": {},
   "outputs": [],
   "source": []
  },
  {
   "cell_type": "code",
   "execution_count": null,
   "id": "a2bdb610",
   "metadata": {},
   "outputs": [],
   "source": []
  },
  {
   "cell_type": "code",
   "execution_count": null,
   "id": "f6353d80",
   "metadata": {},
   "outputs": [],
   "source": []
  },
  {
   "cell_type": "code",
   "execution_count": null,
   "id": "a4155560",
   "metadata": {},
   "outputs": [],
   "source": []
  }
 ],
 "metadata": {
  "kernelspec": {
   "display_name": "Python 3 (ipykernel)",
   "language": "python",
   "name": "python3"
  },
  "language_info": {
   "codemirror_mode": {
    "name": "ipython",
    "version": 3
   },
   "file_extension": ".py",
   "mimetype": "text/x-python",
   "name": "python",
   "nbconvert_exporter": "python",
   "pygments_lexer": "ipython3",
   "version": "3.11.5"
  }
 },
 "nbformat": 4,
 "nbformat_minor": 5
}
