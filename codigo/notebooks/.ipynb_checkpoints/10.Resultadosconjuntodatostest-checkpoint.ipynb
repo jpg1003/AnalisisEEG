{
 "cells": [
  {
   "cell_type": "markdown",
   "id": "8045039e",
   "metadata": {},
   "source": [
    "<img style=\"float:left\" width=\"70%\" src=\"../../documentacion/imagenes/escudo_COLOR_1L_DCHA.png\">\n",
    "<img style=\"float:right\" width=\"10%\" src=\"../../documentacion/imagenes/PythonLogo.svg\">\n",
    "<br style=\"clear:both;\">\n",
    "\n",
    "\n",
    "<h2 style=\"display: inline-block; padding: 4mm; padding-left: 2em; background-color: navy; line-height: 1.3em; color: white; border-radius: 10px;\">10.Resultados datos validacion y test</h2>\n",
    "\n",
    "\n",
    " \n",
    "## Estudiante:\n",
    "\n",
    "- Jose Luis Perez Gomez"
   ]
  },
  {
   "cell_type": "markdown",
   "id": "f48419dd",
   "metadata": {},
   "source": [
    "## Seleccionar que tipo de ejecucion se va a realizar:\n",
    "\n",
    "## AUTOMATICA o MANUAL (por defecto AUTOMATICA)."
   ]
  },
  {
   "cell_type": "code",
   "execution_count": null,
   "id": "11fb6652",
   "metadata": {},
   "outputs": [],
   "source": [
    "# escribir entre parentesis AUTOMATICA o MANUAL\n",
    "\n",
    "EJECUCION = \"AUTOMATICA\""
   ]
  },
  {
   "cell_type": "code",
   "execution_count": 75,
   "id": "af97b04a",
   "metadata": {},
   "outputs": [],
   "source": [
    "# en esta celda no ha de ser modificada \n",
    "\n",
    "if EJECUCION == \"MANUAL\":\n",
    "    %run 3.Importaciones.ipynb\n",
    "\n",
    "%run 4.VariablesClases.ipynb"
   ]
  },
  {
   "cell_type": "code",
   "execution_count": 61,
   "id": "b7447130",
   "metadata": {},
   "outputs": [],
   "source": [
    "\n",
    "datosEGG_holdout_test = pd.read_csv('../datos/csv/datosEGG_holdout_test.csv', sep=',')\n",
    "datosEGG_holdout_val = pd.read_csv('../datos/csv/datosEGG_holdout_val.csv', sep=',')\n",
    "datosEGG_LSTM_RS_SW_test = pd.read_csv('../datos/csv/datosEGG_LSTM_RS_SW_test.csv', sep=',')\n",
    "datosEGG_LSTM_RS_SW_val = pd.read_csv('../datos/csv/datosEGG_LSTM_RS_SW_val.csv', sep=',')\n",
    "datosEGG_LSTM_RS_test = pd.read_csv('../datos/csv/datosEGG_LSTM_RS_test.csv', sep=',')\n",
    "datosEGG_LSTM_RS_val = pd.read_csv('../datos/csv/datosEGG_LSTM_RS_val.csv', sep=',')\n",
    "datosEGG_LSTM_SW_test = pd.read_csv('../datos/csv/datosEGG_LSTM_SW_test.csv', sep=',')\n",
    "datosEGG_LSTM_SW_val = pd.read_csv('../datos/csv/datosEGG_LSTM_SW_val.csv', sep=',')\n",
    "datosEGG_LSTM_test = pd.read_csv('../datos/csv/datosEGG_LSTM_test.csv', sep=',')\n",
    "datosEGG_LSTM_val = pd.read_csv('../datos/csv/datosEGG_LSTM_val.csv', sep=',')\n",
    "datosEGG_MLP_test = pd.read_csv('../datos/csv/datosEGG_MLP_test.csv', sep=',')\n",
    "datosEGG_MLP_val = pd.read_csv('../datos/csv/datosEGG_MLP_val.csv', sep=',')\n",
    "datosEGG_SRNN_RS_SW_test = pd.read_csv('../datos/csv/datosEGG_SRNN_RS_SW_test.csv', sep=',')\n",
    "datosEGG_SRNN_RS_SW_val = pd.read_csv('../datos/csv/datosEGG_SRNN_RS_SW_val.csv', sep=',')\n",
    "datosEGG_SRNN_RS_test = pd.read_csv('../datos/csv/datosEGG_SRNN_RS_test.csv', sep=',')\n",
    "datosEGG_SRNN_RS_val = pd.read_csv('../datos/csv/datosEGG_SRNN_RS_val.csv', sep=',')\n",
    "datosEGG_SRNN_SW_test = pd.read_csv('../datos/csv/datosEGG_SRNN_SW_test.csv', sep=',')\n",
    "datosEGG_SRNN_SW_val = pd.read_csv('../datos/csv/datosEGG_SRNN_SW_val.csv', sep=',')\n",
    "datosEGG_SRNN_test = pd.read_csv('../datos/csv/datosEGG_SRNN_test.csv', sep=',')\n",
    "datosEGG_SRNN_val = pd.read_csv('../datos/csv/datosEGG_SRNN_val.csv', sep=',')\n",
    "\n",
    "\n"
   ]
  },
  {
   "cell_type": "markdown",
   "id": "09831c43",
   "metadata": {},
   "source": [
    "# Datos para el conjunto de datos Test para cada modelo"
   ]
  },
  {
   "cell_type": "code",
   "execution_count": 71,
   "id": "274ef8a7",
   "metadata": {},
   "outputs": [],
   "source": [
    "# uno los datos\n",
    "\n",
    "resultados_val_A = pd.concat([datosEGG_holdout_val, datosEGG_MLP_val, datosEGG_SRNN_val, datosEGG_LSTM_val], axis=1)\n",
    "resultados_val_A.index = resultados_val_A.index.map(nuevos_indices) \n",
    "resultados_val_B = pd.concat([datosEGG_SRNN_SW_val, datosEGG_LSTM_SW_val], axis=1)\n",
    "resultados_val_B.index = resultados_val_B.index.map(nuevos_indices_B) \n",
    "resultados_val_C = pd.concat([datosEGG_SRNN_RS_val, datosEGG_LSTM_RS_val, datosEGG_SRNN_RS_SW_val, datosEGG_LSTM_RS_SW_val], axis=1)\n",
    "resultados_val_C.index = resultados_val_C.index.map(nuevos_indices_C) "
   ]
  },
  {
   "cell_type": "code",
   "execution_count": 78,
   "id": "8e420232",
   "metadata": {},
   "outputs": [],
   "source": [
    "resultados_test_A = pd.concat([datosEGG_holdout_test, datosEGG_MLP_test, datosEGG_SRNN_test, datosEGG_LSTM_test], axis=1)\n",
    "resultados_test_A.index = resultados_test_A.index.map(nuevos_indices) \n",
    "resultados_test_B = pd.concat([datosEGG_SRNN_SW_test, datosEGG_LSTM_SW_test], axis=1)\n",
    "resultados_test_B.index = resultados_test_B.index.map(nuevos_indices_B) \n",
    "resultados_test_C = pd.concat([datosEGG_SRNN_RS_test, datosEGG_LSTM_RS_test, datosEGG_SRNN_RS_SW_test, datosEGG_LSTM_RS_SW_test], axis=1)\n",
    "resultados_test_C.index = resultados_test_C.index.map(nuevos_indices_C) "
   ]
  },
  {
   "cell_type": "code",
   "execution_count": 79,
   "id": "f6b266e1",
   "metadata": {},
   "outputs": [
    {
     "data": {
      "text/html": [
       "<style type=\"text/css\">\n",
       "#T_206f8_row0_col0, #T_206f8_row1_col4, #T_206f8_row2_col3, #T_206f8_row3_col0, #T_206f8_row4_col0, #T_206f8_row5_col5 {\n",
       "  background-color: yellow;\n",
       "}\n",
       "#T_206f8_row0_col1, #T_206f8_row1_col1, #T_206f8_row2_col0, #T_206f8_row3_col2, #T_206f8_row4_col4, #T_206f8_row5_col3 {\n",
       "  background-color: orange;\n",
       "}\n",
       "#T_206f8_row0_col4, #T_206f8_row1_col0, #T_206f8_row2_col2, #T_206f8_row3_col1, #T_206f8_row4_col5, #T_206f8_row5_col0 {\n",
       "  background-color: green;\n",
       "}\n",
       "</style>\n",
       "<table id=\"T_206f8\">\n",
       "  <thead>\n",
       "    <tr>\n",
       "      <th class=\"blank level0\" >&nbsp;</th>\n",
       "      <th id=\"T_206f8_level0_col0\" class=\"col_heading level0 col0\" >KNN_VAL</th>\n",
       "      <th id=\"T_206f8_level0_col1\" class=\"col_heading level0 col1\" >TREE_VAL</th>\n",
       "      <th id=\"T_206f8_level0_col2\" class=\"col_heading level0 col2\" >RANDOM_VAL</th>\n",
       "      <th id=\"T_206f8_level0_col3\" class=\"col_heading level0 col3\" >MLP_VAL</th>\n",
       "      <th id=\"T_206f8_level0_col4\" class=\"col_heading level0 col4\" >SRNN_VAL</th>\n",
       "      <th id=\"T_206f8_level0_col5\" class=\"col_heading level0 col5\" >LSTM_VAL</th>\n",
       "    </tr>\n",
       "  </thead>\n",
       "  <tbody>\n",
       "    <tr>\n",
       "      <th id=\"T_206f8_level0_row0\" class=\"row_heading level0 row0\" >Segmento 1</th>\n",
       "      <td id=\"T_206f8_row0_col0\" class=\"data row0 col0\" >0.416667</td>\n",
       "      <td id=\"T_206f8_row0_col1\" class=\"data row0 col1\" >0.416667</td>\n",
       "      <td id=\"T_206f8_row0_col2\" class=\"data row0 col2\" >0.416667</td>\n",
       "      <td id=\"T_206f8_row0_col3\" class=\"data row0 col3\" >0.416667</td>\n",
       "      <td id=\"T_206f8_row0_col4\" class=\"data row0 col4\" >0.500000</td>\n",
       "      <td id=\"T_206f8_row0_col5\" class=\"data row0 col5\" >0.416667</td>\n",
       "    </tr>\n",
       "    <tr>\n",
       "      <th id=\"T_206f8_level0_row1\" class=\"row_heading level0 row1\" >Segmento 2</th>\n",
       "      <td id=\"T_206f8_row1_col0\" class=\"data row1 col0\" >0.400000</td>\n",
       "      <td id=\"T_206f8_row1_col1\" class=\"data row1 col1\" >0.333333</td>\n",
       "      <td id=\"T_206f8_row1_col2\" class=\"data row1 col2\" >0.200000</td>\n",
       "      <td id=\"T_206f8_row1_col3\" class=\"data row1 col3\" >0.200000</td>\n",
       "      <td id=\"T_206f8_row1_col4\" class=\"data row1 col4\" >0.400000</td>\n",
       "      <td id=\"T_206f8_row1_col5\" class=\"data row1 col5\" >0.200000</td>\n",
       "    </tr>\n",
       "    <tr>\n",
       "      <th id=\"T_206f8_level0_row2\" class=\"row_heading level0 row2\" >Segmento 3</th>\n",
       "      <td id=\"T_206f8_row2_col0\" class=\"data row2 col0\" >0.277778</td>\n",
       "      <td id=\"T_206f8_row2_col1\" class=\"data row2 col1\" >0.277778</td>\n",
       "      <td id=\"T_206f8_row2_col2\" class=\"data row2 col2\" >0.500000</td>\n",
       "      <td id=\"T_206f8_row2_col3\" class=\"data row2 col3\" >0.388889</td>\n",
       "      <td id=\"T_206f8_row2_col4\" class=\"data row2 col4\" >0.277778</td>\n",
       "      <td id=\"T_206f8_row2_col5\" class=\"data row2 col5\" >0.277778</td>\n",
       "    </tr>\n",
       "    <tr>\n",
       "      <th id=\"T_206f8_level0_row3\" class=\"row_heading level0 row3\" >Segmento 4</th>\n",
       "      <td id=\"T_206f8_row3_col0\" class=\"data row3 col0\" >0.222222</td>\n",
       "      <td id=\"T_206f8_row3_col1\" class=\"data row3 col1\" >0.444444</td>\n",
       "      <td id=\"T_206f8_row3_col2\" class=\"data row3 col2\" >0.166667</td>\n",
       "      <td id=\"T_206f8_row3_col3\" class=\"data row3 col3\" >0.111111</td>\n",
       "      <td id=\"T_206f8_row3_col4\" class=\"data row3 col4\" >0.166667</td>\n",
       "      <td id=\"T_206f8_row3_col5\" class=\"data row3 col5\" >0.111111</td>\n",
       "    </tr>\n",
       "    <tr>\n",
       "      <th id=\"T_206f8_level0_row4\" class=\"row_heading level0 row4\" >All Segmentos after</th>\n",
       "      <td id=\"T_206f8_row4_col0\" class=\"data row4 col0\" >0.344262</td>\n",
       "      <td id=\"T_206f8_row4_col1\" class=\"data row4 col1\" >0.245902</td>\n",
       "      <td id=\"T_206f8_row4_col2\" class=\"data row4 col2\" >0.311475</td>\n",
       "      <td id=\"T_206f8_row4_col3\" class=\"data row4 col3\" >0.278689</td>\n",
       "      <td id=\"T_206f8_row4_col4\" class=\"data row4 col4\" >0.344262</td>\n",
       "      <td id=\"T_206f8_row4_col5\" class=\"data row4 col5\" >0.377049</td>\n",
       "    </tr>\n",
       "    <tr>\n",
       "      <th id=\"T_206f8_level0_row5\" class=\"row_heading level0 row5\" >All Segmentos before</th>\n",
       "      <td id=\"T_206f8_row5_col0\" class=\"data row5 col0\" >0.393443</td>\n",
       "      <td id=\"T_206f8_row5_col1\" class=\"data row5 col1\" >0.229508</td>\n",
       "      <td id=\"T_206f8_row5_col2\" class=\"data row5 col2\" >0.295082</td>\n",
       "      <td id=\"T_206f8_row5_col3\" class=\"data row5 col3\" >0.344262</td>\n",
       "      <td id=\"T_206f8_row5_col4\" class=\"data row5 col4\" >0.327869</td>\n",
       "      <td id=\"T_206f8_row5_col5\" class=\"data row5 col5\" >0.360656</td>\n",
       "    </tr>\n",
       "  </tbody>\n",
       "</table>\n"
      ],
      "text/plain": [
       "<pandas.io.formats.style.Styler at 0x1ffcbabc3d0>"
      ]
     },
     "metadata": {},
     "output_type": "display_data"
    }
   ],
   "source": [
    "display(HTML(html_h4('Resultados de los siguientes experimento para particion de datos VALIDACION ', 'purple')))\n",
    "\n",
    "comparativa_fase1 = resultados_val_A.style.apply(colorear_mayores_3, axis=1)\n",
    "display(comparativa_fase1)"
   ]
  },
  {
   "cell_type": "code",
   "execution_count": 80,
   "id": "8325797d",
   "metadata": {},
   "outputs": [
    {
     "data": {
      "text/html": [
       "<style type=\"text/css\">\n",
       "#T_71252_row0_col0, #T_71252_row1_col1 {\n",
       "  background-color: green;\n",
       "}\n",
       "#T_71252_row0_col1, #T_71252_row1_col0 {\n",
       "  background-color: yellow;\n",
       "}\n",
       "</style>\n",
       "<table id=\"T_71252\">\n",
       "  <thead>\n",
       "    <tr>\n",
       "      <th class=\"blank level0\" >&nbsp;</th>\n",
       "      <th id=\"T_71252_level0_col0\" class=\"col_heading level0 col0\" >SRNN_SW_VAL</th>\n",
       "      <th id=\"T_71252_level0_col1\" class=\"col_heading level0 col1\" >LSTM_SW_VAL</th>\n",
       "    </tr>\n",
       "  </thead>\n",
       "  <tbody>\n",
       "    <tr>\n",
       "      <th id=\"T_71252_level0_row0\" class=\"row_heading level0 row0\" >All Segmentos after</th>\n",
       "      <td id=\"T_71252_row0_col0\" class=\"data row0 col0\" >0.306122</td>\n",
       "      <td id=\"T_71252_row0_col1\" class=\"data row0 col1\" >0.306122</td>\n",
       "    </tr>\n",
       "    <tr>\n",
       "      <th id=\"T_71252_level0_row1\" class=\"row_heading level0 row1\" >All Segmentos before</th>\n",
       "      <td id=\"T_71252_row1_col0\" class=\"data row1 col0\" >0.336735</td>\n",
       "      <td id=\"T_71252_row1_col1\" class=\"data row1 col1\" >0.387755</td>\n",
       "    </tr>\n",
       "  </tbody>\n",
       "</table>\n"
      ],
      "text/plain": [
       "<pandas.io.formats.style.Styler at 0x1ffc5607b10>"
      ]
     },
     "metadata": {},
     "output_type": "display_data"
    }
   ],
   "source": [
    "comparativa_fase2 = resultados_val_B.style.apply(colorear_mayores_2, axis=1)\n",
    "display(comparativa_fase2)"
   ]
  },
  {
   "cell_type": "code",
   "execution_count": 81,
   "id": "3d0fe46a",
   "metadata": {},
   "outputs": [
    {
     "data": {
      "text/html": [
       "<style type=\"text/css\">\n",
       "#T_e0b3e_row0_col1, #T_e0b3e_row1_col0, #T_e0b3e_row2_col2 {\n",
       "  background-color: orange;\n",
       "}\n",
       "#T_e0b3e_row0_col2, #T_e0b3e_row1_col2, #T_e0b3e_row2_col1 {\n",
       "  background-color: green;\n",
       "}\n",
       "#T_e0b3e_row0_col3, #T_e0b3e_row1_col3, #T_e0b3e_row2_col0 {\n",
       "  background-color: yellow;\n",
       "}\n",
       "</style>\n",
       "<table id=\"T_e0b3e\">\n",
       "  <thead>\n",
       "    <tr>\n",
       "      <th class=\"blank level0\" >&nbsp;</th>\n",
       "      <th id=\"T_e0b3e_level0_col0\" class=\"col_heading level0 col0\" >SRNN_RS_VAL</th>\n",
       "      <th id=\"T_e0b3e_level0_col1\" class=\"col_heading level0 col1\" >LSTM_RS_VAL</th>\n",
       "      <th id=\"T_e0b3e_level0_col2\" class=\"col_heading level0 col2\" >SRNN_RS_SW_VAL</th>\n",
       "      <th id=\"T_e0b3e_level0_col3\" class=\"col_heading level0 col3\" >LSTM_RS_SW_VAL</th>\n",
       "    </tr>\n",
       "  </thead>\n",
       "  <tbody>\n",
       "    <tr>\n",
       "      <th id=\"T_e0b3e_level0_row0\" class=\"row_heading level0 row0\" >All Segmentos after</th>\n",
       "      <td id=\"T_e0b3e_row0_col0\" class=\"data row0 col0\" >0.581481</td>\n",
       "      <td id=\"T_e0b3e_row0_col1\" class=\"data row0 col1\" >0.585185</td>\n",
       "      <td id=\"T_e0b3e_row0_col2\" class=\"data row0 col2\" >0.725532</td>\n",
       "      <td id=\"T_e0b3e_row0_col3\" class=\"data row0 col3\" >0.712766</td>\n",
       "    </tr>\n",
       "    <tr>\n",
       "      <th id=\"T_e0b3e_level0_row1\" class=\"row_heading level0 row1\" >All Segmentos before</th>\n",
       "      <td id=\"T_e0b3e_row1_col0\" class=\"data row1 col0\" >0.400000</td>\n",
       "      <td id=\"T_e0b3e_row1_col1\" class=\"data row1 col1\" >0.396296</td>\n",
       "      <td id=\"T_e0b3e_row1_col2\" class=\"data row1 col2\" >0.417021</td>\n",
       "      <td id=\"T_e0b3e_row1_col3\" class=\"data row1 col3\" >0.402128</td>\n",
       "    </tr>\n",
       "    <tr>\n",
       "      <th id=\"T_e0b3e_level0_row2\" class=\"row_heading level0 row2\" >nan</th>\n",
       "      <td id=\"T_e0b3e_row2_col0\" class=\"data row2 col0\" >0.538333</td>\n",
       "      <td id=\"T_e0b3e_row2_col1\" class=\"data row2 col1\" >0.723333</td>\n",
       "      <td id=\"T_e0b3e_row2_col2\" class=\"data row2 col2\" >0.404255</td>\n",
       "      <td id=\"T_e0b3e_row2_col3\" class=\"data row2 col3\" >0.404255</td>\n",
       "    </tr>\n",
       "  </tbody>\n",
       "</table>\n"
      ],
      "text/plain": [
       "<pandas.io.formats.style.Styler at 0x1ffc441e090>"
      ]
     },
     "metadata": {},
     "output_type": "display_data"
    }
   ],
   "source": [
    "comparativa_fase3 = resultados_val_C.style.apply(colorear_mayores_3, axis=1)\n",
    "display(comparativa_fase3)"
   ]
  },
  {
   "cell_type": "code",
   "execution_count": 82,
   "id": "42aa6099",
   "metadata": {},
   "outputs": [
    {
     "data": {
      "text/html": [
       "<style type=\"text/css\">\n",
       "#T_3be6d_row0_col0, #T_3be6d_row1_col0, #T_3be6d_row2_col3, #T_3be6d_row3_col1, #T_3be6d_row4_col5, #T_3be6d_row5_col1 {\n",
       "  background-color: green;\n",
       "}\n",
       "#T_3be6d_row0_col1, #T_3be6d_row1_col4, #T_3be6d_row2_col2, #T_3be6d_row3_col0, #T_3be6d_row4_col1, #T_3be6d_row5_col3 {\n",
       "  background-color: orange;\n",
       "}\n",
       "#T_3be6d_row0_col5, #T_3be6d_row1_col2, #T_3be6d_row2_col0, #T_3be6d_row3_col4, #T_3be6d_row4_col3, #T_3be6d_row5_col2 {\n",
       "  background-color: yellow;\n",
       "}\n",
       "</style>\n",
       "<table id=\"T_3be6d\">\n",
       "  <thead>\n",
       "    <tr>\n",
       "      <th class=\"blank level0\" >&nbsp;</th>\n",
       "      <th id=\"T_3be6d_level0_col0\" class=\"col_heading level0 col0\" >KNN_TEST</th>\n",
       "      <th id=\"T_3be6d_level0_col1\" class=\"col_heading level0 col1\" >TREE_TEST</th>\n",
       "      <th id=\"T_3be6d_level0_col2\" class=\"col_heading level0 col2\" >RANDOM_TEST</th>\n",
       "      <th id=\"T_3be6d_level0_col3\" class=\"col_heading level0 col3\" >MLP_TEST</th>\n",
       "      <th id=\"T_3be6d_level0_col4\" class=\"col_heading level0 col4\" >SRNN_TEST</th>\n",
       "      <th id=\"T_3be6d_level0_col5\" class=\"col_heading level0 col5\" >LSTM_TEST</th>\n",
       "    </tr>\n",
       "  </thead>\n",
       "  <tbody>\n",
       "    <tr>\n",
       "      <th id=\"T_3be6d_level0_row0\" class=\"row_heading level0 row0\" >Segmento 1</th>\n",
       "      <td id=\"T_3be6d_row0_col0\" class=\"data row0 col0\" >0.692308</td>\n",
       "      <td id=\"T_3be6d_row0_col1\" class=\"data row0 col1\" >0.615385</td>\n",
       "      <td id=\"T_3be6d_row0_col2\" class=\"data row0 col2\" >0.538462</td>\n",
       "      <td id=\"T_3be6d_row0_col3\" class=\"data row0 col3\" >0.538462</td>\n",
       "      <td id=\"T_3be6d_row0_col4\" class=\"data row0 col4\" >0.461538</td>\n",
       "      <td id=\"T_3be6d_row0_col5\" class=\"data row0 col5\" >0.692308</td>\n",
       "    </tr>\n",
       "    <tr>\n",
       "      <th id=\"T_3be6d_level0_row1\" class=\"row_heading level0 row1\" >Segmento 2</th>\n",
       "      <td id=\"T_3be6d_row1_col0\" class=\"data row1 col0\" >0.500000</td>\n",
       "      <td id=\"T_3be6d_row1_col1\" class=\"data row1 col1\" >0.312500</td>\n",
       "      <td id=\"T_3be6d_row1_col2\" class=\"data row1 col2\" >0.437500</td>\n",
       "      <td id=\"T_3be6d_row1_col3\" class=\"data row1 col3\" >0.312500</td>\n",
       "      <td id=\"T_3be6d_row1_col4\" class=\"data row1 col4\" >0.375000</td>\n",
       "      <td id=\"T_3be6d_row1_col5\" class=\"data row1 col5\" >0.312500</td>\n",
       "    </tr>\n",
       "    <tr>\n",
       "      <th id=\"T_3be6d_level0_row2\" class=\"row_heading level0 row2\" >Segmento 3</th>\n",
       "      <td id=\"T_3be6d_row2_col0\" class=\"data row2 col0\" >0.400000</td>\n",
       "      <td id=\"T_3be6d_row2_col1\" class=\"data row2 col1\" >0.250000</td>\n",
       "      <td id=\"T_3be6d_row2_col2\" class=\"data row2 col2\" >0.350000</td>\n",
       "      <td id=\"T_3be6d_row2_col3\" class=\"data row2 col3\" >0.450000</td>\n",
       "      <td id=\"T_3be6d_row2_col4\" class=\"data row2 col4\" >0.300000</td>\n",
       "      <td id=\"T_3be6d_row2_col5\" class=\"data row2 col5\" >0.350000</td>\n",
       "    </tr>\n",
       "    <tr>\n",
       "      <th id=\"T_3be6d_level0_row3\" class=\"row_heading level0 row3\" >Segmento 4</th>\n",
       "      <td id=\"T_3be6d_row3_col0\" class=\"data row3 col0\" >0.200000</td>\n",
       "      <td id=\"T_3be6d_row3_col1\" class=\"data row3 col1\" >0.350000</td>\n",
       "      <td id=\"T_3be6d_row3_col2\" class=\"data row3 col2\" >0.200000</td>\n",
       "      <td id=\"T_3be6d_row3_col3\" class=\"data row3 col3\" >0.150000</td>\n",
       "      <td id=\"T_3be6d_row3_col4\" class=\"data row3 col4\" >0.250000</td>\n",
       "      <td id=\"T_3be6d_row3_col5\" class=\"data row3 col5\" >0.200000</td>\n",
       "    </tr>\n",
       "    <tr>\n",
       "      <th id=\"T_3be6d_level0_row4\" class=\"row_heading level0 row4\" >All Segmentos after</th>\n",
       "      <td id=\"T_3be6d_row4_col0\" class=\"data row4 col0\" >0.279412</td>\n",
       "      <td id=\"T_3be6d_row4_col1\" class=\"data row4 col1\" >0.308824</td>\n",
       "      <td id=\"T_3be6d_row4_col2\" class=\"data row4 col2\" >0.235294</td>\n",
       "      <td id=\"T_3be6d_row4_col3\" class=\"data row4 col3\" >0.323529</td>\n",
       "      <td id=\"T_3be6d_row4_col4\" class=\"data row4 col4\" >0.264706</td>\n",
       "      <td id=\"T_3be6d_row4_col5\" class=\"data row4 col5\" >0.426471</td>\n",
       "    </tr>\n",
       "    <tr>\n",
       "      <th id=\"T_3be6d_level0_row5\" class=\"row_heading level0 row5\" >All Segmentos before</th>\n",
       "      <td id=\"T_3be6d_row5_col0\" class=\"data row5 col0\" >0.250000</td>\n",
       "      <td id=\"T_3be6d_row5_col1\" class=\"data row5 col1\" >0.338235</td>\n",
       "      <td id=\"T_3be6d_row5_col2\" class=\"data row5 col2\" >0.323529</td>\n",
       "      <td id=\"T_3be6d_row5_col3\" class=\"data row5 col3\" >0.323529</td>\n",
       "      <td id=\"T_3be6d_row5_col4\" class=\"data row5 col4\" >0.308824</td>\n",
       "      <td id=\"T_3be6d_row5_col5\" class=\"data row5 col5\" >0.323529</td>\n",
       "    </tr>\n",
       "  </tbody>\n",
       "</table>\n"
      ],
      "text/plain": [
       "<pandas.io.formats.style.Styler at 0x1ffc3a70b50>"
      ]
     },
     "metadata": {},
     "output_type": "display_data"
    }
   ],
   "source": [
    "display(HTML(html_h4('Resultados de los siguientes experimento para particion de datos TEST ', 'purple')))\n",
    "\n",
    "comparativa_fase1_test = resultados_test_A.style.apply(colorear_mayores_3, axis=1)\n",
    "display(comparativa_fase1_test)"
   ]
  },
  {
   "cell_type": "code",
   "execution_count": 83,
   "id": "2712320d",
   "metadata": {},
   "outputs": [
    {
     "data": {
      "text/html": [
       "<style type=\"text/css\">\n",
       "#T_407ff_row0_col0, #T_407ff_row1_col1 {\n",
       "  background-color: yellow;\n",
       "}\n",
       "#T_407ff_row0_col1, #T_407ff_row1_col0 {\n",
       "  background-color: green;\n",
       "}\n",
       "</style>\n",
       "<table id=\"T_407ff\">\n",
       "  <thead>\n",
       "    <tr>\n",
       "      <th class=\"blank level0\" >&nbsp;</th>\n",
       "      <th id=\"T_407ff_level0_col0\" class=\"col_heading level0 col0\" >SRNN_SW_TEST</th>\n",
       "      <th id=\"T_407ff_level0_col1\" class=\"col_heading level0 col1\" >LSTM_SW_TEST</th>\n",
       "    </tr>\n",
       "  </thead>\n",
       "  <tbody>\n",
       "    <tr>\n",
       "      <th id=\"T_407ff_level0_row0\" class=\"row_heading level0 row0\" >All Segmentos after</th>\n",
       "      <td id=\"T_407ff_row0_col0\" class=\"data row0 col0\" >0.333333</td>\n",
       "      <td id=\"T_407ff_row0_col1\" class=\"data row0 col1\" >0.444444</td>\n",
       "    </tr>\n",
       "    <tr>\n",
       "      <th id=\"T_407ff_level0_row1\" class=\"row_heading level0 row1\" >All Segmentos before</th>\n",
       "      <td id=\"T_407ff_row1_col0\" class=\"data row1 col0\" >0.388889</td>\n",
       "      <td id=\"T_407ff_row1_col1\" class=\"data row1 col1\" >0.277778</td>\n",
       "    </tr>\n",
       "  </tbody>\n",
       "</table>\n"
      ],
      "text/plain": [
       "<pandas.io.formats.style.Styler at 0x1ffcb2e2910>"
      ]
     },
     "metadata": {},
     "output_type": "display_data"
    }
   ],
   "source": [
    "comparativa_fase2_test = resultados_test_B.style.apply(colorear_mayores_2, axis=1)\n",
    "display(comparativa_fase2_test)"
   ]
  },
  {
   "cell_type": "code",
   "execution_count": 84,
   "id": "bf544af6",
   "metadata": {},
   "outputs": [
    {
     "data": {
      "text/html": [
       "<style type=\"text/css\">\n",
       "#T_0ba9a_row0_col0, #T_0ba9a_row1_col0, #T_0ba9a_row2_col0 {\n",
       "  background-color: orange;\n",
       "}\n",
       "#T_0ba9a_row0_col2, #T_0ba9a_row1_col2, #T_0ba9a_row2_col2 {\n",
       "  background-color: green;\n",
       "}\n",
       "#T_0ba9a_row0_col3, #T_0ba9a_row1_col3, #T_0ba9a_row2_col3 {\n",
       "  background-color: yellow;\n",
       "}\n",
       "</style>\n",
       "<table id=\"T_0ba9a\">\n",
       "  <thead>\n",
       "    <tr>\n",
       "      <th class=\"blank level0\" >&nbsp;</th>\n",
       "      <th id=\"T_0ba9a_level0_col0\" class=\"col_heading level0 col0\" >SRNN_RS_TEST</th>\n",
       "      <th id=\"T_0ba9a_level0_col1\" class=\"col_heading level0 col1\" >LSTM_RS_TEST</th>\n",
       "      <th id=\"T_0ba9a_level0_col2\" class=\"col_heading level0 col2\" >SRNN_RS_SW_TEST</th>\n",
       "      <th id=\"T_0ba9a_level0_col3\" class=\"col_heading level0 col3\" >LSTM_RS_SW_TEST</th>\n",
       "    </tr>\n",
       "  </thead>\n",
       "  <tbody>\n",
       "    <tr>\n",
       "      <th id=\"T_0ba9a_level0_row0\" class=\"row_heading level0 row0\" >All Segmentos after</th>\n",
       "      <td id=\"T_0ba9a_row0_col0\" class=\"data row0 col0\" >0.553333</td>\n",
       "      <td id=\"T_0ba9a_row0_col1\" class=\"data row0 col1\" >0.553333</td>\n",
       "      <td id=\"T_0ba9a_row0_col2\" class=\"data row0 col2\" >0.818182</td>\n",
       "      <td id=\"T_0ba9a_row0_col3\" class=\"data row0 col3\" >0.790909</td>\n",
       "    </tr>\n",
       "    <tr>\n",
       "      <th id=\"T_0ba9a_level0_row1\" class=\"row_heading level0 row1\" >All Segmentos before</th>\n",
       "      <td id=\"T_0ba9a_row1_col0\" class=\"data row1 col0\" >0.356667</td>\n",
       "      <td id=\"T_0ba9a_row1_col1\" class=\"data row1 col1\" >0.350000</td>\n",
       "      <td id=\"T_0ba9a_row1_col2\" class=\"data row1 col2\" >0.581818</td>\n",
       "      <td id=\"T_0ba9a_row1_col3\" class=\"data row1 col3\" >0.509091</td>\n",
       "    </tr>\n",
       "    <tr>\n",
       "      <th id=\"T_0ba9a_level0_row2\" class=\"row_heading level0 row2\" >Test a datos reales</th>\n",
       "      <td id=\"T_0ba9a_row2_col0\" class=\"data row2 col0\" >0.592308</td>\n",
       "      <td id=\"T_0ba9a_row2_col1\" class=\"data row2 col1\" >0.338462</td>\n",
       "      <td id=\"T_0ba9a_row2_col2\" class=\"data row2 col2\" >0.675000</td>\n",
       "      <td id=\"T_0ba9a_row2_col3\" class=\"data row2 col3\" >0.675000</td>\n",
       "    </tr>\n",
       "  </tbody>\n",
       "</table>\n"
      ],
      "text/plain": [
       "<pandas.io.formats.style.Styler at 0x1ffcac8dfd0>"
      ]
     },
     "metadata": {},
     "output_type": "display_data"
    }
   ],
   "source": [
    "comparativa_fase3_test = resultados_test_C.style.apply(colorear_mayores_3, axis=1)\n",
    "display(comparativa_fase3_test)"
   ]
  },
  {
   "cell_type": "code",
   "execution_count": null,
   "id": "5e61cf73",
   "metadata": {},
   "outputs": [],
   "source": []
  },
  {
   "cell_type": "code",
   "execution_count": null,
   "id": "fcffe097",
   "metadata": {},
   "outputs": [],
   "source": []
  },
  {
   "cell_type": "code",
   "execution_count": null,
   "id": "9cecad03",
   "metadata": {},
   "outputs": [],
   "source": []
  },
  {
   "cell_type": "code",
   "execution_count": null,
   "id": "6fe9605f",
   "metadata": {},
   "outputs": [],
   "source": []
  },
  {
   "cell_type": "code",
   "execution_count": null,
   "id": "5819b777",
   "metadata": {},
   "outputs": [],
   "source": []
  }
 ],
 "metadata": {
  "kernelspec": {
   "display_name": "Python 3 (ipykernel)",
   "language": "python",
   "name": "python3"
  },
  "language_info": {
   "codemirror_mode": {
    "name": "ipython",
    "version": 3
   },
   "file_extension": ".py",
   "mimetype": "text/x-python",
   "name": "python",
   "nbconvert_exporter": "python",
   "pygments_lexer": "ipython3",
   "version": "3.11.5"
  }
 },
 "nbformat": 4,
 "nbformat_minor": 5
}
