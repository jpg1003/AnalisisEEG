{
 "cells": [
  {
   "cell_type": "markdown",
   "id": "58886005",
   "metadata": {},
   "source": [
    "<img style=\"float:left\" width=\"70%\" src=\"../../documentacion/imagenes/escudo_COLOR_1L_DCHA.png\">\n",
    "<img style=\"float:right\" width=\"10%\" src=\"../../documentacion/imagenes/PythonLogo.svg\">\n",
    "<br style=\"clear:both;\">\n",
    "\n",
    "\n",
    "<h2 style=\"display: inline-block; padding: 4mm; padding-left: 2em; background-color: navy; line-height: 1.3em; color: white; border-radius: 10px;\">6. Preprocessing</h2>\n",
    "\n",
    "\n",
    " \n",
    "## Estudiante:\n",
    "\n",
    "- Jose Luis Perez Gomez"
   ]
  },
  {
   "cell_type": "code",
   "execution_count": 15,
   "id": "209f8dd5",
   "metadata": {},
   "outputs": [],
   "source": [
    "%run 3.Importaciones.ipynb\n",
    "%run 4.Variables_Clases.ipynb"
   ]
  },
  {
   "cell_type": "code",
   "execution_count": 16,
   "id": "4a4e90ac",
   "metadata": {},
   "outputs": [
    {
     "data": {
      "text/html": [
       "\n",
       "    <!DOCTYPE html>\n",
       "    <html>\n",
       "    <head>\n",
       "    </head>\n",
       "    <body>\n",
       "    \n",
       "    <h4><font color=blue>Realizo la importacion a un Dataframe de los datos del csv aportado para el TFG datosEEGTotal.csv: </h4>\n",
       "\n",
       "    </body>\n",
       "    </html>\n",
       "    "
      ],
      "text/plain": [
       "<IPython.core.display.HTML object>"
      ]
     },
     "metadata": {},
     "output_type": "display_data"
    }
   ],
   "source": [
    "display(HTML(html_h4('Realizo la importacion a un Dataframe de los datos del csv aportado para el TFG datosEEGTotal.csv: ','blue')))\n",
    "datosEEGTotal_csv = pd.read_csv('../datos/datosEEGTotal.csv', sep=';')"
   ]
  },
  {
   "cell_type": "code",
   "execution_count": 17,
   "id": "c4d37167",
   "metadata": {},
   "outputs": [
    {
     "data": {
      "text/html": [
       "\n",
       "    <!DOCTYPE html>\n",
       "    <html>\n",
       "    <head>\n",
       "    </head>\n",
       "    <body>\n",
       "    \n",
       "    <h4><font color=black>Voy a rellenar los datos missing que se observaron en la fase de Carga de datos de Key con la palabra Nothing  </h4>\n",
       "\n",
       "    </body>\n",
       "    </html>\n",
       "    "
      ],
      "text/plain": [
       "<IPython.core.display.HTML object>"
      ]
     },
     "metadata": {},
     "output_type": "display_data"
    },
    {
     "data": {
      "text/html": [
       "\n",
       "    <!DOCTYPE html>\n",
       "    <html>\n",
       "    <head>\n",
       "    </head>\n",
       "    <body>\n",
       "    \n",
       "    <h5><font color=blue>Imprimo la info para revisar que no falte ningún dato, ahora no hay ningun dato missing</h5>\n",
       "\n",
       "    </body>\n",
       "    </html>\n",
       "    "
      ],
      "text/plain": [
       "<IPython.core.display.HTML object>"
      ]
     },
     "metadata": {},
     "output_type": "display_data"
    },
    {
     "name": "stdout",
     "output_type": "stream",
     "text": [
      "<class 'pandas.core.frame.DataFrame'>\n",
      "RangeIndex: 726 entries, 0 to 725\n",
      "Data columns (total 13 columns):\n",
      " #   Column      Non-Null Count  Dtype \n",
      "---  ------      --------------  ----- \n",
      " 0   Timestamp   726 non-null    int64 \n",
      " 1   Attention   726 non-null    int64 \n",
      " 2   Meditation  726 non-null    int64 \n",
      " 3   Delta       726 non-null    int64 \n",
      " 4   Theta       726 non-null    int64 \n",
      " 5   LowAlpha    726 non-null    int64 \n",
      " 6   HighAlpha   726 non-null    int64 \n",
      " 7   LowBeta     726 non-null    int64 \n",
      " 8   HighBeta    726 non-null    int64 \n",
      " 9   LowGamma    726 non-null    int64 \n",
      " 10  HighGamma   726 non-null    int64 \n",
      " 11  Signal      726 non-null    int64 \n",
      " 12  Key         726 non-null    object\n",
      "dtypes: int64(12), object(1)\n",
      "memory usage: 73.9+ KB\n"
     ]
    }
   ],
   "source": [
    "display(HTML(html_h4('Voy a rellenar los datos missing que se observaron en la fase de Carga de datos de Key con la palabra Nothing  ', 'black')))\n",
    "datosEEGTotal_csv_relleno = datosEEGTotal_csv.fillna(\"Nothing\")\n",
    "display(HTML(html_h5('Imprimo la info para revisar que no falte ningún dato, ahora no hay ningun dato missing', 'blue')))\n",
    "datosEEGTotal_csv_relleno.info()"
   ]
  },
  {
   "cell_type": "code",
   "execution_count": 18,
   "id": "b42430d7",
   "metadata": {},
   "outputs": [
    {
     "data": {
      "text/html": [
       "\n",
       "    <!DOCTYPE html>\n",
       "    <html>\n",
       "    <head>\n",
       "    </head>\n",
       "    <body>\n",
       "    \n",
       "    <h4><font color=black>Como se identifico en la fase de Carga de Datos, voy a modificar los datos de Key de LButton a Left  </h4>\n",
       "\n",
       "    </body>\n",
       "    </html>\n",
       "    "
      ],
      "text/plain": [
       "<IPython.core.display.HTML object>"
      ]
     },
     "metadata": {},
     "output_type": "display_data"
    },
    {
     "data": {
      "text/html": [
       "\n",
       "    <!DOCTYPE html>\n",
       "    <html>\n",
       "    <head>\n",
       "    </head>\n",
       "    <body>\n",
       "    \n",
       "    <h5><font color=blue>Imprimo el grafico de barras para ver como estan de balanceados ahora los datos en la columna target= Key</h5>\n",
       "\n",
       "    </body>\n",
       "    </html>\n",
       "    "
      ],
      "text/plain": [
       "<IPython.core.display.HTML object>"
      ]
     },
     "metadata": {},
     "output_type": "display_data"
    },
    {
     "data": {
      "image/png": "[encoded data removed]",
      "text/plain": [
       "<Figure size 1500x500 with 1 Axes>"
      ]
     },
     "metadata": {},
     "output_type": "display_data"
    },
    {
     "data": {
      "text/html": [
       "\n",
       "    <!DOCTYPE html>\n",
       "    <html>\n",
       "    <head>\n",
       "    </head>\n",
       "    <body>\n",
       "    \n",
       "    <h5><font color=blue>Ahora ya se pueden orservar todos los datos target. Ya no aparece LButton que se ha integrado en Left y Nothing seria no pulsar hacia ninguna direccion del teclado</h5>\n",
       "\n",
       "    </body>\n",
       "    </html>\n",
       "    "
      ],
      "text/plain": [
       "<IPython.core.display.HTML object>"
      ]
     },
     "metadata": {},
     "output_type": "display_data"
    }
   ],
   "source": [
    "display(HTML(html_h4('Como se identifico en la fase de Carga de Datos, voy a modificar los datos de Key de LButton a Left  ', 'black')))\n",
    "\n",
    "datosEEGTotal_relleno = datosEEGTotal_csv_relleno.replace({\"LButton\": 'Left'})\n",
    "\n",
    "display(HTML(html_h5('Imprimo el grafico de barras para ver como estan de balanceados ahora los datos en la columna target= Key', 'blue')))\n",
    "\n",
    "# creo la figura \n",
    "fig = plt.figure(figsize = (15, 5))\n",
    " \n",
    "# calculo la cantidad de datos de cada elemento en la columna Key\n",
    "counts = datosEEGTotal_relleno['Key'].value_counts()\n",
    "\n",
    "# creo el el barplot\n",
    "plt.bar(counts.index, counts.values, color ='purple', width = 0.4)\n",
    "\n",
    "# se muestra por cada dato el total de cada elemento\n",
    "for i, count in enumerate(counts.values):\n",
    "    plt.text(i, count, str(count), ha='center', va='bottom')\n",
    "\n",
    "# etiquetas para el gráfico\n",
    "plt.ylabel('Cantidad')\n",
    "plt.title('Cantidad de elementos en la columna Key')\n",
    "\n",
    "# Se muestra el gráfico\n",
    "plt.show()\n",
    "\n",
    "display(HTML(html_h5('Ahora ya se pueden orservar todos los datos target. Ya no aparece LButton que se ha integrado en Left y Nothing seria no pulsar hacia ninguna direccion del teclado', 'blue')))\n",
    "\n"
   ]
  },
  {
   "cell_type": "code",
   "execution_count": 19,
   "id": "8875e5b3",
   "metadata": {},
   "outputs": [
    {
     "data": {
      "text/html": [
       "\n",
       "    <!DOCTYPE html>\n",
       "    <html>\n",
       "    <head>\n",
       "    </head>\n",
       "    <body>\n",
       "    \n",
       "    <h4><font color=black>Elimino columna Signal tal y como se observo en la fase Carga de Datos porque no aporta nada significativo  </h4>\n",
       "\n",
       "    </body>\n",
       "    </html>\n",
       "    "
      ],
      "text/plain": [
       "<IPython.core.display.HTML object>"
      ]
     },
     "metadata": {},
     "output_type": "display_data"
    },
    {
     "data": {
      "text/plain": [
       "Index(['Timestamp', 'Attention', 'Meditation', 'Delta', 'Theta', 'LowAlpha',\n",
       "       'HighAlpha', 'LowBeta', 'HighBeta', 'LowGamma', 'HighGamma', 'Key'],\n",
       "      dtype='object')"
      ]
     },
     "metadata": {},
     "output_type": "display_data"
    },
    {
     "data": {
      "text/html": [
       "\n",
       "    <!DOCTYPE html>\n",
       "    <html>\n",
       "    <head>\n",
       "    </head>\n",
       "    <body>\n",
       "    \n",
       "    <h5><font color=blue>Ya no esta la caracteristica Signal en el conjunto de datos</h5>\n",
       "\n",
       "    </body>\n",
       "    </html>\n",
       "    "
      ],
      "text/plain": [
       "<IPython.core.display.HTML object>"
      ]
     },
     "metadata": {},
     "output_type": "display_data"
    }
   ],
   "source": [
    "\n",
    "display(HTML(html_h4('Elimino columna Signal tal y como se observo en la fase Carga de Datos porque no aporta nada significativo  ', 'black')))\n",
    "\n",
    "datosEEGTotal_sinsignal = datosEEGTotal_relleno.drop(['Signal'],axis=1)\n",
    "display(datosEEGTotal_sinsignal.columns)\n",
    "\n",
    "display(HTML(html_h5('Ya no esta la caracteristica Signal en el conjunto de datos', 'blue')))\n"
   ]
  },
  {
   "cell_type": "code",
   "execution_count": 20,
   "id": "219f65ea",
   "metadata": {},
   "outputs": [
    {
     "data": {
      "text/html": [
       "\n",
       "    <!DOCTYPE html>\n",
       "    <html>\n",
       "    <head>\n",
       "    </head>\n",
       "    <body>\n",
       "    \n",
       "    <h4><font color=black>Se va a normalizar con StandardScaler los datos del conjunto de datos, como se observo en la fase de Carga de datos, excepto de Timestamp y de Key porque son datos que no deben modificarse para un correcto analisis.  </h4>\n",
       "\n",
       "    </body>\n",
       "    </html>\n",
       "    "
      ],
      "text/plain": [
       "<IPython.core.display.HTML object>"
      ]
     },
     "metadata": {},
     "output_type": "display_data"
    },
    {
     "data": {
      "text/html": [
       "\n",
       "    <!DOCTYPE html>\n",
       "    <html>\n",
       "    <head>\n",
       "    </head>\n",
       "    <body>\n",
       "    \n",
       "    <h4><font color=purple>Conjunto de datos antes de la normalizacion:  </h4>\n",
       "\n",
       "    </body>\n",
       "    </html>\n",
       "    "
      ],
      "text/plain": [
       "<IPython.core.display.HTML object>"
      ]
     },
     "metadata": {},
     "output_type": "display_data"
    },
    {
     "data": {
      "text/html": [
       "<div>\n",
       "<style scoped>\n",
       "    .dataframe tbody tr th:only-of-type {\n",
       "        vertical-align: middle;\n",
       "    }\n",
       "\n",
       "    .dataframe tbody tr th {\n",
       "        vertical-align: top;\n",
       "    }\n",
       "\n",
       "    .dataframe thead th {\n",
       "        text-align: right;\n",
       "    }\n",
       "</style>\n",
       "<table border=\"1\" class=\"dataframe\">\n",
       "  <thead>\n",
       "    <tr style=\"text-align: right;\">\n",
       "      <th></th>\n",
       "      <th>Timestamp</th>\n",
       "      <th>Attention</th>\n",
       "      <th>Meditation</th>\n",
       "      <th>Delta</th>\n",
       "      <th>Theta</th>\n",
       "      <th>LowAlpha</th>\n",
       "      <th>HighAlpha</th>\n",
       "      <th>LowBeta</th>\n",
       "      <th>HighBeta</th>\n",
       "      <th>LowGamma</th>\n",
       "      <th>HighGamma</th>\n",
       "      <th>Key</th>\n",
       "    </tr>\n",
       "  </thead>\n",
       "  <tbody>\n",
       "    <tr>\n",
       "      <th>0</th>\n",
       "      <td>54127</td>\n",
       "      <td>84</td>\n",
       "      <td>48</td>\n",
       "      <td>25253</td>\n",
       "      <td>14225</td>\n",
       "      <td>3441</td>\n",
       "      <td>4172</td>\n",
       "      <td>1881</td>\n",
       "      <td>9630</td>\n",
       "      <td>6863</td>\n",
       "      <td>5745</td>\n",
       "      <td>Left</td>\n",
       "    </tr>\n",
       "    <tr>\n",
       "      <th>1</th>\n",
       "      <td>55056</td>\n",
       "      <td>78</td>\n",
       "      <td>60</td>\n",
       "      <td>4946</td>\n",
       "      <td>5021</td>\n",
       "      <td>8879</td>\n",
       "      <td>13002</td>\n",
       "      <td>879</td>\n",
       "      <td>6367</td>\n",
       "      <td>4314</td>\n",
       "      <td>3150</td>\n",
       "      <td>Nothing</td>\n",
       "    </tr>\n",
       "    <tr>\n",
       "      <th>2</th>\n",
       "      <td>56038</td>\n",
       "      <td>66</td>\n",
       "      <td>75</td>\n",
       "      <td>102896</td>\n",
       "      <td>14838</td>\n",
       "      <td>12817</td>\n",
       "      <td>8565</td>\n",
       "      <td>2890</td>\n",
       "      <td>14525</td>\n",
       "      <td>9144</td>\n",
       "      <td>23072</td>\n",
       "      <td>Nothing</td>\n",
       "    </tr>\n",
       "    <tr>\n",
       "      <th>3</th>\n",
       "      <td>57043</td>\n",
       "      <td>61</td>\n",
       "      <td>87</td>\n",
       "      <td>57763</td>\n",
       "      <td>12541</td>\n",
       "      <td>6173</td>\n",
       "      <td>5120</td>\n",
       "      <td>3238</td>\n",
       "      <td>10192</td>\n",
       "      <td>9048</td>\n",
       "      <td>6663</td>\n",
       "      <td>Nothing</td>\n",
       "    </tr>\n",
       "    <tr>\n",
       "      <th>4</th>\n",
       "      <td>58203</td>\n",
       "      <td>37</td>\n",
       "      <td>84</td>\n",
       "      <td>21560</td>\n",
       "      <td>74162</td>\n",
       "      <td>11297</td>\n",
       "      <td>9217</td>\n",
       "      <td>4844</td>\n",
       "      <td>1945</td>\n",
       "      <td>2644</td>\n",
       "      <td>1678</td>\n",
       "      <td>Nothing</td>\n",
       "    </tr>\n",
       "  </tbody>\n",
       "</table>\n",
       "</div>"
      ],
      "text/plain": [
       "   Timestamp  Attention  Meditation   Delta  Theta  LowAlpha  HighAlpha  \\\n",
       "0      54127         84          48   25253  14225      3441       4172   \n",
       "1      55056         78          60    4946   5021      8879      13002   \n",
       "2      56038         66          75  102896  14838     12817       8565   \n",
       "3      57043         61          87   57763  12541      6173       5120   \n",
       "4      58203         37          84   21560  74162     11297       9217   \n",
       "\n",
       "   LowBeta  HighBeta  LowGamma  HighGamma      Key  \n",
       "0     1881      9630      6863       5745     Left  \n",
       "1      879      6367      4314       3150  Nothing  \n",
       "2     2890     14525      9144      23072  Nothing  \n",
       "3     3238     10192      9048       6663  Nothing  \n",
       "4     4844      1945      2644       1678  Nothing  "
      ]
     },
     "metadata": {},
     "output_type": "display_data"
    },
    {
     "data": {
      "text/html": [
       "\n",
       "    <!DOCTYPE html>\n",
       "    <html>\n",
       "    <head>\n",
       "    </head>\n",
       "    <body>\n",
       "    \n",
       "    <h4><font color=purple>Conjunto de datos una vez normalizado con StandardScaler:.  </h4>\n",
       "\n",
       "    </body>\n",
       "    </html>\n",
       "    "
      ],
      "text/plain": [
       "<IPython.core.display.HTML object>"
      ]
     },
     "metadata": {},
     "output_type": "display_data"
    },
    {
     "data": {
      "text/html": [
       "<div>\n",
       "<style scoped>\n",
       "    .dataframe tbody tr th:only-of-type {\n",
       "        vertical-align: middle;\n",
       "    }\n",
       "\n",
       "    .dataframe tbody tr th {\n",
       "        vertical-align: top;\n",
       "    }\n",
       "\n",
       "    .dataframe thead th {\n",
       "        text-align: right;\n",
       "    }\n",
       "</style>\n",
       "<table border=\"1\" class=\"dataframe\">\n",
       "  <thead>\n",
       "    <tr style=\"text-align: right;\">\n",
       "      <th></th>\n",
       "      <th>Timestamp</th>\n",
       "      <th>Attention</th>\n",
       "      <th>Meditation</th>\n",
       "      <th>Delta</th>\n",
       "      <th>Theta</th>\n",
       "      <th>LowAlpha</th>\n",
       "      <th>HighAlpha</th>\n",
       "      <th>LowBeta</th>\n",
       "      <th>HighBeta</th>\n",
       "      <th>LowGamma</th>\n",
       "      <th>HighGamma</th>\n",
       "      <th>Key</th>\n",
       "    </tr>\n",
       "  </thead>\n",
       "  <tbody>\n",
       "    <tr>\n",
       "      <th>0</th>\n",
       "      <td>54127</td>\n",
       "      <td>0.706905</td>\n",
       "      <td>-0.209767</td>\n",
       "      <td>-0.300367</td>\n",
       "      <td>-0.171649</td>\n",
       "      <td>-0.194181</td>\n",
       "      <td>-0.148753</td>\n",
       "      <td>-0.127158</td>\n",
       "      <td>-0.212310</td>\n",
       "      <td>-0.262072</td>\n",
       "      <td>0.065833</td>\n",
       "      <td>Left</td>\n",
       "    </tr>\n",
       "    <tr>\n",
       "      <th>1</th>\n",
       "      <td>55056</td>\n",
       "      <td>0.442657</td>\n",
       "      <td>0.388821</td>\n",
       "      <td>-0.360866</td>\n",
       "      <td>-0.272784</td>\n",
       "      <td>-0.022794</td>\n",
       "      <td>0.113055</td>\n",
       "      <td>-0.145426</td>\n",
       "      <td>-0.402311</td>\n",
       "      <td>-0.457234</td>\n",
       "      <td>-0.267025</td>\n",
       "      <td>Nothing</td>\n",
       "    </tr>\n",
       "    <tr>\n",
       "      <th>2</th>\n",
       "      <td>56038</td>\n",
       "      <td>-0.085838</td>\n",
       "      <td>1.137055</td>\n",
       "      <td>-0.069054</td>\n",
       "      <td>-0.164913</td>\n",
       "      <td>0.101319</td>\n",
       "      <td>-0.018501</td>\n",
       "      <td>-0.108762</td>\n",
       "      <td>0.072719</td>\n",
       "      <td>-0.087428</td>\n",
       "      <td>2.288348</td>\n",
       "      <td>Nothing</td>\n",
       "    </tr>\n",
       "    <tr>\n",
       "      <th>3</th>\n",
       "      <td>57043</td>\n",
       "      <td>-0.306045</td>\n",
       "      <td>1.735642</td>\n",
       "      <td>-0.203514</td>\n",
       "      <td>-0.190153</td>\n",
       "      <td>-0.108077</td>\n",
       "      <td>-0.120645</td>\n",
       "      <td>-0.102417</td>\n",
       "      <td>-0.179586</td>\n",
       "      <td>-0.094779</td>\n",
       "      <td>0.183584</td>\n",
       "      <td>Nothing</td>\n",
       "    </tr>\n",
       "    <tr>\n",
       "      <th>4</th>\n",
       "      <td>58203</td>\n",
       "      <td>-1.363036</td>\n",
       "      <td>1.585995</td>\n",
       "      <td>-0.311369</td>\n",
       "      <td>0.486949</td>\n",
       "      <td>0.053414</td>\n",
       "      <td>0.000831</td>\n",
       "      <td>-0.073136</td>\n",
       "      <td>-0.659798</td>\n",
       "      <td>-0.585097</td>\n",
       "      <td>-0.455837</td>\n",
       "      <td>Nothing</td>\n",
       "    </tr>\n",
       "  </tbody>\n",
       "</table>\n",
       "</div>"
      ],
      "text/plain": [
       "   Timestamp  Attention  Meditation     Delta     Theta  LowAlpha  HighAlpha  \\\n",
       "0      54127   0.706905   -0.209767 -0.300367 -0.171649 -0.194181  -0.148753   \n",
       "1      55056   0.442657    0.388821 -0.360866 -0.272784 -0.022794   0.113055   \n",
       "2      56038  -0.085838    1.137055 -0.069054 -0.164913  0.101319  -0.018501   \n",
       "3      57043  -0.306045    1.735642 -0.203514 -0.190153 -0.108077  -0.120645   \n",
       "4      58203  -1.363036    1.585995 -0.311369  0.486949  0.053414   0.000831   \n",
       "\n",
       "    LowBeta  HighBeta  LowGamma  HighGamma      Key  \n",
       "0 -0.127158 -0.212310 -0.262072   0.065833     Left  \n",
       "1 -0.145426 -0.402311 -0.457234  -0.267025  Nothing  \n",
       "2 -0.108762  0.072719 -0.087428   2.288348  Nothing  \n",
       "3 -0.102417 -0.179586 -0.094779   0.183584  Nothing  \n",
       "4 -0.073136 -0.659798 -0.585097  -0.455837  Nothing  "
      ]
     },
     "metadata": {},
     "output_type": "display_data"
    }
   ],
   "source": [
    "display(HTML(html_h4('Se va a normalizar con StandardScaler los datos del conjunto de datos, como se observo en la fase de Carga de datos, excepto de Timestamp y de Key porque son datos que no deben modificarse para un correcto analisis.  ', 'black')))\n",
    "#https://medium.com/@onersarpnalcin/standardscaler-vs-minmaxscaler-vs-robustscaler-which-one-to-use-for-your-next-ml-project-ae5b44f571b9\n",
    "\n",
    "columnas = ['Attention', 'Meditation', 'Delta', 'Theta', 'LowAlpha', 'HighAlpha', 'LowBeta', 'HighBeta', 'LowGamma', 'HighGamma']\n",
    "datos_a_normalizar = datosEEGTotal_sinsignal[columnas]\n",
    "\n",
    "datosEEGTotal_datos_a_normalizar = pd.DataFrame(StandardScaler().fit_transform(datos_a_normalizar), columns=columnas)\n",
    "datosEEGTotal_stdscaler = pd.concat([datosEEGTotal_sinsignal['Timestamp'],datosEEGTotal_datos_a_normalizar, datosEEGTotal_sinsignal['Key']], axis=1)\n",
    "\n",
    "\n",
    "display(HTML(html_h4('Conjunto de datos antes de la normalizacion:  ', 'purple')))\n",
    "display(datosEEGTotal_sinsignal.head())\n",
    "display(HTML(html_h4('Conjunto de datos una vez normalizado con StandardScaler:.  ', 'purple')))\n",
    "display(datosEEGTotal_stdscaler.head())\n"
   ]
  },
  {
   "cell_type": "code",
   "execution_count": 21,
   "id": "d4ab74f6",
   "metadata": {},
   "outputs": [
    {
     "data": {
      "text/html": [
       "\n",
       "    <!DOCTYPE html>\n",
       "    <html>\n",
       "    <head>\n",
       "    </head>\n",
       "    <body>\n",
       "    \n",
       "    <h4><font color=purple>Voy a cambiar los datos de Key por numeros enteros float64 para que todos los datos del conjunto de datos sean numericos y asi poder experimentar con Machine y deep learning:  </h4>\n",
       "\n",
       "    </body>\n",
       "    </html>\n",
       "    "
      ],
      "text/plain": [
       "<IPython.core.display.HTML object>"
      ]
     },
     "metadata": {},
     "output_type": "display_data"
    },
    {
     "data": {
      "text/html": [
       "\n",
       "    <!DOCTYPE html>\n",
       "    <html>\n",
       "    <head>\n",
       "    </head>\n",
       "    <body>\n",
       "    \n",
       "    <h5><font color=blue>Utilizare esta variable: LABELS_NUM = {Left: \"04\", Right: \"02\" ,Up: \"01\", Down: \"03\",Nothing: \"00\"}  </h5>\n",
       "\n",
       "    </body>\n",
       "    </html>\n",
       "    "
      ],
      "text/plain": [
       "<IPython.core.display.HTML object>"
      ]
     },
     "metadata": {},
     "output_type": "display_data"
    },
    {
     "data": {
      "text/html": [
       "<div>\n",
       "<style scoped>\n",
       "    .dataframe tbody tr th:only-of-type {\n",
       "        vertical-align: middle;\n",
       "    }\n",
       "\n",
       "    .dataframe tbody tr th {\n",
       "        vertical-align: top;\n",
       "    }\n",
       "\n",
       "    .dataframe thead th {\n",
       "        text-align: right;\n",
       "    }\n",
       "</style>\n",
       "<table border=\"1\" class=\"dataframe\">\n",
       "  <thead>\n",
       "    <tr style=\"text-align: right;\">\n",
       "      <th></th>\n",
       "      <th>Timestamp</th>\n",
       "      <th>Attention</th>\n",
       "      <th>Meditation</th>\n",
       "      <th>Delta</th>\n",
       "      <th>Theta</th>\n",
       "      <th>LowAlpha</th>\n",
       "      <th>HighAlpha</th>\n",
       "      <th>LowBeta</th>\n",
       "      <th>HighBeta</th>\n",
       "      <th>LowGamma</th>\n",
       "      <th>HighGamma</th>\n",
       "      <th>Key</th>\n",
       "    </tr>\n",
       "  </thead>\n",
       "  <tbody>\n",
       "    <tr>\n",
       "      <th>0</th>\n",
       "      <td>54127</td>\n",
       "      <td>0.706905</td>\n",
       "      <td>-0.209767</td>\n",
       "      <td>-0.300367</td>\n",
       "      <td>-0.171649</td>\n",
       "      <td>-0.194181</td>\n",
       "      <td>-0.148753</td>\n",
       "      <td>-0.127158</td>\n",
       "      <td>-0.212310</td>\n",
       "      <td>-0.262072</td>\n",
       "      <td>0.065833</td>\n",
       "      <td>4.0</td>\n",
       "    </tr>\n",
       "    <tr>\n",
       "      <th>1</th>\n",
       "      <td>55056</td>\n",
       "      <td>0.442657</td>\n",
       "      <td>0.388821</td>\n",
       "      <td>-0.360866</td>\n",
       "      <td>-0.272784</td>\n",
       "      <td>-0.022794</td>\n",
       "      <td>0.113055</td>\n",
       "      <td>-0.145426</td>\n",
       "      <td>-0.402311</td>\n",
       "      <td>-0.457234</td>\n",
       "      <td>-0.267025</td>\n",
       "      <td>0.0</td>\n",
       "    </tr>\n",
       "    <tr>\n",
       "      <th>2</th>\n",
       "      <td>56038</td>\n",
       "      <td>-0.085838</td>\n",
       "      <td>1.137055</td>\n",
       "      <td>-0.069054</td>\n",
       "      <td>-0.164913</td>\n",
       "      <td>0.101319</td>\n",
       "      <td>-0.018501</td>\n",
       "      <td>-0.108762</td>\n",
       "      <td>0.072719</td>\n",
       "      <td>-0.087428</td>\n",
       "      <td>2.288348</td>\n",
       "      <td>0.0</td>\n",
       "    </tr>\n",
       "    <tr>\n",
       "      <th>3</th>\n",
       "      <td>57043</td>\n",
       "      <td>-0.306045</td>\n",
       "      <td>1.735642</td>\n",
       "      <td>-0.203514</td>\n",
       "      <td>-0.190153</td>\n",
       "      <td>-0.108077</td>\n",
       "      <td>-0.120645</td>\n",
       "      <td>-0.102417</td>\n",
       "      <td>-0.179586</td>\n",
       "      <td>-0.094779</td>\n",
       "      <td>0.183584</td>\n",
       "      <td>0.0</td>\n",
       "    </tr>\n",
       "    <tr>\n",
       "      <th>4</th>\n",
       "      <td>58203</td>\n",
       "      <td>-1.363036</td>\n",
       "      <td>1.585995</td>\n",
       "      <td>-0.311369</td>\n",
       "      <td>0.486949</td>\n",
       "      <td>0.053414</td>\n",
       "      <td>0.000831</td>\n",
       "      <td>-0.073136</td>\n",
       "      <td>-0.659798</td>\n",
       "      <td>-0.585097</td>\n",
       "      <td>-0.455837</td>\n",
       "      <td>0.0</td>\n",
       "    </tr>\n",
       "  </tbody>\n",
       "</table>\n",
       "</div>"
      ],
      "text/plain": [
       "   Timestamp  Attention  Meditation     Delta     Theta  LowAlpha  HighAlpha  \\\n",
       "0      54127   0.706905   -0.209767 -0.300367 -0.171649 -0.194181  -0.148753   \n",
       "1      55056   0.442657    0.388821 -0.360866 -0.272784 -0.022794   0.113055   \n",
       "2      56038  -0.085838    1.137055 -0.069054 -0.164913  0.101319  -0.018501   \n",
       "3      57043  -0.306045    1.735642 -0.203514 -0.190153 -0.108077  -0.120645   \n",
       "4      58203  -1.363036    1.585995 -0.311369  0.486949  0.053414   0.000831   \n",
       "\n",
       "    LowBeta  HighBeta  LowGamma  HighGamma  Key  \n",
       "0 -0.127158 -0.212310 -0.262072   0.065833  4.0  \n",
       "1 -0.145426 -0.402311 -0.457234  -0.267025  0.0  \n",
       "2 -0.108762  0.072719 -0.087428   2.288348  0.0  \n",
       "3 -0.102417 -0.179586 -0.094779   0.183584  0.0  \n",
       "4 -0.073136 -0.659798 -0.585097  -0.455837  0.0  "
      ]
     },
     "execution_count": 21,
     "metadata": {},
     "output_type": "execute_result"
    }
   ],
   "source": [
    "display(HTML(html_h4('Voy a cambiar los datos de Key por numeros enteros float64 para que todos los datos del conjunto de datos sean numericos y asi poder experimentar con Machine y deep learning:  ', 'purple')))\n",
    "display(HTML(html_h5('Utilizare esta variable: LABELS_NUM = {Left: \"04\", Right: \"02\" ,Up: \"01\", Down: \"03\",Nothing: \"00\"}  ''', 'blue')))\n",
    "datosEEGTotal_stdscaler['Key'] = datosEEGTotal_stdscaler['Key'].replace(LABELS_NUM)\n",
    "datosEEGTotal_stdscaler['Key'] = datosEEGTotal_stdscaler['Key'].astype('float64')\n",
    "datosEEGTotal_stdscaler.head()"
   ]
  },
  {
   "cell_type": "code",
   "execution_count": 26,
   "id": "f80886af",
   "metadata": {},
   "outputs": [
    {
     "data": {
      "text/html": [
       "\n",
       "    <!DOCTYPE html>\n",
       "    <html>\n",
       "    <head>\n",
       "    </head>\n",
       "    <body>\n",
       "    \n",
       "    <h4><font color=purple>Voy a realizar el analis de posibles outliers en el conjunto de datos y saco por pantalla cuantos outliers hay por columna de datos y tambien cuales seran los indices que tienen un outliner.  </h4>\n",
       "\n",
       "    </body>\n",
       "    </html>\n",
       "    "
      ],
      "text/plain": [
       "<IPython.core.display.HTML object>"
      ]
     },
     "metadata": {},
     "output_type": "display_data"
    },
    {
     "data": {
      "text/html": [
       "\n",
       "    <!DOCTYPE html>\n",
       "    <html>\n",
       "    <head>\n",
       "    </head>\n",
       "    <body>\n",
       "    \n",
       "    <h5><font color=blue>Número de outliers por columna:  </h5>\n",
       "\n",
       "    </body>\n",
       "    </html>\n",
       "    "
      ],
      "text/plain": [
       "<IPython.core.display.HTML object>"
      ]
     },
     "metadata": {},
     "output_type": "display_data"
    },
    {
     "data": {
      "text/plain": [
       "Timestamp      0\n",
       "Attention      0\n",
       "Meditation     0\n",
       "Delta         23\n",
       "Theta         11\n",
       "LowAlpha       8\n",
       "HighAlpha      8\n",
       "LowBeta        2\n",
       "HighBeta       6\n",
       "LowGamma       8\n",
       "HighGamma      6\n",
       "Key            0\n",
       "dtype: int64"
      ]
     },
     "metadata": {},
     "output_type": "display_data"
    },
    {
     "data": {
      "text/html": [
       "\n",
       "    <!DOCTYPE html>\n",
       "    <html>\n",
       "    <head>\n",
       "    </head>\n",
       "    <body>\n",
       "    \n",
       "    <h5><font color=blue>Índices únicos de outliers ordenados:  </h5>\n",
       "\n",
       "    </body>\n",
       "    </html>\n",
       "    "
      ],
      "text/plain": [
       "<IPython.core.display.HTML object>"
      ]
     },
     "metadata": {},
     "output_type": "display_data"
    },
    {
     "data": {
      "text/plain": [
       "'Total: 42'"
      ]
     },
     "metadata": {},
     "output_type": "display_data"
    },
    {
     "data": {
      "text/plain": [
       "'Lista: [9, 10, 23, 36, 48, 71, 72, 126, 142, 149, 169, 183, 202, 217, 227, 228, 242, 243, 247, 263, 268, 282, 283, 288, 303, 304, 313, 314, 354, 391, 414, 454, 474, 494, 515, 516, 518, 670, 678, 703, 715, 719]'"
      ]
     },
     "metadata": {},
     "output_type": "display_data"
    }
   ],
   "source": [
    "display(HTML(html_h4('Voy a realizar el analis de posibles outliers en el conjunto de datos y saco por pantalla cuantos outliers hay por columna de datos y tambien cuales seran los indices que tienen un outliner.  ', 'purple')))\n",
    "\n",
    "# Lista para guardar todos los indices donde hay outliners\n",
    "exp_outliners = []\n",
    "\n",
    "   \n",
    "# Calculo el z-score para cada valor en el DataFrame\n",
    "z_scores = stats.zscore(datosEEGTotal_stdscaler)\n",
    "\n",
    "# Defino un umbral para los z-scores que considerará como outliers\n",
    "# https://en.wikipedia.org/wiki/68%E2%80%9395%E2%80%9399.7_rule\n",
    "umbral_zscore = 3\n",
    "\n",
    "# Detecto los outliers basados en el z-score (valores cuyo valor absoluto de z-score es mayor que el umbral)\n",
    "outliers = (abs(z_scores) > umbral_zscore)\n",
    "\n",
    "# Cuento el número de outliers en cada columna\n",
    "num_outliers_por_columna = outliers.sum(axis=0)\n",
    "\n",
    "# Obtengo las filas y sus índices que son outliers en cada columna\n",
    "outliers_por_columna = {}\n",
    "for column in datosEEGTotal_stdscaler.columns:\n",
    "    outliers_index = outliers[outliers[column]].index\n",
    "    outliers_por_columna[column] = outliers_index\n",
    "\n",
    "# Imprimo el número de outliers por cada columna\n",
    "display(HTML(html_h5('Número de outliers por columna:  ', 'blue')))\n",
    "display(num_outliers_por_columna)\n",
    "\n",
    "# Lista para almacenar todos los índices de outliers\n",
    "todos_indices_outliers = []\n",
    "\n",
    "# Almaceno todos los índices de outliers en una lista\n",
    "for indices in outliers_por_columna.values():\n",
    "    todos_indices_outliers.extend(indices)\n",
    "\n",
    "# Convierto la lista de índices a un conjunto para eliminar duplicados\n",
    "conjunto_indices_outliers = set(todos_indices_outliers)\n",
    "\n",
    "# Saco una lista ordenada de los índices únicos\n",
    "indices_unicos_ordenados = sorted(list(conjunto_indices_outliers))\n",
    "\n",
    "# Imprimo los índices únicos ordenados\n",
    "display(HTML(html_h5('Índices únicos de outliers ordenados:  ', 'blue')))\n",
    "display(f'Total: {len(indices_unicos_ordenados)}')\n",
    "display(f'Lista: {indices_unicos_ordenados}')\n",
    "\n",
    "# Construir un nuevo DataFrame que contenga las filas correspondientes a los índices únicos ordenados\n",
    "dataframe_outliers = datosEEGTotal_stdscaler.loc[indices_unicos_ordenados] #por si se quisiera imprimir\n",
    "\n",
    "\n",
    "# Agregar el DataFrame filtrado a la lista\n",
    "exp_outliners.append(indices_unicos_ordenados)\n"
   ]
  },
  {
   "cell_type": "code",
   "execution_count": 27,
   "id": "4449ac5e",
   "metadata": {},
   "outputs": [
    {
     "data": {
      "text/html": [
       "\n",
       "    <!DOCTYPE html>\n",
       "    <html>\n",
       "    <head>\n",
       "    </head>\n",
       "    <body>\n",
       "    \n",
       "    <h4><font color=purple>Borro todos los indices que contengan outliers.  </h4>\n",
       "\n",
       "    </body>\n",
       "    </html>\n",
       "    "
      ],
      "text/plain": [
       "<IPython.core.display.HTML object>"
      ]
     },
     "metadata": {},
     "output_type": "display_data"
    },
    {
     "data": {
      "text/html": [
       "\n",
       "    <!DOCTYPE html>\n",
       "    <html>\n",
       "    <head>\n",
       "    </head>\n",
       "    <body>\n",
       "    \n",
       "    <h5><font color=blue>Total de lineas antes y despues del borrado de los outliners.  </h5>\n",
       "\n",
       "    </body>\n",
       "    </html>\n",
       "    "
      ],
      "text/plain": [
       "<IPython.core.display.HTML object>"
      ]
     },
     "metadata": {},
     "output_type": "display_data"
    },
    {
     "data": {
      "text/plain": [
       "'Antes: 726'"
      ]
     },
     "metadata": {},
     "output_type": "display_data"
    },
    {
     "data": {
      "text/plain": [
       "'Despues: 684'"
      ]
     },
     "metadata": {},
     "output_type": "display_data"
    }
   ],
   "source": [
    "display(HTML(html_h4('Borro todos los indices que contengan outliers.  ', 'purple')))\n",
    "\n",
    "# Itero sobre la lista de indices donde hay outliners y aplico el proceso de eliminadoa cada uno de elloso\n",
    "for outlier in exp_outliners:\n",
    "\n",
    "    datosEEGTotal_nor = datosEEGTotal_stdscaler.drop(outlier)\n",
    "\n",
    "    # Reseteo los indices para que no haya saltos de numeraciones en los propios indices\n",
    "    datosEEGTotal_nor_sinoutliers = datosEEGTotal_nor.reset_index(drop=True)    \n",
    "\n",
    "display(HTML(html_h5('Total de lineas antes y despues del borrado de los outliners.  ', 'blue')))# Itero sobre la lista de indices donde hay outliners y aplico el proceso de eliminadoa cada uno de elloso\n",
    "\n",
    "display(f'Antes: {len(datosEEGTotal_stdscaler)}')\n",
    "display(f'Despues: {len(datosEEGTotal_nor_sinoutliers)}')\n",
    "\n",
    "\n"
   ]
  },
  {
   "cell_type": "code",
   "execution_count": 28,
   "id": "a7225f49",
   "metadata": {},
   "outputs": [
    {
     "data": {
      "text/html": [
       "\n",
       "    <!DOCTYPE html>\n",
       "    <html>\n",
       "    <head>\n",
       "    </head>\n",
       "    <body>\n",
       "    \n",
       "    <h4><font color=purple>Analizo de que manera esta la distribución de datos en cuartiles dentro de cada caracterictica del conjunto de datos  </h4>\n",
       "\n",
       "    </body>\n",
       "    </html>\n",
       "    "
      ],
      "text/plain": [
       "<IPython.core.display.HTML object>"
      ]
     },
     "metadata": {},
     "output_type": "display_data"
    },
    {
     "data": {
      "image/png": "[encoded data removed]",
      "text/plain": [
       "<Figure size 2000x1500 with 12 Axes>"
      ]
     },
     "metadata": {},
     "output_type": "display_data"
    }
   ],
   "source": [
    "#https://seaborn.pydata.org/generated/seaborn.boxplot.html\n",
    "\n",
    "display(HTML(html_h4('Analizo de que manera esta la distribución de datos en cuartiles dentro de cada caracterictica del conjunto de datos  ', 'purple')))\n",
    "\n",
    "# Filtro el DataFrame para dejar fuera la columna Key\n",
    "datosEEGTotal_csv_box1 = datosEEGTotal_nor_sinoutliers\n",
    "\n",
    "# Calculo el número de filas necesarias para mostrar dos boxplots por fila para que la impresion no sea muy larga\n",
    "num_cols = len(datosEEGTotal_csv_box1.columns)\n",
    "num_rows = (num_cols) // 2\n",
    "\n",
    "# Defino el tamaño de la figura\n",
    "plt.figure(figsize=(20, 15))\n",
    "\n",
    "# Itero sobre cada columna del DataFrame filtrado\n",
    "for i, column in enumerate(datosEEGTotal_csv_box1.columns):\n",
    "    # Creo un subplot para cada columna\n",
    "    plt.subplot(num_rows, 2, i + 1)\n",
    "    \n",
    "    # un boxplot para cada columna\n",
    "    sns.boxplot(data=datosEEGTotal_csv_box1, x=column)\n",
    "    \n",
    "    # título como el nombre de la columna\n",
    "    plt.title(column)\n",
    "\n",
    "# Ajusto el diseño para evitar superposiciones\n",
    "plt.tight_layout()\n"
   ]
  },
  {
   "cell_type": "code",
   "execution_count": null,
   "id": "ebcb1327",
   "metadata": {},
   "outputs": [],
   "source": [
    "display(HTML(html_h5('La distancia de los datos es mucho menor que en la fase de Carga de datos.  ', 'blue')))"
   ]
  },
  {
   "cell_type": "code",
   "execution_count": null,
   "id": "84d7aa46",
   "metadata": {},
   "outputs": [],
   "source": [
    "display()\n",
    "display(HTML(html_h4('Imprimo cada una de las caracteristicas de los datos excepto Key: ', 'purple')))\n",
    "\n",
    "#imprimo los datos por cada columna excluyendo Key\n",
    "datosEEGTotal_nor_sinoutliers.drop(['Key'],axis=1).plot(kind=\"line\",subplots=True,sharex=False, figsize=(30,50),xlim=0)\n",
    "plt.show()\n",
    "\n",
    "display(HTML(html_h5('Las graficas se observan mas limpias y se pueden observar como oscilan los datos, no como en Carga de datos: ', 'blue')))"
   ]
  },
  {
   "cell_type": "code",
   "execution_count": null,
   "id": "33c2e80c",
   "metadata": {},
   "outputs": [],
   "source": [
    "#https://www.codetodevs.com/correlacion-variables-pairplot-seaborn/\n",
    "display(HTML(html_h4('Muestro los graficos de dispersión de los datos despues de limpieza y normalizacion de datos', 'purple')))\n",
    "\n",
    "sns.pairplot(datosEEGTotal_nor_sinoutliers)"
   ]
  },
  {
   "cell_type": "code",
   "execution_count": null,
   "id": "80d2f732",
   "metadata": {},
   "outputs": [],
   "source": [
    "display(HTML(html_h4('Divido el conjunto de datos en los 4 experimentos que se podian ver en la fase de Carga de datos y en las graficas de Timestamp ', 'purple')))\n",
    "display(HTML(html_h4('Estos cuatro experimentos los exportare a csv con nombres correlativos por TimeStamp experimento_1.csv, experimento_2.csv, ... ', 'purple')))\n",
    "\n",
    "\n",
    "last_timestamp = None\n",
    "\n",
    "file_counter = 1\n",
    "\n",
    "df_segment = pd.DataFrame(columns=datosEEGTotal_nor_sinoutliers.columns)\n",
    "\n",
    "# Itera sobre el DataFrame\n",
    "for index, row in datosEEGTotal_nor_sinoutliers.iterrows():\n",
    "    current_timestamp = row['Timestamp']\n",
    "    \n",
    "    # Si es el primer registro o si el timestamp actual es menor al anterior, crea un nuevo DataFrame y guarda el segmento anterior en un archivo\n",
    "    if last_timestamp is None or current_timestamp < last_timestamp:\n",
    "        if last_timestamp is not None:\n",
    "            # Guarda el DataFrame anterior en un archivo\n",
    "            df_segment.to_csv(f'../datos/experimento_stscaler_{file_counter}.csv', index=False)\n",
    "            file_counter += 1\n",
    "        \n",
    "        # Inicializa un nuevo DataFrame para el nuevo segmento\n",
    "        df_segment = pd.DataFrame(columns=datosEEGTotal_nor_sinoutliers.columns)\n",
    "    \n",
    "    # Añade la fila actual al DataFrame del segmento actual\n",
    "    df_segment = pd.concat([df_segment, row.to_frame().T])\n",
    "\n",
    "    # Actualiza el timestamp anterior\n",
    "    last_timestamp = current_timestamp\n",
    "\n",
    "# Guarda el último segmento en un archivo\n",
    "if not df_segment.empty:\n",
    "    df_segment.to_csv(f'../datos/experimento_stscaler_{file_counter}.csv', index=False)"
   ]
  },
  {
   "cell_type": "code",
   "execution_count": null,
   "id": "4727ce01",
   "metadata": {},
   "outputs": [],
   "source": [
    "datosEEGTotal_nor_sinoutliers.info()"
   ]
  },
  {
   "cell_type": "code",
   "execution_count": null,
   "id": "403bd2e2",
   "metadata": {},
   "outputs": [],
   "source": [
    "display(HTML(html_h4('Tambien exportare a csv todos los datos del conjunto de datos sin TimeStamp con nombre experimento_all.csv ', 'purple')))\n",
    "datosEEGTotal_nor_all = datosEEGTotal_nor_sinoutliers.drop(['Timestamp'], axis=1)\n",
    "\n",
    "\n",
    "datosEEGTotal_nor_all.to_csv(f'../datos/experimento_stscaler_all.csv', index=False)"
   ]
  },
  {
   "cell_type": "code",
   "execution_count": null,
   "id": "90626a56",
   "metadata": {},
   "outputs": [],
   "source": []
  }
 ],
 "metadata": {
  "kernelspec": {
   "display_name": "Python 3 (ipykernel)",
   "language": "python",
   "name": "python3"
  },
  "language_info": {
   "codemirror_mode": {
    "name": "ipython",
    "version": 3
   },
   "file_extension": ".py",
   "mimetype": "text/x-python",
   "name": "python",
   "nbconvert_exporter": "python",
   "pygments_lexer": "ipython3",
   "version": "3.11.5"
  }
 },
 "nbformat": 4,
 "nbformat_minor": 5
}
