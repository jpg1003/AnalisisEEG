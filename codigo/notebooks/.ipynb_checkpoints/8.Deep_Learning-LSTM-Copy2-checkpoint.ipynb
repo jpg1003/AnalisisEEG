{
 "cells": [
  {
   "cell_type": "markdown",
   "id": "8045039e",
   "metadata": {},
   "source": [
    "<img style=\"float:left\" width=\"70%\" src=\"../../documentacion/imagenes/escudo_COLOR_1L_DCHA.png\">\n",
    "<img style=\"float:right\" width=\"10%\" src=\"../../documentacion/imagenes/PythonLogo.svg\">\n",
    "<br style=\"clear:both;\">\n",
    "\n",
    "\n",
    "<h2 style=\"display: inline-block; padding: 4mm; padding-left: 2em; background-color: navy; line-height: 1.3em; color: white; border-radius: 10px;\">8. Deep Learning LSTM</h2>\n",
    "\n",
    "\n",
    " \n",
    "## Estudiante:\n",
    "\n",
    "- Jose Luis Perez Gomez"
   ]
  },
  {
   "cell_type": "code",
   "execution_count": 94,
   "id": "af97b04a",
   "metadata": {},
   "outputs": [],
   "source": [
    "%run 3.Importaciones.ipynb\n",
    "%run 4.Variables_Clases.ipynb"
   ]
  },
  {
   "cell_type": "code",
   "execution_count": 95,
   "id": "41199a17",
   "metadata": {},
   "outputs": [],
   "source": [
    "experimento_1_nor_separado = pd.read_csv('../datos/experimento_stscaler_separado1.csv', sep=',')\n",
    "experimento_2_nor_separado = pd.read_csv('../datos/experimento_stscaler_separado2.csv', sep=',')\n",
    "experimento_3_nor_separado = pd.read_csv('../datos/experimento_stscaler_separado3.csv', sep=',')\n",
    "experimento_4_nor_separado = pd.read_csv('../datos/experimento_stscaler_separado4.csv', sep=',')\n",
    "experimento_all_nor = pd.read_csv('../datos/experimento_stscaler_all.csv', sep=',')\n",
    "experimento_all_nor_separado = pd.read_csv('../datos/experimento_stscaler_separado_all.csv', sep=',')\n",
    "\n",
    "experimento_1_nor_separado = experimento_1_nor_separado.drop(['Timestamp'], axis=1)\n",
    "experimento_2_nor_separado = experimento_2_nor_separado.drop(['Timestamp'], axis=1)\n",
    "experimento_3_nor_separado = experimento_3_nor_separado.drop(['Timestamp'], axis=1)\n",
    "experimento_4_nor_separado = experimento_4_nor_separado.drop(['Timestamp'], axis=1)\n",
    "\n",
    "experimentos_nor = [experimento_1_nor_separado, experimento_2_nor_separado, experimento_3_nor_separado, experimento_4_nor_separado, experimento_all_nor, experimento_all_nor_separado ]\n"
   ]
  },
  {
   "cell_type": "code",
   "execution_count": null,
   "id": "4f190c3a",
   "metadata": {},
   "outputs": [],
   "source": []
  },
  {
   "cell_type": "code",
   "execution_count": null,
   "id": "fcd15619",
   "metadata": {},
   "outputs": [],
   "source": []
  },
  {
   "cell_type": "markdown",
   "id": "09831c43",
   "metadata": {},
   "source": [
    "# LSTM (Long short-term memory)"
   ]
  },
  {
   "cell_type": "code",
   "execution_count": null,
   "id": "6b74b62d",
   "metadata": {},
   "outputs": [],
   "source": []
  },
  {
   "cell_type": "code",
   "execution_count": 96,
   "id": "c7099f73",
   "metadata": {},
   "outputs": [],
   "source": [
    "train_datos, val_datos, test_datos = dividir_datos_deep(experimento_all_nor_separado)"
   ]
  },
  {
   "cell_type": "code",
   "execution_count": 97,
   "id": "3c280dfb",
   "metadata": {},
   "outputs": [
    {
     "name": "stdout",
     "output_type": "stream",
     "text": [
      "train_datos: (542, 11)\n",
      "val_datos: (67, 11)\n",
      "test_datos: (69, 11)\n"
     ]
    }
   ],
   "source": [
    "print(f'train_datos: {train_datos.shape}')\n",
    "print(f'val_datos: {val_datos.shape}')\n",
    "print(f'test_datos: {test_datos.shape}')"
   ]
  },
  {
   "cell_type": "code",
   "execution_count": 98,
   "id": "de4b798d",
   "metadata": {},
   "outputs": [
    {
     "data": {
      "text/plain": [
       "Key\n",
       "0.0    149\n",
       "1.0    112\n",
       "4.0    102\n",
       "3.0     90\n",
       "2.0     89\n",
       "Name: count, dtype: int64"
      ]
     },
     "execution_count": 98,
     "metadata": {},
     "output_type": "execute_result"
    }
   ],
   "source": [
    "train_datos['Key'].value_counts()"
   ]
  },
  {
   "cell_type": "code",
   "execution_count": 99,
   "id": "ed5d5419",
   "metadata": {},
   "outputs": [
    {
     "data": {
      "text/plain": [
       "Key\n",
       "0.0    17\n",
       "3.0    14\n",
       "4.0    14\n",
       "1.0    13\n",
       "2.0     9\n",
       "Name: count, dtype: int64"
      ]
     },
     "execution_count": 99,
     "metadata": {},
     "output_type": "execute_result"
    }
   ],
   "source": [
    "val_datos['Key'].value_counts()"
   ]
  },
  {
   "cell_type": "code",
   "execution_count": 100,
   "id": "f9663e42",
   "metadata": {
    "scrolled": true
   },
   "outputs": [
    {
     "data": {
      "text/plain": [
       "Key\n",
       "0.0    20\n",
       "2.0    16\n",
       "1.0    15\n",
       "4.0    11\n",
       "3.0     7\n",
       "Name: count, dtype: int64"
      ]
     },
     "execution_count": 100,
     "metadata": {},
     "output_type": "execute_result"
    }
   ],
   "source": [
    "test_datos['Key'].value_counts()"
   ]
  },
  {
   "cell_type": "code",
   "execution_count": 101,
   "id": "a5688c88",
   "metadata": {},
   "outputs": [],
   "source": [
    "\n",
    "def preparar_ventanas(datos, target, window_size=WINDOWS_SIZE, overlap=OVERLAP, target_type=TARGET_TYPE):\n",
    "    \n",
    "    if window_size <= overlap:\n",
    "        raise \"Overlap no puede ser mayor que window_size\"\n",
    "    X = []\n",
    "    y = []\n",
    "    for i in range(0, len(datos) - window_size, window_size - overlap):\n",
    "        X.append(datos[i:i+window_size])\n",
    "        window_targets = target[i:i+window_size].astype(int)\n",
    "        y_true = window_targets[-1]\n",
    "        y.append(y_true)\n",
    "\n",
    "    #y_one_hot = tf.keras.utils.to_categorical(np.array(y), num_classes = 5)\n",
    "    # Key = [0, 1, 2, 3, 4, 0]\n",
    "    # One-hot [\n",
    "    #    [0, 1, 2, 3, 4]\n",
    "    #     1  0  0  0  0\n",
    "    #     0  1  0  0  0\n",
    "    #     0  0  1  0  0\n",
    "    #]\n",
    "    #return np.array(X), y_one_hot\n",
    "    return np.array(X), np.array(y)"
   ]
  },
  {
   "cell_type": "code",
   "execution_count": 102,
   "id": "7d4a3ecd",
   "metadata": {},
   "outputs": [],
   "source": [
    "columns = train_datos.columns[train_datos.columns != TARGET]\n",
    "\n"
   ]
  },
  {
   "cell_type": "code",
   "execution_count": null,
   "id": "e929694b",
   "metadata": {},
   "outputs": [],
   "source": []
  },
  {
   "cell_type": "code",
   "execution_count": 103,
   "id": "ce41f475",
   "metadata": {},
   "outputs": [],
   "source": [
    "X_train, y_train = preparar_ventanas(train_datos[columns].values, train_datos[TARGET].values, WINDOWS_SIZE, OVERLAP, TARGET_TYPE)\n",
    "X_val, y_val = preparar_ventanas(val_datos[columns].values, val_datos[TARGET].values, WINDOWS_SIZE, OVERLAP, TARGET_TYPE)\n",
    "X_test, y_test = preparar_ventanas(test_datos[columns].values, test_datos[TARGET].values, WINDOWS_SIZE, OVERLAP, TARGET_TYPE)"
   ]
  },
  {
   "cell_type": "code",
   "execution_count": null,
   "id": "af90c208",
   "metadata": {},
   "outputs": [],
   "source": []
  },
  {
   "cell_type": "code",
   "execution_count": 118,
   "id": "52bec6e4",
   "metadata": {},
   "outputs": [
    {
     "name": "stdout",
     "output_type": "stream",
     "text": [
      "X_train: (539, 3, 10)\n",
      "X_val: (64, 3, 10)\n",
      "X_test: (66, 3, 10)\n",
      "y_train: (539,)\n",
      "y_val: (64,)\n",
      "y_test: (66,)\n",
      "[2 2 2 2 2 2 2 0 0 0 0 0 3 3 3 3 3 3 3 3 3 3 3 3 3 3 0 0 0 0 0 1 1 1 1 1 1\n",
      " 1 1 1 1 1 1 1 0 0 0 0 0 4 4 4 4 4 4 4 4 4 4 4 4 4 4 0]\n"
     ]
    }
   ],
   "source": [
    "print(f'X_train: {X_train.shape}')\n",
    "print(f'X_val: {X_val.shape}')\n",
    "print(f'X_test: {X_test.shape}')\n",
    "print(f'y_train: {y_train.shape}')\n",
    "print(f'y_val: {y_val.shape}')\n",
    "print(f'y_test: {y_test.shape}')\n",
    "\n",
    "print(y_val)\n"
   ]
  },
  {
   "cell_type": "code",
   "execution_count": 105,
   "id": "24bd83d2",
   "metadata": {},
   "outputs": [],
   "source": [
    "# Definición del modelo\n",
    "timesteps = 30\n",
    "features = 10\n",
    "\n",
    "def crear_LSTM(input_size, num_classes):\n",
    "    model_LSTM = Sequential()\n",
    "    model_LSTM.add(LSTM(units=30, input_shape=(timesteps, features)))\n",
    "    model_LSTM.add(Dense(30))\n",
    "    model_LSTM.add(Dense(num_classes, activation='softmax'))\n",
    "                        \n",
    "    return model_LSTM\n",
    "\n",
    "\n"
   ]
  },
  {
   "cell_type": "code",
   "execution_count": 106,
   "id": "deffa6fe",
   "metadata": {},
   "outputs": [
    {
     "name": "stderr",
     "output_type": "stream",
     "text": [
      "C:\\Users\\Casa\\anaconda3\\Lib\\site-packages\\keras\\src\\layers\\rnn\\rnn.py:204: UserWarning: Do not pass an `input_shape`/`input_dim` argument to a layer. When using Sequential models, prefer using an `Input(shape)` object as the first layer in the model instead.\n",
      "  super().__init__(**kwargs)\n"
     ]
    },
    {
     "data": {
      "text/html": [
       "<pre style=\"white-space:pre;overflow-x:auto;line-height:normal;font-family:Menlo,'DejaVu Sans Mono',consolas,'Courier New',monospace\"><span style=\"font-weight: bold\">Model: \"sequential_11\"</span>\n",
       "</pre>\n"
      ],
      "text/plain": [
       "\u001b[1mModel: \"sequential_11\"\u001b[0m\n"
      ]
     },
     "metadata": {},
     "output_type": "display_data"
    },
    {
     "data": {
      "text/html": [
       "<pre style=\"white-space:pre;overflow-x:auto;line-height:normal;font-family:Menlo,'DejaVu Sans Mono',consolas,'Courier New',monospace\">┏━━━━━━━━━━━━━━━━━━━━━━━━━━━━━━━━━━━━━━┳━━━━━━━━━━━━━━━━━━━━━━━━━━━━━┳━━━━━━━━━━━━━━━━━┓\n",
       "┃<span style=\"font-weight: bold\"> Layer (type)                         </span>┃<span style=\"font-weight: bold\"> Output Shape                </span>┃<span style=\"font-weight: bold\">         Param # </span>┃\n",
       "┡━━━━━━━━━━━━━━━━━━━━━━━━━━━━━━━━━━━━━━╇━━━━━━━━━━━━━━━━━━━━━━━━━━━━━╇━━━━━━━━━━━━━━━━━┩\n",
       "│ lstm_19 (<span style=\"color: #0087ff; text-decoration-color: #0087ff\">LSTM</span>)                       │ (<span style=\"color: #00d7ff; text-decoration-color: #00d7ff\">None</span>, <span style=\"color: #00af00; text-decoration-color: #00af00\">30</span>)                  │           <span style=\"color: #00af00; text-decoration-color: #00af00\">4,920</span> │\n",
       "├──────────────────────────────────────┼─────────────────────────────┼─────────────────┤\n",
       "│ dense_7 (<span style=\"color: #0087ff; text-decoration-color: #0087ff\">Dense</span>)                      │ (<span style=\"color: #00d7ff; text-decoration-color: #00d7ff\">None</span>, <span style=\"color: #00af00; text-decoration-color: #00af00\">30</span>)                  │             <span style=\"color: #00af00; text-decoration-color: #00af00\">930</span> │\n",
       "├──────────────────────────────────────┼─────────────────────────────┼─────────────────┤\n",
       "│ dense_8 (<span style=\"color: #0087ff; text-decoration-color: #0087ff\">Dense</span>)                      │ (<span style=\"color: #00d7ff; text-decoration-color: #00d7ff\">None</span>, <span style=\"color: #00af00; text-decoration-color: #00af00\">5</span>)                   │             <span style=\"color: #00af00; text-decoration-color: #00af00\">155</span> │\n",
       "└──────────────────────────────────────┴─────────────────────────────┴─────────────────┘\n",
       "</pre>\n"
      ],
      "text/plain": [
       "┏━━━━━━━━━━━━━━━━━━━━━━━━━━━━━━━━━━━━━━┳━━━━━━━━━━━━━━━━━━━━━━━━━━━━━┳━━━━━━━━━━━━━━━━━┓\n",
       "┃\u001b[1m \u001b[0m\u001b[1mLayer (type)                        \u001b[0m\u001b[1m \u001b[0m┃\u001b[1m \u001b[0m\u001b[1mOutput Shape               \u001b[0m\u001b[1m \u001b[0m┃\u001b[1m \u001b[0m\u001b[1m        Param #\u001b[0m\u001b[1m \u001b[0m┃\n",
       "┡━━━━━━━━━━━━━━━━━━━━━━━━━━━━━━━━━━━━━━╇━━━━━━━━━━━━━━━━━━━━━━━━━━━━━╇━━━━━━━━━━━━━━━━━┩\n",
       "│ lstm_19 (\u001b[38;5;33mLSTM\u001b[0m)                       │ (\u001b[38;5;45mNone\u001b[0m, \u001b[38;5;34m30\u001b[0m)                  │           \u001b[38;5;34m4,920\u001b[0m │\n",
       "├──────────────────────────────────────┼─────────────────────────────┼─────────────────┤\n",
       "│ dense_7 (\u001b[38;5;33mDense\u001b[0m)                      │ (\u001b[38;5;45mNone\u001b[0m, \u001b[38;5;34m30\u001b[0m)                  │             \u001b[38;5;34m930\u001b[0m │\n",
       "├──────────────────────────────────────┼─────────────────────────────┼─────────────────┤\n",
       "│ dense_8 (\u001b[38;5;33mDense\u001b[0m)                      │ (\u001b[38;5;45mNone\u001b[0m, \u001b[38;5;34m5\u001b[0m)                   │             \u001b[38;5;34m155\u001b[0m │\n",
       "└──────────────────────────────────────┴─────────────────────────────┴─────────────────┘\n"
      ]
     },
     "metadata": {},
     "output_type": "display_data"
    },
    {
     "data": {
      "text/html": [
       "<pre style=\"white-space:pre;overflow-x:auto;line-height:normal;font-family:Menlo,'DejaVu Sans Mono',consolas,'Courier New',monospace\"><span style=\"font-weight: bold\"> Total params: </span><span style=\"color: #00af00; text-decoration-color: #00af00\">6,005</span> (23.46 KB)\n",
       "</pre>\n"
      ],
      "text/plain": [
       "\u001b[1m Total params: \u001b[0m\u001b[38;5;34m6,005\u001b[0m (23.46 KB)\n"
      ]
     },
     "metadata": {},
     "output_type": "display_data"
    },
    {
     "data": {
      "text/html": [
       "<pre style=\"white-space:pre;overflow-x:auto;line-height:normal;font-family:Menlo,'DejaVu Sans Mono',consolas,'Courier New',monospace\"><span style=\"font-weight: bold\"> Trainable params: </span><span style=\"color: #00af00; text-decoration-color: #00af00\">6,005</span> (23.46 KB)\n",
       "</pre>\n"
      ],
      "text/plain": [
       "\u001b[1m Trainable params: \u001b[0m\u001b[38;5;34m6,005\u001b[0m (23.46 KB)\n"
      ]
     },
     "metadata": {},
     "output_type": "display_data"
    },
    {
     "data": {
      "text/html": [
       "<pre style=\"white-space:pre;overflow-x:auto;line-height:normal;font-family:Menlo,'DejaVu Sans Mono',consolas,'Courier New',monospace\"><span style=\"font-weight: bold\"> Non-trainable params: </span><span style=\"color: #00af00; text-decoration-color: #00af00\">0</span> (0.00 B)\n",
       "</pre>\n"
      ],
      "text/plain": [
       "\u001b[1m Non-trainable params: \u001b[0m\u001b[38;5;34m0\u001b[0m (0.00 B)\n"
      ]
     },
     "metadata": {},
     "output_type": "display_data"
    }
   ],
   "source": [
    "num_classes = 5\n",
    "input_size = X_train.shape[1:]\n",
    "model_LSTM = crear_LSTM(input_size, num_classes)\n",
    "model_LSTM.summary()\n"
   ]
  },
  {
   "cell_type": "code",
   "execution_count": 109,
   "id": "f3c8682d",
   "metadata": {},
   "outputs": [
    {
     "name": "stdout",
     "output_type": "stream",
     "text": [
      "Epoch 1/50\n",
      "\u001b[1m18/18\u001b[0m \u001b[32m━━━━━━━━━━━━━━━━━━━━\u001b[0m\u001b[37m\u001b[0m \u001b[1m2s\u001b[0m 16ms/step - accuracy: 0.2243 - loss: 52.1352 - val_accuracy: 0.2188 - val_loss: 36.1724\n",
      "Epoch 2/50\n",
      "\u001b[1m18/18\u001b[0m \u001b[32m━━━━━━━━━━━━━━━━━━━━\u001b[0m\u001b[37m\u001b[0m \u001b[1m0s\u001b[0m 4ms/step - accuracy: 0.2250 - loss: 31.3116 - val_accuracy: 0.1875 - val_loss: 18.8430\n",
      "Epoch 3/50\n",
      "\u001b[1m18/18\u001b[0m \u001b[32m━━━━━━━━━━━━━━━━━━━━\u001b[0m\u001b[37m\u001b[0m \u001b[1m0s\u001b[0m 4ms/step - accuracy: 0.2743 - loss: 14.7731 - val_accuracy: 0.2188 - val_loss: 14.2056\n",
      "Epoch 4/50\n",
      "\u001b[1m18/18\u001b[0m \u001b[32m━━━━━━━━━━━━━━━━━━━━\u001b[0m\u001b[37m\u001b[0m \u001b[1m0s\u001b[0m 4ms/step - accuracy: 0.2792 - loss: 10.8093 - val_accuracy: 0.1406 - val_loss: 11.9940\n",
      "Epoch 5/50\n",
      "\u001b[1m18/18\u001b[0m \u001b[32m━━━━━━━━━━━━━━━━━━━━\u001b[0m\u001b[37m\u001b[0m \u001b[1m0s\u001b[0m 4ms/step - accuracy: 0.2232 - loss: 9.5826 - val_accuracy: 0.2031 - val_loss: 8.9165\n",
      "Epoch 6/50\n",
      "\u001b[1m18/18\u001b[0m \u001b[32m━━━━━━━━━━━━━━━━━━━━\u001b[0m\u001b[37m\u001b[0m \u001b[1m0s\u001b[0m 4ms/step - accuracy: 0.2642 - loss: 6.3127 - val_accuracy: 0.2656 - val_loss: 5.4294\n",
      "Epoch 7/50\n",
      "\u001b[1m18/18\u001b[0m \u001b[32m━━━━━━━━━━━━━━━━━━━━\u001b[0m\u001b[37m\u001b[0m \u001b[1m0s\u001b[0m 5ms/step - accuracy: 0.2632 - loss: 5.0767 - val_accuracy: 0.1875 - val_loss: 4.1608\n",
      "Epoch 8/50\n",
      "\u001b[1m18/18\u001b[0m \u001b[32m━━━━━━━━━━━━━━━━━━━━\u001b[0m\u001b[37m\u001b[0m \u001b[1m0s\u001b[0m 3ms/step - accuracy: 0.2264 - loss: 4.4328 - val_accuracy: 0.1562 - val_loss: 4.4423\n",
      "Epoch 9/50\n",
      "\u001b[1m18/18\u001b[0m \u001b[32m━━━━━━━━━━━━━━━━━━━━\u001b[0m\u001b[37m\u001b[0m \u001b[1m0s\u001b[0m 4ms/step - accuracy: 0.2426 - loss: 4.4827 - val_accuracy: 0.1250 - val_loss: 2.9438\n",
      "Epoch 10/50\n",
      "\u001b[1m18/18\u001b[0m \u001b[32m━━━━━━━━━━━━━━━━━━━━\u001b[0m\u001b[37m\u001b[0m \u001b[1m0s\u001b[0m 3ms/step - accuracy: 0.2561 - loss: 3.2372 - val_accuracy: 0.1719 - val_loss: 6.4282\n",
      "Epoch 11/50\n",
      "\u001b[1m18/18\u001b[0m \u001b[32m━━━━━━━━━━━━━━━━━━━━\u001b[0m\u001b[37m\u001b[0m \u001b[1m0s\u001b[0m 3ms/step - accuracy: 0.2300 - loss: 4.2840 - val_accuracy: 0.1719 - val_loss: 3.2460\n",
      "Epoch 12/50\n",
      "\u001b[1m18/18\u001b[0m \u001b[32m━━━━━━━━━━━━━━━━━━━━\u001b[0m\u001b[37m\u001b[0m \u001b[1m0s\u001b[0m 3ms/step - accuracy: 0.2395 - loss: 2.9684 - val_accuracy: 0.1719 - val_loss: 4.0489\n",
      "Epoch 13/50\n",
      "\u001b[1m18/18\u001b[0m \u001b[32m━━━━━━━━━━━━━━━━━━━━\u001b[0m\u001b[37m\u001b[0m \u001b[1m0s\u001b[0m 3ms/step - accuracy: 0.2683 - loss: 3.3161 - val_accuracy: 0.2500 - val_loss: 3.5917\n",
      "Epoch 14/50\n",
      "\u001b[1m18/18\u001b[0m \u001b[32m━━━━━━━━━━━━━━━━━━━━\u001b[0m\u001b[37m\u001b[0m \u001b[1m0s\u001b[0m 3ms/step - accuracy: 0.2266 - loss: 4.1588 - val_accuracy: 0.1719 - val_loss: 4.7563\n",
      "Epoch 15/50\n",
      "\u001b[1m18/18\u001b[0m \u001b[32m━━━━━━━━━━━━━━━━━━━━\u001b[0m\u001b[37m\u001b[0m \u001b[1m0s\u001b[0m 3ms/step - accuracy: 0.2259 - loss: 5.0557 - val_accuracy: 0.1406 - val_loss: 8.0050\n",
      "Epoch 16/50\n",
      "\u001b[1m18/18\u001b[0m \u001b[32m━━━━━━━━━━━━━━━━━━━━\u001b[0m\u001b[37m\u001b[0m \u001b[1m0s\u001b[0m 3ms/step - accuracy: 0.2202 - loss: 6.4043 - val_accuracy: 0.2031 - val_loss: 8.8705\n",
      "Epoch 17/50\n",
      "\u001b[1m18/18\u001b[0m \u001b[32m━━━━━━━━━━━━━━━━━━━━\u001b[0m\u001b[37m\u001b[0m \u001b[1m0s\u001b[0m 3ms/step - accuracy: 0.2543 - loss: 9.4088 - val_accuracy: 0.2344 - val_loss: 6.3244\n",
      "Epoch 18/50\n",
      "\u001b[1m18/18\u001b[0m \u001b[32m━━━━━━━━━━━━━━━━━━━━\u001b[0m\u001b[37m\u001b[0m \u001b[1m0s\u001b[0m 3ms/step - accuracy: 0.2210 - loss: 6.0299 - val_accuracy: 0.1719 - val_loss: 8.2109\n",
      "Epoch 19/50\n",
      "\u001b[1m18/18\u001b[0m \u001b[32m━━━━━━━━━━━━━━━━━━━━\u001b[0m\u001b[37m\u001b[0m \u001b[1m0s\u001b[0m 3ms/step - accuracy: 0.2500 - loss: 6.4644 - val_accuracy: 0.3438 - val_loss: 9.4502\n",
      "Epoch 20/50\n",
      "\u001b[1m18/18\u001b[0m \u001b[32m━━━━━━━━━━━━━━━━━━━━\u001b[0m\u001b[37m\u001b[0m \u001b[1m0s\u001b[0m 3ms/step - accuracy: 0.2500 - loss: 7.7112 - val_accuracy: 0.1562 - val_loss: 12.4806\n",
      "Epoch 21/50\n",
      "\u001b[1m18/18\u001b[0m \u001b[32m━━━━━━━━━━━━━━━━━━━━\u001b[0m\u001b[37m\u001b[0m \u001b[1m0s\u001b[0m 3ms/step - accuracy: 0.2203 - loss: 8.3842 - val_accuracy: 0.1406 - val_loss: 7.8294\n",
      "Epoch 22/50\n",
      "\u001b[1m18/18\u001b[0m \u001b[32m━━━━━━━━━━━━━━━━━━━━\u001b[0m\u001b[37m\u001b[0m \u001b[1m0s\u001b[0m 4ms/step - accuracy: 0.2219 - loss: 6.4849 - val_accuracy: 0.1875 - val_loss: 7.0294\n",
      "Epoch 23/50\n",
      "\u001b[1m18/18\u001b[0m \u001b[32m━━━━━━━━━━━━━━━━━━━━\u001b[0m\u001b[37m\u001b[0m \u001b[1m0s\u001b[0m 4ms/step - accuracy: 0.2351 - loss: 5.9879 - val_accuracy: 0.2188 - val_loss: 7.1777\n",
      "Epoch 24/50\n",
      "\u001b[1m18/18\u001b[0m \u001b[32m━━━━━━━━━━━━━━━━━━━━\u001b[0m\u001b[37m\u001b[0m \u001b[1m0s\u001b[0m 3ms/step - accuracy: 0.2475 - loss: 4.8032 - val_accuracy: 0.1875 - val_loss: 5.1861\n",
      "Epoch 25/50\n",
      "\u001b[1m18/18\u001b[0m \u001b[32m━━━━━━━━━━━━━━━━━━━━\u001b[0m\u001b[37m\u001b[0m \u001b[1m0s\u001b[0m 3ms/step - accuracy: 0.2891 - loss: 3.9026 - val_accuracy: 0.2500 - val_loss: 4.4109\n",
      "Epoch 26/50\n",
      "\u001b[1m18/18\u001b[0m \u001b[32m━━━━━━━━━━━━━━━━━━━━\u001b[0m\u001b[37m\u001b[0m \u001b[1m0s\u001b[0m 3ms/step - accuracy: 0.2522 - loss: 4.1611 - val_accuracy: 0.2344 - val_loss: 4.6652\n",
      "Epoch 27/50\n",
      "\u001b[1m18/18\u001b[0m \u001b[32m━━━━━━━━━━━━━━━━━━━━\u001b[0m\u001b[37m\u001b[0m \u001b[1m0s\u001b[0m 3ms/step - accuracy: 0.2643 - loss: 3.4460 - val_accuracy: 0.2031 - val_loss: 3.4984\n",
      "Epoch 28/50\n",
      "\u001b[1m18/18\u001b[0m \u001b[32m━━━━━━━━━━━━━━━━━━━━\u001b[0m\u001b[37m\u001b[0m \u001b[1m0s\u001b[0m 3ms/step - accuracy: 0.2407 - loss: 2.8863 - val_accuracy: 0.1719 - val_loss: 3.5463\n",
      "Epoch 29/50\n",
      "\u001b[1m18/18\u001b[0m \u001b[32m━━━━━━━━━━━━━━━━━━━━\u001b[0m\u001b[37m\u001b[0m \u001b[1m0s\u001b[0m 3ms/step - accuracy: 0.2480 - loss: 2.9354 - val_accuracy: 0.2344 - val_loss: 3.7266\n",
      "Epoch 30/50\n",
      "\u001b[1m18/18\u001b[0m \u001b[32m━━━━━━━━━━━━━━━━━━━━\u001b[0m\u001b[37m\u001b[0m \u001b[1m0s\u001b[0m 3ms/step - accuracy: 0.2647 - loss: 3.2481 - val_accuracy: 0.2344 - val_loss: 4.2735\n",
      "Epoch 31/50\n",
      "\u001b[1m18/18\u001b[0m \u001b[32m━━━━━━━━━━━━━━━━━━━━\u001b[0m\u001b[37m\u001b[0m \u001b[1m0s\u001b[0m 3ms/step - accuracy: 0.2719 - loss: 4.8098 - val_accuracy: 0.1875 - val_loss: 5.2415\n",
      "Epoch 32/50\n",
      "\u001b[1m18/18\u001b[0m \u001b[32m━━━━━━━━━━━━━━━━━━━━\u001b[0m\u001b[37m\u001b[0m \u001b[1m0s\u001b[0m 3ms/step - accuracy: 0.2438 - loss: 3.3625 - val_accuracy: 0.1562 - val_loss: 4.5776\n",
      "Epoch 33/50\n",
      "\u001b[1m18/18\u001b[0m \u001b[32m━━━━━━━━━━━━━━━━━━━━\u001b[0m\u001b[37m\u001b[0m \u001b[1m0s\u001b[0m 3ms/step - accuracy: 0.2004 - loss: 2.6788 - val_accuracy: 0.2188 - val_loss: 3.9868\n",
      "Epoch 34/50\n",
      "\u001b[1m18/18\u001b[0m \u001b[32m━━━━━━━━━━━━━━━━━━━━\u001b[0m\u001b[37m\u001b[0m \u001b[1m0s\u001b[0m 4ms/step - accuracy: 0.2656 - loss: 2.5521 - val_accuracy: 0.2656 - val_loss: 3.8271\n",
      "Epoch 35/50\n",
      "\u001b[1m18/18\u001b[0m \u001b[32m━━━━━━━━━━━━━━━━━━━━\u001b[0m\u001b[37m\u001b[0m \u001b[1m0s\u001b[0m 4ms/step - accuracy: 0.2383 - loss: 2.7472 - val_accuracy: 0.2344 - val_loss: 3.5112\n",
      "Epoch 36/50\n",
      "\u001b[1m18/18\u001b[0m \u001b[32m━━━━━━━━━━━━━━━━━━━━\u001b[0m\u001b[37m\u001b[0m \u001b[1m0s\u001b[0m 3ms/step - accuracy: 0.2590 - loss: 2.7329 - val_accuracy: 0.2031 - val_loss: 3.1029\n",
      "Epoch 37/50\n",
      "\u001b[1m18/18\u001b[0m \u001b[32m━━━━━━━━━━━━━━━━━━━━\u001b[0m\u001b[37m\u001b[0m \u001b[1m0s\u001b[0m 3ms/step - accuracy: 0.2406 - loss: 3.3193 - val_accuracy: 0.2344 - val_loss: 3.7648\n",
      "Epoch 38/50\n",
      "\u001b[1m18/18\u001b[0m \u001b[32m━━━━━━━━━━━━━━━━━━━━\u001b[0m\u001b[37m\u001b[0m \u001b[1m0s\u001b[0m 3ms/step - accuracy: 0.2737 - loss: 4.0534 - val_accuracy: 0.2500 - val_loss: 5.2062\n",
      "Epoch 39/50\n",
      "\u001b[1m18/18\u001b[0m \u001b[32m━━━━━━━━━━━━━━━━━━━━\u001b[0m\u001b[37m\u001b[0m \u001b[1m0s\u001b[0m 3ms/step - accuracy: 0.2346 - loss: 5.0687 - val_accuracy: 0.1875 - val_loss: 9.4726\n",
      "Epoch 40/50\n",
      "\u001b[1m18/18\u001b[0m \u001b[32m━━━━━━━━━━━━━━━━━━━━\u001b[0m\u001b[37m\u001b[0m \u001b[1m0s\u001b[0m 3ms/step - accuracy: 0.2561 - loss: 5.9319 - val_accuracy: 0.1719 - val_loss: 7.9060\n",
      "Epoch 41/50\n",
      "\u001b[1m18/18\u001b[0m \u001b[32m━━━━━━━━━━━━━━━━━━━━\u001b[0m\u001b[37m\u001b[0m \u001b[1m0s\u001b[0m 3ms/step - accuracy: 0.2556 - loss: 6.1685 - val_accuracy: 0.2812 - val_loss: 9.1529\n",
      "Epoch 42/50\n",
      "\u001b[1m18/18\u001b[0m \u001b[32m━━━━━━━━━━━━━━━━━━━━\u001b[0m\u001b[37m\u001b[0m \u001b[1m0s\u001b[0m 3ms/step - accuracy: 0.2774 - loss: 7.4966 - val_accuracy: 0.1562 - val_loss: 12.7907\n",
      "Epoch 43/50\n",
      "\u001b[1m18/18\u001b[0m \u001b[32m━━━━━━━━━━━━━━━━━━━━\u001b[0m\u001b[37m\u001b[0m \u001b[1m0s\u001b[0m 3ms/step - accuracy: 0.2517 - loss: 10.4042 - val_accuracy: 0.2500 - val_loss: 16.1631\n",
      "Epoch 44/50\n",
      "\u001b[1m18/18\u001b[0m \u001b[32m━━━━━━━━━━━━━━━━━━━━\u001b[0m\u001b[37m\u001b[0m \u001b[1m0s\u001b[0m 3ms/step - accuracy: 0.2640 - loss: 12.1022 - val_accuracy: 0.1250 - val_loss: 18.0969\n",
      "Epoch 45/50\n",
      "\u001b[1m18/18\u001b[0m \u001b[32m━━━━━━━━━━━━━━━━━━━━\u001b[0m\u001b[37m\u001b[0m \u001b[1m0s\u001b[0m 4ms/step - accuracy: 0.2390 - loss: 17.0653 - val_accuracy: 0.1562 - val_loss: 22.1497\n",
      "Epoch 46/50\n",
      "\u001b[1m18/18\u001b[0m \u001b[32m━━━━━━━━━━━━━━━━━━━━\u001b[0m\u001b[37m\u001b[0m \u001b[1m0s\u001b[0m 4ms/step - accuracy: 0.2637 - loss: 26.0946 - val_accuracy: 0.1250 - val_loss: 65.5762\n",
      "Epoch 47/50\n",
      "\u001b[1m18/18\u001b[0m \u001b[32m━━━━━━━━━━━━━━━━━━━━\u001b[0m\u001b[37m\u001b[0m \u001b[1m0s\u001b[0m 3ms/step - accuracy: 0.2244 - loss: 56.3787 - val_accuracy: 0.2188 - val_loss: 65.2673\n",
      "Epoch 48/50\n",
      "\u001b[1m18/18\u001b[0m \u001b[32m━━━━━━━━━━━━━━━━━━━━\u001b[0m\u001b[37m\u001b[0m \u001b[1m0s\u001b[0m 3ms/step - accuracy: 0.2234 - loss: 77.1092 - val_accuracy: 0.2812 - val_loss: 53.8337\n",
      "Epoch 49/50\n",
      "\u001b[1m18/18\u001b[0m \u001b[32m━━━━━━━━━━━━━━━━━━━━\u001b[0m\u001b[37m\u001b[0m \u001b[1m0s\u001b[0m 4ms/step - accuracy: 0.2239 - loss: 90.7099 - val_accuracy: 0.1719 - val_loss: 106.7925\n",
      "Epoch 50/50\n",
      "\u001b[1m18/18\u001b[0m \u001b[32m━━━━━━━━━━━━━━━━━━━━\u001b[0m\u001b[37m\u001b[0m \u001b[1m0s\u001b[0m 3ms/step - accuracy: 0.2456 - loss: 113.9015 - val_accuracy: 0.2500 - val_loss: 104.1955\n"
     ]
    }
   ],
   "source": [
    "checkpoint_filepath = 'checkpoint/mlp.keras'\n",
    "\n",
    "# Crear checkpoint\n",
    "model_checkpoint_callback = ModelCheckpoint(\n",
    "    filepath=checkpoint_filepath,\n",
    "    monitor='val_loss',\n",
    "    mode='min',\n",
    "    save_best_only=True\n",
    ")\n",
    "\n",
    "# Hiperparámetros\n",
    "batch_size = 30\n",
    "learning_rate = 1e-0\n",
    "epochs = 50\n",
    "#dropout = 0.5\n",
    "weight_decay = 1e-0\n",
    "\n",
    "\n",
    "\n",
    "# Compilamos el modelo\n",
    "optimizador = Adam(learning_rate=learning_rate)\n",
    "#optimizador = AdamW(learning_rate=learning_rate, weight_decay=weight_decay)\n",
    "model_LSTM.compile(optimizer= optimizador,\n",
    "                  #loss='categorical_crossentropy',\n",
    "                  loss='sparse_categorical_crossentropy',\n",
    "                  metrics=[\"accuracy\"])\n",
    "\n",
    "# Entrenar\n",
    "LSTM_output = model_LSTM.fit(\n",
    "    X_train, y_train,\n",
    "    validation_data=(X_val, y_val),\n",
    "    epochs=epochs, batch_size=batch_size,\n",
    "    callbacks=[model_checkpoint_callback]\n",
    ")"
   ]
  },
  {
   "cell_type": "code",
   "execution_count": 110,
   "id": "0e15425a",
   "metadata": {},
   "outputs": [],
   "source": [
    "def learning_curve(history, key='loss', title='Loss curve'):\n",
    "    epochs = np.arange(1, len(history.history[key]) + 1)\n",
    "\n",
    "    plt.figure(figsize=(20, 4))\n",
    "    plt.subplot(1, 3, 1)\n",
    "    plt.plot(epochs, history.history[key], label='Training')\n",
    "    plt.plot(epochs, history.history['val_' + key], label='Validation')\n",
    "    plt.title(title)\n",
    "    plt.xlabel('Epochs')\n",
    "    plt.ylabel(key.title())\n",
    "    plt.legend()"
   ]
  },
  {
   "cell_type": "code",
   "execution_count": 111,
   "id": "3107456e",
   "metadata": {},
   "outputs": [
    {
     "data": {
      "image/png": "[encoded data removed]",
      "text/plain": [
       "<Figure size 2000x400 with 1 Axes>"
      ]
     },
     "metadata": {},
     "output_type": "display_data"
    }
   ],
   "source": [
    "learning_curve(LSTM_output, 'loss')"
   ]
  },
  {
   "cell_type": "code",
   "execution_count": 112,
   "id": "e2a93f0a",
   "metadata": {},
   "outputs": [],
   "source": [
    "# Cargar pesos del mejor modelo\n",
    "model_LSTM.load_weights(checkpoint_filepath)"
   ]
  },
  {
   "cell_type": "code",
   "execution_count": 113,
   "id": "b3c80024",
   "metadata": {},
   "outputs": [
    {
     "name": "stdout",
     "output_type": "stream",
     "text": [
      "\u001b[1m2/2\u001b[0m \u001b[32m━━━━━━━━━━━━━━━━━━━━\u001b[0m\u001b[37m\u001b[0m \u001b[1m0s\u001b[0m 0s/step   \n"
     ]
    }
   ],
   "source": [
    "probabilidades_val = model_LSTM.predict(X_val)"
   ]
  },
  {
   "cell_type": "code",
   "execution_count": 116,
   "id": "b20962dc",
   "metadata": {},
   "outputs": [
    {
     "name": "stdout",
     "output_type": "stream",
     "text": [
      "[[6.01873457e-01 4.36447473e-04 3.97209227e-01 9.39732763e-06\n",
      "  4.71398263e-04]\n",
      " [7.74151564e-01 1.00049879e-02 2.85799745e-02 3.25168408e-02\n",
      "  1.54746681e-01]\n",
      " [2.40994934e-02 2.04465147e-02 1.30970422e-02 1.06393462e-02\n",
      "  9.31717515e-01]\n",
      " [2.36545339e-01 4.06386703e-02 1.83517259e-04 6.60076559e-01\n",
      "  6.25558868e-02]\n",
      " [1.94884390e-01 9.48722512e-02 2.73899049e-01 1.83580637e-01\n",
      "  2.52763689e-01]\n",
      " [1.94883958e-01 9.48733836e-02 2.73895353e-01 1.83578208e-01\n",
      "  2.52769172e-01]\n",
      " [1.92150593e-01 9.43721682e-02 2.66323268e-01 1.83460146e-01\n",
      "  2.63693810e-01]\n",
      " [1.94892198e-01 9.48486179e-02 2.73972720e-01 1.83629170e-01\n",
      "  2.52657324e-01]\n",
      " [6.05780110e-02 4.51257220e-03 6.32672524e-03 6.08573914e-01\n",
      "  3.20008874e-01]\n",
      " [1.95376188e-01 9.36603621e-02 2.78164178e-01 1.86094046e-01\n",
      "  2.46705264e-01]\n",
      " [8.18204582e-02 5.95343821e-02 7.24274278e-01 3.08825616e-02\n",
      "  1.03488266e-01]\n",
      " [7.06224982e-03 1.75681598e-02 3.15854102e-02 1.72804177e-01\n",
      "  7.70980060e-01]\n",
      " [2.62182634e-02 2.50053983e-02 9.34577405e-01 1.03845289e-02\n",
      "  3.81442090e-03]\n",
      " [4.83706780e-02 6.21347241e-02 7.24133134e-01 1.20021537e-01\n",
      "  4.53398861e-02]\n",
      " [3.90402563e-02 3.53851058e-02 8.63890946e-01 8.72377027e-03\n",
      "  5.29599600e-02]\n",
      " [1.97837129e-01 9.95552391e-02 2.77734935e-01 1.81931525e-01\n",
      "  2.42941126e-01]\n",
      " [1.92446619e-01 9.41746235e-02 2.69906163e-01 1.85233966e-01\n",
      "  2.58238643e-01]\n",
      " [1.96821272e-01 8.37945417e-02 3.07874292e-01 2.05794796e-01\n",
      "  2.05715150e-01]\n",
      " [1.96767390e-01 8.38368535e-02 3.07487428e-01 2.05488801e-01\n",
      "  2.06419587e-01]\n",
      " [1.96994454e-01 8.69197175e-02 3.00138712e-01 2.01076329e-01\n",
      "  2.14870811e-01]\n",
      " [2.94662684e-01 2.23863926e-02 1.27563730e-03 6.68129683e-01\n",
      "  1.35456426e-02]\n",
      " [2.00558797e-01 4.73581962e-02 4.06530887e-01 2.76499659e-01\n",
      "  6.90524876e-02]\n",
      " [2.40416393e-01 1.03122564e-02 1.09933699e-02 4.73568261e-01\n",
      "  2.64709860e-01]\n",
      " [2.25078693e-04 2.10371800e-03 8.45431568e-05 1.58326020e-05\n",
      "  9.97570813e-01]\n",
      " [2.37744153e-01 2.94859223e-02 4.72611532e-08 4.31440771e-04\n",
      "  7.32338428e-01]\n",
      " [2.15969831e-01 9.10741389e-02 3.13634783e-01 2.03093305e-01\n",
      "  1.76227957e-01]\n",
      " [1.94886491e-01 9.48690325e-02 2.73912966e-01 1.83590457e-01\n",
      "  2.52741069e-01]\n",
      " [1.95807338e-01 9.00257751e-02 2.48711735e-01 1.90131962e-01\n",
      "  2.75323212e-01]\n",
      " [1.95710659e-01 9.19740647e-02 2.82890141e-01 1.89461187e-01\n",
      "  2.39963949e-01]\n",
      " [6.27917051e-03 5.64206904e-03 7.05151726e-03 1.35428011e-01\n",
      "  8.45599294e-01]\n",
      " [1.95325896e-01 9.37797204e-02 2.77081311e-01 1.85989380e-01\n",
      "  2.47823671e-01]\n",
      " [1.95047230e-01 9.47347283e-02 2.74840832e-01 1.83080122e-01\n",
      "  2.52297133e-01]\n",
      " [1.05928499e-02 5.75579354e-04 1.43367331e-04 2.17034310e-01\n",
      "  7.71653891e-01]\n",
      " [8.89987499e-03 2.94167921e-03 1.85655756e-03 1.97341293e-01\n",
      "  7.88960636e-01]\n",
      " [1.94825917e-01 9.48921517e-02 2.74015903e-01 1.83538243e-01\n",
      "  2.52727717e-01]\n",
      " [2.05737934e-01 1.01085968e-01 3.08044881e-01 2.16804475e-01\n",
      "  1.68326706e-01]\n",
      " [1.19666737e-02 3.74557124e-03 1.49939843e-02 9.69293237e-01\n",
      "  4.39387890e-07]\n",
      " [1.81490369e-02 1.10517233e-03 9.80630815e-01 6.63884857e-05\n",
      "  4.85879063e-05]\n",
      " [3.59002724e-02 2.84911804e-02 8.86329591e-01 9.36303381e-03\n",
      "  3.99158522e-02]\n",
      " [1.92529917e-01 6.23776577e-02 3.69980991e-01 2.45768696e-01\n",
      "  1.29342675e-01]\n",
      " [2.44151875e-01 2.00827625e-02 4.19977248e-01 3.10579002e-01\n",
      "  5.20909019e-03]\n",
      " [1.93675205e-01 6.75580055e-02 3.54883850e-01 2.36119315e-01\n",
      "  1.47763640e-01]\n",
      " [1.79069638e-01 7.66782687e-05 8.20822835e-01 3.03082634e-05\n",
      "  5.89954311e-07]\n",
      " [1.25325873e-01 5.81777059e-02 6.65312037e-02 3.34288459e-03\n",
      "  7.46622324e-01]\n",
      " [2.38970652e-01 6.72770202e-01 8.58171061e-02 2.22823140e-03\n",
      "  2.13855485e-04]\n",
      " [8.02920222e-01 6.82134589e-04 1.93593979e-01 2.80365231e-03\n",
      "  5.99599537e-11]\n",
      " [1.26094725e-02 2.01224179e-06 9.87388074e-01 4.39023239e-07\n",
      "  3.69295818e-20]\n",
      " [1.03180476e-01 2.17434652e-02 7.97285512e-02 8.62543471e-03\n",
      "  7.86722124e-01]\n",
      " [5.34697235e-01 3.70182693e-02 3.20209446e-03 9.98807475e-02\n",
      "  3.25201601e-01]\n",
      " [2.32207745e-01 9.64256525e-02 2.41331175e-01 2.07012773e-01\n",
      "  2.23022714e-01]\n",
      " [7.36314952e-01 1.94607023e-02 9.49821528e-03 2.32322812e-01\n",
      "  2.40334985e-03]\n",
      " [1.95002615e-01 9.48814526e-02 2.73610920e-01 1.83778659e-01\n",
      "  2.52726287e-01]\n",
      " [1.97026223e-01 9.74092484e-02 2.77610362e-01 1.82812408e-01\n",
      "  2.45141834e-01]\n",
      " [1.21188154e-02 7.49160675e-03 1.41333714e-02 2.75484979e-01\n",
      "  6.90771222e-01]\n",
      " [1.94886982e-01 9.48725715e-02 2.73904443e-01 1.83575854e-01\n",
      "  2.52760142e-01]\n",
      " [6.49321437e-01 8.74459073e-02 2.38152102e-01 6.07751217e-03\n",
      "  1.90030672e-02]\n",
      " [1.96783453e-01 8.40009525e-02 3.06943655e-01 2.05212638e-01\n",
      "  2.07059294e-01]\n",
      " [2.29952902e-01 9.03691202e-02 2.03328937e-01 2.61176020e-01\n",
      "  2.15173021e-01]\n",
      " [2.27865949e-01 3.57231312e-02 3.42042389e-04 6.76851749e-01\n",
      "  5.92171885e-02]\n",
      " [1.95408851e-01 9.53728259e-02 2.75072366e-01 1.83493853e-01\n",
      "  2.50652045e-01]\n",
      " [1.98849306e-01 9.95783508e-02 2.80840099e-01 1.82216689e-01\n",
      "  2.38515556e-01]\n",
      " [1.94441974e-01 9.44784060e-02 2.72355676e-01 1.84593976e-01\n",
      "  2.54129976e-01]\n",
      " [1.99895188e-01 9.61676985e-02 2.58323103e-01 1.90638855e-01\n",
      "  2.54975200e-01]\n",
      " [5.79701038e-03 5.65782143e-03 6.15968462e-03 1.18827738e-01\n",
      "  8.63557756e-01]]\n",
      "[0 0 4 3 2 2 2 2 3 2 2 4 2 2 2 2 2 2 2 2 3 2 3 4 4 2 2 4 2 4 2 2 4 4 2 2 3\n",
      " 2 2 2 2 2 2 4 1 0 2 4 0 2 0 2 2 4 2 0 2 3 3 2 2 2 2 4]\n",
      "[2 2 2 2 2 2 2 0 0 0 0 0 3 3 3 3 3 3 3 3 3 3 3 3 3 3 0 0 0 0 0 1 1 1 1 1 1\n",
      " 1 1 1 1 1 1 1 0 0 0 0 0 4 4 4 4 4 4 4 4 4 4 4 4 4 4 0]\n"
     ]
    }
   ],
   "source": [
    "print(probabilidades_val)\n",
    "y_val_pred = probabilidades_val.argmax(1)\n",
    "print(y_val_pred)\n",
    "print(y_val)\n",
    "#etiquetas_val = y_val.argmax(1)\n",
    "#print(etiquetas_val)"
   ]
  },
  {
   "cell_type": "code",
   "execution_count": 119,
   "id": "2ecf0e56",
   "metadata": {},
   "outputs": [
    {
     "name": "stdout",
     "output_type": "stream",
     "text": [
      "              precision    recall  f1-score   support\n",
      "\n",
      "           0       0.33      0.12      0.18        16\n",
      "           1       0.00      0.00      0.00        13\n",
      "           2       0.08      0.43      0.13         7\n",
      "           3       0.29      0.14      0.19        14\n",
      "           4       0.08      0.07      0.08        14\n",
      "\n",
      "    accuracy                           0.12        64\n",
      "   macro avg       0.16      0.15      0.12        64\n",
      "weighted avg       0.17      0.12      0.12        64\n",
      "\n"
     ]
    }
   ],
   "source": [
    "#print(classification_report(etiquetas_val, y_val_pred, target_names=CLASES_KEY))\n",
    "print(classification_report(y_val, y_val_pred, target_names=CLASES_KEY))"
   ]
  },
  {
   "cell_type": "code",
   "execution_count": 120,
   "id": "7c3dcf49",
   "metadata": {},
   "outputs": [],
   "source": [
    "def visualizar_matriz_confusion(etiquetas_reales, etiquetas_predichas, class_names, titulo):\n",
    "    # Calcular matriz de confusión\n",
    "    cm = confusion_matrix(etiquetas_reales, etiquetas_predichas)\n",
    "\n",
    "    # Visualizar matriz de confusión\n",
    "    plt.figure(figsize=(7, 5))\n",
    "    sns.heatmap(cm, annot=True, fmt='d', cmap='Blues', xticklabels=class_names, yticklabels=class_names)\n",
    "    plt.title(titulo)\n",
    "    plt.xlabel('Predicción')\n",
    "    plt.ylabel('Real')\n",
    "    plt.show()"
   ]
  },
  {
   "cell_type": "code",
   "execution_count": 121,
   "id": "1e8d4132",
   "metadata": {},
   "outputs": [
    {
     "data": {
      "image/png": "[encoded data removed]",
      "text/plain": [
       "<Figure size 700x500 with 2 Axes>"
      ]
     },
     "metadata": {},
     "output_type": "display_data"
    }
   ],
   "source": [
    "visualizar_matriz_confusion(etiquetas_val, y_val_pred, CLASES_KEY, 'Matriz de confusión de validación')"
   ]
  },
  {
   "cell_type": "code",
   "execution_count": null,
   "id": "4aa3778e",
   "metadata": {},
   "outputs": [],
   "source": []
  },
  {
   "cell_type": "code",
   "execution_count": null,
   "id": "c855344e",
   "metadata": {},
   "outputs": [],
   "source": []
  },
  {
   "cell_type": "code",
   "execution_count": null,
   "id": "cfdab48a",
   "metadata": {},
   "outputs": [],
   "source": []
  },
  {
   "cell_type": "code",
   "execution_count": null,
   "id": "8b81a9a9",
   "metadata": {},
   "outputs": [],
   "source": []
  },
  {
   "cell_type": "code",
   "execution_count": null,
   "id": "84b623d6",
   "metadata": {},
   "outputs": [],
   "source": []
  },
  {
   "cell_type": "code",
   "execution_count": null,
   "id": "f1f8b877",
   "metadata": {},
   "outputs": [],
   "source": []
  },
  {
   "cell_type": "code",
   "execution_count": null,
   "id": "96825c6b",
   "metadata": {},
   "outputs": [],
   "source": []
  },
  {
   "cell_type": "code",
   "execution_count": null,
   "id": "d8d9d910",
   "metadata": {},
   "outputs": [],
   "source": []
  },
  {
   "cell_type": "code",
   "execution_count": null,
   "id": "97af2049",
   "metadata": {},
   "outputs": [],
   "source": []
  },
  {
   "cell_type": "code",
   "execution_count": null,
   "id": "48b0ddfe",
   "metadata": {},
   "outputs": [],
   "source": []
  },
  {
   "cell_type": "code",
   "execution_count": null,
   "id": "91a0048d",
   "metadata": {},
   "outputs": [],
   "source": []
  },
  {
   "cell_type": "code",
   "execution_count": null,
   "id": "a2bdb610",
   "metadata": {},
   "outputs": [],
   "source": []
  },
  {
   "cell_type": "code",
   "execution_count": null,
   "id": "f6353d80",
   "metadata": {},
   "outputs": [],
   "source": []
  },
  {
   "cell_type": "code",
   "execution_count": null,
   "id": "a4155560",
   "metadata": {},
   "outputs": [],
   "source": []
  }
 ],
 "metadata": {
  "kernelspec": {
   "display_name": "Python 3 (ipykernel)",
   "language": "python",
   "name": "python3"
  },
  "language_info": {
   "codemirror_mode": {
    "name": "ipython",
    "version": 3
   },
   "file_extension": ".py",
   "mimetype": "text/x-python",
   "name": "python",
   "nbconvert_exporter": "python",
   "pygments_lexer": "ipython3",
   "version": "3.11.5"
  }
 },
 "nbformat": 4,
 "nbformat_minor": 5
}
