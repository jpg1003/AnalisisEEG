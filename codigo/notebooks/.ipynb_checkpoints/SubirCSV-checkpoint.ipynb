{
 "cells": [
  {
   "cell_type": "markdown",
   "id": "301cd67f",
   "metadata": {},
   "source": [
    "<img style=\"float:left\" width=\"70%\" src=\"../../documentacion/imagenes/escudo_COLOR_1L_DCHA.png\">\n",
    "<img style=\"float:right\" width=\"10%\" src=\"../../documentacion/imagenes/PythonLogo.svg\">\n",
    "<br style=\"clear:both;\">\n",
    "\n",
    "\n",
    "<h2 style=\"display: inline-block; padding: 4mm; padding-left: 2em; background-color: navy; line-height: 1.3em; color: white; border-radius: 10px;\">Subir archivo CSV con datos EEG</h2>\n",
    "\n",
    "\n",
    " \n",
    "## Estudiante:\n",
    "\n",
    "- Jose Luis Perez Gomez"
   ]
  },
  {
   "cell_type": "code",
   "execution_count": 2,
   "id": "53d6e1bd",
   "metadata": {},
   "outputs": [
    {
     "data": {
      "application/vnd.jupyter.widget-view+json": {
       "model_id": "2b8519bcd28444b4a6148cd20fee4908",
       "version_major": 2,
       "version_minor": 0
      },
      "text/plain": [
       "FileUpload(value=(), accept='.csv', description='Upload')"
      ]
     },
     "metadata": {},
     "output_type": "display_data"
    },
    {
     "data": {
      "application/vnd.jupyter.widget-view+json": {
       "model_id": "216926b64971491dbee1cd0715840877",
       "version_major": 2,
       "version_minor": 0
      },
      "text/plain": [
       "Output()"
      ]
     },
     "metadata": {},
     "output_type": "display_data"
    }
   ],
   "source": [
    "# Crear widgets\n",
    "upload = widgets.FileUpload(accept='.csv', multiple=False)\n",
    "output = widgets.Output()\n",
    "\n",
    "# Variables globales para almacenar el DataFrame y el nombre del archivo\n",
    "dataframe_total = pd.DataFrame()\n",
    "file_uploaded = False\n",
    "file_name = \"\"\n",
    "\n",
    "# Función para cargar y procesar el archivo\n",
    "def load_file(change):\n",
    "    global dataframe_total, file_uploaded, file_name\n",
    "    with output:\n",
    "        #clear_output()\n",
    "        # Verificar si hay archivos cargados\n",
    "        if upload.value:\n",
    "            # Obtener el contenido del archivo cargado\n",
    "            uploaded_file = upload.value[0]  # Acceder al primer elemento del dict\n",
    "            content = uploaded_file['content']\n",
    "            file_name = uploaded_file['name']\n",
    "            \n",
    "            # Convertir el contenido de memoryview a bytes y después a string\n",
    "            content_bytes = content.tobytes()\n",
    "            content_str = content_bytes.decode('utf-8')\n",
    "            \n",
    "            try:\n",
    "                # Leer el archivo CSV\n",
    "                dataframe_total = pd.read_csv(io.StringIO(content_str), delimiter=';')\n",
    "                file_uploaded = True\n",
    "                print(f\"Archivo '{file_name}' cargado con éxito.\")\n",
    "            except pd.errors.ParserError as e:\n",
    "                print(f\"Error al procesar el archivo CSV: {e}\")\n",
    "        else:\n",
    "            print(\"No se ha cargado ningún archivo\")\n",
    "\n",
    "        # Activar el botón de procesar datos si se ha cargado un archivo\n",
    "        process_button.disabled = not file_uploaded\n",
    "\n",
    "# Observador del cambio de archivo cargado\n",
    "upload.observe(load_file, names='value')\n",
    "\n",
    "# Mostrar los widgets\n",
    "display(upload, output)\n"
   ]
  },
  {
   "cell_type": "code",
   "execution_count": 3,
   "id": "2c5fd586",
   "metadata": {},
   "outputs": [
    {
     "data": {
      "application/vnd.jupyter.widget-view+json": {
       "model_id": "be58f36694bf439f87a825381d38d03f",
       "version_major": 2,
       "version_minor": 0
      },
      "text/plain": [
       "Button(description='Procesar datos', disabled=True, style=ButtonStyle())"
      ]
     },
     "metadata": {},
     "output_type": "display_data"
    },
    {
     "data": {
      "application/vnd.jupyter.widget-view+json": {
       "model_id": "0c88f5d953814882a4373d307d0e51a9",
       "version_major": 2,
       "version_minor": 0
      },
      "text/plain": [
       "Output()"
      ]
     },
     "metadata": {},
     "output_type": "display_data"
    }
   ],
   "source": [
    "\n",
    "# Crear botón para procesar datos (inicialmente desactivado)\n",
    "process_button = widgets.Button(description=\"Procesar datos\", disabled=True)\n",
    "output_process = widgets.Output()\n",
    "\n",
    "# Función para procesar los datos\n",
    "def process_data(b):\n",
    "    global file_uploaded, dataframe_total, file_name\n",
    "    with output_process:\n",
    "        clear_output()\n",
    "        if file_uploaded:\n",
    "            print(f\"Procesando el archivo '{file_name}'...\")\n",
    "            # Aquí puedes agregar tu lógica de procesamiento de datos\n",
    "            display(dataframe_total)\n",
    "            # Mostrar el mensaje y el botón de continuar\n",
    "            #print(\"Procesamiento completado. Pulse 'Continuar' para proceder.\")\n",
    "        else:\n",
    "            print(\"No se ha cargado ningún archivo\")\n",
    "\n",
    "# Configuración del botón de procesamiento\n",
    "process_button.on_click(process_data)\n",
    "\n",
    "# Mostrar el botón y la salida de procesamiento\n",
    "display(process_button, output_process)\n",
    "\n"
   ]
  },
  {
   "cell_type": "code",
   "execution_count": null,
   "id": "eaa40e28",
   "metadata": {},
   "outputs": [],
   "source": []
  }
 ],
 "metadata": {
  "kernelspec": {
   "display_name": "Python 3 (ipykernel)",
   "language": "python",
   "name": "python3"
  },
  "language_info": {
   "codemirror_mode": {
    "name": "ipython",
    "version": 3
   },
   "file_extension": ".py",
   "mimetype": "text/x-python",
   "name": "python",
   "nbconvert_exporter": "python",
   "pygments_lexer": "ipython3",
   "version": "3.11.5"
  }
 },
 "nbformat": 4,
 "nbformat_minor": 5
}
