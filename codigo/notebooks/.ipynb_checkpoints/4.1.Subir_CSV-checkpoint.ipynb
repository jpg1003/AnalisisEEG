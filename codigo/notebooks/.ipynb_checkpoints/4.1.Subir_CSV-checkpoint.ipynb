{
 "cells": [
  {
   "cell_type": "markdown",
   "id": "f4592813",
   "metadata": {},
   "source": [
    "<img style=\"float:left\" width=\"70%\" src=\"../../documentacion/imagenes/escudo_COLOR_1L_DCHA.png\">\n",
    "<img style=\"float:right\" width=\"10%\" src=\"../../documentacion/imagenes/PythonLogo.svg\">\n",
    "<br style=\"clear:both;\">\n",
    "\n",
    "\n",
    "<h2 style=\"display: inline-block; padding: 4mm; padding-left: 2em; background-color: navy; line-height: 1.3em; color: white; border-radius: 10px;\">4.1. Cargar conjunto de datos</h2>\n",
    "\n",
    "\n",
    " \n",
    "## Estudiante:\n",
    "\n",
    "- Jose Luis Perez Gomez"
   ]
  },
  {
   "cell_type": "code",
   "execution_count": 4,
   "id": "53d6e1bd",
   "metadata": {},
   "outputs": [
    {
     "data": {
      "application/vnd.jupyter.widget-view+json": {
       "model_id": "565e315ca36e48c0aa02db6fcb6b8390",
       "version_major": 2,
       "version_minor": 0
      },
      "text/plain": [
       "FileUpload(value=(), accept='.csv', description='Upload')"
      ]
     },
     "metadata": {},
     "output_type": "display_data"
    },
    {
     "data": {
      "application/vnd.jupyter.widget-view+json": {
       "model_id": "9741da0950884fd08388c33d385b22a5",
       "version_major": 2,
       "version_minor": 0
      },
      "text/plain": [
       "Output()"
      ]
     },
     "metadata": {},
     "output_type": "display_data"
    }
   ],
   "source": [
    "import pandas as pd\n",
    "import io\n",
    "from IPython.display import display, clear_output\n",
    "import ipywidgets as widgets\n",
    "\n",
    "# Crear widgets\n",
    "upload = widgets.FileUpload(accept='.csv', multiple=False)\n",
    "output = widgets.Output()\n",
    "\n",
    "# Variables globales para almacenar el DataFrame y el nombre del archivo\n",
    "dataframe_total = pd.DataFrame()\n",
    "file_uploaded = False\n",
    "file_name = \"\"\n",
    "\n",
    "# Función para cargar y procesar el archivo\n",
    "def load_file(change):\n",
    "    global dataframe_total, file_uploaded, file_name\n",
    "    with output:\n",
    "        #clear_output()\n",
    "        # Verificar si hay archivos cargados\n",
    "        if upload.value:\n",
    "            # Obtener el contenido del archivo cargado\n",
    "            uploaded_file = upload.value[0]  # Acceder al primer elemento del dict\n",
    "            content = uploaded_file['content']\n",
    "            file_name = uploaded_file['name']\n",
    "            \n",
    "            # Convertir el contenido de memoryview a bytes y después a string\n",
    "            content_bytes = content.tobytes()\n",
    "            content_str = content_bytes.decode('utf-8')\n",
    "            \n",
    "            try:\n",
    "                # Leer el archivo CSV\n",
    "                dataframe_total = pd.read_csv(io.StringIO(content_str), delimiter=';')\n",
    "                file_uploaded = True\n",
    "                print(f\"Archivo '{file_name}' cargado con éxito.\")\n",
    "            except pd.errors.ParserError as e:\n",
    "                print(f\"Error al procesar el archivo CSV: {e}\")\n",
    "        else:\n",
    "            print(\"No se ha cargado ningún archivo\")\n",
    "\n",
    "        # Activar el botón de procesar datos si se ha cargado un archivo\n",
    "        process_button.disabled = not file_uploaded\n",
    "\n",
    "# Observador del cambio de archivo cargado\n",
    "upload.observe(load_file, names='value')\n",
    "\n",
    "# Mostrar los widgets\n",
    "display(upload, output)\n"
   ]
  },
  {
   "cell_type": "code",
   "execution_count": 5,
   "id": "e887bd43",
   "metadata": {},
   "outputs": [
    {
     "data": {
      "application/vnd.jupyter.widget-view+json": {
       "model_id": "fdbd983bd0e04715bb48fe30c357e939",
       "version_major": 2,
       "version_minor": 0
      },
      "text/plain": [
       "Button(description='Procesar datos', disabled=True, style=ButtonStyle())"
      ]
     },
     "metadata": {},
     "output_type": "display_data"
    },
    {
     "data": {
      "application/vnd.jupyter.widget-view+json": {
       "model_id": "3deec8a5526845c3a1116e89b9a674f1",
       "version_major": 2,
       "version_minor": 0
      },
      "text/plain": [
       "Output()"
      ]
     },
     "metadata": {},
     "output_type": "display_data"
    }
   ],
   "source": [
    "import ipywidgets as widgets\n",
    "from IPython.display import display, clear_output\n",
    "\n",
    "# Crear botón para procesar datos (inicialmente desactivado)\n",
    "process_button = widgets.Button(description=\"Procesar datos\", disabled=True)\n",
    "output_process = widgets.Output()\n",
    "\n",
    "# Función para procesar los datos\n",
    "def process_data(b):\n",
    "    global file_uploaded, dataframe_total, file_name\n",
    "    with output_process:\n",
    "        clear_output()\n",
    "        if file_uploaded:\n",
    "            print(f\"Procesando el archivo '{file_name}'...\")\n",
    "            # Aquí puedes agregar tu lógica de procesamiento de datos\n",
    "            display(dataframe_total)\n",
    "            # Mostrar el mensaje y el botón de continuar\n",
    "            #print(\"Procesamiento completado. Pulse 'Continuar' para proceder.\")\n",
    "        else:\n",
    "            print(\"No se ha cargado ningún archivo\")\n",
    "\n",
    "# Configuración del botón de procesamiento\n",
    "process_button.on_click(process_data)\n",
    "\n",
    "# Mostrar el botón y la salida de procesamiento\n",
    "display(process_button, output_process)\n",
    "\n"
   ]
  },
  {
   "cell_type": "code",
   "execution_count": null,
   "id": "ba7560ab",
   "metadata": {},
   "outputs": [],
   "source": []
  }
 ],
 "metadata": {
  "kernelspec": {
   "display_name": "Python 3 (ipykernel)",
   "language": "python",
   "name": "python3"
  },
  "language_info": {
   "codemirror_mode": {
    "name": "ipython",
    "version": 3
   },
   "file_extension": ".py",
   "mimetype": "text/x-python",
   "name": "python",
   "nbconvert_exporter": "python",
   "pygments_lexer": "ipython3",
   "version": "3.11.5"
  }
 },
 "nbformat": 4,
 "nbformat_minor": 5
}
