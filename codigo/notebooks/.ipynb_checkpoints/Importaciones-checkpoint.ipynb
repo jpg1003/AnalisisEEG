{
 "cells": [
  {
   "cell_type": "markdown",
   "id": "ca1931a5",
   "metadata": {},
   "source": [
    "<img style=\"float:left\" width=\"70%\" src=\"../../documentacion/imagenes/escudo_COLOR_1L_DCHA.png\">\n",
    "<img style=\"float:right\" width=\"10%\" src=\"../../documentacion/imagenes/PythonLogo.svg\">\n",
    "<br style=\"clear:both;\">\n",
    "\n",
    "\n",
    "<h2 style=\"display: inline-block; padding: 4mm; padding-left: 2em; background-color: navy; line-height: 1.3em; color: white; border-radius: 10px;\">3. Importaciones de Bibliotecas</h2>\n",
    "\n",
    "\n",
    " \n",
    "## Estudiante:\n",
    "\n",
    "- Jose Luis Perez Gomez"
   ]
  },
  {
   "cell_type": "markdown",
   "id": "7324ac71",
   "metadata": {},
   "source": [
    "### En este Notebook importo las bibliotecas con sus declaraciones para poder acceder a las funcionalidades de cada una de las bibliotecas que son necesarias para el desarrollo del proyecto: (Calculo numerico, manipulacion y analisis de datos, visualizacion de datos, machine y deep learning.)"
   ]
  },
  {
   "cell_type": "code",
   "execution_count": 1,
   "id": "5c7a9c47",
   "metadata": {},
   "outputs": [],
   "source": [
    "\n",
    "# manipulación y análisis de datos:\n",
    "import pandas as pd\n",
    "\n",
    "#visualización de datos\n",
    "import matplotlib.pyplot as plt\n",
    "import seaborn as sns\n",
    "from sklearn.metrics import ConfusionMatrixDisplay\n",
    "\n",
    "# manipulación numérica \n",
    "import numpy as np\n",
    "from scipy import stats\n",
    "from scipy.stats import zscore\n",
    "\n",
    "#aprendizaje automático y modelos predictivos\n",
    "from sklearn.preprocessing import MinMaxScaler\n",
    "from sklearn.preprocessing import StandardScaler\n",
    "from sklearn.model_selection import train_test_split\n",
    "from sklearn.neighbors import KNeighborsClassifier\n",
    "from sklearn.tree import DecisionTreeClassifier\n",
    "from sklearn.ensemble import RandomForestClassifier\n",
    "from sklearn.model_selection import RandomizedSearchCV\n",
    "from sklearn.model_selection import GridSearchCV\n",
    "from sklearn.model_selection import KFold\n",
    "from sklearn.model_selection import cross_val_score\n",
    "from sklearn.model_selection import cross_val_predict\n",
    "from sklearn.model_selection import LeaveOneOut\n",
    "from sklearn.neural_network import MLPClassifier\n",
    "from sklearn.svm import SVC\n",
    "from sklearn.model_selection import GridSearchCV\n",
    "from sklearn.datasets import make_blobs\n",
    "from sklearn.linear_model import LogisticRegression\n",
    "import tensorflow as tf\n",
    "import keras\n",
    "from tensorflow.keras.models import Sequential\n",
    "from IPython.display import clear_output\n",
    "from tensorflow.keras.optimizers import Adam\n",
    "from tensorflow.keras.layers import Dense, SimpleRNN, LSTM, GRU, Dropout, Flatten, Softmax\n",
    "from tensorflow.keras.callbacks import EarlyStopping, ReduceLROnPlateau, Callback, ModelCheckpoint\n",
    "from tensorflow.keras.layers import Reshape, GlobalMaxPool1D, TimeDistributed, Input\n",
    "from tensorflow.keras.models import Model, load_model\n",
    "\n",
    "\n",
    "#evaluación y métricas de modelos\n",
    "from sklearn import metrics\n",
    "from sklearn.metrics import make_scorer\n",
    "from sklearn.metrics import accuracy_score\n",
    "from sklearn.metrics import balanced_accuracy_score\n",
    "from sklearn.metrics import precision_score\n",
    "from sklearn.metrics import confusion_matrix\n",
    "from sklearn.metrics import classification_report\n",
    "\n",
    "#varios\n",
    "import multiprocessing\n",
    "import pickle\n",
    "import time\n",
    "from IPython.display import HTML\n",
    "\n"
   ]
  },
  {
   "cell_type": "code",
   "execution_count": null,
   "id": "32dfbc0d",
   "metadata": {},
   "outputs": [],
   "source": []
  }
 ],
 "metadata": {
  "kernelspec": {
   "display_name": "Python 3 (ipykernel)",
   "language": "python",
   "name": "python3"
  },
  "language_info": {
   "codemirror_mode": {
    "name": "ipython",
    "version": 3
   },
   "file_extension": ".py",
   "mimetype": "text/x-python",
   "name": "python",
   "nbconvert_exporter": "python",
   "pygments_lexer": "ipython3",
   "version": "3.11.5"
  }
 },
 "nbformat": 4,
 "nbformat_minor": 5
}
