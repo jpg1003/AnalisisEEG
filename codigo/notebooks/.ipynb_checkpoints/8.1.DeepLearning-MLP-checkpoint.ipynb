{
 "cells": [
  {
   "cell_type": "markdown",
   "id": "8045039e",
   "metadata": {},
   "source": [
    "<img style=\"float:left\" width=\"70%\" src=\"../../documentacion/imagenes/escudo_COLOR_1L_DCHA.png\">\n",
    "<img style=\"float:right\" width=\"10%\" src=\"../../documentacion/imagenes/PythonLogo.svg\">\n",
    "<br style=\"clear:both;\">\n",
    "\n",
    "\n",
    "<h2 style=\"display: inline-block; padding: 4mm; padding-left: 2em; background-color: navy; line-height: 1.3em; color: white; border-radius: 10px;\">8.1. Deep Learning MLP</h2>\n",
    "\n",
    "\n",
    " \n",
    "## Estudiante:\n",
    "\n",
    "- Jose Luis Perez Gomez"
   ]
  },
  {
   "cell_type": "markdown",
   "id": "a329637b",
   "metadata": {},
   "source": [
    "## Seleccionar que tipo de ejecucion se va a realizar:\n",
    "\n",
    "## AUTOMATICA o MANUAL (por defecto AUTOMATICA)."
   ]
  },
  {
   "cell_type": "code",
   "execution_count": 24,
   "id": "ffb2311b",
   "metadata": {},
   "outputs": [],
   "source": [
    "# escribir entre parentesis AUTOMATICA o MANUAL\n",
    "\n",
    "EJECUCION = \"MANUAL\""
   ]
  },
  {
   "cell_type": "code",
   "execution_count": 29,
   "id": "af97b04a",
   "metadata": {},
   "outputs": [],
   "source": [
    "# en esta celda no ha de ser modificada \n",
    "\n",
    "if EJECUCION == \"MANUAL\":\n",
    "    %run 3.Importaciones.ipynb\n",
    "\n",
    "%run 4.VariablesClases.ipynb"
   ]
  },
  {
   "cell_type": "code",
   "execution_count": 30,
   "id": "41199a17",
   "metadata": {},
   "outputs": [
    {
     "data": {
      "text/html": [
       "\n",
       "    <!DOCTYPE html>\n",
       "    <html>\n",
       "    <head>\n",
       "    </head>\n",
       "    <body>\n",
       "    \n",
       "    <h4><font color=purple>Realizo la importacion a Dataframe de los datos de los csv creados en la etapa de Prepocessing. </h4>\n",
       "\n",
       "    </body>\n",
       "    </html>\n",
       "    "
      ],
      "text/plain": [
       "<IPython.core.display.HTML object>"
      ]
     },
     "metadata": {},
     "output_type": "display_data"
    }
   ],
   "source": [
    "display(HTML(html_h4('Realizo la importacion a Dataframe de los datos de los csv creados en la etapa de Prepocessing. ','purple')))\n",
    "\n",
    "datosEEG_seg1_standarizado = pd.read_csv('../datos/csv/seg1_stscaler.csv', sep=',')\n",
    "datosEEG_seg2_standarizado = pd.read_csv('../datos/csv/seg2_stscaler.csv', sep=',')\n",
    "datosEEG_seg3_standarizado = pd.read_csv('../datos/csv/seg3_stscaler.csv', sep=',')\n",
    "datosEEG_seg4_standarizado = pd.read_csv('../datos/csv/seg4_stscaler.csv', sep=',')\n",
    "datosEEG_std_after = pd.read_csv('../datos/csv/all_stscaler_after.csv', sep=',')\n",
    "datosEEG_std_before = pd.read_csv('../datos/csv/all_stscaler_before.csv', sep=',')\n",
    "\n",
    "\n",
    "datosEEG_all = [datosEEG_seg1_standarizado, datosEEG_seg2_standarizado, datosEEG_seg3_standarizado, datosEEG_seg4_standarizado, datosEEG_std_after, datosEEG_std_before]\n",
    "datosEEG_all_nombres = {'segmento_1':datosEEG_seg1_standarizado, 'segmento_2':datosEEG_seg2_standarizado, 'segmento_3':datosEEG_seg3_standarizado,'segmento_4':datosEEG_seg4_standarizado, 'all_std_after':datosEEG_std_after, 'all_std_before':datosEEG_std_before}\n",
    "nombre_clases = valores_key(datosEEG_seg1_standarizado)"
   ]
  },
  {
   "cell_type": "markdown",
   "id": "4d60168f",
   "metadata": {},
   "source": [
    " # MLP"
   ]
  },
  {
   "cell_type": "code",
   "execution_count": null,
   "id": "34f24e9c",
   "metadata": {
    "scrolled": false
   },
   "outputs": [],
   "source": []
  },
  {
   "cell_type": "code",
   "execution_count": 32,
   "id": "4d76d8f1",
   "metadata": {},
   "outputs": [
    {
     "ename": "ValueError",
     "evalue": "Unrecognized keyword arguments passed to Dense: {'return_sequences': True}",
     "output_type": "error",
     "traceback": [
      "\u001b[1;31m---------------------------------------------------------------------------\u001b[0m",
      "\u001b[1;31mValueError\u001b[0m                                Traceback (most recent call last)",
      "Cell \u001b[1;32mIn[32], line 3\u001b[0m\n\u001b[0;32m      1\u001b[0m \u001b[38;5;66;03m# Compilar el modelo\u001b[39;00m\n\u001b[0;32m      2\u001b[0m \u001b[38;5;66;03m#model_mlp = crear_modelo_MLP(TIMESTEPS, FEATURES)\u001b[39;00m\n\u001b[1;32m----> 3\u001b[0m model_mlp \u001b[38;5;241m=\u001b[39m crear_modelo_MLP(TIMESTEPS, FEATURES, NUM_CLASES)\n",
      "File \u001b[1;32m~\\AppData\\Local\\Temp\\ipykernel_17768\\2214420748.py:6\u001b[0m, in \u001b[0;36mcrear_modelo_MLP\u001b[1;34m(timesteps, features, num_classes)\u001b[0m\n\u001b[0;32m      4\u001b[0m \u001b[38;5;28;01mdef\u001b[39;00m \u001b[38;5;21mcrear_modelo_MLP\u001b[39m(timesteps, features, num_classes):\n\u001b[0;32m      5\u001b[0m     model_mlp \u001b[38;5;241m=\u001b[39m Sequential([\n\u001b[1;32m----> 6\u001b[0m         Dense(units\u001b[38;5;241m=\u001b[39mUNITS, input_shape\u001b[38;5;241m=\u001b[39m(timesteps, features), return_sequences\u001b[38;5;241m=\u001b[39m\u001b[38;5;28;01mTrue\u001b[39;00m),  \n\u001b[0;32m      7\u001b[0m         Dropout(DROPOUT),\n\u001b[0;32m      8\u001b[0m         Dense(units\u001b[38;5;241m=\u001b[39mUNITS),  \n\u001b[0;32m      9\u001b[0m         Dropout(DROPOUT),\n\u001b[0;32m     10\u001b[0m         Dense(num_classes, activation\u001b[38;5;241m=\u001b[39mACTIVATION)  \n\u001b[0;32m     11\u001b[0m     ])\n\u001b[0;32m     13\u001b[0m     model_mlp\u001b[38;5;241m.\u001b[39mcompile(optimizer\u001b[38;5;241m=\u001b[39m OPTIMIZER, metrics\u001b[38;5;241m=\u001b[39m[METRICS], loss\u001b[38;5;241m=\u001b[39mLOSS)\n\u001b[0;32m     14\u001b[0m     \u001b[38;5;28;01mreturn\u001b[39;00m model_mlp\n",
      "File \u001b[1;32m~\\anaconda3\\Lib\\site-packages\\keras\\src\\layers\\core\\dense.py:87\u001b[0m, in \u001b[0;36mDense.__init__\u001b[1;34m(self, units, activation, use_bias, kernel_initializer, bias_initializer, kernel_regularizer, bias_regularizer, activity_regularizer, kernel_constraint, bias_constraint, lora_rank, **kwargs)\u001b[0m\n\u001b[0;32m     72\u001b[0m \u001b[38;5;28;01mdef\u001b[39;00m \u001b[38;5;21m__init__\u001b[39m(\n\u001b[0;32m     73\u001b[0m     \u001b[38;5;28mself\u001b[39m,\n\u001b[0;32m     74\u001b[0m     units,\n\u001b[1;32m   (...)\u001b[0m\n\u001b[0;32m     85\u001b[0m     \u001b[38;5;241m*\u001b[39m\u001b[38;5;241m*\u001b[39mkwargs,\n\u001b[0;32m     86\u001b[0m ):\n\u001b[1;32m---> 87\u001b[0m     \u001b[38;5;28msuper\u001b[39m()\u001b[38;5;241m.\u001b[39m\u001b[38;5;21m__init__\u001b[39m(activity_regularizer\u001b[38;5;241m=\u001b[39mactivity_regularizer, \u001b[38;5;241m*\u001b[39m\u001b[38;5;241m*\u001b[39mkwargs)\n\u001b[0;32m     88\u001b[0m     \u001b[38;5;28mself\u001b[39m\u001b[38;5;241m.\u001b[39munits \u001b[38;5;241m=\u001b[39m units\n\u001b[0;32m     89\u001b[0m     \u001b[38;5;28mself\u001b[39m\u001b[38;5;241m.\u001b[39mactivation \u001b[38;5;241m=\u001b[39m activations\u001b[38;5;241m.\u001b[39mget(activation)\n",
      "File \u001b[1;32m~\\anaconda3\\Lib\\site-packages\\keras\\src\\layers\\layer.py:264\u001b[0m, in \u001b[0;36mLayer.__init__\u001b[1;34m(self, activity_regularizer, trainable, dtype, autocast, name, **kwargs)\u001b[0m\n\u001b[0;32m    262\u001b[0m     \u001b[38;5;28mself\u001b[39m\u001b[38;5;241m.\u001b[39m_input_shape_arg \u001b[38;5;241m=\u001b[39m input_shape_arg\n\u001b[0;32m    263\u001b[0m \u001b[38;5;28;01mif\u001b[39;00m kwargs:\n\u001b[1;32m--> 264\u001b[0m     \u001b[38;5;28;01mraise\u001b[39;00m \u001b[38;5;167;01mValueError\u001b[39;00m(\n\u001b[0;32m    265\u001b[0m         \u001b[38;5;124m\"\u001b[39m\u001b[38;5;124mUnrecognized keyword arguments \u001b[39m\u001b[38;5;124m\"\u001b[39m\n\u001b[0;32m    266\u001b[0m         \u001b[38;5;124mf\u001b[39m\u001b[38;5;124m\"\u001b[39m\u001b[38;5;124mpassed to \u001b[39m\u001b[38;5;132;01m{\u001b[39;00m\u001b[38;5;28mself\u001b[39m\u001b[38;5;241m.\u001b[39m\u001b[38;5;18m__class__\u001b[39m\u001b[38;5;241m.\u001b[39m\u001b[38;5;18m__name__\u001b[39m\u001b[38;5;132;01m}\u001b[39;00m\u001b[38;5;124m: \u001b[39m\u001b[38;5;132;01m{\u001b[39;00mkwargs\u001b[38;5;132;01m}\u001b[39;00m\u001b[38;5;124m\"\u001b[39m\n\u001b[0;32m    267\u001b[0m     )\n\u001b[0;32m    269\u001b[0m \u001b[38;5;28mself\u001b[39m\u001b[38;5;241m.\u001b[39mbuilt \u001b[38;5;241m=\u001b[39m \u001b[38;5;28;01mFalse\u001b[39;00m\n\u001b[0;32m    270\u001b[0m \u001b[38;5;28mself\u001b[39m\u001b[38;5;241m.\u001b[39mautocast \u001b[38;5;241m=\u001b[39m autocast\n",
      "\u001b[1;31mValueError\u001b[0m: Unrecognized keyword arguments passed to Dense: {'return_sequences': True}"
     ]
    }
   ],
   "source": [
    "\n",
    "# Compilar el modelo\n",
    "#model_mlp = crear_modelo_MLP(TIMESTEPS, FEATURES)\n",
    "model_mlp = crear_modelo_MLP(TIMESTEPS, FEATURES, NUM_CLASES)"
   ]
  },
  {
   "cell_type": "code",
   "execution_count": 33,
   "id": "356365e0",
   "metadata": {},
   "outputs": [
    {
     "ename": "NameError",
     "evalue": "name 'model_checkpoint_srnn' is not defined",
     "output_type": "error",
     "traceback": [
      "\u001b[1;31m---------------------------------------------------------------------------\u001b[0m",
      "\u001b[1;31mNameError\u001b[0m                                 Traceback (most recent call last)",
      "Cell \u001b[1;32mIn[33], line 15\u001b[0m\n\u001b[0;32m     11\u001b[0m X_train, X_val, X_test \u001b[38;5;241m=\u001b[39m reshapeo (X_train, X_val, X_test)\n\u001b[0;32m     14\u001b[0m \u001b[38;5;66;03m# Entrenar el modelo\u001b[39;00m\n\u001b[1;32m---> 15\u001b[0m mlp_trained \u001b[38;5;241m=\u001b[39m model_mlp\u001b[38;5;241m.\u001b[39mfit(X_train, y_train, epochs\u001b[38;5;241m=\u001b[39mEPOCHS, batch_size\u001b[38;5;241m=\u001b[39mBACH_SIZE, validation_data\u001b[38;5;241m=\u001b[39m (X_val, y_val), callbacks\u001b[38;5;241m=\u001b[39m[early_stopping, REDUCE_RL, model_checkpoint_srnn, plot_learning])\n\u001b[0;32m     17\u001b[0m y_pred \u001b[38;5;241m=\u001b[39m model_mlp\u001b[38;5;241m.\u001b[39mpredict(X_val)\n\u001b[0;32m     18\u001b[0m y_pred_classes \u001b[38;5;241m=\u001b[39m np\u001b[38;5;241m.\u001b[39margmax(y_pred, axis\u001b[38;5;241m=\u001b[39m\u001b[38;5;241m1\u001b[39m)\n",
      "\u001b[1;31mNameError\u001b[0m: name 'model_checkpoint_srnn' is not defined"
     ]
    }
   ],
   "source": [
    "\n",
    "accuracy_score_mlp = []\n",
    "accuracy_score_test_mlp =[]\n",
    "matriz_confusion_mlp = []\n",
    "matriz_confusion_test_mlp = []\n",
    "total_mlp_trained = []\n",
    "\n",
    "for dataset in datosEEG_all:\n",
    "    \n",
    "    X_train, y_train, X_val, y_val, X_test, y_test = dividir_datos(dataset)\n",
    "    \n",
    "    X_train, X_val, X_test = reshapeo (X_train, X_val, X_test)\n",
    "    \n",
    "      \n",
    "    # Entrenar el modelo\n",
    "    mlp_trained = model_mlp.fit(X_train, y_train, epochs=EPOCHS, batch_size=BACH_SIZE, validation_data= (X_val, y_val), callbacks=[early_stopping, REDUCE_RL, model_checkpoint_mlp, plot_learning])\n",
    "\n",
    "    y_pred = model_mlp.predict(X_val)\n",
    "    y_pred_classes = np.argmax(y_pred, axis=1)\n",
    "        \n",
    "    y_pred_test = model_mlp.predict(X_test)\n",
    "    y_pred_classes_test = np.argmax(y_pred_test, axis=1)\n",
    "    \n",
    "\n",
    "    accuracy_score_mlp.append(accuracy_score(y_val, y_pred_classes))\n",
    "    matriz_confusion_mlp.append(confusion_matrix(y_val, y_pred_classes))\n",
    "    \n",
    "    accuracy_score_test_mlp.append(accuracy_score(y_test, y_pred_classes_test))\n",
    "    matriz_confusion_test_mlp.append(confusion_matrix(y_test, y_pred_classes_test))\n",
    "    \n",
    "    total_mlp_trained.append(rnn_trained)\n"
   ]
  },
  {
   "cell_type": "code",
   "execution_count": null,
   "id": "4793f9cf",
   "metadata": {},
   "outputs": [],
   "source": []
  },
  {
   "cell_type": "code",
   "execution_count": null,
   "id": "d0585fd2",
   "metadata": {},
   "outputs": [],
   "source": [
    "datos_mlp = pd.DataFrame(accuracy_score_mlp, columns=['MLP_VAL'], index=(titulos_all))\n",
    "\n",
    "display(datos_mlp)\n",
    "\n",
    "mc_mlp = []\n",
    "\n",
    "for matrices_mlp in matriz_confusion_srnn:\n",
    "\n",
    "    mc_srnn.append(pd.DataFrame(matrices_mlp, index=nombre_clases, columns=nombre_clases))\n",
    "\n",
    "#https://scikit-learn.org/stable/modules/generated/sklearn.metrics.ConfusionMatrixDisplay.html\n",
    "\n",
    "# Creo una figura y ejes para dividir el espacio en cuatro subgráficos\n",
    "fig, axs = plt.subplots(3, 2, figsize=(10, 12))\n",
    "\n",
    "# Matrices de confusión y títulos para cada subgráfico\n",
    "dataframes = [mc_mlp[0], mc_mlp[1], mc_mlp[2], mc_mlp[3], mc_mlp[4], mc_mlp[5]]\n",
    "\n",
    "\n",
    "# Itero sobre los DataFrames y títulos para imprimir matriz de confusión en un subgráfico\n",
    "for i, (dataframe, titulo) in enumerate(zip(dataframes, titulos_all)):\n",
    "    fila = i // 2\n",
    "    columna = i % 2\n",
    "    ax = axs[fila, columna]\n",
    "   \n",
    "    # Se crea la impresion de la matriz de confusión y se implime\n",
    "    disp = ConfusionMatrixDisplay(confusion_matrix=dataframe.values, display_labels=(nombre_clases))\n",
    "    disp.plot(ax=ax, colorbar=False, cmap='Blues')\n",
    "    \n",
    "    # Añado el título al subgráfico\n",
    "    ax.set_title(titulo)\n",
    "\n",
    "# Se ajusta el espaciado entre subgráficos\n",
    "plt.tight_layout()\n",
    "\n",
    "# Se imprime el gráfico\n",
    "plt.show()"
   ]
  },
  {
   "cell_type": "code",
   "execution_count": null,
   "id": "8083b1d3",
   "metadata": {},
   "outputs": [],
   "source": [
    "# Crear una figura con 12 subgráficos (6 filas y 2 columnas)\n",
    "fig, axes = plt.subplots(6, 2, figsize=(15, 30))\n",
    "\n",
    "# Asegurarse de que haya suficiente espacio entre los subgráficos\n",
    "plt.tight_layout(pad=5.0)\n",
    "\n",
    "# Alternar entre 'loss' y 'accuracy' para cada par de subgráficos\n",
    "for idx, history in enumerate(total_mlp_trained[:6]):\n",
    "    i, j = divmod(idx * 2, 2)\n",
    "    \n",
    "    # Imprimir la gráfica de pérdida en el primer subgráfico del par\n",
    "    print_chart(axes[i, j], \"Model Accuracy\", \"Epoch\", \"Accuracy\", \n",
    "            [history.history['accuracy'], history.history['val_accuracy']], ['Train', 'Val'])\n",
    "    # Imprimir la gráfica de precisión (accuracy) en el segundo subgráfico del par\n",
    "    i, j = divmod(idx * 2 + 1, 2)\n",
    "    print_chart(axes[i, j], \"Model Loss\", \"Epoch\", \"Loss\", \n",
    "                [history.history['loss'], history.history['val_loss']], ['Train', 'Val'])\n",
    "\n",
    "# Mostrar todas las gráficas en una sola figura\n",
    "plt.show()\n"
   ]
  },
  {
   "cell_type": "code",
   "execution_count": null,
   "id": "d9e267fa",
   "metadata": {},
   "outputs": [],
   "source": [
    "datos_mlp_test = pd.DataFrame(accuracy_score_test_mlp, columns=['MLP_TEST'], index=(titulos_all))\n",
    "\n",
    "display(datos_mlp_test)\n",
    "\n",
    "mc_mlp = []\n",
    "\n",
    "for matrices_mlp in matriz_confusion_test_mlp:\n",
    "\n",
    "    mc_mlp.append(pd.DataFrame(matrices_mlp, index=nombre_clases, columns=nombre_clases))\n",
    "\n",
    "#https://scikit-learn.org/stable/modules/generated/sklearn.metrics.ConfusionMatrixDisplay.html\n",
    "\n",
    "# Creo una figura y ejes para dividir el espacio en seis subgráficos\n",
    "fig, axs = plt.subplots(3, 2, figsize=(10, 12))\n",
    "\n",
    "# Matrices de confusión y títulos para cada subgráfico\n",
    "dataframes = [mc_mlp[0], mc_mlp[1], mc_mlp[2], mc_mlp[3], mc_mlp[4], mc_mlp[5]]\n",
    "\n",
    "\n",
    "# Itero sobre los DataFrames y títulos para imprimir matriz de confusión en un subgráfico\n",
    "for i, (dataframe, titulo) in enumerate(zip(dataframes, titulos_all)):\n",
    "    fila = i // 2\n",
    "    columna = i % 2\n",
    "    ax = axs[fila, columna]\n",
    "   \n",
    "    # Se crea la impresion de la matriz de confusión y se implime\n",
    "    disp = ConfusionMatrixDisplay(confusion_matrix=dataframe.values, display_labels=(nombre_clases))\n",
    "    disp.plot(ax=ax, colorbar=False, cmap='Blues')\n",
    "    \n",
    "    # Añado el título al subgráfico\n",
    "    ax.set_title(titulo)\n",
    "\n",
    "# Se ajusta el espaciado entre subgráficos\n",
    "plt.tight_layout()\n",
    "\n",
    "# Se imprime el gráfico\n",
    "plt.show()"
   ]
  },
  {
   "cell_type": "code",
   "execution_count": null,
   "id": "5ac479fc",
   "metadata": {},
   "outputs": [],
   "source": [
    "datos_mlp_test.to_csv(f'../datos/csv/datosEGG_MLP_test.csv', index=False)\n",
    "datos_mlp.to_csv(f'../datos/csv/datosEGG_MLP_val.csv', index=False)"
   ]
  },
  {
   "cell_type": "code",
   "execution_count": null,
   "id": "37cb431d",
   "metadata": {},
   "outputs": [],
   "source": []
  },
  {
   "cell_type": "code",
   "execution_count": null,
   "id": "f373168c",
   "metadata": {},
   "outputs": [],
   "source": []
  }
 ],
 "metadata": {
  "kernelspec": {
   "display_name": "Python 3 (ipykernel)",
   "language": "python",
   "name": "python3"
  },
  "language_info": {
   "codemirror_mode": {
    "name": "ipython",
    "version": 3
   },
   "file_extension": ".py",
   "mimetype": "text/x-python",
   "name": "python",
   "nbconvert_exporter": "python",
   "pygments_lexer": "ipython3",
   "version": "3.11.5"
  }
 },
 "nbformat": 4,
 "nbformat_minor": 5
}
