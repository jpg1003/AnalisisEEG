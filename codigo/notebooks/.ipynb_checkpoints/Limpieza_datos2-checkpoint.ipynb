{
 "cells": [
  {
   "cell_type": "code",
   "execution_count": 5,
   "id": "5da2dea1",
   "metadata": {},
   "outputs": [],
   "source": [
    "#Importo el archivo de datos aportado por la univerdidad\n",
    "%run Importaciones.ipynb"
   ]
  },
  {
   "cell_type": "code",
   "execution_count": 6,
   "id": "ed1cc876",
   "metadata": {},
   "outputs": [],
   "source": [
    "datosEEGTotal_csv = pd.read_csv('../datos/datosEEGTotal.csv', sep=';')"
   ]
  },
  {
   "cell_type": "code",
   "execution_count": 13,
   "id": "273dd7bb",
   "metadata": {},
   "outputs": [
    {
     "data": {
      "text/plain": [
       "'Importo el archivo proporcionado con los datos para el analisis del Trabajo'"
      ]
     },
     "metadata": {},
     "output_type": "display_data"
    },
    {
     "name": "stdout",
     "output_type": "stream",
     "text": [
      "\u001b[1mImporto el archivo proporcionado con los datos para el analisis del Trabajo\u001b[0m\n"
     ]
    }
   ],
   "source": [
    "#Imprimo el archivo importado\n",
    "display (\"Importo el archivo proporcionado con los datos para el analisis del Trabajo\")\n",
    "\n"
   ]
  },
  {
   "cell_type": "code",
   "execution_count": 14,
   "id": "d2dc54a3",
   "metadata": {},
   "outputs": [
    {
     "name": "stdout",
     "output_type": "stream",
     "text": [
      "\u001b[1mImporto el archivo proporcionado con los datos para el analisis del Trabajo\u001b[0m\n"
     ]
    }
   ],
   "source": [
    "print(\"\\033[1m\" + \"Importo el archivo proporcionado con los datos para el analisis del Trabajo\" + \"\\033[0m\")"
   ]
  },
  {
   "cell_type": "markdown",
   "id": "22e6bcb4",
   "metadata": {},
   "source": [
    "## Prueba impresion ##"
   ]
  },
  {
   "cell_type": "code",
   "execution_count": 7,
   "id": "f2fc66a7",
   "metadata": {},
   "outputs": [
    {
     "data": {
      "text/html": [
       "<div>\n",
       "<style scoped>\n",
       "    .dataframe tbody tr th:only-of-type {\n",
       "        vertical-align: middle;\n",
       "    }\n",
       "\n",
       "    .dataframe tbody tr th {\n",
       "        vertical-align: top;\n",
       "    }\n",
       "\n",
       "    .dataframe thead th {\n",
       "        text-align: right;\n",
       "    }\n",
       "</style>\n",
       "<table border=\"1\" class=\"dataframe\">\n",
       "  <thead>\n",
       "    <tr style=\"text-align: right;\">\n",
       "      <th></th>\n",
       "      <th>Timestamp</th>\n",
       "      <th>Attention</th>\n",
       "      <th>Meditation</th>\n",
       "      <th>Delta</th>\n",
       "      <th>Theta</th>\n",
       "      <th>LowAlpha</th>\n",
       "      <th>HighAlpha</th>\n",
       "      <th>LowBeta</th>\n",
       "      <th>HighBeta</th>\n",
       "      <th>LowGamma</th>\n",
       "      <th>HighGamma</th>\n",
       "      <th>Signal</th>\n",
       "      <th>Key</th>\n",
       "    </tr>\n",
       "  </thead>\n",
       "  <tbody>\n",
       "    <tr>\n",
       "      <th>0</th>\n",
       "      <td>54127</td>\n",
       "      <td>84</td>\n",
       "      <td>48</td>\n",
       "      <td>25253</td>\n",
       "      <td>14225</td>\n",
       "      <td>3441</td>\n",
       "      <td>4172</td>\n",
       "      <td>1881</td>\n",
       "      <td>9630</td>\n",
       "      <td>6863</td>\n",
       "      <td>5745</td>\n",
       "      <td>0</td>\n",
       "      <td>LButton</td>\n",
       "    </tr>\n",
       "    <tr>\n",
       "      <th>1</th>\n",
       "      <td>55056</td>\n",
       "      <td>78</td>\n",
       "      <td>60</td>\n",
       "      <td>4946</td>\n",
       "      <td>5021</td>\n",
       "      <td>8879</td>\n",
       "      <td>13002</td>\n",
       "      <td>879</td>\n",
       "      <td>6367</td>\n",
       "      <td>4314</td>\n",
       "      <td>3150</td>\n",
       "      <td>0</td>\n",
       "      <td>NaN</td>\n",
       "    </tr>\n",
       "    <tr>\n",
       "      <th>2</th>\n",
       "      <td>56038</td>\n",
       "      <td>66</td>\n",
       "      <td>75</td>\n",
       "      <td>102896</td>\n",
       "      <td>14838</td>\n",
       "      <td>12817</td>\n",
       "      <td>8565</td>\n",
       "      <td>2890</td>\n",
       "      <td>14525</td>\n",
       "      <td>9144</td>\n",
       "      <td>23072</td>\n",
       "      <td>0</td>\n",
       "      <td>NaN</td>\n",
       "    </tr>\n",
       "    <tr>\n",
       "      <th>3</th>\n",
       "      <td>57043</td>\n",
       "      <td>61</td>\n",
       "      <td>87</td>\n",
       "      <td>57763</td>\n",
       "      <td>12541</td>\n",
       "      <td>6173</td>\n",
       "      <td>5120</td>\n",
       "      <td>3238</td>\n",
       "      <td>10192</td>\n",
       "      <td>9048</td>\n",
       "      <td>6663</td>\n",
       "      <td>0</td>\n",
       "      <td>NaN</td>\n",
       "    </tr>\n",
       "    <tr>\n",
       "      <th>4</th>\n",
       "      <td>58203</td>\n",
       "      <td>37</td>\n",
       "      <td>84</td>\n",
       "      <td>21560</td>\n",
       "      <td>74162</td>\n",
       "      <td>11297</td>\n",
       "      <td>9217</td>\n",
       "      <td>4844</td>\n",
       "      <td>1945</td>\n",
       "      <td>2644</td>\n",
       "      <td>1678</td>\n",
       "      <td>0</td>\n",
       "      <td>NaN</td>\n",
       "    </tr>\n",
       "  </tbody>\n",
       "</table>\n",
       "</div>"
      ],
      "text/plain": [
       "   Timestamp  Attention  Meditation   Delta  Theta  LowAlpha  HighAlpha  \\\n",
       "0      54127         84          48   25253  14225      3441       4172   \n",
       "1      55056         78          60    4946   5021      8879      13002   \n",
       "2      56038         66          75  102896  14838     12817       8565   \n",
       "3      57043         61          87   57763  12541      6173       5120   \n",
       "4      58203         37          84   21560  74162     11297       9217   \n",
       "\n",
       "   LowBeta  HighBeta  LowGamma  HighGamma  Signal      Key  \n",
       "0     1881      9630      6863       5745       0  LButton  \n",
       "1      879      6367      4314       3150       0      NaN  \n",
       "2     2890     14525      9144      23072       0      NaN  \n",
       "3     3238     10192      9048       6663       0      NaN  \n",
       "4     4844      1945      2644       1678       0      NaN  "
      ]
     },
     "metadata": {},
     "output_type": "display_data"
    }
   ],
   "source": [
    "display(datosEEGTotal_csv.head())"
   ]
  },
  {
   "cell_type": "code",
   "execution_count": null,
   "id": "6882aa12",
   "metadata": {},
   "outputs": [],
   "source": [
    "datosEEGTotal_csv.info(verbose=True)"
   ]
  },
  {
   "cell_type": "code",
   "execution_count": null,
   "id": "91716f7e",
   "metadata": {},
   "outputs": [],
   "source": []
  }
 ],
 "metadata": {
  "kernelspec": {
   "display_name": "Python 3 (ipykernel)",
   "language": "python",
   "name": "python3"
  },
  "language_info": {
   "codemirror_mode": {
    "name": "ipython",
    "version": 3
   },
   "file_extension": ".py",
   "mimetype": "text/x-python",
   "name": "python",
   "nbconvert_exporter": "python",
   "pygments_lexer": "ipython3",
   "version": "3.11.5"
  }
 },
 "nbformat": 4,
 "nbformat_minor": 5
}
