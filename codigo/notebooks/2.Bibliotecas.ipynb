{
 "cells": [
  {
   "cell_type": "markdown",
   "id": "0e1e5a03",
   "metadata": {},
   "source": [
    "<img style=\"float:left\" width=\"70%\" src=\"../../documentacion/imagenes/escudo_COLOR_1L_DCHA.png\">\n",
    "<img style=\"float:right\" width=\"10%\" src=\"../../documentacion/imagenes/PythonLogo.svg\">\n",
    "<br style=\"clear:both;\">\n",
    "\n",
    "\n",
    "<h2 style=\"display: inline-block; padding: 4mm; padding-left: 2em; background-color: navy; line-height: 1.3em; color: white; border-radius: 10px;\">2. Bibliotecas</h2>\n",
    "\n",
    "\n",
    " \n",
    "## Estudiante:\n",
    "\n",
    "- Jose Luis Perez Gomez"
   ]
  },
  {
   "cell_type": "markdown",
   "id": "1c849946",
   "metadata": {},
   "source": [
    "### En este Notebook instalo las bibliotecas que son necesarias para el desarrollo del proyecto: (Calculo numerico, manipulacion y analisis de datos, visualizacion de datos, machine y deep learning.)"
   ]
  },
  {
   "cell_type": "code",
   "execution_count": 1,
   "id": "6cc858bf",
   "metadata": {},
   "outputs": [],
   "source": [
    "\n",
    "%%capture\n",
    "\n",
    "#Cálculo numérico\n",
    "!pip install numpy\n",
    "!pip install scipy\n",
    "\n",
    "#Manipulación y análisis de datos:\n",
    "!pip install pandas\n",
    "\n",
    "#Visualización de datos:\n",
    "!pip install matplotlib\n",
    "!pip install seaborn\n",
    "\n",
    "#Machine y Deep Learning\n",
    "!pip install tensorflow\n",
    "!pip install sklearn\n",
    "\n",
    "#Tiempo\n",
    "!pip install time\n",
    "\n"
   ]
  }
 ],
 "metadata": {
  "kernelspec": {
   "display_name": "Python 3 (ipykernel)",
   "language": "python",
   "name": "python3"
  },
  "language_info": {
   "codemirror_mode": {
    "name": "ipython",
    "version": 3
   },
   "file_extension": ".py",
   "mimetype": "text/x-python",
   "name": "python",
   "nbconvert_exporter": "python",
   "pygments_lexer": "ipython3",
   "version": "3.11.5"
  }
 },
 "nbformat": 4,
 "nbformat_minor": 5
}
