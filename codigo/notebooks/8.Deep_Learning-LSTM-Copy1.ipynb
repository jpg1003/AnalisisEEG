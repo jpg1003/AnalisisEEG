{
 "cells": [
  {
   "cell_type": "markdown",
   "id": "8045039e",
   "metadata": {},
   "source": [
    "<img style=\"float:left\" width=\"70%\" src=\"../../documentacion/imagenes/escudo_COLOR_1L_DCHA.png\">\n",
    "<img style=\"float:right\" width=\"10%\" src=\"../../documentacion/imagenes/PythonLogo.svg\">\n",
    "<br style=\"clear:both;\">\n",
    "\n",
    "\n",
    "<h2 style=\"display: inline-block; padding: 4mm; padding-left: 2em; background-color: navy; line-height: 1.3em; color: white; border-radius: 10px;\">8. Deep Learning LSTM</h2>\n",
    "\n",
    "\n",
    " \n",
    "## Estudiante:\n",
    "\n",
    "- Jose Luis Perez Gomez"
   ]
  },
  {
   "cell_type": "code",
   "execution_count": 190,
   "id": "af97b04a",
   "metadata": {},
   "outputs": [],
   "source": [
    "%run 3.Importaciones.ipynb\n",
    "%run 4.Variables_Clases.ipynb"
   ]
  },
  {
   "cell_type": "code",
   "execution_count": 191,
   "id": "41199a17",
   "metadata": {},
   "outputs": [],
   "source": [
    "experimento_1_nor_separado = pd.read_csv('../datos/experimento_stscaler_separado1.csv', sep=',')\n",
    "experimento_2_nor_separado = pd.read_csv('../datos/experimento_stscaler_separado2.csv', sep=',')\n",
    "experimento_3_nor_separado = pd.read_csv('../datos/experimento_stscaler_separado3.csv', sep=',')\n",
    "experimento_4_nor_separado = pd.read_csv('../datos/experimento_stscaler_separado4.csv', sep=',')\n",
    "experimento_all_nor = pd.read_csv('../datos/experimento_stscaler_all.csv', sep=',')\n",
    "experimento_all_nor_separado = pd.read_csv('../datos/experimento_stscaler_separado_all.csv', sep=',')\n",
    "\n",
    "experimento_1_nor_separado = experimento_1_nor_separado.drop(['Timestamp'], axis=1)\n",
    "experimento_2_nor_separado = experimento_2_nor_separado.drop(['Timestamp'], axis=1)\n",
    "experimento_3_nor_separado = experimento_3_nor_separado.drop(['Timestamp'], axis=1)\n",
    "experimento_4_nor_separado = experimento_4_nor_separado.drop(['Timestamp'], axis=1)\n",
    "\n",
    "experimentos_nor = [experimento_1_nor_separado, experimento_2_nor_separado, experimento_3_nor_separado, experimento_4_nor_separado, experimento_all_nor, experimento_all_nor_separado ]\n"
   ]
  },
  {
   "cell_type": "code",
   "execution_count": null,
   "id": "4f190c3a",
   "metadata": {},
   "outputs": [],
   "source": []
  },
  {
   "cell_type": "code",
   "execution_count": null,
   "id": "fcd15619",
   "metadata": {},
   "outputs": [],
   "source": []
  },
  {
   "cell_type": "markdown",
   "id": "09831c43",
   "metadata": {},
   "source": [
    "# LSTM (Long short-term memory)"
   ]
  },
  {
   "cell_type": "code",
   "execution_count": null,
   "id": "6b74b62d",
   "metadata": {},
   "outputs": [],
   "source": []
  },
  {
   "cell_type": "code",
   "execution_count": 192,
   "id": "c7099f73",
   "metadata": {},
   "outputs": [],
   "source": [
    "train_datos, val_datos, test_datos = dividir_datos_deep(experimento_all_nor_separado)"
   ]
  },
  {
   "cell_type": "code",
   "execution_count": 193,
   "id": "d012f643",
   "metadata": {},
   "outputs": [
    {
     "name": "stdout",
     "output_type": "stream",
     "text": [
      "train_datos: (542, 11)\n",
      "val_datos: (67, 11)\n",
      "test_datos: (69, 11)\n"
     ]
    }
   ],
   "source": [
    "print(f'train_datos: {train_datos.shape}')\n",
    "print(f'val_datos: {val_datos.shape}')\n",
    "print(f'test_datos: {test_datos.shape}')"
   ]
  },
  {
   "cell_type": "code",
   "execution_count": 194,
   "id": "c0cc9909",
   "metadata": {},
   "outputs": [
    {
     "data": {
      "text/plain": [
       "Key\n",
       "0.0    149\n",
       "1.0    112\n",
       "4.0    102\n",
       "3.0     90\n",
       "2.0     89\n",
       "Name: count, dtype: int64"
      ]
     },
     "execution_count": 194,
     "metadata": {},
     "output_type": "execute_result"
    }
   ],
   "source": [
    "train_datos['Key'].value_counts()"
   ]
  },
  {
   "cell_type": "code",
   "execution_count": 195,
   "id": "e2b0e94b",
   "metadata": {},
   "outputs": [
    {
     "data": {
      "text/plain": [
       "Key\n",
       "0.0    17\n",
       "3.0    14\n",
       "4.0    14\n",
       "1.0    13\n",
       "2.0     9\n",
       "Name: count, dtype: int64"
      ]
     },
     "execution_count": 195,
     "metadata": {},
     "output_type": "execute_result"
    }
   ],
   "source": [
    "val_datos['Key'].value_counts()"
   ]
  },
  {
   "cell_type": "code",
   "execution_count": 196,
   "id": "713117e0",
   "metadata": {
    "scrolled": true
   },
   "outputs": [
    {
     "data": {
      "text/plain": [
       "Key\n",
       "0.0    20\n",
       "2.0    16\n",
       "1.0    15\n",
       "4.0    11\n",
       "3.0     7\n",
       "Name: count, dtype: int64"
      ]
     },
     "execution_count": 196,
     "metadata": {},
     "output_type": "execute_result"
    }
   ],
   "source": [
    "test_datos['Key'].value_counts()"
   ]
  },
  {
   "cell_type": "code",
   "execution_count": 206,
   "id": "a5688c88",
   "metadata": {},
   "outputs": [],
   "source": [
    "\n",
    "def preparar_ventanas(datos, target, window_size=WINDOWS_SIZE, overlap=OVERLAP, target_type=TARGET_TYPE):\n",
    "    \n",
    "    if window_size <= overlap:\n",
    "        raise \"Overlap no puede ser mayor que window_size\"\n",
    "    X = []\n",
    "    y = []\n",
    "    for i in range(0, len(datos) - window_size, window_size - overlap):\n",
    "        X.append(datos[i:i+window_size])\n",
    "        window_targets = target[i:i+window_size].astype(int)\n",
    "        y_true = window_targets[-1]\n",
    "        y.append(y_true)\n",
    "\n",
    "    y_one_hot = tf.keras.utils.to_categorical(np.array(y), num_classes = 5)\n",
    "    # Key = [0, 1, 2, 3, 4, 0]\n",
    "    # One-hot [\n",
    "    #    [0, 1, 2, 3, 4]\n",
    "    #     1  0  0  0  0\n",
    "    #     0  1  0  0  0\n",
    "    #     0  0  1  0  0\n",
    "    #]\n",
    "    return np.array(X), y_one_hot\n",
    "    #return np.array(X), np.array(y)"
   ]
  },
  {
   "cell_type": "code",
   "execution_count": 207,
   "id": "7d4a3ecd",
   "metadata": {},
   "outputs": [],
   "source": [
    "columns = train_datos.columns[train_datos.columns != TARGET]\n",
    "\n"
   ]
  },
  {
   "cell_type": "code",
   "execution_count": null,
   "id": "e929694b",
   "metadata": {},
   "outputs": [],
   "source": []
  },
  {
   "cell_type": "code",
   "execution_count": 208,
   "id": "ce41f475",
   "metadata": {},
   "outputs": [],
   "source": [
    "X_train, y_train = preparar_ventanas(train_datos[columns].values, train_datos[TARGET].values, WINDOWS_SIZE, OVERLAP, TARGET_TYPE)\n",
    "X_val, y_val = preparar_ventanas(val_datos[columns].values, val_datos[TARGET].values, WINDOWS_SIZE, OVERLAP, TARGET_TYPE)\n",
    "X_test, y_test = preparar_ventanas(test_datos[columns].values, test_datos[TARGET].values, WINDOWS_SIZE, OVERLAP, TARGET_TYPE)"
   ]
  },
  {
   "cell_type": "code",
   "execution_count": null,
   "id": "9dd27e77",
   "metadata": {},
   "outputs": [],
   "source": []
  },
  {
   "cell_type": "code",
   "execution_count": 209,
   "id": "52bec6e4",
   "metadata": {},
   "outputs": [
    {
     "name": "stdout",
     "output_type": "stream",
     "text": [
      "X_train: (539, 3, 10)\n",
      "X_val: (64, 3, 10)\n",
      "X_test: (66, 3, 10)\n",
      "y_train: (539, 5)\n",
      "y_val: (64, 5)\n",
      "y_test: (66, 5)\n"
     ]
    }
   ],
   "source": [
    "print(f'X_train: {X_train.shape}')\n",
    "print(f'X_val: {X_val.shape}')\n",
    "print(f'X_test: {X_test.shape}')\n",
    "print(f'y_train: {y_train.shape}')\n",
    "print(f'y_val: {y_val.shape}')\n",
    "print(f'y_test: {y_test.shape}')\n"
   ]
  },
  {
   "cell_type": "code",
   "execution_count": 233,
   "id": "24bd83d2",
   "metadata": {},
   "outputs": [],
   "source": [
    "# Definición del modelo\n",
    "timesteps = 30\n",
    "features = 10\n",
    "\n",
    "def crear_LSTM(input_size, num_classes):\n",
    "    model_LSTM = Sequential()\n",
    "    model_LSTM.add(LSTM(units=128, input_shape=input_size))\n",
    "    model_LSTM.add(Dense(num_classes, activation='softmax'))\n",
    "                        \n",
    "    return model_LSTM\n",
    "\n",
    "\n"
   ]
  },
  {
   "cell_type": "code",
   "execution_count": 234,
   "id": "deffa6fe",
   "metadata": {},
   "outputs": [
    {
     "name": "stdout",
     "output_type": "stream",
     "text": [
      "(3, 10)\n",
      "(539, 3, 10)\n"
     ]
    },
    {
     "name": "stderr",
     "output_type": "stream",
     "text": [
      "C:\\Users\\Casa\\anaconda3\\Lib\\site-packages\\keras\\src\\layers\\rnn\\rnn.py:204: UserWarning: Do not pass an `input_shape`/`input_dim` argument to a layer. When using Sequential models, prefer using an `Input(shape)` object as the first layer in the model instead.\n",
      "  super().__init__(**kwargs)\n"
     ]
    },
    {
     "ename": "ValueError",
     "evalue": "Input 0 of layer \"lstm_8\" is incompatible with the layer: expected ndim=3, found ndim=4. Full shape received: (None, 539, 3, 10)",
     "output_type": "error",
     "traceback": [
      "\u001b[1;31m---------------------------------------------------------------------------\u001b[0m",
      "\u001b[1;31mValueError\u001b[0m                                Traceback (most recent call last)",
      "Cell \u001b[1;32mIn[234], line 6\u001b[0m\n\u001b[0;32m      4\u001b[0m \u001b[38;5;28mprint\u001b[39m(input_size)\n\u001b[0;32m      5\u001b[0m \u001b[38;5;28mprint\u001b[39m(input_size1)\n\u001b[1;32m----> 6\u001b[0m model_LSTM \u001b[38;5;241m=\u001b[39m crear_LSTM(input_size1, num_classes)\n\u001b[0;32m      7\u001b[0m model_LSTM\u001b[38;5;241m.\u001b[39msummary()\n",
      "Cell \u001b[1;32mIn[233], line 7\u001b[0m, in \u001b[0;36mcrear_LSTM\u001b[1;34m(input_size, num_classes)\u001b[0m\n\u001b[0;32m      5\u001b[0m \u001b[38;5;28;01mdef\u001b[39;00m \u001b[38;5;21mcrear_LSTM\u001b[39m(input_size, num_classes):\n\u001b[0;32m      6\u001b[0m     model_LSTM \u001b[38;5;241m=\u001b[39m Sequential()\n\u001b[1;32m----> 7\u001b[0m     model_LSTM\u001b[38;5;241m.\u001b[39madd(LSTM(units\u001b[38;5;241m=\u001b[39m\u001b[38;5;241m128\u001b[39m, input_shape\u001b[38;5;241m=\u001b[39minput_size))\n\u001b[0;32m      8\u001b[0m     model_LSTM\u001b[38;5;241m.\u001b[39madd(Dense(num_classes, activation\u001b[38;5;241m=\u001b[39m\u001b[38;5;124m'\u001b[39m\u001b[38;5;124msoftmax\u001b[39m\u001b[38;5;124m'\u001b[39m))\n\u001b[0;32m     10\u001b[0m     \u001b[38;5;28;01mreturn\u001b[39;00m model_LSTM\n",
      "File \u001b[1;32m~\\anaconda3\\Lib\\site-packages\\keras\\src\\models\\sequential.py:120\u001b[0m, in \u001b[0;36mSequential.add\u001b[1;34m(self, layer, rebuild)\u001b[0m\n\u001b[0;32m    118\u001b[0m \u001b[38;5;28mself\u001b[39m\u001b[38;5;241m.\u001b[39m_layers\u001b[38;5;241m.\u001b[39mappend(layer)\n\u001b[0;32m    119\u001b[0m \u001b[38;5;28;01mif\u001b[39;00m rebuild:\n\u001b[1;32m--> 120\u001b[0m     \u001b[38;5;28mself\u001b[39m\u001b[38;5;241m.\u001b[39m_maybe_rebuild()\n\u001b[0;32m    121\u001b[0m \u001b[38;5;28;01melse\u001b[39;00m:\n\u001b[0;32m    122\u001b[0m     \u001b[38;5;28mself\u001b[39m\u001b[38;5;241m.\u001b[39mbuilt \u001b[38;5;241m=\u001b[39m \u001b[38;5;28;01mFalse\u001b[39;00m\n",
      "File \u001b[1;32m~\\anaconda3\\Lib\\site-packages\\keras\\src\\models\\sequential.py:139\u001b[0m, in \u001b[0;36mSequential._maybe_rebuild\u001b[1;34m(self)\u001b[0m\n\u001b[0;32m    137\u001b[0m \u001b[38;5;28;01mif\u001b[39;00m \u001b[38;5;28misinstance\u001b[39m(\u001b[38;5;28mself\u001b[39m\u001b[38;5;241m.\u001b[39m_layers[\u001b[38;5;241m0\u001b[39m], InputLayer) \u001b[38;5;129;01mand\u001b[39;00m \u001b[38;5;28mlen\u001b[39m(\u001b[38;5;28mself\u001b[39m\u001b[38;5;241m.\u001b[39m_layers) \u001b[38;5;241m>\u001b[39m \u001b[38;5;241m1\u001b[39m:\n\u001b[0;32m    138\u001b[0m     input_shape \u001b[38;5;241m=\u001b[39m \u001b[38;5;28mself\u001b[39m\u001b[38;5;241m.\u001b[39m_layers[\u001b[38;5;241m0\u001b[39m]\u001b[38;5;241m.\u001b[39mbatch_shape\n\u001b[1;32m--> 139\u001b[0m     \u001b[38;5;28mself\u001b[39m\u001b[38;5;241m.\u001b[39mbuild(input_shape)\n",
      "File \u001b[1;32m~\\anaconda3\\Lib\\site-packages\\keras\\src\\layers\\layer.py:223\u001b[0m, in \u001b[0;36mLayer.__new__.<locals>.build_wrapper\u001b[1;34m(*args, **kwargs)\u001b[0m\n\u001b[0;32m    220\u001b[0m \u001b[38;5;129m@wraps\u001b[39m(original_build_method)\n\u001b[0;32m    221\u001b[0m \u001b[38;5;28;01mdef\u001b[39;00m \u001b[38;5;21mbuild_wrapper\u001b[39m(\u001b[38;5;241m*\u001b[39margs, \u001b[38;5;241m*\u001b[39m\u001b[38;5;241m*\u001b[39mkwargs):\n\u001b[0;32m    222\u001b[0m     \u001b[38;5;28;01mwith\u001b[39;00m obj\u001b[38;5;241m.\u001b[39m_open_name_scope():\n\u001b[1;32m--> 223\u001b[0m         original_build_method(\u001b[38;5;241m*\u001b[39margs, \u001b[38;5;241m*\u001b[39m\u001b[38;5;241m*\u001b[39mkwargs)\n\u001b[0;32m    224\u001b[0m     \u001b[38;5;66;03m# Record build config.\u001b[39;00m\n\u001b[0;32m    225\u001b[0m     signature \u001b[38;5;241m=\u001b[39m inspect\u001b[38;5;241m.\u001b[39msignature(original_build_method)\n",
      "File \u001b[1;32m~\\anaconda3\\Lib\\site-packages\\keras\\src\\models\\sequential.py:183\u001b[0m, in \u001b[0;36mSequential.build\u001b[1;34m(self, input_shape)\u001b[0m\n\u001b[0;32m    181\u001b[0m \u001b[38;5;28;01mfor\u001b[39;00m layer \u001b[38;5;129;01min\u001b[39;00m \u001b[38;5;28mself\u001b[39m\u001b[38;5;241m.\u001b[39m_layers[\u001b[38;5;241m1\u001b[39m:]:\n\u001b[0;32m    182\u001b[0m     \u001b[38;5;28;01mtry\u001b[39;00m:\n\u001b[1;32m--> 183\u001b[0m         x \u001b[38;5;241m=\u001b[39m layer(x)\n\u001b[0;32m    184\u001b[0m     \u001b[38;5;28;01mexcept\u001b[39;00m \u001b[38;5;167;01mNotImplementedError\u001b[39;00m:\n\u001b[0;32m    185\u001b[0m         \u001b[38;5;66;03m# Can happen if shape inference is not implemented.\u001b[39;00m\n\u001b[0;32m    186\u001b[0m         \u001b[38;5;66;03m# TODO: consider reverting inbound nodes on layers processed.\u001b[39;00m\n\u001b[0;32m    187\u001b[0m         \u001b[38;5;28;01mreturn\u001b[39;00m\n",
      "File \u001b[1;32m~\\anaconda3\\Lib\\site-packages\\keras\\src\\utils\\traceback_utils.py:122\u001b[0m, in \u001b[0;36mfilter_traceback.<locals>.error_handler\u001b[1;34m(*args, **kwargs)\u001b[0m\n\u001b[0;32m    119\u001b[0m     filtered_tb \u001b[38;5;241m=\u001b[39m _process_traceback_frames(e\u001b[38;5;241m.\u001b[39m__traceback__)\n\u001b[0;32m    120\u001b[0m     \u001b[38;5;66;03m# To get the full stack trace, call:\u001b[39;00m\n\u001b[0;32m    121\u001b[0m     \u001b[38;5;66;03m# `keras.config.disable_traceback_filtering()`\u001b[39;00m\n\u001b[1;32m--> 122\u001b[0m     \u001b[38;5;28;01mraise\u001b[39;00m e\u001b[38;5;241m.\u001b[39mwith_traceback(filtered_tb) \u001b[38;5;28;01mfrom\u001b[39;00m \u001b[38;5;28;01mNone\u001b[39;00m\n\u001b[0;32m    123\u001b[0m \u001b[38;5;28;01mfinally\u001b[39;00m:\n\u001b[0;32m    124\u001b[0m     \u001b[38;5;28;01mdel\u001b[39;00m filtered_tb\n",
      "File \u001b[1;32m~\\anaconda3\\Lib\\site-packages\\keras\\src\\layers\\input_spec.py:186\u001b[0m, in \u001b[0;36massert_input_compatibility\u001b[1;34m(input_spec, inputs, layer_name)\u001b[0m\n\u001b[0;32m    184\u001b[0m \u001b[38;5;28;01mif\u001b[39;00m spec\u001b[38;5;241m.\u001b[39mndim \u001b[38;5;129;01mis\u001b[39;00m \u001b[38;5;129;01mnot\u001b[39;00m \u001b[38;5;28;01mNone\u001b[39;00m \u001b[38;5;129;01mand\u001b[39;00m \u001b[38;5;129;01mnot\u001b[39;00m spec\u001b[38;5;241m.\u001b[39mallow_last_axis_squeeze:\n\u001b[0;32m    185\u001b[0m     \u001b[38;5;28;01mif\u001b[39;00m ndim \u001b[38;5;241m!=\u001b[39m spec\u001b[38;5;241m.\u001b[39mndim:\n\u001b[1;32m--> 186\u001b[0m         \u001b[38;5;28;01mraise\u001b[39;00m \u001b[38;5;167;01mValueError\u001b[39;00m(\n\u001b[0;32m    187\u001b[0m             \u001b[38;5;124mf\u001b[39m\u001b[38;5;124m'\u001b[39m\u001b[38;5;124mInput \u001b[39m\u001b[38;5;132;01m{\u001b[39;00minput_index\u001b[38;5;132;01m}\u001b[39;00m\u001b[38;5;124m of layer \u001b[39m\u001b[38;5;124m\"\u001b[39m\u001b[38;5;132;01m{\u001b[39;00mlayer_name\u001b[38;5;132;01m}\u001b[39;00m\u001b[38;5;124m\"\u001b[39m\u001b[38;5;124m \u001b[39m\u001b[38;5;124m'\u001b[39m\n\u001b[0;32m    188\u001b[0m             \u001b[38;5;124m\"\u001b[39m\u001b[38;5;124mis incompatible with the layer: \u001b[39m\u001b[38;5;124m\"\u001b[39m\n\u001b[0;32m    189\u001b[0m             \u001b[38;5;124mf\u001b[39m\u001b[38;5;124m\"\u001b[39m\u001b[38;5;124mexpected ndim=\u001b[39m\u001b[38;5;132;01m{\u001b[39;00mspec\u001b[38;5;241m.\u001b[39mndim\u001b[38;5;132;01m}\u001b[39;00m\u001b[38;5;124m, found ndim=\u001b[39m\u001b[38;5;132;01m{\u001b[39;00mndim\u001b[38;5;132;01m}\u001b[39;00m\u001b[38;5;124m. \u001b[39m\u001b[38;5;124m\"\u001b[39m\n\u001b[0;32m    190\u001b[0m             \u001b[38;5;124mf\u001b[39m\u001b[38;5;124m\"\u001b[39m\u001b[38;5;124mFull shape received: \u001b[39m\u001b[38;5;132;01m{\u001b[39;00mshape\u001b[38;5;132;01m}\u001b[39;00m\u001b[38;5;124m\"\u001b[39m\n\u001b[0;32m    191\u001b[0m         )\n\u001b[0;32m    192\u001b[0m \u001b[38;5;28;01mif\u001b[39;00m spec\u001b[38;5;241m.\u001b[39mmax_ndim \u001b[38;5;129;01mis\u001b[39;00m \u001b[38;5;129;01mnot\u001b[39;00m \u001b[38;5;28;01mNone\u001b[39;00m:\n\u001b[0;32m    193\u001b[0m     \u001b[38;5;28;01mif\u001b[39;00m ndim \u001b[38;5;129;01mis\u001b[39;00m \u001b[38;5;129;01mnot\u001b[39;00m \u001b[38;5;28;01mNone\u001b[39;00m \u001b[38;5;129;01mand\u001b[39;00m ndim \u001b[38;5;241m>\u001b[39m spec\u001b[38;5;241m.\u001b[39mmax_ndim:\n",
      "\u001b[1;31mValueError\u001b[0m: Input 0 of layer \"lstm_8\" is incompatible with the layer: expected ndim=3, found ndim=4. Full shape received: (None, 539, 3, 10)"
     ]
    }
   ],
   "source": [
    "num_classes = 5\n",
    "#input_size = X_train.shape[1:]\n",
    "input_size1 = X_train.shape\n",
    "print(input_size)\n",
    "print(input_size1)\n",
    "model_LSTM = crear_LSTM(input_size1, num_classes)\n",
    "model_LSTM.summary()\n"
   ]
  },
  {
   "cell_type": "code",
   "execution_count": 224,
   "id": "f3c8682d",
   "metadata": {},
   "outputs": [
    {
     "name": "stdout",
     "output_type": "stream",
     "text": [
      "Epoch 1/50\n",
      "\u001b[1m17/17\u001b[0m \u001b[32m━━━━━━━━━━━━━━━━━━━━\u001b[0m\u001b[37m\u001b[0m \u001b[1m2s\u001b[0m 21ms/step - accuracy: 0.1939 - f1_score: 0.1804 - loss: 1.6115 - val_accuracy: 0.0625 - val_f1_score: 0.0606 - val_loss: 1.6195\n",
      "Epoch 2/50\n",
      "\u001b[1m17/17\u001b[0m \u001b[32m━━━━━━━━━━━━━━━━━━━━\u001b[0m\u001b[37m\u001b[0m \u001b[1m0s\u001b[0m 5ms/step - accuracy: 0.1905 - f1_score: 0.1868 - loss: 1.6113 - val_accuracy: 0.1094 - val_f1_score: 0.1239 - val_loss: 1.6187\n",
      "Epoch 3/50\n",
      "\u001b[1m17/17\u001b[0m \u001b[32m━━━━━━━━━━━━━━━━━━━━\u001b[0m\u001b[37m\u001b[0m \u001b[1m0s\u001b[0m 5ms/step - accuracy: 0.2231 - f1_score: 0.2273 - loss: 1.5973 - val_accuracy: 0.1250 - val_f1_score: 0.1389 - val_loss: 1.6176\n",
      "Epoch 4/50\n",
      "\u001b[1m17/17\u001b[0m \u001b[32m━━━━━━━━━━━━━━━━━━━━\u001b[0m\u001b[37m\u001b[0m \u001b[1m0s\u001b[0m 6ms/step - accuracy: 0.2805 - f1_score: 0.2813 - loss: 1.5915 - val_accuracy: 0.1406 - val_f1_score: 0.1452 - val_loss: 1.6175\n",
      "Epoch 5/50\n",
      "\u001b[1m17/17\u001b[0m \u001b[32m━━━━━━━━━━━━━━━━━━━━\u001b[0m\u001b[37m\u001b[0m \u001b[1m0s\u001b[0m 5ms/step - accuracy: 0.2902 - f1_score: 0.2840 - loss: 1.5885 - val_accuracy: 0.1406 - val_f1_score: 0.1400 - val_loss: 1.6166\n",
      "Epoch 6/50\n",
      "\u001b[1m17/17\u001b[0m \u001b[32m━━━━━━━━━━━━━━━━━━━━\u001b[0m\u001b[37m\u001b[0m \u001b[1m0s\u001b[0m 4ms/step - accuracy: 0.3119 - f1_score: 0.2998 - loss: 1.5792 - val_accuracy: 0.1406 - val_f1_score: 0.1514 - val_loss: 1.6165\n",
      "Epoch 7/50\n",
      "\u001b[1m17/17\u001b[0m \u001b[32m━━━━━━━━━━━━━━━━━━━━\u001b[0m\u001b[37m\u001b[0m \u001b[1m0s\u001b[0m 5ms/step - accuracy: 0.3153 - f1_score: 0.3010 - loss: 1.5786 - val_accuracy: 0.1719 - val_f1_score: 0.1715 - val_loss: 1.6156\n",
      "Epoch 8/50\n",
      "\u001b[1m17/17\u001b[0m \u001b[32m━━━━━━━━━━━━━━━━━━━━\u001b[0m\u001b[37m\u001b[0m \u001b[1m0s\u001b[0m 5ms/step - accuracy: 0.3046 - f1_score: 0.2820 - loss: 1.5751 - val_accuracy: 0.1562 - val_f1_score: 0.1619 - val_loss: 1.6150\n",
      "Epoch 9/50\n",
      "\u001b[1m17/17\u001b[0m \u001b[32m━━━━━━━━━━━━━━━━━━━━\u001b[0m\u001b[37m\u001b[0m \u001b[1m0s\u001b[0m 5ms/step - accuracy: 0.3088 - f1_score: 0.2851 - loss: 1.5650 - val_accuracy: 0.1719 - val_f1_score: 0.1829 - val_loss: 1.6143\n",
      "Epoch 10/50\n",
      "\u001b[1m17/17\u001b[0m \u001b[32m━━━━━━━━━━━━━━━━━━━━\u001b[0m\u001b[37m\u001b[0m \u001b[1m0s\u001b[0m 5ms/step - accuracy: 0.3462 - f1_score: 0.3217 - loss: 1.5592 - val_accuracy: 0.1719 - val_f1_score: 0.1841 - val_loss: 1.6136\n",
      "Epoch 11/50\n",
      "\u001b[1m17/17\u001b[0m \u001b[32m━━━━━━━━━━━━━━━━━━━━\u001b[0m\u001b[37m\u001b[0m \u001b[1m0s\u001b[0m 5ms/step - accuracy: 0.3626 - f1_score: 0.3344 - loss: 1.5603 - val_accuracy: 0.1719 - val_f1_score: 0.1841 - val_loss: 1.6124\n",
      "Epoch 12/50\n",
      "\u001b[1m17/17\u001b[0m \u001b[32m━━━━━━━━━━━━━━━━━━━━\u001b[0m\u001b[37m\u001b[0m \u001b[1m0s\u001b[0m 5ms/step - accuracy: 0.4138 - f1_score: 0.3903 - loss: 1.5390 - val_accuracy: 0.1562 - val_f1_score: 0.1615 - val_loss: 1.6116\n",
      "Epoch 13/50\n",
      "\u001b[1m17/17\u001b[0m \u001b[32m━━━━━━━━━━━━━━━━━━━━\u001b[0m\u001b[37m\u001b[0m \u001b[1m0s\u001b[0m 5ms/step - accuracy: 0.3604 - f1_score: 0.3353 - loss: 1.5489 - val_accuracy: 0.1562 - val_f1_score: 0.1615 - val_loss: 1.6110\n",
      "Epoch 14/50\n",
      "\u001b[1m17/17\u001b[0m \u001b[32m━━━━━━━━━━━━━━━━━━━━\u001b[0m\u001b[37m\u001b[0m \u001b[1m0s\u001b[0m 4ms/step - accuracy: 0.3640 - f1_score: 0.3319 - loss: 1.5362 - val_accuracy: 0.1562 - val_f1_score: 0.1615 - val_loss: 1.6103\n",
      "Epoch 15/50\n",
      "\u001b[1m17/17\u001b[0m \u001b[32m━━━━━━━━━━━━━━━━━━━━\u001b[0m\u001b[37m\u001b[0m \u001b[1m0s\u001b[0m 5ms/step - accuracy: 0.3530 - f1_score: 0.3334 - loss: 1.5460 - val_accuracy: 0.1719 - val_f1_score: 0.1766 - val_loss: 1.6097\n",
      "Epoch 16/50\n",
      "\u001b[1m17/17\u001b[0m \u001b[32m━━━━━━━━━━━━━━━━━━━━\u001b[0m\u001b[37m\u001b[0m \u001b[1m0s\u001b[0m 5ms/step - accuracy: 0.3647 - f1_score: 0.3413 - loss: 1.5411 - val_accuracy: 0.1875 - val_f1_score: 0.1997 - val_loss: 1.6086\n",
      "Epoch 17/50\n",
      "\u001b[1m17/17\u001b[0m \u001b[32m━━━━━━━━━━━━━━━━━━━━\u001b[0m\u001b[37m\u001b[0m \u001b[1m0s\u001b[0m 5ms/step - accuracy: 0.3664 - f1_score: 0.3392 - loss: 1.5353 - val_accuracy: 0.1875 - val_f1_score: 0.1997 - val_loss: 1.6080\n",
      "Epoch 18/50\n",
      "\u001b[1m17/17\u001b[0m \u001b[32m━━━━━━━━━━━━━━━━━━━━\u001b[0m\u001b[37m\u001b[0m \u001b[1m0s\u001b[0m 5ms/step - accuracy: 0.3719 - f1_score: 0.3446 - loss: 1.5227 - val_accuracy: 0.1875 - val_f1_score: 0.1997 - val_loss: 1.6064\n",
      "Epoch 19/50\n",
      "\u001b[1m17/17\u001b[0m \u001b[32m━━━━━━━━━━━━━━━━━━━━\u001b[0m\u001b[37m\u001b[0m \u001b[1m0s\u001b[0m 5ms/step - accuracy: 0.4060 - f1_score: 0.3781 - loss: 1.5177 - val_accuracy: 0.1875 - val_f1_score: 0.1997 - val_loss: 1.6054\n",
      "Epoch 20/50\n",
      "\u001b[1m17/17\u001b[0m \u001b[32m━━━━━━━━━━━━━━━━━━━━\u001b[0m\u001b[37m\u001b[0m \u001b[1m0s\u001b[0m 5ms/step - accuracy: 0.3659 - f1_score: 0.3375 - loss: 1.5232 - val_accuracy: 0.1875 - val_f1_score: 0.2000 - val_loss: 1.6041\n",
      "Epoch 21/50\n",
      "\u001b[1m17/17\u001b[0m \u001b[32m━━━━━━━━━━━━━━━━━━━━\u001b[0m\u001b[37m\u001b[0m \u001b[1m0s\u001b[0m 4ms/step - accuracy: 0.3670 - f1_score: 0.3266 - loss: 1.5107 - val_accuracy: 0.1875 - val_f1_score: 0.2000 - val_loss: 1.6036\n",
      "Epoch 22/50\n",
      "\u001b[1m17/17\u001b[0m \u001b[32m━━━━━━━━━━━━━━━━━━━━\u001b[0m\u001b[37m\u001b[0m \u001b[1m0s\u001b[0m 5ms/step - accuracy: 0.3758 - f1_score: 0.3416 - loss: 1.5116 - val_accuracy: 0.1875 - val_f1_score: 0.2000 - val_loss: 1.6020\n",
      "Epoch 23/50\n",
      "\u001b[1m17/17\u001b[0m \u001b[32m━━━━━━━━━━━━━━━━━━━━\u001b[0m\u001b[37m\u001b[0m \u001b[1m0s\u001b[0m 5ms/step - accuracy: 0.3185 - f1_score: 0.2925 - loss: 1.5248 - val_accuracy: 0.1875 - val_f1_score: 0.2000 - val_loss: 1.6011\n",
      "Epoch 24/50\n",
      "\u001b[1m17/17\u001b[0m \u001b[32m━━━━━━━━━━━━━━━━━━━━\u001b[0m\u001b[37m\u001b[0m \u001b[1m0s\u001b[0m 5ms/step - accuracy: 0.3723 - f1_score: 0.3450 - loss: 1.5044 - val_accuracy: 0.1875 - val_f1_score: 0.2000 - val_loss: 1.5990\n",
      "Epoch 25/50\n",
      "\u001b[1m17/17\u001b[0m \u001b[32m━━━━━━━━━━━━━━━━━━━━\u001b[0m\u001b[37m\u001b[0m \u001b[1m0s\u001b[0m 5ms/step - accuracy: 0.3944 - f1_score: 0.3651 - loss: 1.4812 - val_accuracy: 0.1875 - val_f1_score: 0.1984 - val_loss: 1.5981\n",
      "Epoch 26/50\n",
      "\u001b[1m17/17\u001b[0m \u001b[32m━━━━━━━━━━━━━━━━━━━━\u001b[0m\u001b[37m\u001b[0m \u001b[1m0s\u001b[0m 5ms/step - accuracy: 0.3343 - f1_score: 0.3069 - loss: 1.5224 - val_accuracy: 0.2031 - val_f1_score: 0.2106 - val_loss: 1.5967\n",
      "Epoch 27/50\n",
      "\u001b[1m17/17\u001b[0m \u001b[32m━━━━━━━━━━━━━━━━━━━━\u001b[0m\u001b[37m\u001b[0m \u001b[1m0s\u001b[0m 5ms/step - accuracy: 0.3730 - f1_score: 0.3363 - loss: 1.4890 - val_accuracy: 0.2031 - val_f1_score: 0.2106 - val_loss: 1.5959\n",
      "Epoch 28/50\n",
      "\u001b[1m17/17\u001b[0m \u001b[32m━━━━━━━━━━━━━━━━━━━━\u001b[0m\u001b[37m\u001b[0m \u001b[1m0s\u001b[0m 6ms/step - accuracy: 0.3288 - f1_score: 0.2955 - loss: 1.5051 - val_accuracy: 0.2031 - val_f1_score: 0.2106 - val_loss: 1.5953\n",
      "Epoch 29/50\n",
      "\u001b[1m17/17\u001b[0m \u001b[32m━━━━━━━━━━━━━━━━━━━━\u001b[0m\u001b[37m\u001b[0m \u001b[1m0s\u001b[0m 6ms/step - accuracy: 0.3648 - f1_score: 0.3306 - loss: 1.5090 - val_accuracy: 0.2031 - val_f1_score: 0.2106 - val_loss: 1.5939\n",
      "Epoch 30/50\n",
      "\u001b[1m17/17\u001b[0m \u001b[32m━━━━━━━━━━━━━━━━━━━━\u001b[0m\u001b[37m\u001b[0m \u001b[1m0s\u001b[0m 6ms/step - accuracy: 0.3793 - f1_score: 0.3523 - loss: 1.4873 - val_accuracy: 0.2031 - val_f1_score: 0.2106 - val_loss: 1.5921\n",
      "Epoch 31/50\n",
      "\u001b[1m17/17\u001b[0m \u001b[32m━━━━━━━━━━━━━━━━━━━━\u001b[0m\u001b[37m\u001b[0m \u001b[1m0s\u001b[0m 6ms/step - accuracy: 0.3479 - f1_score: 0.3193 - loss: 1.4884 - val_accuracy: 0.1875 - val_f1_score: 0.1984 - val_loss: 1.5908\n",
      "Epoch 32/50\n",
      "\u001b[1m17/17\u001b[0m \u001b[32m━━━━━━━━━━━━━━━━━━━━\u001b[0m\u001b[37m\u001b[0m \u001b[1m0s\u001b[0m 5ms/step - accuracy: 0.3680 - f1_score: 0.3390 - loss: 1.4820 - val_accuracy: 0.2031 - val_f1_score: 0.2106 - val_loss: 1.5894\n",
      "Epoch 33/50\n",
      "\u001b[1m17/17\u001b[0m \u001b[32m━━━━━━━━━━━━━━━━━━━━\u001b[0m\u001b[37m\u001b[0m \u001b[1m0s\u001b[0m 5ms/step - accuracy: 0.3814 - f1_score: 0.3484 - loss: 1.4889 - val_accuracy: 0.2188 - val_f1_score: 0.2342 - val_loss: 1.5880\n",
      "Epoch 34/50\n",
      "\u001b[1m17/17\u001b[0m \u001b[32m━━━━━━━━━━━━━━━━━━━━\u001b[0m\u001b[37m\u001b[0m \u001b[1m0s\u001b[0m 6ms/step - accuracy: 0.3556 - f1_score: 0.3326 - loss: 1.4742 - val_accuracy: 0.2188 - val_f1_score: 0.2342 - val_loss: 1.5864\n",
      "Epoch 35/50\n",
      "\u001b[1m17/17\u001b[0m \u001b[32m━━━━━━━━━━━━━━━━━━━━\u001b[0m\u001b[37m\u001b[0m \u001b[1m0s\u001b[0m 5ms/step - accuracy: 0.3692 - f1_score: 0.3448 - loss: 1.5010 - val_accuracy: 0.2031 - val_f1_score: 0.2093 - val_loss: 1.5860\n",
      "Epoch 36/50\n",
      "\u001b[1m17/17\u001b[0m \u001b[32m━━━━━━━━━━━━━━━━━━━━\u001b[0m\u001b[37m\u001b[0m \u001b[1m0s\u001b[0m 5ms/step - accuracy: 0.3519 - f1_score: 0.3187 - loss: 1.4932 - val_accuracy: 0.2188 - val_f1_score: 0.2342 - val_loss: 1.5838\n",
      "Epoch 37/50\n",
      "\u001b[1m17/17\u001b[0m \u001b[32m━━━━━━━━━━━━━━━━━━━━\u001b[0m\u001b[37m\u001b[0m \u001b[1m0s\u001b[0m 5ms/step - accuracy: 0.3629 - f1_score: 0.3224 - loss: 1.4811 - val_accuracy: 0.2031 - val_f1_score: 0.2165 - val_loss: 1.5838\n",
      "Epoch 38/50\n",
      "\u001b[1m17/17\u001b[0m \u001b[32m━━━━━━━━━━━━━━━━━━━━\u001b[0m\u001b[37m\u001b[0m \u001b[1m0s\u001b[0m 5ms/step - accuracy: 0.3672 - f1_score: 0.3381 - loss: 1.4704 - val_accuracy: 0.2344 - val_f1_score: 0.2483 - val_loss: 1.5823\n",
      "Epoch 39/50\n",
      "\u001b[1m17/17\u001b[0m \u001b[32m━━━━━━━━━━━━━━━━━━━━\u001b[0m\u001b[37m\u001b[0m \u001b[1m0s\u001b[0m 5ms/step - accuracy: 0.3407 - f1_score: 0.3161 - loss: 1.4995 - val_accuracy: 0.2188 - val_f1_score: 0.2297 - val_loss: 1.5805\n",
      "Epoch 40/50\n",
      "\u001b[1m17/17\u001b[0m \u001b[32m━━━━━━━━━━━━━━━━━━━━\u001b[0m\u001b[37m\u001b[0m \u001b[1m0s\u001b[0m 6ms/step - accuracy: 0.3396 - f1_score: 0.3076 - loss: 1.4940 - val_accuracy: 0.2344 - val_f1_score: 0.2465 - val_loss: 1.5797\n",
      "Epoch 41/50\n"
     ]
    },
    {
     "name": "stdout",
     "output_type": "stream",
     "text": [
      "\u001b[1m17/17\u001b[0m \u001b[32m━━━━━━━━━━━━━━━━━━━━\u001b[0m\u001b[37m\u001b[0m \u001b[1m0s\u001b[0m 8ms/step - accuracy: 0.3636 - f1_score: 0.3356 - loss: 1.4608 - val_accuracy: 0.2188 - val_f1_score: 0.2293 - val_loss: 1.5775\n",
      "Epoch 42/50\n",
      "\u001b[1m17/17\u001b[0m \u001b[32m━━━━━━━━━━━━━━━━━━━━\u001b[0m\u001b[37m\u001b[0m \u001b[1m0s\u001b[0m 5ms/step - accuracy: 0.3430 - f1_score: 0.3106 - loss: 1.5018 - val_accuracy: 0.2188 - val_f1_score: 0.2293 - val_loss: 1.5763\n",
      "Epoch 43/50\n",
      "\u001b[1m17/17\u001b[0m \u001b[32m━━━━━━━━━━━━━━━━━━━━\u001b[0m\u001b[37m\u001b[0m \u001b[1m0s\u001b[0m 6ms/step - accuracy: 0.3656 - f1_score: 0.3456 - loss: 1.4788 - val_accuracy: 0.2344 - val_f1_score: 0.2465 - val_loss: 1.5750\n",
      "Epoch 44/50\n",
      "\u001b[1m17/17\u001b[0m \u001b[32m━━━━━━━━━━━━━━━━━━━━\u001b[0m\u001b[37m\u001b[0m \u001b[1m0s\u001b[0m 6ms/step - accuracy: 0.3412 - f1_score: 0.3066 - loss: 1.4738 - val_accuracy: 0.2188 - val_f1_score: 0.2330 - val_loss: 1.5741\n",
      "Epoch 45/50\n",
      "\u001b[1m17/17\u001b[0m \u001b[32m━━━━━━━━━━━━━━━━━━━━\u001b[0m\u001b[37m\u001b[0m \u001b[1m0s\u001b[0m 6ms/step - accuracy: 0.3502 - f1_score: 0.3212 - loss: 1.4998 - val_accuracy: 0.2188 - val_f1_score: 0.2330 - val_loss: 1.5734\n",
      "Epoch 46/50\n",
      "\u001b[1m17/17\u001b[0m \u001b[32m━━━━━━━━━━━━━━━━━━━━\u001b[0m\u001b[37m\u001b[0m \u001b[1m0s\u001b[0m 6ms/step - accuracy: 0.4026 - f1_score: 0.3734 - loss: 1.4467 - val_accuracy: 0.2188 - val_f1_score: 0.2330 - val_loss: 1.5726\n",
      "Epoch 47/50\n",
      "\u001b[1m17/17\u001b[0m \u001b[32m━━━━━━━━━━━━━━━━━━━━\u001b[0m\u001b[37m\u001b[0m \u001b[1m0s\u001b[0m 5ms/step - accuracy: 0.3749 - f1_score: 0.3493 - loss: 1.4637 - val_accuracy: 0.2188 - val_f1_score: 0.2330 - val_loss: 1.5708\n",
      "Epoch 48/50\n",
      "\u001b[1m17/17\u001b[0m \u001b[32m━━━━━━━━━━━━━━━━━━━━\u001b[0m\u001b[37m\u001b[0m \u001b[1m0s\u001b[0m 5ms/step - accuracy: 0.3745 - f1_score: 0.3439 - loss: 1.4833 - val_accuracy: 0.2188 - val_f1_score: 0.2314 - val_loss: 1.5696\n",
      "Epoch 49/50\n",
      "\u001b[1m17/17\u001b[0m \u001b[32m━━━━━━━━━━━━━━━━━━━━\u001b[0m\u001b[37m\u001b[0m \u001b[1m0s\u001b[0m 5ms/step - accuracy: 0.3397 - f1_score: 0.3187 - loss: 1.4821 - val_accuracy: 0.2188 - val_f1_score: 0.2314 - val_loss: 1.5684\n",
      "Epoch 50/50\n",
      "\u001b[1m17/17\u001b[0m \u001b[32m━━━━━━━━━━━━━━━━━━━━\u001b[0m\u001b[37m\u001b[0m \u001b[1m0s\u001b[0m 5ms/step - accuracy: 0.3567 - f1_score: 0.3238 - loss: 1.4884 - val_accuracy: 0.2188 - val_f1_score: 0.2314 - val_loss: 1.5680\n"
     ]
    }
   ],
   "source": [
    "checkpoint_filepath = 'checkpoint/mlp.keras'\n",
    "\n",
    "# Crear checkpoint\n",
    "model_checkpoint_callback = ModelCheckpoint(\n",
    "    filepath=checkpoint_filepath,\n",
    "    monitor='val_loss',\n",
    "    mode='min',\n",
    "    save_best_only=True\n",
    ")\n",
    "\n",
    "# Hiperparámetros\n",
    "batch_size = 32\n",
    "learning_rate = 1e-4\n",
    "epochs = 50\n",
    "dropout = 0.5\n",
    "weight_decay = 1e1\n",
    "\n",
    "\n",
    "\n",
    "# Compilamos el modelo\n",
    "optimizador = Adam(learning_rate=learning_rate)\n",
    "#optimizador = AdamW(learning_rate=learning_rate, weight_decay=weight_decay)\n",
    "model_LSTM.compile(optimizer= optimizador,\n",
    "                  loss='categorical_crossentropy',\n",
    "                  metrics=[\"accuracy\", tf.keras.metrics.F1Score(\"weighted\")])\n",
    "\n",
    "# Entrenar\n",
    "LSTM_output = model_LSTM.fit(\n",
    "    X_train, y_train,\n",
    "    validation_data=(X_val, y_val),\n",
    "    epochs=epochs, batch_size=batch_size,\n",
    "    callbacks=[model_checkpoint_callback]\n",
    ")"
   ]
  },
  {
   "cell_type": "code",
   "execution_count": 225,
   "id": "0e15425a",
   "metadata": {},
   "outputs": [],
   "source": [
    "def learning_curve(history, key='loss', title='Loss curve'):\n",
    "    epochs = np.arange(1, len(history.history[key]) + 1)\n",
    "\n",
    "    plt.figure(figsize=(20, 4))\n",
    "    plt.subplot(1, 3, 1)\n",
    "    plt.plot(epochs, history.history[key], label='Training')\n",
    "    plt.plot(epochs, history.history['val_' + key], label='Validation')\n",
    "    plt.title(title)\n",
    "    plt.xlabel('Epochs')\n",
    "    plt.ylabel(key.title())\n",
    "    plt.legend()"
   ]
  },
  {
   "cell_type": "code",
   "execution_count": 226,
   "id": "3107456e",
   "metadata": {},
   "outputs": [
    {
     "data": {
      "image/png": "[encoded data removed]",
      "text/plain": [
       "<Figure size 2000x400 with 1 Axes>"
      ]
     },
     "metadata": {},
     "output_type": "display_data"
    }
   ],
   "source": [
    "learning_curve(LSTM_output, 'loss')"
   ]
  },
  {
   "cell_type": "code",
   "execution_count": 227,
   "id": "e2a93f0a",
   "metadata": {},
   "outputs": [],
   "source": [
    "# Cargar pesos del mejor modelo\n",
    "model_LSTM.load_weights(checkpoint_filepath)"
   ]
  },
  {
   "cell_type": "code",
   "execution_count": 228,
   "id": "b3c80024",
   "metadata": {},
   "outputs": [
    {
     "name": "stdout",
     "output_type": "stream",
     "text": [
      "\u001b[1m2/2\u001b[0m \u001b[32m━━━━━━━━━━━━━━━━━━━━\u001b[0m\u001b[37m\u001b[0m \u001b[1m0s\u001b[0m 11ms/step \n"
     ]
    }
   ],
   "source": [
    "probabilidades_val = model_LSTM.predict(X_val)"
   ]
  },
  {
   "cell_type": "code",
   "execution_count": 229,
   "id": "b20962dc",
   "metadata": {},
   "outputs": [
    {
     "name": "stdout",
     "output_type": "stream",
     "text": [
      "[2 4 3 3 3 3 3 3 3 3 1 3 3 3 3 3 4 4 4 4 4 4 4 4 4 1 3 3 3 1 1 1 3 1 1 3 3\n",
      " 0 0 0 4 4 4 2 0 0 0 4 0 1 1 3 3 3 4 4 2 2 2 2 1 2 2 2]\n",
      "[2 2 2 2 2 2 2 0 0 0 0 0 3 3 3 3 3 3 3 3 3 3 3 3 3 3 0 0 0 0 0 1 1 1 1 1 1\n",
      " 1 1 1 1 1 1 1 0 0 0 0 0 4 4 4 4 4 4 4 4 4 4 4 4 4 4 0]\n"
     ]
    }
   ],
   "source": [
    "y_val_pred = probabilidades_val.argmax(1)\n",
    "print(y_val_pred)\n",
    "etiquetas_val = y_val.argmax(1)\n",
    "print(etiquetas_val)"
   ]
  },
  {
   "cell_type": "code",
   "execution_count": 230,
   "id": "2ecf0e56",
   "metadata": {},
   "outputs": [
    {
     "name": "stdout",
     "output_type": "stream",
     "text": [
      "              precision    recall  f1-score   support\n",
      "\n",
      "           0       0.57      0.25      0.35        16\n",
      "           1       0.30      0.23      0.26        13\n",
      "           2       0.11      0.14      0.12         7\n",
      "           3       0.18      0.29      0.22        14\n",
      "           4       0.12      0.14      0.13        14\n",
      "\n",
      "    accuracy                           0.22        64\n",
      "   macro avg       0.26      0.21      0.22        64\n",
      "weighted avg       0.28      0.22      0.23        64\n",
      "\n"
     ]
    }
   ],
   "source": [
    "print(classification_report(etiquetas_val, y_val_pred, target_names=CLASES_KEY))"
   ]
  },
  {
   "cell_type": "code",
   "execution_count": 231,
   "id": "7c3dcf49",
   "metadata": {},
   "outputs": [],
   "source": [
    "def visualizar_matriz_confusion(etiquetas_reales, etiquetas_predichas, class_names, titulo):\n",
    "    # Calcular matriz de confusión\n",
    "    cm = confusion_matrix(etiquetas_reales, etiquetas_predichas)\n",
    "\n",
    "    # Visualizar matriz de confusión\n",
    "    plt.figure(figsize=(7, 5))\n",
    "    sns.heatmap(cm, annot=True, fmt='d', cmap='Blues', xticklabels=class_names, yticklabels=class_names)\n",
    "    plt.title(titulo)\n",
    "    plt.xlabel('Predicción')\n",
    "    plt.ylabel('Real')\n",
    "    plt.show()"
   ]
  },
  {
   "cell_type": "code",
   "execution_count": 232,
   "id": "1e8d4132",
   "metadata": {},
   "outputs": [
    {
     "data": {
      "image/png": "[encoded data removed]",
      "text/plain": [
       "<Figure size 700x500 with 2 Axes>"
      ]
     },
     "metadata": {},
     "output_type": "display_data"
    }
   ],
   "source": [
    "visualizar_matriz_confusion(etiquetas_val, y_val_pred, CLASES_KEY, 'Matriz de confusión de validación')"
   ]
  },
  {
   "cell_type": "code",
   "execution_count": null,
   "id": "4aa3778e",
   "metadata": {},
   "outputs": [],
   "source": []
  },
  {
   "cell_type": "code",
   "execution_count": null,
   "id": "c855344e",
   "metadata": {},
   "outputs": [],
   "source": []
  },
  {
   "cell_type": "code",
   "execution_count": null,
   "id": "cfdab48a",
   "metadata": {},
   "outputs": [],
   "source": []
  },
  {
   "cell_type": "code",
   "execution_count": null,
   "id": "8b81a9a9",
   "metadata": {},
   "outputs": [],
   "source": []
  },
  {
   "cell_type": "code",
   "execution_count": null,
   "id": "84b623d6",
   "metadata": {},
   "outputs": [],
   "source": []
  },
  {
   "cell_type": "code",
   "execution_count": null,
   "id": "f1f8b877",
   "metadata": {},
   "outputs": [],
   "source": []
  },
  {
   "cell_type": "code",
   "execution_count": null,
   "id": "96825c6b",
   "metadata": {},
   "outputs": [],
   "source": []
  },
  {
   "cell_type": "code",
   "execution_count": null,
   "id": "d8d9d910",
   "metadata": {},
   "outputs": [],
   "source": []
  },
  {
   "cell_type": "code",
   "execution_count": null,
   "id": "97af2049",
   "metadata": {},
   "outputs": [],
   "source": []
  },
  {
   "cell_type": "code",
   "execution_count": null,
   "id": "48b0ddfe",
   "metadata": {},
   "outputs": [],
   "source": []
  },
  {
   "cell_type": "code",
   "execution_count": null,
   "id": "91a0048d",
   "metadata": {},
   "outputs": [],
   "source": []
  },
  {
   "cell_type": "code",
   "execution_count": null,
   "id": "a2bdb610",
   "metadata": {},
   "outputs": [],
   "source": []
  },
  {
   "cell_type": "code",
   "execution_count": null,
   "id": "f6353d80",
   "metadata": {},
   "outputs": [],
   "source": []
  },
  {
   "cell_type": "code",
   "execution_count": null,
   "id": "a4155560",
   "metadata": {},
   "outputs": [],
   "source": []
  }
 ],
 "metadata": {
  "kernelspec": {
   "display_name": "Python 3 (ipykernel)",
   "language": "python",
   "name": "python3"
  },
  "language_info": {
   "codemirror_mode": {
    "name": "ipython",
    "version": 3
   },
   "file_extension": ".py",
   "mimetype": "text/x-python",
   "name": "python",
   "nbconvert_exporter": "python",
   "pygments_lexer": "ipython3",
   "version": "3.11.5"
  }
 },
 "nbformat": 4,
 "nbformat_minor": 5
}
