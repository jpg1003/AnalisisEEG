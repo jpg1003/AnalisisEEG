{
 "cells": [
  {
   "cell_type": "markdown",
   "id": "ca1931a5",
   "metadata": {},
   "source": [
    "<img style=\"float:left\" width=\"70%\" src=\"../../documentacion/imagenes/escudo_COLOR_1L_DCHA.png\">\n",
    "<img style=\"float:right\" width=\"10%\" src=\"../../documentacion/imagenes/PythonLogo.svg\">\n",
    "<br style=\"clear:both;\">\n",
    "\n",
    "\n",
    "<h2 style=\"display: inline-block; padding: 4mm; padding-left: 2em; background-color: navy; line-height: 1.3em; color: white; border-radius: 10px;\">3. Importaciones de Bibliotecas</h2>\n",
    "\n",
    "\n",
    " \n",
    "## Estudiante:\n",
    "\n",
    "- Jose Luis Perez Gomez"
   ]
  },
  {
   "cell_type": "markdown",
   "id": "7324ac71",
   "metadata": {},
   "source": [
    "### En este Notebook se importan las bibliotecas con sus declaraciones para poder acceder a las funcionalidades de cada una de las bibliotecas que son necesarias para el desarrollo del proyecto: (Calculo numerico, manipulacion y analisis de datos, visualizacion de datos, machine y deep learning.)"
   ]
  },
  {
   "cell_type": "code",
   "execution_count": 1,
   "id": "5c7a9c47",
   "metadata": {},
   "outputs": [],
   "source": [
    "# Manipulación y análisis de datos\n",
    "import pandas as pd\n",
    "\n",
    "# Visualización de datos\n",
    "import matplotlib.pyplot as plt\n",
    "import seaborn as sns\n",
    "from sklearn.metrics import ConfusionMatrixDisplay\n",
    "\n",
    "# Manipulación numérica \n",
    "import numpy as np\n",
    "from collections import Counter\n",
    "from scipy import stats\n",
    "from scipy.stats import shapiro, zscore\n",
    "\n",
    "# Aprendizaje automático y modelos predictivos\n",
    "from sklearn.datasets import make_classification\n",
    "from imblearn.over_sampling import SMOTE\n",
    "from IPython.display import display, clear_output\n",
    "from sklearn.datasets import make_blobs\n",
    "from sklearn.ensemble import RandomForestClassifier\n",
    "from sklearn.model_selection import (KFold, LeaveOneOut, \n",
    "                                     RandomizedSearchCV, cross_val_predict, \n",
    "                                     cross_val_score, train_test_split)\n",
    "from sklearn.neighbors import KNeighborsClassifier\n",
    "#from sklearn.neural_network import MLPClassifier\n",
    "from sklearn.preprocessing import StandardScaler\n",
    "from sklearn.svm import SVC\n",
    "from sklearn.tree import DecisionTreeClassifier\n",
    "import keras\n",
    "import tensorflow as tf\n",
    "from tensorflow.keras.callbacks import (Callback, EarlyStopping, ModelCheckpoint, \n",
    "                                        ReduceLROnPlateau)\n",
    "from tensorflow.keras.layers import (Dense, Dropout, LSTM, Reshape, SimpleRNN, \n",
    "                                     Softmax)\n",
    "from tensorflow.keras.models import Sequential\n",
    "from tensorflow.keras.optimizers import Adam\n",
    "\n",
    "# Evaluación y métricas de modelos\n",
    "from sklearn import metrics\n",
    "from sklearn.metrics import (accuracy_score, classification_report, confusion_matrix, \n",
    "                             make_scorer, precision_score)\n",
    "\n",
    "# Tratamiento de excepciones\n",
    "from sklearn.exceptions import ConvergenceWarning, UndefinedMetricWarning\n",
    "import warnings\n",
    "warnings.filterwarnings(\"ignore\", category=ConvergenceWarning)\n",
    "warnings.filterwarnings(\"ignore\", category=UndefinedMetricWarning)\n",
    "\n",
    "# Varios\n",
    "import io\n",
    "import ipywidgets as widgets\n",
    "import multiprocessing\n",
    "import pickle\n",
    "import time\n",
    "from IPython.display import HTML, display\n"
   ]
  },
  {
   "cell_type": "code",
   "execution_count": null,
   "id": "32dfbc0d",
   "metadata": {
    "scrolled": true
   },
   "outputs": [],
   "source": []
  },
  {
   "cell_type": "code",
   "execution_count": null,
   "id": "ad1c2b98",
   "metadata": {},
   "outputs": [],
   "source": []
  }
 ],
 "metadata": {
  "kernelspec": {
   "display_name": "Python 3 (ipykernel)",
   "language": "python",
   "name": "python3"
  },
  "language_info": {
   "codemirror_mode": {
    "name": "ipython",
    "version": 3
   },
   "file_extension": ".py",
   "mimetype": "text/x-python",
   "name": "python",
   "nbconvert_exporter": "python",
   "pygments_lexer": "ipython3",
   "version": "3.11.5"
  }
 },
 "nbformat": 4,
 "nbformat_minor": 5
}
