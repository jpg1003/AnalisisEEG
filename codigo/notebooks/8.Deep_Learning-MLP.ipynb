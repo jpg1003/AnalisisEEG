{
 "cells": [
  {
   "cell_type": "markdown",
   "id": "8045039e",
   "metadata": {},
   "source": [
    "<img style=\"float:left\" width=\"70%\" src=\"../../documentacion/imagenes/escudo_COLOR_1L_DCHA.png\">\n",
    "<img style=\"float:right\" width=\"10%\" src=\"../../documentacion/imagenes/PythonLogo.svg\">\n",
    "<br style=\"clear:both;\">\n",
    "\n",
    "\n",
    "<h2 style=\"display: inline-block; padding: 4mm; padding-left: 2em; background-color: navy; line-height: 1.3em; color: white; border-radius: 10px;\">8. Deep Learning MLP</h2>\n",
    "\n",
    "\n",
    " \n",
    "## Estudiante:\n",
    "\n",
    "- Jose Luis Perez Gomez"
   ]
  },
  {
   "cell_type": "code",
   "execution_count": 9,
   "id": "af97b04a",
   "metadata": {},
   "outputs": [],
   "source": [
    "%run 3.Importaciones.ipynb\n",
    "%run 4.Variables_Clases.ipynb"
   ]
  },
  {
   "cell_type": "code",
   "execution_count": 10,
   "id": "41199a17",
   "metadata": {},
   "outputs": [],
   "source": [
    "experimento_1_nor = pd.read_csv('../datos/experimento_stscaler_1.csv', sep=',')\n",
    "experimento_2_nor = pd.read_csv('../datos/experimento_stscaler_2.csv', sep=',')\n",
    "experimento_3_nor = pd.read_csv('../datos/experimento_stscaler_3.csv', sep=',')\n",
    "experimento_4_nor = pd.read_csv('../datos/experimento_stscaler_4.csv', sep=',')\n",
    "experimento_all_nor = pd.read_csv('../datos/experimento_stscaler_all.csv', sep=',')\n"
   ]
  },
  {
   "cell_type": "code",
   "execution_count": 11,
   "id": "4f190c3a",
   "metadata": {},
   "outputs": [],
   "source": [
    "experimento_1_nor = experimento_1_nor.drop(['Timestamp'], axis=1)\n",
    "experimento_2_nor = experimento_2_nor.drop(['Timestamp'], axis=1)\n",
    "experimento_3_nor = experimento_3_nor.drop(['Timestamp'], axis=1)\n",
    "experimento_4_nor = experimento_4_nor.drop(['Timestamp'], axis=1)"
   ]
  },
  {
   "cell_type": "markdown",
   "id": "4d60168f",
   "metadata": {},
   "source": [
    " # MLP Cassifier"
   ]
  },
  {
   "cell_type": "code",
   "execution_count": null,
   "id": "34f24e9c",
   "metadata": {},
   "outputs": [],
   "source": []
  },
  {
   "cell_type": "code",
   "execution_count": 12,
   "id": "4d76d8f1",
   "metadata": {},
   "outputs": [],
   "source": [
    "\n",
    "# Defino los rangos de parámetros para MLP\n",
    "param_grid_mlp = {\n",
    "    'alpha': np.linspace(0.00001, 0.1, 10),  # Rango de valores para alpha\n",
    "    'hidden_layer_sizes': [(50,), (100,), (200,), (500,), (1000,)]  # Rango de valores para neuronas en la capa oculta\n",
    "}\n",
    "\n",
    "\n",
    "grid_search_mlp = GridSearchCV(model_MLP, param_grid_mlp, cv=10)"
   ]
  },
  {
   "cell_type": "code",
   "execution_count": 14,
   "id": "356365e0",
   "metadata": {},
   "outputs": [
    {
     "name": "stdout",
     "output_type": "stream",
     "text": [
      "experimento_4\n",
      "{'alpha': 0.07778, 'hidden_layer_sizes': (200,)}\n",
      "experimento_4\n",
      "{'alpha': 0.022230000000000003, 'hidden_layer_sizes': (100,)}\n",
      "experimento_4\n",
      "{'alpha': 0.011120000000000001, 'hidden_layer_sizes': (50,)}\n",
      "experimento_4\n",
      "{'alpha': 0.011120000000000001, 'hidden_layer_sizes': (50,)}\n"
     ]
    }
   ],
   "source": [
    "\n",
    "\n",
    "experimentos_nor = [experimento_1_nor, experimento_2_nor, experimento_3_nor, experimento_4_nor]\n",
    "accuracy_score_mlp = []\n",
    "accuracy_score_test_mlp =[]\n",
    "matriz_confusion_mlp = []\n",
    "matriz_confusion_test_mlp = []\n",
    "nombre_clases = valores_key(experimento_1_nor)\n",
    "\n",
    "for dataset in experimentos_nor:\n",
    "    \n",
    "    X_train, y_train, X_val, y_val, X_test, y_test = dividir_datos(dataset)\n",
    "        \n",
    "    # Entrenar modelo\n",
    "    grid_search_mlp.fit(X_train, y_train)\n",
    "    best_model = grid_search_mlp.best_estimator_   \n",
    "    print(grid_search_mlp.best_params_)\n",
    "     \n",
    "    # predict de X_Val\n",
    "    y_predict_model = best_model.predict(X_val)    \n",
    "    accuracy_score_mlp.append(accuracy_score(y_val, y_predict_model))       \n",
    "    matriz_confusion_mlp.append(confusion_matrix(y_val, y_predict_model))\n",
    "    \n",
    "    \n",
    "    # predict de X_test\n",
    "    y_predict_model_test = best_model.predict(X_test)\n",
    "    accuracy_score_test_mlp.append(accuracy_score(y_test, y_predict_model_test))\n",
    "    matriz_confusion_test_mlp.append(confusion_matrix(y_test, y_predict_model_test))\n"
   ]
  },
  {
   "cell_type": "code",
   "execution_count": null,
   "id": "4793f9cf",
   "metadata": {},
   "outputs": [],
   "source": []
  },
  {
   "cell_type": "code",
   "execution_count": 15,
   "id": "d0585fd2",
   "metadata": {},
   "outputs": [
    {
     "data": {
      "text/html": [
       "<div>\n",
       "<style scoped>\n",
       "    .dataframe tbody tr th:only-of-type {\n",
       "        vertical-align: middle;\n",
       "    }\n",
       "\n",
       "    .dataframe tbody tr th {\n",
       "        vertical-align: top;\n",
       "    }\n",
       "\n",
       "    .dataframe thead th {\n",
       "        text-align: right;\n",
       "    }\n",
       "</style>\n",
       "<table border=\"1\" class=\"dataframe\">\n",
       "  <thead>\n",
       "    <tr style=\"text-align: right;\">\n",
       "      <th></th>\n",
       "      <th>MLP</th>\n",
       "    </tr>\n",
       "  </thead>\n",
       "  <tbody>\n",
       "    <tr>\n",
       "      <th>Experimento 1</th>\n",
       "      <td>0.416667</td>\n",
       "    </tr>\n",
       "    <tr>\n",
       "      <th>Experimento 2</th>\n",
       "      <td>0.285714</td>\n",
       "    </tr>\n",
       "    <tr>\n",
       "      <th>Experimento 3</th>\n",
       "      <td>0.277778</td>\n",
       "    </tr>\n",
       "    <tr>\n",
       "      <th>Experimento 4</th>\n",
       "      <td>0.263158</td>\n",
       "    </tr>\n",
       "  </tbody>\n",
       "</table>\n",
       "</div>"
      ],
      "text/plain": [
       "                    MLP\n",
       "Experimento 1  0.416667\n",
       "Experimento 2  0.285714\n",
       "Experimento 3  0.277778\n",
       "Experimento 4  0.263158"
      ]
     },
     "metadata": {},
     "output_type": "display_data"
    },
    {
     "data": {
      "image/png": "[encoded data removed]",
      "text/plain": [
       "<Figure size 1000x800 with 4 Axes>"
      ]
     },
     "metadata": {},
     "output_type": "display_data"
    }
   ],
   "source": [
    "datos_mlp = pd.DataFrame(accuracy_score_mlp, columns=['MLP'], index=(titulos))\n",
    "\n",
    "display(datos_mlp)\n",
    "\n",
    "mc_mlp = []\n",
    "\n",
    "for matrices_mlp in matriz_confusion_mlp:\n",
    "\n",
    "    mc_mlp.append(pd.DataFrame(matrices_mlp, index=nombre_clases, columns=nombre_clases))\n",
    "\n",
    "#https://scikit-learn.org/stable/modules/generated/sklearn.metrics.ConfusionMatrixDisplay.html\n",
    "\n",
    "# Creo una figura y ejes para dividir el espacio en cuatro subgráficos\n",
    "fig, axs = plt.subplots(2, 2, figsize=(10, 8))\n",
    "\n",
    "# Matrices de confusión y títulos para cada subgráfico\n",
    "dataframes = [mc_mlp[0], mc_mlp[1], mc_mlp[2], mc_mlp[3]]\n",
    "\n",
    "\n",
    "# Itero sobre los DataFrames y títulos para imprimir matriz de confusión en un subgráfico\n",
    "for i, (dataframe, titulo) in enumerate(zip(dataframes, titulos)):\n",
    "    fila = i // 2\n",
    "    columna = i % 2\n",
    "    ax = axs[fila, columna]\n",
    "   \n",
    "    # Se crea la impresion de la matriz de confusión y se implime\n",
    "    disp = ConfusionMatrixDisplay(confusion_matrix=dataframe.values, display_labels=(nombre_clases))\n",
    "    disp.plot(ax=ax, colorbar=False, cmap='Blues')\n",
    "    \n",
    "    # Añado el título al subgráfico\n",
    "    ax.set_title(titulo)\n",
    "\n",
    "# Se ajusta el espaciado entre subgráficos\n",
    "plt.tight_layout()\n",
    "\n",
    "# Se imprime el gráfico\n",
    "plt.show()\n"
   ]
  },
  {
   "cell_type": "code",
   "execution_count": null,
   "id": "37cb431d",
   "metadata": {},
   "outputs": [],
   "source": []
  },
  {
   "cell_type": "code",
   "execution_count": null,
   "id": "d9e267fa",
   "metadata": {},
   "outputs": [],
   "source": []
  },
  {
   "cell_type": "code",
   "execution_count": null,
   "id": "5ac479fc",
   "metadata": {},
   "outputs": [],
   "source": []
  }
 ],
 "metadata": {
  "kernelspec": {
   "display_name": "Python 3 (ipykernel)",
   "language": "python",
   "name": "python3"
  },
  "language_info": {
   "codemirror_mode": {
    "name": "ipython",
    "version": 3
   },
   "file_extension": ".py",
   "mimetype": "text/x-python",
   "name": "python",
   "nbconvert_exporter": "python",
   "pygments_lexer": "ipython3",
   "version": "3.11.5"
  }
 },
 "nbformat": 4,
 "nbformat_minor": 5
}
